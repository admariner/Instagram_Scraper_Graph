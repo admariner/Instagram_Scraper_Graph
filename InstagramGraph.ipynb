{
 "cells": [
  {
   "cell_type": "markdown",
   "metadata": {},
   "source": [
    "# InstagramGraph"
   ]
  },
  {
   "cell_type": "code",
   "execution_count": 55,
   "metadata": {},
   "outputs": [
    {
     "data": {
      "text/html": [
       "<style>.container { width:100% !important; }</style>"
      ],
      "text/plain": [
       "<IPython.core.display.HTML object>"
      ]
     },
     "metadata": {},
     "output_type": "display_data"
    }
   ],
   "source": [
    "#data, strucuture and maths\n",
    "import pandas as pd\n",
    "import numpy as np\n",
    "import math\n",
    "import json\n",
    "import string\n",
    "import itertools\n",
    "from  more_itertools import unique_everseen\n",
    "import random\n",
    "import glob\n",
    "from ast import literal_eval\n",
    "\n",
    "#progress,performance and management\n",
    "from tqdm import tqdm_notebook\n",
    "import threading\n",
    "import os\n",
    "import ssl\n",
    "from IPython.display import clear_output\n",
    "\n",
    "#pre-processing\n",
    "from sklearn import preprocessing\n",
    "\n",
    "#time\n",
    "import datetime as datetime\n",
    "from time import sleep\n",
    "import time\n",
    "\n",
    "#text processing / regex\n",
    "import regex\n",
    "import re\n",
    "import emoji\n",
    "\n",
    "#dataviz and look/feel\n",
    "import seaborn as sns\n",
    "from IPython.core.display import display, HTML\n",
    "display(HTML(\"<style>.container { width:100% !important; }</style>\"))\n",
    "sns.set(style=\"white\", context=\"talk\")\n",
    "%matplotlib inline\n",
    "%config InlineBackend.figure_format = 'retina'\n",
    "sns.set_style(\"whitegrid\")\n",
    "\n",
    "# language & NLP\n",
    "import spacy\n",
    "import langdetect as ld\n",
    "\n",
    "#network libraries and data viz\n",
    "import networkx as nx\n",
    "from networkx.algorithms import community\n",
    "import plotly\n",
    "import plotly.graph_objs as go\n",
    "import plotly.express as px\n",
    "\n",
    "#plotly offline rendering\n",
    "from plotly.offline import download_plotlyjs, iplot, plot\n",
    "\n",
    "import warnings\n",
    "warnings.simplefilter('ignore')\n",
    "\n",
    "\n",
    "class InstagramGraph():\n",
    "\n",
    "    def __init__(self,csv,source_col='searched_for',post_col='post',user_col='user'):\n",
    "\n",
    "\n",
    "        self.df = pd.read_csv(csv,encoding='latin').head(750)\n",
    "\n",
    "        self.post_col = post_col\n",
    "\n",
    "        self.user_col = user_col\n",
    "\n",
    "        self.nlp = spacy.load('en_core_web_lg')\n",
    "\n",
    "        self.lemma_count = 0\n",
    "\n",
    "        self.hashtag_count = 0\n",
    "\n",
    "        self.source = self.df[source_col].unique()\n",
    "\n",
    "        self.default_stopwords= ['photooftheday','picoftheday','like4likes',\n",
    "                                'like4like','instagood','likeforlikes',\n",
    "                                'l4l','likeforlike','instagram','follow4follow',\n",
    "                                'followforfollow','instadaily','instagrammers',\n",
    "                                'instalike','follow','likeforfollow',\n",
    "                                'like4follow','instamood','instafollow',\n",
    "                                'bestoftheday','like','followme','instapic'\n",
    "                                'repost','bhfyp']\n",
    "\n",
    "        self.getLanguage\n",
    "\n",
    "        self.cleaning\n",
    "\n",
    "        self.getHashtag\n",
    "\n",
    "        self.getHashtagLemma\n",
    "\n",
    "        self.getUserpostcount\n",
    "\n",
    "        self.getUserhashtagcount\n",
    "\n",
    "        self.getEdgesNodes\n",
    "\n",
    "        self.getGraph\n",
    "\n",
    "    #cleans and formats dataframe\n",
    "    def cleaning(self,df,col):\n",
    "\n",
    "        #drop nulls on post column\n",
    "        self.df.dropna(subset=[self.post_col],inplace=True)\n",
    "\n",
    "        #convert any posts to string\n",
    "        self.df[self.post_col] = self.df[self.post_col].map(lambda x: str(x))\n",
    "\n",
    "        #remove emojis\n",
    "        self.df[self.post_col] = self.df[self.post_col].map(lambda x: x.encode('ascii', 'ignore').decode('ascii'))\n",
    "\n",
    "        return self.df\n",
    "\n",
    "    #extracts hashtags from any string returning list of hashtags\n",
    "    def getHashtag(self,_string):\n",
    "\n",
    "        #splits string into list and appends unique hashtags into a new list\n",
    "        hashtags = [hashtag for hashtag in set([token for token in _string.split() if token.startswith(\"#\")])]\n",
    "\n",
    "        #if there are hashtags in the string we process them further..\n",
    "        if len(hashtags) > 0:\n",
    "\n",
    "            #this will break up any hashtags that haven't been seperated by a space\n",
    "            hashtags_seperated = [i for i in ''.join(hashtags).strip().split('#') if len(i) > 0]\n",
    "\n",
    "            #this will remove any punctuation\n",
    "            hashtags_clean = [hashtag.translate(str.maketrans('', '', string.punctuation)) for hashtag in hashtags_seperated]\n",
    "\n",
    "            hashtags_clean = [i.lower() for i in hashtags_clean]\n",
    "\n",
    "            #returns unique, cleaned hashtags without the\n",
    "            return list(set(hashtags_clean))\n",
    "\n",
    "        else:\n",
    "            return np.nan\n",
    "\n",
    "    #converts list of strings to lemma (if applicable) returning list of lemmas\n",
    "    def getHashtagLemma(self,hashtags):\n",
    "\n",
    "        #create a spacy document using hashtags as an argument\n",
    "        doc = self.nlp(' '.join(hashtags))\n",
    "\n",
    "        #empty list for lemmas\n",
    "        tokens = []\n",
    "\n",
    "        #loop through each token,\n",
    "        for token in doc:\n",
    "\n",
    "            if token.lemma_ != '-PRON-':\n",
    "\n",
    "                tokens.append(token.lemma_)\n",
    "\n",
    "                if str(token.text) != str(token.lemma_):\n",
    "\n",
    "                    self.lemma_count+=1\n",
    "\n",
    "        self.hashtag_count += len(tokens)\n",
    "\n",
    "        return list(set(tokens))\n",
    "\n",
    "    #gets a users post count that exists in the data\n",
    "    def getUserpostcount(self,user):\n",
    "\n",
    "        return self.user_count_dict[user]\n",
    "\n",
    "    #gets a users median hashtag use in the data\n",
    "    def getUserhashtagcount(self,user):\n",
    "\n",
    "        return self.user_hashtag_count_dict[user]\n",
    "\n",
    "    #gets the language of the string\n",
    "    def getLanguage(self,_string):\n",
    "\n",
    "        try:\n",
    "            return ld.detect(_string)\n",
    "        except:\n",
    "            return np.nan\n",
    "\n",
    "    def eda(self):\n",
    "\n",
    "\n",
    "        \"\"\"\n",
    "        Language split\n",
    "        \"\"\"\n",
    "        if self.translate == True:\n",
    "\n",
    "            language_frame = pd.DataFrame(list(self.language_split.items()))\n",
    "\n",
    "            language_frame.columns = ['language','incidence']\n",
    "\n",
    "            language_frame.incidence = language_frame.incidence.map(lambda x: x/sum(language_frame.incidence))\n",
    "\n",
    "            language_low_incidence = language_frame[language_frame.incidence < 0.05]\n",
    "\n",
    "            language_frame_summary = language_frame.replace(language_low_incidence.language.values,'other')\n",
    "\n",
    "            language_frame_summary = language_frame_summary.groupby('language')['incidence'].sum()\n",
    "\n",
    "            language_frame_summary.sort_values(ascending=False,inplace=True)\n",
    "\n",
    "            fig = go.Figure([go.Bar(x=language_frame_summary.index, y=language_frame_summary.values,name='Secondary Product')])\n",
    "\n",
    "            fig.update_layout(xaxis_tickangle=-45,\n",
    "\n",
    "                title=\"Incidence of language by post for #\"+self.source[0],\n",
    "\n",
    "                xaxis_title=\"Language\",\n",
    "\n",
    "                yaxis_title=\"Incidence\")\n",
    "\n",
    "            fig.show()\n",
    "\n",
    "        def _histogram(metric,metric_label):\n",
    "\n",
    "            fig = go.Figure(data=[go.Histogram(x=metric,histnorm='probability density')])\n",
    "\n",
    "            fig.update_layout(\n",
    "\n",
    "                title=f\"Distribution of {metric_label} for #\"+self.source[0],\n",
    "\n",
    "                xaxis_title=f\"Count of {metric_label}\",\n",
    "\n",
    "                yaxis_title=\"Frequency\")\n",
    "\n",
    "            return fig.show()\n",
    "\n",
    "        _histogram(self.df.user_post_count,'user post frequency')\n",
    "\n",
    "        _histogram(self.df.hashtag_count,'hashtags by post')\n",
    "\n",
    "\n",
    "        #get each user's posting frequency\n",
    "        df_count = pd.DataFrame(self.df.user.value_counts())\n",
    "\n",
    "        #col labels\n",
    "        df_count.columns=['post_freq']\n",
    "\n",
    "        #normalise column\n",
    "        df_count['post_freq_norm'] = df_count['post_freq'].map(lambda x: int(x)/df_count['post_freq'].sum())\n",
    "\n",
    "        #cumulative sum on posts\n",
    "        cum_sum_posts = np.cumsum(df_count['post_freq_norm'])\n",
    "\n",
    "        users = []\n",
    "        count=1\n",
    "\n",
    "        for i in range(self.df.user.nunique()):\n",
    "            users.append(count)\n",
    "            count+=1\n",
    "\n",
    "        #normalise users\n",
    "        users_ = [i/users[-1] for i in users]\n",
    "\n",
    "        #growth = pd.DataFrame(zip(users,cum_sum_posts))\n",
    "        fig = go.Figure(data=go.Scatter(x=users_,y=cum_sum_posts))\n",
    "\n",
    "        fig.update_layout(title=f'User post contribution for #'+ self.source[0],\n",
    "\n",
    "                        xaxis_title='Normalised User Base',\n",
    "\n",
    "                        yaxis_title='Normalised Post Contribution')\n",
    "\n",
    "        fig.show()\n",
    "\n",
    "        return\n",
    "\n",
    "    #gets a list of hashtag lists from the dataset\n",
    "    def getBatches(self,additional_stopwords=[]):\n",
    "\n",
    "        #if no extra stopwords are specificed we use the defalut stop word list\n",
    "        if len(additional_stopwords) == 0:\n",
    "\n",
    "            self.current_stopwords=self.default_stopwords\n",
    "\n",
    "        #append new stopwords to default stopword list\n",
    "        else:\n",
    "            self.current_stopwords = self.default_stopwords+additional_stopwords\n",
    "\n",
    "        #function that iterates through list input and removes any stopwords\n",
    "        def _removestop(words):\n",
    "            for stop_word in self.current_stopwords:\n",
    "                try:\n",
    "                    words.remove(stop_word)\n",
    "                    words = words\n",
    "                except:\n",
    "                    pass\n",
    "\n",
    "            return words\n",
    "\n",
    "        #apply function to hashtag column\n",
    "        df_nostop = self.target[self.target.columns[0]].map(_removestop)\n",
    "\n",
    "        #create new list of lists containing hashtags\n",
    "        batch = [[df_nostop.iloc[i]][0] for i in range(len(df_nostop.index))]\n",
    "\n",
    "        return batch\n",
    "\n",
    "    #calculates the edges and nodes that exist in the list of hashtag lists\n",
    "    def getEdgesNodes(self,batches,min_frequency):\n",
    "\n",
    "        #ranks hashtags in alphabetical order\n",
    "        def _ranked_topics(batches):\n",
    "\n",
    "            batches.sort()\n",
    "\n",
    "            return batches\n",
    "\n",
    "        #finds all possible unique combinations of topics\n",
    "        def _unique_combinations(batches):\n",
    "            return list(itertools.combinations(_ranked_topics(batches), 2))\n",
    "\n",
    "        #adds each combination to a dictionary, if combination already exists value of key increases by one\n",
    "        def _add_unique_combinations(_unique_combinations,_dict):\n",
    "\n",
    "            for combination in _unique_combinations:\n",
    "\n",
    "                if combination in _dict:\n",
    "\n",
    "                    _dict[combination]+=1\n",
    "\n",
    "                else:\n",
    "\n",
    "                    _dict[combination]=1\n",
    "\n",
    "            return _dict\n",
    "\n",
    "        edge_dict = {}\n",
    "\n",
    "        source = []\n",
    "\n",
    "        target = []\n",
    "\n",
    "        edge_frequency = []\n",
    "\n",
    "        #execute functions as above looping through each list, finding all unique combinations in each list\n",
    "        #and adding them to dict object\n",
    "        for batch in batches:\n",
    "\n",
    "            edge_dict = _add_unique_combinations(_unique_combinations(batch),edge_dict)\n",
    "\n",
    "        #create edge dataframe\n",
    "        for key,value in edge_dict.items():\n",
    "\n",
    "            source.append(key[0])\n",
    "\n",
    "            target.append(key[1])\n",
    "\n",
    "            edge_frequency.append(value)\n",
    "\n",
    "        edge_df = pd.DataFrame({'source':source,'target':target,'edge_frequency':edge_frequency})\n",
    "\n",
    "        edge_df.sort_values(by='edge_frequency',ascending=False,inplace=True)\n",
    "\n",
    "        edge_df.reset_index(drop=True,inplace=True)\n",
    "\n",
    "        #mask edge dataframe, only retinaing edges that occur n times\n",
    "        edge_df = edge_df[edge_df['edge_frequency'] > min_frequency]\n",
    "\n",
    "        #create node dataframe\n",
    "        node_df = pd.DataFrame({'id':list(set(list(edge_df['source'])+list(edge_df['target'])))})\n",
    "\n",
    "        labels = [i for i in range(len(node_df['id']))]\n",
    "\n",
    "        node_df['id_code'] = node_df.index\n",
    "\n",
    "        #create a dictionary of all the nodes\n",
    "        node_dict = dict(zip(node_df['id'],labels))\n",
    "\n",
    "        #add relevant id's to each node in the edge dataframe\n",
    "        edge_df['source_code'] = edge_df['source'].apply(lambda x: node_dict[x])\n",
    "\n",
    "        edge_df['target_code'] = edge_df['target'].apply(lambda x: node_dict[x])\n",
    "\n",
    "        #retain some attributes for the instance\n",
    "        self.edge_df = edge_df\n",
    "\n",
    "        self.node_df = node_df\n",
    "\n",
    "        self.node_dict = node_dict\n",
    "\n",
    "        self.edge_dict = edge_dict\n",
    "\n",
    "        return\n",
    "\n",
    "    #build the graph using the edge and node data\n",
    "    def getGraph(self):\n",
    "\n",
    "        #function that loops through and appends edge tuples to list\n",
    "        def _extract_edges(edge_df):\n",
    "\n",
    "            tuple_out = []\n",
    "\n",
    "            for i in range(0,len(self.edge_df.index)):\n",
    "\n",
    "                tuple_out.append((self.edge_df['source_code'][i],self.edge_df['target_code'][i]))\n",
    "\n",
    "            return tuple_out\n",
    "\n",
    "        #instantiate an instance of a Networkx graph\n",
    "        G=nx.Graph()\n",
    "\n",
    "        #add the nodes to the instance\n",
    "        G.add_nodes_from(self.node_df.id_code)\n",
    "\n",
    "        #extract the edges\n",
    "        edge_tuples = _extract_edges(self.edge_df)\n",
    "\n",
    "        #loop through and add each edge to the instance\n",
    "        for i in edge_tuples:\n",
    "            G.add_edge(i[0],i[1])\n",
    "\n",
    "\n",
    "        return G\n",
    "\n",
    "\n",
    "    \"\"\"\n",
    "    Pipeline of all methods\n",
    "    \"\"\"\n",
    "    #generate all the features we need\n",
    "    def getFeatures(self,translate=False):\n",
    "\n",
    "        self.translate = translate\n",
    "\n",
    "        if self.translate == True:\n",
    "\n",
    "\n",
    "            print('Attempting to identify language...')\n",
    "\n",
    "            #detect language using getLanguage method\n",
    "            self.df['language'] = self.df[self.post_col].map(self.getLanguage)\n",
    "\n",
    "            #get language split as a class dictionary attribute\n",
    "            self.language_split = dict(self.df['language'].value_counts())\n",
    "            print('Languages identified...')\n",
    "\n",
    "        #call cleaning method\n",
    "        self.df = self.cleaning(self.df,self.post_col)\n",
    "        print('Data cleaned...')\n",
    "\n",
    "        print('Attempting to extract hashtags...')\n",
    "        #call getHashtag method to extract hashtags to new column\n",
    "        self.df['hashtags'] = self.df[self.post_col].map(self.getHashtag)\n",
    "\n",
    "        #drop any rows in the dataframe that don't have any hashtags\n",
    "        self.df.dropna(subset=['hashtags'],inplace=True)\n",
    "\n",
    "        #count of hashtags by post as new columns\n",
    "        self.df['hashtag_count'] = self.df['hashtags'].map(lambda x: len(x))\n",
    "\n",
    "        print('Attempting to lemmatise hashtags...')\n",
    "        #lemmatise any hashtags to new column\n",
    "        self.df['hashtags_lemma'] = self.df['hashtags'].map(self.getHashtagLemma)\n",
    "\n",
    "        lemma_conversion = self.lemma_count / self.hashtag_count\n",
    "\n",
    "        print(f'Of {str(self.hashtag_count)} hashtags, {str(self.lemma_count)} hashtags were successfully lemmatised ({str(lemma_conversion)})')\n",
    "\n",
    "        #get user post frequency as class attribute\n",
    "        self.user_count_dict = dict(self.df[self.user_col].value_counts())\n",
    "\n",
    "        #get median post count for each user as a class attribute\n",
    "        self.user_hashtag_count_dict = dict(self.df.groupby(self.user_col)['hashtag_count'].median())\n",
    "\n",
    "        #get user post count as new column\n",
    "        self.df['user_post_count'] = self.df[self.user_col].map(lambda x: self.getUserpostcount(x))\n",
    "\n",
    "        #get median user post count as new column\n",
    "        self.df['user_median_hashtag_count'] = self.df[self.user_col].map(lambda x: self.getUserhashtagcount(x))\n",
    "\n",
    "        print('Running EDA and generating plots...')\n",
    "\n",
    "        self.eda()\n",
    "\n",
    "        return\n",
    "\n",
    "    #select the data we want to include\n",
    "    def selectData(self,english=True,remove_verified=True,max_posts=3,lemma=True):\n",
    "\n",
    "        #retain some attributes\n",
    "        self._filterenglish = english\n",
    "\n",
    "        self._filterverified = remove_verified\n",
    "\n",
    "        self._filterpostcount = max_posts\n",
    "\n",
    "        self.df_edit = self.df.copy()\n",
    "\n",
    "        if self.translate == True:\n",
    "            #filter dataset to only include english if arg is true (default)\n",
    "            if self._filterenglish == True:\n",
    "\n",
    "                self.df_edit = self.df_edit[self.df_edit['language']=='en']\n",
    "\n",
    "        #filter dataset to only include unverified accounts if arg is true (default)\n",
    "        if self._filterverified == True:\n",
    "\n",
    "            self.df_edit = self.df_edit[self.df_edit['user_verified_status']== False]\n",
    "\n",
    "        #filter dataset to only include users who have posted under a threshold number of posts - gets rids of high volume posters\n",
    "        self.df_edit = self.df_edit[self.df_edit['user_post_count'] <= self._filterpostcount]\n",
    "\n",
    "        #retains the target column as an attribute of either hashtags that have been lemmatised or not\n",
    "        if lemma == True:\n",
    "\n",
    "            self.target = self.df_edit[['hashtags_lemma']]\n",
    "        else:\n",
    "            self.target = self.df_edit[['hashtags']]\n",
    "\n",
    "        print('Data Selected.')\n",
    "\n",
    "        return\n",
    "\n",
    "    #create edges and nodes and add these to an instance of a graph object\n",
    "    def buildGraph(self,additional_stopwords=[],min_frequency=5):\n",
    "\n",
    "        #call getBatches method passing any contextual stop words as an arg\n",
    "        batches = self.getBatches(additional_stopwords)\n",
    "\n",
    "        #call getEdgesNodes mnethod taking max frequency as an arg\n",
    "        self.getEdgesNodes(batches,min_frequency)\n",
    "\n",
    "        #call the getGraph method and build the graph\n",
    "        self.G = self.getGraph()\n",
    "        print('Graph successfully built.')\n",
    "        print('Node and Edge dataframes created.')\n",
    "\n",
    "\n",
    "        \"\"\"\n",
    "        save a number of attributes to the instance of the class\n",
    "        \"\"\"\n",
    "        #retain graph object adjacencies\n",
    "        self.adjacencies = dict(self.G.adjacency())\n",
    "\n",
    "        #retain graph object node betweeness centrality\n",
    "        self.betweeness = nx.betweenness_centrality(self.G)\n",
    "\n",
    "        #retain graph object clustering coefficients\n",
    "        self.clustering_coeff = nx.clustering(self.G)\n",
    "\n",
    "        \"\"\"\n",
    "        add these attributes as columns on the node dataframe\n",
    "        \"\"\"\n",
    "\n",
    "        self.node_df['adjacency_frequency'] = self.node_df['id_code'].map(lambda x: len(self.adjacencies[x]))\n",
    "\n",
    "        self.node_df['betweeness_centrality'] = self.node_df['id_code'].map(lambda x: self.betweeness[x])\n",
    "\n",
    "        self.node_df['clustering_coefficient'] = self.node_df['id_code'].map(lambda x: self.clustering_coeff[x])\n",
    "\n",
    "        #identify communities in instance of graph object and retain as attribute\n",
    "        self.communities = community.greedy_modularity_communities(self.G)\n",
    "\n",
    "        \"\"\"\n",
    "        assign each node to its community and add as column to node dataframe\n",
    "        \"\"\"\n",
    "        self.communities_dict = {}\n",
    "\n",
    "        nodes_in_community = [list(i) for i in self.communities]\n",
    "\n",
    "        for i in nodes_in_community:\n",
    "\n",
    "            self.communities_dict[nodes_in_community.index(i)] = i\n",
    "\n",
    "        def community_allocation(source_val):\n",
    "            for k,v in self.communities_dict.items():\n",
    "                if source_val in v:\n",
    "                    return k\n",
    "\n",
    "        self.node_df['community'] = self.node_df['id_code'].map(lambda x: community_allocation(x))\n",
    "\n",
    "        print('Communities calculated.')\n",
    "        return\n",
    "\n",
    "    #plot the graph using plotly\n",
    "    def plotGraph(self,sizing=75,node_size='adjacency_frequency',layout=nx.kamada_kawai_layout,light_theme=True,colorscale='Viridis',community_plot=False):\n",
    "\n",
    "        #formatting options for plot - dark vs. light theme\n",
    "        if light_theme:\n",
    "            back_col = '#ffffff'\n",
    "            edge_col = '#ece8e8'\n",
    "\n",
    "        else:\n",
    "            back_col = '#000000'\n",
    "            edge_col = '#2d2b2b'\n",
    "\n",
    "        \"\"\"\n",
    "        normalise all graph metrics\n",
    "        \"\"\"\n",
    "        #subset graph metrics\n",
    "        X = self.node_df[self.node_df.columns[2:5]]\n",
    "\n",
    "        #get columns labels\n",
    "        cols = self.node_df.columns[2:5]\n",
    "\n",
    "        #instantiate instance of MinMaxScaler class\n",
    "        min_max_scaler = preprocessing.MinMaxScaler()\n",
    "\n",
    "        #transform graph metrics\n",
    "        X_scaled = min_max_scaler.fit_transform(X)\n",
    "\n",
    "        #create new dataframe of scaled metrics\n",
    "        plot_df = pd.DataFrame(X_scaled)\n",
    "\n",
    "        plot_df.columns=cols\n",
    "\n",
    "        for i in plot_df.columns:\n",
    "            plot_df[i] = plot_df[i].apply(lambda x: x*sizing)\n",
    "\n",
    "\n",
    "        #extract graph x,y co-ordinates from G instance\n",
    "        pos = layout(self.G)\n",
    "\n",
    "        #add position of each node from G to 'pos' key\n",
    "        for node in self.G.nodes:\n",
    "            self.G.nodes[node]['pos'] = list(pos[node])\n",
    "\n",
    "\n",
    "\n",
    "        stack = []\n",
    "\n",
    "        index = 0\n",
    "\n",
    "        #add edges to Plotly go.Scatter object\n",
    "        for edge in self.G.edges:\n",
    "\n",
    "            x0, y0 = self.G.nodes[edge[0]]['pos']\n",
    "\n",
    "            x1, y1 = self.G.nodes[edge[1]]['pos']\n",
    "\n",
    "            weight = 0.5\n",
    "\n",
    "            trace = go.Scatter(x=tuple([x0, x1, None]), y=tuple([y0, y1, None]),\n",
    "                               mode='lines',\n",
    "                               line={'width': weight},\n",
    "                               marker=dict(color=edge_col),\n",
    "                               line_shape='spline',\n",
    "                               opacity=1)\n",
    "\n",
    "            #append edge traces\n",
    "            stack.append(trace)\n",
    "\n",
    "            index = index + 1\n",
    "\n",
    "        #conditionals for either showing a plot where formatting denotes community or not\n",
    "        if community_plot == True:\n",
    "\n",
    "            #make a partly empty dictionary for the nodes\n",
    "            marker = {'size':[],'line':dict(width=0.5,color=edge_col),'color':[]}\n",
    "\n",
    "        else:\n",
    "\n",
    "            #make a partly empty dictionary for the nodes\n",
    "            marker = {'colorscale':colorscale,'size':[],'line':dict(width=0.5,color=edge_col),'color':[],'colorbar':dict(thickness=15,\n",
    "                                                                                               title='Node Connections',\n",
    "                                                                                               xanchor='left',\n",
    "                                                                                               titleside='right')}\n",
    "\n",
    "\n",
    "        #initialise a go.Scatter object for the nodes\n",
    "        node_trace = go.Scatter(x=[], y=[], hovertext=[], text=[], mode='markers', textposition=\"bottom center\",\n",
    "                                hoverinfo=\"text\", marker=marker)\n",
    "\n",
    "        index = 0\n",
    "\n",
    "        #add nodes to Plotly go.Scatter object\n",
    "        for node in self.G.nodes():\n",
    "\n",
    "            x, y = self.G.nodes[node]['pos']\n",
    "\n",
    "            node_trace['x'] += tuple([x])\n",
    "\n",
    "            node_trace['y'] += tuple([y])\n",
    "\n",
    "            node_trace['text'] += tuple([self.node_df['id'][index]])\n",
    "\n",
    "            if community_plot == True:\n",
    "\n",
    "                node_trace['marker']['color'] += tuple(list(self.node_df.community))\n",
    "\n",
    "                node_trace['marker']['size'] += tuple([list(plot_df[node_size])[index]])\n",
    "\n",
    "            else:\n",
    "\n",
    "                node_trace['marker']['color'] += tuple([list(self.node_df.adjacency_frequency)[index]])\n",
    "\n",
    "                node_trace['marker']['size'] += tuple([list(self.node_df.adjacency_frequency)[index]])\n",
    "\n",
    "            index = index + 1\n",
    "\n",
    "        #append node traces\n",
    "        stack.append(node_trace)\n",
    "\n",
    "\n",
    "        #set up axis for plot\n",
    "        axis=dict(showline=False, # hide axis line, grid, ticklabels and  title\n",
    "                  zeroline=False,\n",
    "                  showgrid=False,\n",
    "                  showticklabels=False,\n",
    "                  title=''\n",
    "                  )\n",
    "\n",
    "        #set up figure for plot\n",
    "        figure = {\n",
    "        \"data\": stack,\n",
    "        \"layout\":\n",
    "        go.Layout(title=str(self.source[0]+' is..'),\n",
    "                    font= dict(family='Arial',size=20),\n",
    "                    width=1100,\n",
    "                    height=1100,\n",
    "                    autosize=False,\n",
    "                    showlegend=False,\n",
    "                    xaxis=axis,\n",
    "                    yaxis=axis,\n",
    "                    margin=dict(\n",
    "                    l=40,\n",
    "                    r=40,\n",
    "                    b=85,\n",
    "                    t=100,\n",
    "                    pad=0,\n",
    "\n",
    "            ),\n",
    "            hovermode='closest',\n",
    "            plot_bgcolor=back_col, #set background color\n",
    "            )}\n",
    "\n",
    "        #retain plot figure as attribute\n",
    "        self.graph_plot = figure\n",
    "\n",
    "        #plot the figure\n",
    "        iplot(self.graph_plot)\n",
    "\n",
    "        return\n",
    "\n",
    "    #sunburst that plots communities and relevant hahstags\n",
    "    def plotCommunity(self,colorscale=False):\n",
    "\n",
    "        #make copy of node dataframe\n",
    "        df_temp = self.node_df.copy()\n",
    "\n",
    "        #change community label to string (needed for plot)\n",
    "        df_temp['community'] = df_temp['community'].map(lambda x: str(x))\n",
    "\n",
    "        #conditionals for plot type\n",
    "        if colorscale == False:\n",
    "\n",
    "            fig = px.sunburst(df_temp, path=['community', 'id'], values='adjacency_frequency',color='community',hover_name=None,\n",
    "                          hover_data=None)\n",
    "        else:\n",
    "            fig = px.sunburst(df_temp, path=['community', 'id'], values='adjacency_frequency',\n",
    "                          color='betweeness_centrality', hover_data=None,\n",
    "                          color_continuous_scale='blugrn',\n",
    "                          color_continuous_midpoint=np.average(df_temp['betweeness_centrality'], weights=df_temp['betweeness_centrality']))\n",
    "\n",
    "        #add margin to plot\n",
    "        fig.update_layout(margin = dict(t=0, l=0, r=0, b=0))\n",
    "\n",
    "        #retain community plot as attribute\n",
    "        self.community_plot = fig\n",
    "\n",
    "        #offline sunburst plot\n",
    "        iplot(self.community_plot)\n",
    "\n",
    "        return\n",
    "\n",
    "    #save map / sunburst plot locally as html file\n",
    "    def savePlot(self,plot='map'):\n",
    "\n",
    "        #get current time\n",
    "        date = str(pd.to_datetime(datetime.datetime.now())).split(' ')[0]\n",
    "\n",
    "\n",
    "        if plot == 'map':\n",
    "\n",
    "            plot_save = self.graph_plot\n",
    "\n",
    "            filename=date+'_'+self.source[0]+'_graph_plot_instagram.html'\n",
    "\n",
    "            plotly.offline.plot(plot_save, filename=filename)\n",
    "\n",
    "\n",
    "        elif plot == 'community':\n",
    "\n",
    "            plot_save = self.community_plot\n",
    "\n",
    "            filename= date+'_'+self.source[0]+'_community_plot_instagram.html'\n",
    "\n",
    "            plotly.offline.plot(plot_save, filename=filename)\n",
    "\n",
    "        return print('Plot saved.')\n",
    "\n",
    "    #save csv output\n",
    "    def saveTables(self):\n",
    "\n",
    "        date = str(pd.to_datetime(datetime.datetime.now())).split(' ')[0]\n",
    "\n",
    "        self.node_df.to_csv(date+\"_node_df_\"+str(self.source[0])+\".csv\",index=False)\n",
    "        print('Saved nodes')\n",
    "\n",
    "        self.edge_df.to_csv(date+\"_edge_df_\"+str(self.source[0])+\".csv\",index=False)\n",
    "        print('Saved edges')\n",
    "\n",
    "        self.df_edit.to_csv(date+\"_df_edit_\"+str(self.source[0])+\".csv\",index=False)\n",
    "        print('Saved edited dataframe')\n",
    "\n",
    "        self.df.to_csv(date+\"_df_\"+str(self.source[0])+\"_.csv\",index=False)\n",
    "        print('Saved unedited dataframe')\n",
    "\n",
    "        return\n"
   ]
  },
  {
   "cell_type": "code",
   "execution_count": 61,
   "metadata": {},
   "outputs": [],
   "source": [
    "d = pd.read_csv('human_connection_crowdDNA.csv')"
   ]
  },
  {
   "cell_type": "code",
   "execution_count": 62,
   "metadata": {},
   "outputs": [
    {
     "data": {
      "text/plain": [
       "#humanconnection    4125\n",
       "#humanexperience    3691\n",
       "#togetherness       1719\n",
       "#connection         1708\n",
       "Name: searched_for, dtype: int64"
      ]
     },
     "execution_count": 62,
     "metadata": {},
     "output_type": "execute_result"
    }
   ],
   "source": [
    "d.searched_for.value_counts()"
   ]
  },
  {
   "cell_type": "code",
   "execution_count": 63,
   "metadata": {},
   "outputs": [],
   "source": [
    "x = d[d.searched_for == \"#humanconnection\"]\n"
   ]
  },
  {
   "cell_type": "code",
   "execution_count": 64,
   "metadata": {},
   "outputs": [],
   "source": [
    "x.to_csv('human_connection_crowdDNA_align.csv')"
   ]
  },
  {
   "cell_type": "code",
   "execution_count": 65,
   "metadata": {},
   "outputs": [],
   "source": [
    "hc = InstagramGraph('human_connection_crowdDNA_align.csv')"
   ]
  },
  {
   "cell_type": "code",
   "execution_count": 66,
   "metadata": {},
   "outputs": [
    {
     "name": "stdout",
     "output_type": "stream",
     "text": [
      "Data cleaned...\n",
      "Attempting to extract hashtags...\n",
      "Attempting to lemmatise hashtags...\n",
      "Of 8012 hashtags, 383 hashtags were successfully lemmatised (0.04780329505741388)\n",
      "Running EDA and generating plots...\n"
     ]
    },
    {
     "data": {
      "application/vnd.plotly.v1+json": {
       "config": {
        "plotlyServerURL": "https://plot.ly"
       },
       "data": [
        {
         "histnorm": "probability density",
         "type": "histogram",
         "x": [
          1,
          1,
          1,
          1,
          1,
          1,
          1,
          1,
          1,
          1,
          1,
          1,
          1,
          1,
          1,
          4,
          1,
          1,
          2,
          1,
          3,
          1,
          3,
          3,
          1,
          1,
          1,
          1,
          2,
          1,
          1,
          1,
          1,
          1,
          1,
          1,
          1,
          1,
          1,
          1,
          1,
          1,
          2,
          1,
          1,
          1,
          1,
          1,
          3,
          1,
          3,
          1,
          4,
          1,
          1,
          1,
          2,
          1,
          1,
          1,
          1,
          1,
          1,
          1,
          1,
          1,
          1,
          1,
          1,
          1,
          1,
          1,
          1,
          2,
          1,
          1,
          1,
          1,
          1,
          1,
          1,
          1,
          1,
          1,
          1,
          1,
          1,
          1,
          1,
          1,
          1,
          1,
          1,
          1,
          1,
          1,
          4,
          1,
          1,
          1,
          1,
          1,
          1,
          1,
          1,
          1,
          9,
          9,
          9,
          1,
          1,
          1,
          3,
          1,
          1,
          1,
          1,
          1,
          2,
          1,
          2,
          1,
          1,
          1,
          1,
          1,
          1,
          1,
          1,
          1,
          3,
          3,
          3,
          1,
          1,
          1,
          2,
          3,
          1,
          1,
          1,
          1,
          2,
          1,
          1,
          1,
          1,
          1,
          1,
          2,
          1,
          2,
          1,
          1,
          1,
          1,
          1,
          1,
          1,
          1,
          1,
          1,
          1,
          1,
          1,
          1,
          1,
          1,
          3,
          1,
          1,
          1,
          1,
          2,
          2,
          2,
          1,
          1,
          1,
          1,
          1,
          4,
          1,
          1,
          1,
          1,
          1,
          1,
          1,
          1,
          2,
          1,
          1,
          1,
          1,
          1,
          1,
          1,
          1,
          2,
          1,
          1,
          1,
          1,
          1,
          1,
          1,
          1,
          1,
          3,
          1,
          1,
          1,
          1,
          1,
          1,
          2,
          1,
          1,
          1,
          1,
          1,
          1,
          1,
          4,
          1,
          1,
          1,
          1,
          3,
          1,
          1,
          1,
          1,
          1,
          1,
          1,
          1,
          1,
          1,
          1,
          1,
          1,
          2,
          1,
          1,
          1,
          1,
          1,
          2,
          1,
          1,
          1,
          1,
          1,
          1,
          1,
          2,
          1,
          2,
          1,
          1,
          1,
          2,
          1,
          1,
          2,
          1,
          2,
          1,
          1,
          1,
          1,
          1,
          1,
          3,
          1,
          1,
          1,
          1,
          1,
          1,
          1,
          1,
          1,
          1,
          1,
          1,
          1,
          1,
          1,
          1,
          9,
          1,
          9,
          9,
          1,
          3,
          2,
          1,
          1,
          1,
          1,
          2,
          1,
          1,
          1,
          1,
          1,
          1,
          2,
          1,
          2,
          1,
          1,
          1,
          1,
          2,
          1,
          4,
          1,
          3,
          1,
          1,
          1,
          1,
          1,
          1,
          1,
          1,
          1,
          1,
          1,
          1,
          1,
          1,
          3,
          2,
          1,
          1,
          1,
          1,
          1,
          1,
          1,
          1,
          1,
          1,
          1,
          1,
          1,
          1,
          1,
          4,
          1,
          1,
          1,
          2,
          1,
          1,
          4,
          1,
          1,
          1,
          1,
          1,
          1,
          1,
          1,
          1,
          2,
          1,
          1,
          1,
          1,
          1,
          1,
          1,
          1,
          1,
          1,
          1,
          1,
          1,
          1,
          1,
          1,
          1,
          2,
          1,
          2,
          2,
          1,
          4,
          1,
          1,
          6,
          6,
          6,
          1,
          1,
          2,
          1,
          1,
          1,
          1,
          1,
          1,
          1,
          1,
          3,
          2,
          1,
          1,
          1,
          1,
          2,
          1,
          1,
          1,
          1,
          1,
          1,
          1,
          1,
          1,
          1,
          1,
          1,
          1,
          1,
          1,
          1,
          1,
          1,
          1,
          1,
          2,
          3,
          2,
          1,
          2,
          1,
          1,
          1,
          3,
          1,
          2,
          2,
          1,
          1,
          1,
          1,
          1,
          1,
          1,
          1,
          1,
          1,
          9,
          9,
          9,
          1,
          1,
          1,
          1,
          1,
          1,
          1,
          1,
          1,
          1,
          1,
          4,
          2,
          1,
          1,
          1,
          1,
          1,
          2,
          1,
          1,
          1,
          1,
          1,
          1,
          1,
          3,
          1,
          1,
          1,
          1,
          1,
          1,
          1,
          1,
          1,
          1,
          1,
          1,
          1,
          2,
          1,
          2,
          1,
          1,
          1,
          1,
          1,
          1,
          1,
          1,
          1,
          2,
          2,
          1,
          1,
          2,
          1,
          1,
          1,
          1,
          1,
          1,
          1,
          2,
          1,
          1,
          1,
          1,
          1,
          1,
          1,
          1,
          1,
          1,
          1,
          1,
          1,
          1,
          1,
          1,
          1,
          1,
          1,
          1,
          1,
          1,
          1,
          1,
          1,
          1,
          1,
          1,
          1,
          2,
          3,
          1,
          1,
          2,
          6,
          6,
          6,
          1,
          1,
          3,
          1,
          1,
          1,
          1,
          1,
          1,
          1,
          1,
          2,
          1,
          1,
          3,
          4,
          1,
          1,
          2,
          1,
          1,
          2,
          1,
          1,
          1,
          1,
          1,
          1,
          1,
          1,
          1,
          4,
          1
         ]
        }
       ],
       "layout": {
        "template": {
         "data": {
          "bar": [
           {
            "error_x": {
             "color": "#2a3f5f"
            },
            "error_y": {
             "color": "#2a3f5f"
            },
            "marker": {
             "line": {
              "color": "#E5ECF6",
              "width": 0.5
             }
            },
            "type": "bar"
           }
          ],
          "barpolar": [
           {
            "marker": {
             "line": {
              "color": "#E5ECF6",
              "width": 0.5
             }
            },
            "type": "barpolar"
           }
          ],
          "carpet": [
           {
            "aaxis": {
             "endlinecolor": "#2a3f5f",
             "gridcolor": "white",
             "linecolor": "white",
             "minorgridcolor": "white",
             "startlinecolor": "#2a3f5f"
            },
            "baxis": {
             "endlinecolor": "#2a3f5f",
             "gridcolor": "white",
             "linecolor": "white",
             "minorgridcolor": "white",
             "startlinecolor": "#2a3f5f"
            },
            "type": "carpet"
           }
          ],
          "choropleth": [
           {
            "colorbar": {
             "outlinewidth": 0,
             "ticks": ""
            },
            "type": "choropleth"
           }
          ],
          "contour": [
           {
            "colorbar": {
             "outlinewidth": 0,
             "ticks": ""
            },
            "colorscale": [
             [
              0,
              "#0d0887"
             ],
             [
              0.1111111111111111,
              "#46039f"
             ],
             [
              0.2222222222222222,
              "#7201a8"
             ],
             [
              0.3333333333333333,
              "#9c179e"
             ],
             [
              0.4444444444444444,
              "#bd3786"
             ],
             [
              0.5555555555555556,
              "#d8576b"
             ],
             [
              0.6666666666666666,
              "#ed7953"
             ],
             [
              0.7777777777777778,
              "#fb9f3a"
             ],
             [
              0.8888888888888888,
              "#fdca26"
             ],
             [
              1,
              "#f0f921"
             ]
            ],
            "type": "contour"
           }
          ],
          "contourcarpet": [
           {
            "colorbar": {
             "outlinewidth": 0,
             "ticks": ""
            },
            "type": "contourcarpet"
           }
          ],
          "heatmap": [
           {
            "colorbar": {
             "outlinewidth": 0,
             "ticks": ""
            },
            "colorscale": [
             [
              0,
              "#0d0887"
             ],
             [
              0.1111111111111111,
              "#46039f"
             ],
             [
              0.2222222222222222,
              "#7201a8"
             ],
             [
              0.3333333333333333,
              "#9c179e"
             ],
             [
              0.4444444444444444,
              "#bd3786"
             ],
             [
              0.5555555555555556,
              "#d8576b"
             ],
             [
              0.6666666666666666,
              "#ed7953"
             ],
             [
              0.7777777777777778,
              "#fb9f3a"
             ],
             [
              0.8888888888888888,
              "#fdca26"
             ],
             [
              1,
              "#f0f921"
             ]
            ],
            "type": "heatmap"
           }
          ],
          "heatmapgl": [
           {
            "colorbar": {
             "outlinewidth": 0,
             "ticks": ""
            },
            "colorscale": [
             [
              0,
              "#0d0887"
             ],
             [
              0.1111111111111111,
              "#46039f"
             ],
             [
              0.2222222222222222,
              "#7201a8"
             ],
             [
              0.3333333333333333,
              "#9c179e"
             ],
             [
              0.4444444444444444,
              "#bd3786"
             ],
             [
              0.5555555555555556,
              "#d8576b"
             ],
             [
              0.6666666666666666,
              "#ed7953"
             ],
             [
              0.7777777777777778,
              "#fb9f3a"
             ],
             [
              0.8888888888888888,
              "#fdca26"
             ],
             [
              1,
              "#f0f921"
             ]
            ],
            "type": "heatmapgl"
           }
          ],
          "histogram": [
           {
            "marker": {
             "colorbar": {
              "outlinewidth": 0,
              "ticks": ""
             }
            },
            "type": "histogram"
           }
          ],
          "histogram2d": [
           {
            "colorbar": {
             "outlinewidth": 0,
             "ticks": ""
            },
            "colorscale": [
             [
              0,
              "#0d0887"
             ],
             [
              0.1111111111111111,
              "#46039f"
             ],
             [
              0.2222222222222222,
              "#7201a8"
             ],
             [
              0.3333333333333333,
              "#9c179e"
             ],
             [
              0.4444444444444444,
              "#bd3786"
             ],
             [
              0.5555555555555556,
              "#d8576b"
             ],
             [
              0.6666666666666666,
              "#ed7953"
             ],
             [
              0.7777777777777778,
              "#fb9f3a"
             ],
             [
              0.8888888888888888,
              "#fdca26"
             ],
             [
              1,
              "#f0f921"
             ]
            ],
            "type": "histogram2d"
           }
          ],
          "histogram2dcontour": [
           {
            "colorbar": {
             "outlinewidth": 0,
             "ticks": ""
            },
            "colorscale": [
             [
              0,
              "#0d0887"
             ],
             [
              0.1111111111111111,
              "#46039f"
             ],
             [
              0.2222222222222222,
              "#7201a8"
             ],
             [
              0.3333333333333333,
              "#9c179e"
             ],
             [
              0.4444444444444444,
              "#bd3786"
             ],
             [
              0.5555555555555556,
              "#d8576b"
             ],
             [
              0.6666666666666666,
              "#ed7953"
             ],
             [
              0.7777777777777778,
              "#fb9f3a"
             ],
             [
              0.8888888888888888,
              "#fdca26"
             ],
             [
              1,
              "#f0f921"
             ]
            ],
            "type": "histogram2dcontour"
           }
          ],
          "mesh3d": [
           {
            "colorbar": {
             "outlinewidth": 0,
             "ticks": ""
            },
            "type": "mesh3d"
           }
          ],
          "parcoords": [
           {
            "line": {
             "colorbar": {
              "outlinewidth": 0,
              "ticks": ""
             }
            },
            "type": "parcoords"
           }
          ],
          "pie": [
           {
            "automargin": true,
            "type": "pie"
           }
          ],
          "scatter": [
           {
            "marker": {
             "colorbar": {
              "outlinewidth": 0,
              "ticks": ""
             }
            },
            "type": "scatter"
           }
          ],
          "scatter3d": [
           {
            "line": {
             "colorbar": {
              "outlinewidth": 0,
              "ticks": ""
             }
            },
            "marker": {
             "colorbar": {
              "outlinewidth": 0,
              "ticks": ""
             }
            },
            "type": "scatter3d"
           }
          ],
          "scattercarpet": [
           {
            "marker": {
             "colorbar": {
              "outlinewidth": 0,
              "ticks": ""
             }
            },
            "type": "scattercarpet"
           }
          ],
          "scattergeo": [
           {
            "marker": {
             "colorbar": {
              "outlinewidth": 0,
              "ticks": ""
             }
            },
            "type": "scattergeo"
           }
          ],
          "scattergl": [
           {
            "marker": {
             "colorbar": {
              "outlinewidth": 0,
              "ticks": ""
             }
            },
            "type": "scattergl"
           }
          ],
          "scattermapbox": [
           {
            "marker": {
             "colorbar": {
              "outlinewidth": 0,
              "ticks": ""
             }
            },
            "type": "scattermapbox"
           }
          ],
          "scatterpolar": [
           {
            "marker": {
             "colorbar": {
              "outlinewidth": 0,
              "ticks": ""
             }
            },
            "type": "scatterpolar"
           }
          ],
          "scatterpolargl": [
           {
            "marker": {
             "colorbar": {
              "outlinewidth": 0,
              "ticks": ""
             }
            },
            "type": "scatterpolargl"
           }
          ],
          "scatterternary": [
           {
            "marker": {
             "colorbar": {
              "outlinewidth": 0,
              "ticks": ""
             }
            },
            "type": "scatterternary"
           }
          ],
          "surface": [
           {
            "colorbar": {
             "outlinewidth": 0,
             "ticks": ""
            },
            "colorscale": [
             [
              0,
              "#0d0887"
             ],
             [
              0.1111111111111111,
              "#46039f"
             ],
             [
              0.2222222222222222,
              "#7201a8"
             ],
             [
              0.3333333333333333,
              "#9c179e"
             ],
             [
              0.4444444444444444,
              "#bd3786"
             ],
             [
              0.5555555555555556,
              "#d8576b"
             ],
             [
              0.6666666666666666,
              "#ed7953"
             ],
             [
              0.7777777777777778,
              "#fb9f3a"
             ],
             [
              0.8888888888888888,
              "#fdca26"
             ],
             [
              1,
              "#f0f921"
             ]
            ],
            "type": "surface"
           }
          ],
          "table": [
           {
            "cells": {
             "fill": {
              "color": "#EBF0F8"
             },
             "line": {
              "color": "white"
             }
            },
            "header": {
             "fill": {
              "color": "#C8D4E3"
             },
             "line": {
              "color": "white"
             }
            },
            "type": "table"
           }
          ]
         },
         "layout": {
          "annotationdefaults": {
           "arrowcolor": "#2a3f5f",
           "arrowhead": 0,
           "arrowwidth": 1
          },
          "coloraxis": {
           "colorbar": {
            "outlinewidth": 0,
            "ticks": ""
           }
          },
          "colorscale": {
           "diverging": [
            [
             0,
             "#8e0152"
            ],
            [
             0.1,
             "#c51b7d"
            ],
            [
             0.2,
             "#de77ae"
            ],
            [
             0.3,
             "#f1b6da"
            ],
            [
             0.4,
             "#fde0ef"
            ],
            [
             0.5,
             "#f7f7f7"
            ],
            [
             0.6,
             "#e6f5d0"
            ],
            [
             0.7,
             "#b8e186"
            ],
            [
             0.8,
             "#7fbc41"
            ],
            [
             0.9,
             "#4d9221"
            ],
            [
             1,
             "#276419"
            ]
           ],
           "sequential": [
            [
             0,
             "#0d0887"
            ],
            [
             0.1111111111111111,
             "#46039f"
            ],
            [
             0.2222222222222222,
             "#7201a8"
            ],
            [
             0.3333333333333333,
             "#9c179e"
            ],
            [
             0.4444444444444444,
             "#bd3786"
            ],
            [
             0.5555555555555556,
             "#d8576b"
            ],
            [
             0.6666666666666666,
             "#ed7953"
            ],
            [
             0.7777777777777778,
             "#fb9f3a"
            ],
            [
             0.8888888888888888,
             "#fdca26"
            ],
            [
             1,
             "#f0f921"
            ]
           ],
           "sequentialminus": [
            [
             0,
             "#0d0887"
            ],
            [
             0.1111111111111111,
             "#46039f"
            ],
            [
             0.2222222222222222,
             "#7201a8"
            ],
            [
             0.3333333333333333,
             "#9c179e"
            ],
            [
             0.4444444444444444,
             "#bd3786"
            ],
            [
             0.5555555555555556,
             "#d8576b"
            ],
            [
             0.6666666666666666,
             "#ed7953"
            ],
            [
             0.7777777777777778,
             "#fb9f3a"
            ],
            [
             0.8888888888888888,
             "#fdca26"
            ],
            [
             1,
             "#f0f921"
            ]
           ]
          },
          "colorway": [
           "#636efa",
           "#EF553B",
           "#00cc96",
           "#ab63fa",
           "#FFA15A",
           "#19d3f3",
           "#FF6692",
           "#B6E880",
           "#FF97FF",
           "#FECB52"
          ],
          "font": {
           "color": "#2a3f5f"
          },
          "geo": {
           "bgcolor": "white",
           "lakecolor": "white",
           "landcolor": "#E5ECF6",
           "showlakes": true,
           "showland": true,
           "subunitcolor": "white"
          },
          "hoverlabel": {
           "align": "left"
          },
          "hovermode": "closest",
          "mapbox": {
           "style": "light"
          },
          "paper_bgcolor": "white",
          "plot_bgcolor": "#E5ECF6",
          "polar": {
           "angularaxis": {
            "gridcolor": "white",
            "linecolor": "white",
            "ticks": ""
           },
           "bgcolor": "#E5ECF6",
           "radialaxis": {
            "gridcolor": "white",
            "linecolor": "white",
            "ticks": ""
           }
          },
          "scene": {
           "xaxis": {
            "backgroundcolor": "#E5ECF6",
            "gridcolor": "white",
            "gridwidth": 2,
            "linecolor": "white",
            "showbackground": true,
            "ticks": "",
            "zerolinecolor": "white"
           },
           "yaxis": {
            "backgroundcolor": "#E5ECF6",
            "gridcolor": "white",
            "gridwidth": 2,
            "linecolor": "white",
            "showbackground": true,
            "ticks": "",
            "zerolinecolor": "white"
           },
           "zaxis": {
            "backgroundcolor": "#E5ECF6",
            "gridcolor": "white",
            "gridwidth": 2,
            "linecolor": "white",
            "showbackground": true,
            "ticks": "",
            "zerolinecolor": "white"
           }
          },
          "shapedefaults": {
           "line": {
            "color": "#2a3f5f"
           }
          },
          "ternary": {
           "aaxis": {
            "gridcolor": "white",
            "linecolor": "white",
            "ticks": ""
           },
           "baxis": {
            "gridcolor": "white",
            "linecolor": "white",
            "ticks": ""
           },
           "bgcolor": "#E5ECF6",
           "caxis": {
            "gridcolor": "white",
            "linecolor": "white",
            "ticks": ""
           }
          },
          "title": {
           "x": 0.05
          },
          "xaxis": {
           "automargin": true,
           "gridcolor": "white",
           "linecolor": "white",
           "ticks": "",
           "title": {
            "standoff": 15
           },
           "zerolinecolor": "white",
           "zerolinewidth": 2
          },
          "yaxis": {
           "automargin": true,
           "gridcolor": "white",
           "linecolor": "white",
           "ticks": "",
           "title": {
            "standoff": 15
           },
           "zerolinecolor": "white",
           "zerolinewidth": 2
          }
         }
        },
        "title": {
         "text": "Distribution of user post frequency for ##humanconnection"
        },
        "xaxis": {
         "title": {
          "text": "Count of user post frequency"
         }
        },
        "yaxis": {
         "title": {
          "text": "Frequency"
         }
        }
       }
      },
      "text/html": [
       "<div>\n",
       "        \n",
       "        \n",
       "            <div id=\"62315623-38df-41bc-a862-34dd9889cb91\" class=\"plotly-graph-div\" style=\"height:525px; width:100%;\"></div>\n",
       "            <script type=\"text/javascript\">\n",
       "                require([\"plotly\"], function(Plotly) {\n",
       "                    window.PLOTLYENV=window.PLOTLYENV || {};\n",
       "                    \n",
       "                if (document.getElementById(\"62315623-38df-41bc-a862-34dd9889cb91\")) {\n",
       "                    Plotly.newPlot(\n",
       "                        '62315623-38df-41bc-a862-34dd9889cb91',\n",
       "                        [{\"histnorm\": \"probability density\", \"type\": \"histogram\", \"x\": [1, 1, 1, 1, 1, 1, 1, 1, 1, 1, 1, 1, 1, 1, 1, 4, 1, 1, 2, 1, 3, 1, 3, 3, 1, 1, 1, 1, 2, 1, 1, 1, 1, 1, 1, 1, 1, 1, 1, 1, 1, 1, 2, 1, 1, 1, 1, 1, 3, 1, 3, 1, 4, 1, 1, 1, 2, 1, 1, 1, 1, 1, 1, 1, 1, 1, 1, 1, 1, 1, 1, 1, 1, 2, 1, 1, 1, 1, 1, 1, 1, 1, 1, 1, 1, 1, 1, 1, 1, 1, 1, 1, 1, 1, 1, 1, 4, 1, 1, 1, 1, 1, 1, 1, 1, 1, 9, 9, 9, 1, 1, 1, 3, 1, 1, 1, 1, 1, 2, 1, 2, 1, 1, 1, 1, 1, 1, 1, 1, 1, 3, 3, 3, 1, 1, 1, 2, 3, 1, 1, 1, 1, 2, 1, 1, 1, 1, 1, 1, 2, 1, 2, 1, 1, 1, 1, 1, 1, 1, 1, 1, 1, 1, 1, 1, 1, 1, 1, 3, 1, 1, 1, 1, 2, 2, 2, 1, 1, 1, 1, 1, 4, 1, 1, 1, 1, 1, 1, 1, 1, 2, 1, 1, 1, 1, 1, 1, 1, 1, 2, 1, 1, 1, 1, 1, 1, 1, 1, 1, 3, 1, 1, 1, 1, 1, 1, 2, 1, 1, 1, 1, 1, 1, 1, 4, 1, 1, 1, 1, 3, 1, 1, 1, 1, 1, 1, 1, 1, 1, 1, 1, 1, 1, 2, 1, 1, 1, 1, 1, 2, 1, 1, 1, 1, 1, 1, 1, 2, 1, 2, 1, 1, 1, 2, 1, 1, 2, 1, 2, 1, 1, 1, 1, 1, 1, 3, 1, 1, 1, 1, 1, 1, 1, 1, 1, 1, 1, 1, 1, 1, 1, 1, 9, 1, 9, 9, 1, 3, 2, 1, 1, 1, 1, 2, 1, 1, 1, 1, 1, 1, 2, 1, 2, 1, 1, 1, 1, 2, 1, 4, 1, 3, 1, 1, 1, 1, 1, 1, 1, 1, 1, 1, 1, 1, 1, 1, 3, 2, 1, 1, 1, 1, 1, 1, 1, 1, 1, 1, 1, 1, 1, 1, 1, 4, 1, 1, 1, 2, 1, 1, 4, 1, 1, 1, 1, 1, 1, 1, 1, 1, 2, 1, 1, 1, 1, 1, 1, 1, 1, 1, 1, 1, 1, 1, 1, 1, 1, 1, 2, 1, 2, 2, 1, 4, 1, 1, 6, 6, 6, 1, 1, 2, 1, 1, 1, 1, 1, 1, 1, 1, 3, 2, 1, 1, 1, 1, 2, 1, 1, 1, 1, 1, 1, 1, 1, 1, 1, 1, 1, 1, 1, 1, 1, 1, 1, 1, 1, 2, 3, 2, 1, 2, 1, 1, 1, 3, 1, 2, 2, 1, 1, 1, 1, 1, 1, 1, 1, 1, 1, 9, 9, 9, 1, 1, 1, 1, 1, 1, 1, 1, 1, 1, 1, 4, 2, 1, 1, 1, 1, 1, 2, 1, 1, 1, 1, 1, 1, 1, 3, 1, 1, 1, 1, 1, 1, 1, 1, 1, 1, 1, 1, 1, 2, 1, 2, 1, 1, 1, 1, 1, 1, 1, 1, 1, 2, 2, 1, 1, 2, 1, 1, 1, 1, 1, 1, 1, 2, 1, 1, 1, 1, 1, 1, 1, 1, 1, 1, 1, 1, 1, 1, 1, 1, 1, 1, 1, 1, 1, 1, 1, 1, 1, 1, 1, 1, 1, 2, 3, 1, 1, 2, 6, 6, 6, 1, 1, 3, 1, 1, 1, 1, 1, 1, 1, 1, 2, 1, 1, 3, 4, 1, 1, 2, 1, 1, 2, 1, 1, 1, 1, 1, 1, 1, 1, 1, 4, 1]}],\n",
       "                        {\"template\": {\"data\": {\"bar\": [{\"error_x\": {\"color\": \"#2a3f5f\"}, \"error_y\": {\"color\": \"#2a3f5f\"}, \"marker\": {\"line\": {\"color\": \"#E5ECF6\", \"width\": 0.5}}, \"type\": \"bar\"}], \"barpolar\": [{\"marker\": {\"line\": {\"color\": \"#E5ECF6\", \"width\": 0.5}}, \"type\": \"barpolar\"}], \"carpet\": [{\"aaxis\": {\"endlinecolor\": \"#2a3f5f\", \"gridcolor\": \"white\", \"linecolor\": \"white\", \"minorgridcolor\": \"white\", \"startlinecolor\": \"#2a3f5f\"}, \"baxis\": {\"endlinecolor\": \"#2a3f5f\", \"gridcolor\": \"white\", \"linecolor\": \"white\", \"minorgridcolor\": \"white\", \"startlinecolor\": \"#2a3f5f\"}, \"type\": \"carpet\"}], \"choropleth\": [{\"colorbar\": {\"outlinewidth\": 0, \"ticks\": \"\"}, \"type\": \"choropleth\"}], \"contour\": [{\"colorbar\": {\"outlinewidth\": 0, \"ticks\": \"\"}, \"colorscale\": [[0.0, \"#0d0887\"], [0.1111111111111111, \"#46039f\"], [0.2222222222222222, \"#7201a8\"], [0.3333333333333333, \"#9c179e\"], [0.4444444444444444, \"#bd3786\"], [0.5555555555555556, \"#d8576b\"], [0.6666666666666666, \"#ed7953\"], [0.7777777777777778, \"#fb9f3a\"], [0.8888888888888888, \"#fdca26\"], [1.0, \"#f0f921\"]], \"type\": \"contour\"}], \"contourcarpet\": [{\"colorbar\": {\"outlinewidth\": 0, \"ticks\": \"\"}, \"type\": \"contourcarpet\"}], \"heatmap\": [{\"colorbar\": {\"outlinewidth\": 0, \"ticks\": \"\"}, \"colorscale\": [[0.0, \"#0d0887\"], [0.1111111111111111, \"#46039f\"], [0.2222222222222222, \"#7201a8\"], [0.3333333333333333, \"#9c179e\"], [0.4444444444444444, \"#bd3786\"], [0.5555555555555556, \"#d8576b\"], [0.6666666666666666, \"#ed7953\"], [0.7777777777777778, \"#fb9f3a\"], [0.8888888888888888, \"#fdca26\"], [1.0, \"#f0f921\"]], \"type\": \"heatmap\"}], \"heatmapgl\": [{\"colorbar\": {\"outlinewidth\": 0, \"ticks\": \"\"}, \"colorscale\": [[0.0, \"#0d0887\"], [0.1111111111111111, \"#46039f\"], [0.2222222222222222, \"#7201a8\"], [0.3333333333333333, \"#9c179e\"], [0.4444444444444444, \"#bd3786\"], [0.5555555555555556, \"#d8576b\"], [0.6666666666666666, \"#ed7953\"], [0.7777777777777778, \"#fb9f3a\"], [0.8888888888888888, \"#fdca26\"], [1.0, \"#f0f921\"]], \"type\": \"heatmapgl\"}], \"histogram\": [{\"marker\": {\"colorbar\": {\"outlinewidth\": 0, \"ticks\": \"\"}}, \"type\": \"histogram\"}], \"histogram2d\": [{\"colorbar\": {\"outlinewidth\": 0, \"ticks\": \"\"}, \"colorscale\": [[0.0, \"#0d0887\"], [0.1111111111111111, \"#46039f\"], [0.2222222222222222, \"#7201a8\"], [0.3333333333333333, \"#9c179e\"], [0.4444444444444444, \"#bd3786\"], [0.5555555555555556, \"#d8576b\"], [0.6666666666666666, \"#ed7953\"], [0.7777777777777778, \"#fb9f3a\"], [0.8888888888888888, \"#fdca26\"], [1.0, \"#f0f921\"]], \"type\": \"histogram2d\"}], \"histogram2dcontour\": [{\"colorbar\": {\"outlinewidth\": 0, \"ticks\": \"\"}, \"colorscale\": [[0.0, \"#0d0887\"], [0.1111111111111111, \"#46039f\"], [0.2222222222222222, \"#7201a8\"], [0.3333333333333333, \"#9c179e\"], [0.4444444444444444, \"#bd3786\"], [0.5555555555555556, \"#d8576b\"], [0.6666666666666666, \"#ed7953\"], [0.7777777777777778, \"#fb9f3a\"], [0.8888888888888888, \"#fdca26\"], [1.0, \"#f0f921\"]], \"type\": \"histogram2dcontour\"}], \"mesh3d\": [{\"colorbar\": {\"outlinewidth\": 0, \"ticks\": \"\"}, \"type\": \"mesh3d\"}], \"parcoords\": [{\"line\": {\"colorbar\": {\"outlinewidth\": 0, \"ticks\": \"\"}}, \"type\": \"parcoords\"}], \"pie\": [{\"automargin\": true, \"type\": \"pie\"}], \"scatter\": [{\"marker\": {\"colorbar\": {\"outlinewidth\": 0, \"ticks\": \"\"}}, \"type\": \"scatter\"}], \"scatter3d\": [{\"line\": {\"colorbar\": {\"outlinewidth\": 0, \"ticks\": \"\"}}, \"marker\": {\"colorbar\": {\"outlinewidth\": 0, \"ticks\": \"\"}}, \"type\": \"scatter3d\"}], \"scattercarpet\": [{\"marker\": {\"colorbar\": {\"outlinewidth\": 0, \"ticks\": \"\"}}, \"type\": \"scattercarpet\"}], \"scattergeo\": [{\"marker\": {\"colorbar\": {\"outlinewidth\": 0, \"ticks\": \"\"}}, \"type\": \"scattergeo\"}], \"scattergl\": [{\"marker\": {\"colorbar\": {\"outlinewidth\": 0, \"ticks\": \"\"}}, \"type\": \"scattergl\"}], \"scattermapbox\": [{\"marker\": {\"colorbar\": {\"outlinewidth\": 0, \"ticks\": \"\"}}, \"type\": \"scattermapbox\"}], \"scatterpolar\": [{\"marker\": {\"colorbar\": {\"outlinewidth\": 0, \"ticks\": \"\"}}, \"type\": \"scatterpolar\"}], \"scatterpolargl\": [{\"marker\": {\"colorbar\": {\"outlinewidth\": 0, \"ticks\": \"\"}}, \"type\": \"scatterpolargl\"}], \"scatterternary\": [{\"marker\": {\"colorbar\": {\"outlinewidth\": 0, \"ticks\": \"\"}}, \"type\": \"scatterternary\"}], \"surface\": [{\"colorbar\": {\"outlinewidth\": 0, \"ticks\": \"\"}, \"colorscale\": [[0.0, \"#0d0887\"], [0.1111111111111111, \"#46039f\"], [0.2222222222222222, \"#7201a8\"], [0.3333333333333333, \"#9c179e\"], [0.4444444444444444, \"#bd3786\"], [0.5555555555555556, \"#d8576b\"], [0.6666666666666666, \"#ed7953\"], [0.7777777777777778, \"#fb9f3a\"], [0.8888888888888888, \"#fdca26\"], [1.0, \"#f0f921\"]], \"type\": \"surface\"}], \"table\": [{\"cells\": {\"fill\": {\"color\": \"#EBF0F8\"}, \"line\": {\"color\": \"white\"}}, \"header\": {\"fill\": {\"color\": \"#C8D4E3\"}, \"line\": {\"color\": \"white\"}}, \"type\": \"table\"}]}, \"layout\": {\"annotationdefaults\": {\"arrowcolor\": \"#2a3f5f\", \"arrowhead\": 0, \"arrowwidth\": 1}, \"coloraxis\": {\"colorbar\": {\"outlinewidth\": 0, \"ticks\": \"\"}}, \"colorscale\": {\"diverging\": [[0, \"#8e0152\"], [0.1, \"#c51b7d\"], [0.2, \"#de77ae\"], [0.3, \"#f1b6da\"], [0.4, \"#fde0ef\"], [0.5, \"#f7f7f7\"], [0.6, \"#e6f5d0\"], [0.7, \"#b8e186\"], [0.8, \"#7fbc41\"], [0.9, \"#4d9221\"], [1, \"#276419\"]], \"sequential\": [[0.0, \"#0d0887\"], [0.1111111111111111, \"#46039f\"], [0.2222222222222222, \"#7201a8\"], [0.3333333333333333, \"#9c179e\"], [0.4444444444444444, \"#bd3786\"], [0.5555555555555556, \"#d8576b\"], [0.6666666666666666, \"#ed7953\"], [0.7777777777777778, \"#fb9f3a\"], [0.8888888888888888, \"#fdca26\"], [1.0, \"#f0f921\"]], \"sequentialminus\": [[0.0, \"#0d0887\"], [0.1111111111111111, \"#46039f\"], [0.2222222222222222, \"#7201a8\"], [0.3333333333333333, \"#9c179e\"], [0.4444444444444444, \"#bd3786\"], [0.5555555555555556, \"#d8576b\"], [0.6666666666666666, \"#ed7953\"], [0.7777777777777778, \"#fb9f3a\"], [0.8888888888888888, \"#fdca26\"], [1.0, \"#f0f921\"]]}, \"colorway\": [\"#636efa\", \"#EF553B\", \"#00cc96\", \"#ab63fa\", \"#FFA15A\", \"#19d3f3\", \"#FF6692\", \"#B6E880\", \"#FF97FF\", \"#FECB52\"], \"font\": {\"color\": \"#2a3f5f\"}, \"geo\": {\"bgcolor\": \"white\", \"lakecolor\": \"white\", \"landcolor\": \"#E5ECF6\", \"showlakes\": true, \"showland\": true, \"subunitcolor\": \"white\"}, \"hoverlabel\": {\"align\": \"left\"}, \"hovermode\": \"closest\", \"mapbox\": {\"style\": \"light\"}, \"paper_bgcolor\": \"white\", \"plot_bgcolor\": \"#E5ECF6\", \"polar\": {\"angularaxis\": {\"gridcolor\": \"white\", \"linecolor\": \"white\", \"ticks\": \"\"}, \"bgcolor\": \"#E5ECF6\", \"radialaxis\": {\"gridcolor\": \"white\", \"linecolor\": \"white\", \"ticks\": \"\"}}, \"scene\": {\"xaxis\": {\"backgroundcolor\": \"#E5ECF6\", \"gridcolor\": \"white\", \"gridwidth\": 2, \"linecolor\": \"white\", \"showbackground\": true, \"ticks\": \"\", \"zerolinecolor\": \"white\"}, \"yaxis\": {\"backgroundcolor\": \"#E5ECF6\", \"gridcolor\": \"white\", \"gridwidth\": 2, \"linecolor\": \"white\", \"showbackground\": true, \"ticks\": \"\", \"zerolinecolor\": \"white\"}, \"zaxis\": {\"backgroundcolor\": \"#E5ECF6\", \"gridcolor\": \"white\", \"gridwidth\": 2, \"linecolor\": \"white\", \"showbackground\": true, \"ticks\": \"\", \"zerolinecolor\": \"white\"}}, \"shapedefaults\": {\"line\": {\"color\": \"#2a3f5f\"}}, \"ternary\": {\"aaxis\": {\"gridcolor\": \"white\", \"linecolor\": \"white\", \"ticks\": \"\"}, \"baxis\": {\"gridcolor\": \"white\", \"linecolor\": \"white\", \"ticks\": \"\"}, \"bgcolor\": \"#E5ECF6\", \"caxis\": {\"gridcolor\": \"white\", \"linecolor\": \"white\", \"ticks\": \"\"}}, \"title\": {\"x\": 0.05}, \"xaxis\": {\"automargin\": true, \"gridcolor\": \"white\", \"linecolor\": \"white\", \"ticks\": \"\", \"title\": {\"standoff\": 15}, \"zerolinecolor\": \"white\", \"zerolinewidth\": 2}, \"yaxis\": {\"automargin\": true, \"gridcolor\": \"white\", \"linecolor\": \"white\", \"ticks\": \"\", \"title\": {\"standoff\": 15}, \"zerolinecolor\": \"white\", \"zerolinewidth\": 2}}}, \"title\": {\"text\": \"Distribution of user post frequency for ##humanconnection\"}, \"xaxis\": {\"title\": {\"text\": \"Count of user post frequency\"}}, \"yaxis\": {\"title\": {\"text\": \"Frequency\"}}},\n",
       "                        {\"responsive\": true}\n",
       "                    ).then(function(){\n",
       "                            \n",
       "var gd = document.getElementById('62315623-38df-41bc-a862-34dd9889cb91');\n",
       "var x = new MutationObserver(function (mutations, observer) {{\n",
       "        var display = window.getComputedStyle(gd).display;\n",
       "        if (!display || display === 'none') {{\n",
       "            console.log([gd, 'removed!']);\n",
       "            Plotly.purge(gd);\n",
       "            observer.disconnect();\n",
       "        }}\n",
       "}});\n",
       "\n",
       "// Listen for the removal of the full notebook cells\n",
       "var notebookContainer = gd.closest('#notebook-container');\n",
       "if (notebookContainer) {{\n",
       "    x.observe(notebookContainer, {childList: true});\n",
       "}}\n",
       "\n",
       "// Listen for the clearing of the current output cell\n",
       "var outputEl = gd.closest('.output');\n",
       "if (outputEl) {{\n",
       "    x.observe(outputEl, {childList: true});\n",
       "}}\n",
       "\n",
       "                        })\n",
       "                };\n",
       "                });\n",
       "            </script>\n",
       "        </div>"
      ]
     },
     "metadata": {},
     "output_type": "display_data"
    },
    {
     "data": {
      "application/vnd.plotly.v1+json": {
       "config": {
        "plotlyServerURL": "https://plot.ly"
       },
       "data": [
        {
         "histnorm": "probability density",
         "type": "histogram",
         "x": [
          25,
          26,
          3,
          12,
          1,
          7,
          27,
          3,
          28,
          12,
          2,
          4,
          12,
          10,
          8,
          8,
          7,
          5,
          7,
          27,
          17,
          28,
          26,
          28,
          17,
          12,
          3,
          30,
          18,
          7,
          5,
          16,
          6,
          30,
          23,
          1,
          30,
          4,
          1,
          3,
          10,
          3,
          30,
          21,
          4,
          5,
          12,
          1,
          2,
          12,
          2,
          19,
          20,
          20,
          1,
          14,
          2,
          30,
          4,
          7,
          6,
          5,
          8,
          14,
          10,
          6,
          25,
          3,
          8,
          16,
          30,
          5,
          17,
          5,
          5,
          13,
          19,
          13,
          3,
          10,
          15,
          7,
          30,
          5,
          7,
          5,
          15,
          11,
          4,
          22,
          9,
          13,
          10,
          24,
          4,
          16,
          9,
          1,
          5,
          5,
          16,
          16,
          13,
          12,
          9,
          30,
          30,
          30,
          30,
          5,
          3,
          10,
          30,
          3,
          22,
          5,
          16,
          16,
          22,
          29,
          28,
          30,
          6,
          6,
          11,
          27,
          13,
          21,
          3,
          24,
          21,
          21,
          21,
          8,
          24,
          9,
          19,
          2,
          3,
          22,
          7,
          16,
          7,
          3,
          17,
          7,
          6,
          15,
          16,
          5,
          1,
          11,
          5,
          7,
          30,
          11,
          7,
          9,
          16,
          4,
          15,
          16,
          5,
          18,
          27,
          26,
          7,
          20,
          8,
          5,
          6,
          4,
          23,
          21,
          26,
          2,
          22,
          8,
          17,
          8,
          4,
          15,
          28,
          16,
          24,
          3,
          10,
          4,
          24,
          7,
          25,
          3,
          13,
          7,
          7,
          22,
          4,
          6,
          9,
          10,
          18,
          3,
          4,
          22,
          4,
          30,
          6,
          3,
          3,
          30,
          16,
          29,
          12,
          8,
          26,
          13,
          2,
          30,
          3,
          9,
          3,
          5,
          23,
          2,
          8,
          30,
          1,
          8,
          6,
          12,
          20,
          23,
          15,
          3,
          25,
          4,
          30,
          8,
          7,
          21,
          30,
          3,
          29,
          30,
          16,
          3,
          7,
          4,
          5,
          28,
          3,
          28,
          19,
          20,
          7,
          15,
          12,
          30,
          1,
          27,
          10,
          30,
          3,
          18,
          9,
          4,
          29,
          8,
          27,
          4,
          12,
          10,
          8,
          15,
          23,
          26,
          13,
          13,
          15,
          15,
          14,
          20,
          9,
          30,
          12,
          23,
          8,
          1,
          5,
          11,
          15,
          5,
          30,
          4,
          30,
          30,
          13,
          26,
          10,
          7,
          19,
          22,
          30,
          1,
          5,
          1,
          6,
          9,
          14,
          27,
          2,
          30,
          19,
          10,
          14,
          16,
          14,
          30,
          4,
          8,
          6,
          3,
          5,
          9,
          2,
          5,
          29,
          30,
          7,
          21,
          22,
          20,
          5,
          23,
          18,
          15,
          27,
          8,
          3,
          8,
          11,
          10,
          30,
          6,
          30,
          8,
          5,
          8,
          10,
          10,
          22,
          21,
          4,
          6,
          22,
          25,
          15,
          17,
          12,
          14,
          14,
          11,
          22,
          10,
          22,
          10,
          20,
          30,
          6,
          2,
          2,
          8,
          18,
          23,
          22,
          30,
          8,
          18,
          21,
          1,
          5,
          3,
          30,
          1,
          25,
          3,
          1,
          10,
          11,
          4,
          30,
          10,
          15,
          8,
          12,
          21,
          2,
          2,
          2,
          11,
          11,
          13,
          3,
          17,
          11,
          8,
          7,
          16,
          11,
          11,
          17,
          25,
          28,
          16,
          23,
          30,
          1,
          12,
          11,
          14,
          5,
          30,
          20,
          22,
          5,
          16,
          15,
          4,
          24,
          14,
          13,
          10,
          1,
          25,
          2,
          17,
          14,
          24,
          7,
          23,
          4,
          28,
          25,
          7,
          21,
          26,
          10,
          25,
          1,
          6,
          21,
          13,
          9,
          30,
          13,
          12,
          6,
          12,
          30,
          30,
          30,
          30,
          23,
          5,
          3,
          13,
          28,
          1,
          1,
          8,
          25,
          5,
          13,
          10,
          30,
          10,
          15,
          9,
          27,
          8,
          30,
          8,
          6,
          25,
          5,
          7,
          8,
          17,
          28,
          26,
          30,
          7,
          7,
          6,
          4,
          3,
          9,
          7,
          15,
          21,
          16,
          24,
          2,
          30,
          19,
          16,
          11,
          11,
          3,
          5,
          22,
          16,
          13,
          10,
          14,
          3,
          1,
          25,
          29,
          9,
          15,
          4,
          3,
          1,
          27,
          13,
          9,
          9,
          4,
          30,
          14,
          16,
          10,
          9,
          5,
          13,
          5,
          27,
          2,
          29,
          14,
          7,
          9,
          5,
          3,
          11,
          30,
          2,
          3,
          5,
          24,
          3,
          30,
          18,
          8,
          5,
          6,
          1,
          4,
          15,
          3,
          1,
          1,
          7,
          16,
          7,
          6,
          7,
          4,
          2,
          16,
          8,
          29,
          29,
          8,
          1,
          26,
          15,
          4,
          9,
          21,
          24,
          12,
          14,
          23,
          25,
          6,
          14,
          5,
          3,
          7,
          22,
          25,
          22,
          22,
          8,
          5
         ]
        }
       ],
       "layout": {
        "template": {
         "data": {
          "bar": [
           {
            "error_x": {
             "color": "#2a3f5f"
            },
            "error_y": {
             "color": "#2a3f5f"
            },
            "marker": {
             "line": {
              "color": "#E5ECF6",
              "width": 0.5
             }
            },
            "type": "bar"
           }
          ],
          "barpolar": [
           {
            "marker": {
             "line": {
              "color": "#E5ECF6",
              "width": 0.5
             }
            },
            "type": "barpolar"
           }
          ],
          "carpet": [
           {
            "aaxis": {
             "endlinecolor": "#2a3f5f",
             "gridcolor": "white",
             "linecolor": "white",
             "minorgridcolor": "white",
             "startlinecolor": "#2a3f5f"
            },
            "baxis": {
             "endlinecolor": "#2a3f5f",
             "gridcolor": "white",
             "linecolor": "white",
             "minorgridcolor": "white",
             "startlinecolor": "#2a3f5f"
            },
            "type": "carpet"
           }
          ],
          "choropleth": [
           {
            "colorbar": {
             "outlinewidth": 0,
             "ticks": ""
            },
            "type": "choropleth"
           }
          ],
          "contour": [
           {
            "colorbar": {
             "outlinewidth": 0,
             "ticks": ""
            },
            "colorscale": [
             [
              0,
              "#0d0887"
             ],
             [
              0.1111111111111111,
              "#46039f"
             ],
             [
              0.2222222222222222,
              "#7201a8"
             ],
             [
              0.3333333333333333,
              "#9c179e"
             ],
             [
              0.4444444444444444,
              "#bd3786"
             ],
             [
              0.5555555555555556,
              "#d8576b"
             ],
             [
              0.6666666666666666,
              "#ed7953"
             ],
             [
              0.7777777777777778,
              "#fb9f3a"
             ],
             [
              0.8888888888888888,
              "#fdca26"
             ],
             [
              1,
              "#f0f921"
             ]
            ],
            "type": "contour"
           }
          ],
          "contourcarpet": [
           {
            "colorbar": {
             "outlinewidth": 0,
             "ticks": ""
            },
            "type": "contourcarpet"
           }
          ],
          "heatmap": [
           {
            "colorbar": {
             "outlinewidth": 0,
             "ticks": ""
            },
            "colorscale": [
             [
              0,
              "#0d0887"
             ],
             [
              0.1111111111111111,
              "#46039f"
             ],
             [
              0.2222222222222222,
              "#7201a8"
             ],
             [
              0.3333333333333333,
              "#9c179e"
             ],
             [
              0.4444444444444444,
              "#bd3786"
             ],
             [
              0.5555555555555556,
              "#d8576b"
             ],
             [
              0.6666666666666666,
              "#ed7953"
             ],
             [
              0.7777777777777778,
              "#fb9f3a"
             ],
             [
              0.8888888888888888,
              "#fdca26"
             ],
             [
              1,
              "#f0f921"
             ]
            ],
            "type": "heatmap"
           }
          ],
          "heatmapgl": [
           {
            "colorbar": {
             "outlinewidth": 0,
             "ticks": ""
            },
            "colorscale": [
             [
              0,
              "#0d0887"
             ],
             [
              0.1111111111111111,
              "#46039f"
             ],
             [
              0.2222222222222222,
              "#7201a8"
             ],
             [
              0.3333333333333333,
              "#9c179e"
             ],
             [
              0.4444444444444444,
              "#bd3786"
             ],
             [
              0.5555555555555556,
              "#d8576b"
             ],
             [
              0.6666666666666666,
              "#ed7953"
             ],
             [
              0.7777777777777778,
              "#fb9f3a"
             ],
             [
              0.8888888888888888,
              "#fdca26"
             ],
             [
              1,
              "#f0f921"
             ]
            ],
            "type": "heatmapgl"
           }
          ],
          "histogram": [
           {
            "marker": {
             "colorbar": {
              "outlinewidth": 0,
              "ticks": ""
             }
            },
            "type": "histogram"
           }
          ],
          "histogram2d": [
           {
            "colorbar": {
             "outlinewidth": 0,
             "ticks": ""
            },
            "colorscale": [
             [
              0,
              "#0d0887"
             ],
             [
              0.1111111111111111,
              "#46039f"
             ],
             [
              0.2222222222222222,
              "#7201a8"
             ],
             [
              0.3333333333333333,
              "#9c179e"
             ],
             [
              0.4444444444444444,
              "#bd3786"
             ],
             [
              0.5555555555555556,
              "#d8576b"
             ],
             [
              0.6666666666666666,
              "#ed7953"
             ],
             [
              0.7777777777777778,
              "#fb9f3a"
             ],
             [
              0.8888888888888888,
              "#fdca26"
             ],
             [
              1,
              "#f0f921"
             ]
            ],
            "type": "histogram2d"
           }
          ],
          "histogram2dcontour": [
           {
            "colorbar": {
             "outlinewidth": 0,
             "ticks": ""
            },
            "colorscale": [
             [
              0,
              "#0d0887"
             ],
             [
              0.1111111111111111,
              "#46039f"
             ],
             [
              0.2222222222222222,
              "#7201a8"
             ],
             [
              0.3333333333333333,
              "#9c179e"
             ],
             [
              0.4444444444444444,
              "#bd3786"
             ],
             [
              0.5555555555555556,
              "#d8576b"
             ],
             [
              0.6666666666666666,
              "#ed7953"
             ],
             [
              0.7777777777777778,
              "#fb9f3a"
             ],
             [
              0.8888888888888888,
              "#fdca26"
             ],
             [
              1,
              "#f0f921"
             ]
            ],
            "type": "histogram2dcontour"
           }
          ],
          "mesh3d": [
           {
            "colorbar": {
             "outlinewidth": 0,
             "ticks": ""
            },
            "type": "mesh3d"
           }
          ],
          "parcoords": [
           {
            "line": {
             "colorbar": {
              "outlinewidth": 0,
              "ticks": ""
             }
            },
            "type": "parcoords"
           }
          ],
          "pie": [
           {
            "automargin": true,
            "type": "pie"
           }
          ],
          "scatter": [
           {
            "marker": {
             "colorbar": {
              "outlinewidth": 0,
              "ticks": ""
             }
            },
            "type": "scatter"
           }
          ],
          "scatter3d": [
           {
            "line": {
             "colorbar": {
              "outlinewidth": 0,
              "ticks": ""
             }
            },
            "marker": {
             "colorbar": {
              "outlinewidth": 0,
              "ticks": ""
             }
            },
            "type": "scatter3d"
           }
          ],
          "scattercarpet": [
           {
            "marker": {
             "colorbar": {
              "outlinewidth": 0,
              "ticks": ""
             }
            },
            "type": "scattercarpet"
           }
          ],
          "scattergeo": [
           {
            "marker": {
             "colorbar": {
              "outlinewidth": 0,
              "ticks": ""
             }
            },
            "type": "scattergeo"
           }
          ],
          "scattergl": [
           {
            "marker": {
             "colorbar": {
              "outlinewidth": 0,
              "ticks": ""
             }
            },
            "type": "scattergl"
           }
          ],
          "scattermapbox": [
           {
            "marker": {
             "colorbar": {
              "outlinewidth": 0,
              "ticks": ""
             }
            },
            "type": "scattermapbox"
           }
          ],
          "scatterpolar": [
           {
            "marker": {
             "colorbar": {
              "outlinewidth": 0,
              "ticks": ""
             }
            },
            "type": "scatterpolar"
           }
          ],
          "scatterpolargl": [
           {
            "marker": {
             "colorbar": {
              "outlinewidth": 0,
              "ticks": ""
             }
            },
            "type": "scatterpolargl"
           }
          ],
          "scatterternary": [
           {
            "marker": {
             "colorbar": {
              "outlinewidth": 0,
              "ticks": ""
             }
            },
            "type": "scatterternary"
           }
          ],
          "surface": [
           {
            "colorbar": {
             "outlinewidth": 0,
             "ticks": ""
            },
            "colorscale": [
             [
              0,
              "#0d0887"
             ],
             [
              0.1111111111111111,
              "#46039f"
             ],
             [
              0.2222222222222222,
              "#7201a8"
             ],
             [
              0.3333333333333333,
              "#9c179e"
             ],
             [
              0.4444444444444444,
              "#bd3786"
             ],
             [
              0.5555555555555556,
              "#d8576b"
             ],
             [
              0.6666666666666666,
              "#ed7953"
             ],
             [
              0.7777777777777778,
              "#fb9f3a"
             ],
             [
              0.8888888888888888,
              "#fdca26"
             ],
             [
              1,
              "#f0f921"
             ]
            ],
            "type": "surface"
           }
          ],
          "table": [
           {
            "cells": {
             "fill": {
              "color": "#EBF0F8"
             },
             "line": {
              "color": "white"
             }
            },
            "header": {
             "fill": {
              "color": "#C8D4E3"
             },
             "line": {
              "color": "white"
             }
            },
            "type": "table"
           }
          ]
         },
         "layout": {
          "annotationdefaults": {
           "arrowcolor": "#2a3f5f",
           "arrowhead": 0,
           "arrowwidth": 1
          },
          "coloraxis": {
           "colorbar": {
            "outlinewidth": 0,
            "ticks": ""
           }
          },
          "colorscale": {
           "diverging": [
            [
             0,
             "#8e0152"
            ],
            [
             0.1,
             "#c51b7d"
            ],
            [
             0.2,
             "#de77ae"
            ],
            [
             0.3,
             "#f1b6da"
            ],
            [
             0.4,
             "#fde0ef"
            ],
            [
             0.5,
             "#f7f7f7"
            ],
            [
             0.6,
             "#e6f5d0"
            ],
            [
             0.7,
             "#b8e186"
            ],
            [
             0.8,
             "#7fbc41"
            ],
            [
             0.9,
             "#4d9221"
            ],
            [
             1,
             "#276419"
            ]
           ],
           "sequential": [
            [
             0,
             "#0d0887"
            ],
            [
             0.1111111111111111,
             "#46039f"
            ],
            [
             0.2222222222222222,
             "#7201a8"
            ],
            [
             0.3333333333333333,
             "#9c179e"
            ],
            [
             0.4444444444444444,
             "#bd3786"
            ],
            [
             0.5555555555555556,
             "#d8576b"
            ],
            [
             0.6666666666666666,
             "#ed7953"
            ],
            [
             0.7777777777777778,
             "#fb9f3a"
            ],
            [
             0.8888888888888888,
             "#fdca26"
            ],
            [
             1,
             "#f0f921"
            ]
           ],
           "sequentialminus": [
            [
             0,
             "#0d0887"
            ],
            [
             0.1111111111111111,
             "#46039f"
            ],
            [
             0.2222222222222222,
             "#7201a8"
            ],
            [
             0.3333333333333333,
             "#9c179e"
            ],
            [
             0.4444444444444444,
             "#bd3786"
            ],
            [
             0.5555555555555556,
             "#d8576b"
            ],
            [
             0.6666666666666666,
             "#ed7953"
            ],
            [
             0.7777777777777778,
             "#fb9f3a"
            ],
            [
             0.8888888888888888,
             "#fdca26"
            ],
            [
             1,
             "#f0f921"
            ]
           ]
          },
          "colorway": [
           "#636efa",
           "#EF553B",
           "#00cc96",
           "#ab63fa",
           "#FFA15A",
           "#19d3f3",
           "#FF6692",
           "#B6E880",
           "#FF97FF",
           "#FECB52"
          ],
          "font": {
           "color": "#2a3f5f"
          },
          "geo": {
           "bgcolor": "white",
           "lakecolor": "white",
           "landcolor": "#E5ECF6",
           "showlakes": true,
           "showland": true,
           "subunitcolor": "white"
          },
          "hoverlabel": {
           "align": "left"
          },
          "hovermode": "closest",
          "mapbox": {
           "style": "light"
          },
          "paper_bgcolor": "white",
          "plot_bgcolor": "#E5ECF6",
          "polar": {
           "angularaxis": {
            "gridcolor": "white",
            "linecolor": "white",
            "ticks": ""
           },
           "bgcolor": "#E5ECF6",
           "radialaxis": {
            "gridcolor": "white",
            "linecolor": "white",
            "ticks": ""
           }
          },
          "scene": {
           "xaxis": {
            "backgroundcolor": "#E5ECF6",
            "gridcolor": "white",
            "gridwidth": 2,
            "linecolor": "white",
            "showbackground": true,
            "ticks": "",
            "zerolinecolor": "white"
           },
           "yaxis": {
            "backgroundcolor": "#E5ECF6",
            "gridcolor": "white",
            "gridwidth": 2,
            "linecolor": "white",
            "showbackground": true,
            "ticks": "",
            "zerolinecolor": "white"
           },
           "zaxis": {
            "backgroundcolor": "#E5ECF6",
            "gridcolor": "white",
            "gridwidth": 2,
            "linecolor": "white",
            "showbackground": true,
            "ticks": "",
            "zerolinecolor": "white"
           }
          },
          "shapedefaults": {
           "line": {
            "color": "#2a3f5f"
           }
          },
          "ternary": {
           "aaxis": {
            "gridcolor": "white",
            "linecolor": "white",
            "ticks": ""
           },
           "baxis": {
            "gridcolor": "white",
            "linecolor": "white",
            "ticks": ""
           },
           "bgcolor": "#E5ECF6",
           "caxis": {
            "gridcolor": "white",
            "linecolor": "white",
            "ticks": ""
           }
          },
          "title": {
           "x": 0.05
          },
          "xaxis": {
           "automargin": true,
           "gridcolor": "white",
           "linecolor": "white",
           "ticks": "",
           "title": {
            "standoff": 15
           },
           "zerolinecolor": "white",
           "zerolinewidth": 2
          },
          "yaxis": {
           "automargin": true,
           "gridcolor": "white",
           "linecolor": "white",
           "ticks": "",
           "title": {
            "standoff": 15
           },
           "zerolinecolor": "white",
           "zerolinewidth": 2
          }
         }
        },
        "title": {
         "text": "Distribution of hashtags by post for ##humanconnection"
        },
        "xaxis": {
         "title": {
          "text": "Count of hashtags by post"
         }
        },
        "yaxis": {
         "title": {
          "text": "Frequency"
         }
        }
       }
      },
      "text/html": [
       "<div>\n",
       "        \n",
       "        \n",
       "            <div id=\"1c7c6ab7-db77-41eb-92af-de30e99051ce\" class=\"plotly-graph-div\" style=\"height:525px; width:100%;\"></div>\n",
       "            <script type=\"text/javascript\">\n",
       "                require([\"plotly\"], function(Plotly) {\n",
       "                    window.PLOTLYENV=window.PLOTLYENV || {};\n",
       "                    \n",
       "                if (document.getElementById(\"1c7c6ab7-db77-41eb-92af-de30e99051ce\")) {\n",
       "                    Plotly.newPlot(\n",
       "                        '1c7c6ab7-db77-41eb-92af-de30e99051ce',\n",
       "                        [{\"histnorm\": \"probability density\", \"type\": \"histogram\", \"x\": [25, 26, 3, 12, 1, 7, 27, 3, 28, 12, 2, 4, 12, 10, 8, 8, 7, 5, 7, 27, 17, 28, 26, 28, 17, 12, 3, 30, 18, 7, 5, 16, 6, 30, 23, 1, 30, 4, 1, 3, 10, 3, 30, 21, 4, 5, 12, 1, 2, 12, 2, 19, 20, 20, 1, 14, 2, 30, 4, 7, 6, 5, 8, 14, 10, 6, 25, 3, 8, 16, 30, 5, 17, 5, 5, 13, 19, 13, 3, 10, 15, 7, 30, 5, 7, 5, 15, 11, 4, 22, 9, 13, 10, 24, 4, 16, 9, 1, 5, 5, 16, 16, 13, 12, 9, 30, 30, 30, 30, 5, 3, 10, 30, 3, 22, 5, 16, 16, 22, 29, 28, 30, 6, 6, 11, 27, 13, 21, 3, 24, 21, 21, 21, 8, 24, 9, 19, 2, 3, 22, 7, 16, 7, 3, 17, 7, 6, 15, 16, 5, 1, 11, 5, 7, 30, 11, 7, 9, 16, 4, 15, 16, 5, 18, 27, 26, 7, 20, 8, 5, 6, 4, 23, 21, 26, 2, 22, 8, 17, 8, 4, 15, 28, 16, 24, 3, 10, 4, 24, 7, 25, 3, 13, 7, 7, 22, 4, 6, 9, 10, 18, 3, 4, 22, 4, 30, 6, 3, 3, 30, 16, 29, 12, 8, 26, 13, 2, 30, 3, 9, 3, 5, 23, 2, 8, 30, 1, 8, 6, 12, 20, 23, 15, 3, 25, 4, 30, 8, 7, 21, 30, 3, 29, 30, 16, 3, 7, 4, 5, 28, 3, 28, 19, 20, 7, 15, 12, 30, 1, 27, 10, 30, 3, 18, 9, 4, 29, 8, 27, 4, 12, 10, 8, 15, 23, 26, 13, 13, 15, 15, 14, 20, 9, 30, 12, 23, 8, 1, 5, 11, 15, 5, 30, 4, 30, 30, 13, 26, 10, 7, 19, 22, 30, 1, 5, 1, 6, 9, 14, 27, 2, 30, 19, 10, 14, 16, 14, 30, 4, 8, 6, 3, 5, 9, 2, 5, 29, 30, 7, 21, 22, 20, 5, 23, 18, 15, 27, 8, 3, 8, 11, 10, 30, 6, 30, 8, 5, 8, 10, 10, 22, 21, 4, 6, 22, 25, 15, 17, 12, 14, 14, 11, 22, 10, 22, 10, 20, 30, 6, 2, 2, 8, 18, 23, 22, 30, 8, 18, 21, 1, 5, 3, 30, 1, 25, 3, 1, 10, 11, 4, 30, 10, 15, 8, 12, 21, 2, 2, 2, 11, 11, 13, 3, 17, 11, 8, 7, 16, 11, 11, 17, 25, 28, 16, 23, 30, 1, 12, 11, 14, 5, 30, 20, 22, 5, 16, 15, 4, 24, 14, 13, 10, 1, 25, 2, 17, 14, 24, 7, 23, 4, 28, 25, 7, 21, 26, 10, 25, 1, 6, 21, 13, 9, 30, 13, 12, 6, 12, 30, 30, 30, 30, 23, 5, 3, 13, 28, 1, 1, 8, 25, 5, 13, 10, 30, 10, 15, 9, 27, 8, 30, 8, 6, 25, 5, 7, 8, 17, 28, 26, 30, 7, 7, 6, 4, 3, 9, 7, 15, 21, 16, 24, 2, 30, 19, 16, 11, 11, 3, 5, 22, 16, 13, 10, 14, 3, 1, 25, 29, 9, 15, 4, 3, 1, 27, 13, 9, 9, 4, 30, 14, 16, 10, 9, 5, 13, 5, 27, 2, 29, 14, 7, 9, 5, 3, 11, 30, 2, 3, 5, 24, 3, 30, 18, 8, 5, 6, 1, 4, 15, 3, 1, 1, 7, 16, 7, 6, 7, 4, 2, 16, 8, 29, 29, 8, 1, 26, 15, 4, 9, 21, 24, 12, 14, 23, 25, 6, 14, 5, 3, 7, 22, 25, 22, 22, 8, 5]}],\n",
       "                        {\"template\": {\"data\": {\"bar\": [{\"error_x\": {\"color\": \"#2a3f5f\"}, \"error_y\": {\"color\": \"#2a3f5f\"}, \"marker\": {\"line\": {\"color\": \"#E5ECF6\", \"width\": 0.5}}, \"type\": \"bar\"}], \"barpolar\": [{\"marker\": {\"line\": {\"color\": \"#E5ECF6\", \"width\": 0.5}}, \"type\": \"barpolar\"}], \"carpet\": [{\"aaxis\": {\"endlinecolor\": \"#2a3f5f\", \"gridcolor\": \"white\", \"linecolor\": \"white\", \"minorgridcolor\": \"white\", \"startlinecolor\": \"#2a3f5f\"}, \"baxis\": {\"endlinecolor\": \"#2a3f5f\", \"gridcolor\": \"white\", \"linecolor\": \"white\", \"minorgridcolor\": \"white\", \"startlinecolor\": \"#2a3f5f\"}, \"type\": \"carpet\"}], \"choropleth\": [{\"colorbar\": {\"outlinewidth\": 0, \"ticks\": \"\"}, \"type\": \"choropleth\"}], \"contour\": [{\"colorbar\": {\"outlinewidth\": 0, \"ticks\": \"\"}, \"colorscale\": [[0.0, \"#0d0887\"], [0.1111111111111111, \"#46039f\"], [0.2222222222222222, \"#7201a8\"], [0.3333333333333333, \"#9c179e\"], [0.4444444444444444, \"#bd3786\"], [0.5555555555555556, \"#d8576b\"], [0.6666666666666666, \"#ed7953\"], [0.7777777777777778, \"#fb9f3a\"], [0.8888888888888888, \"#fdca26\"], [1.0, \"#f0f921\"]], \"type\": \"contour\"}], \"contourcarpet\": [{\"colorbar\": {\"outlinewidth\": 0, \"ticks\": \"\"}, \"type\": \"contourcarpet\"}], \"heatmap\": [{\"colorbar\": {\"outlinewidth\": 0, \"ticks\": \"\"}, \"colorscale\": [[0.0, \"#0d0887\"], [0.1111111111111111, \"#46039f\"], [0.2222222222222222, \"#7201a8\"], [0.3333333333333333, \"#9c179e\"], [0.4444444444444444, \"#bd3786\"], [0.5555555555555556, \"#d8576b\"], [0.6666666666666666, \"#ed7953\"], [0.7777777777777778, \"#fb9f3a\"], [0.8888888888888888, \"#fdca26\"], [1.0, \"#f0f921\"]], \"type\": \"heatmap\"}], \"heatmapgl\": [{\"colorbar\": {\"outlinewidth\": 0, \"ticks\": \"\"}, \"colorscale\": [[0.0, \"#0d0887\"], [0.1111111111111111, \"#46039f\"], [0.2222222222222222, \"#7201a8\"], [0.3333333333333333, \"#9c179e\"], [0.4444444444444444, \"#bd3786\"], [0.5555555555555556, \"#d8576b\"], [0.6666666666666666, \"#ed7953\"], [0.7777777777777778, \"#fb9f3a\"], [0.8888888888888888, \"#fdca26\"], [1.0, \"#f0f921\"]], \"type\": \"heatmapgl\"}], \"histogram\": [{\"marker\": {\"colorbar\": {\"outlinewidth\": 0, \"ticks\": \"\"}}, \"type\": \"histogram\"}], \"histogram2d\": [{\"colorbar\": {\"outlinewidth\": 0, \"ticks\": \"\"}, \"colorscale\": [[0.0, \"#0d0887\"], [0.1111111111111111, \"#46039f\"], [0.2222222222222222, \"#7201a8\"], [0.3333333333333333, \"#9c179e\"], [0.4444444444444444, \"#bd3786\"], [0.5555555555555556, \"#d8576b\"], [0.6666666666666666, \"#ed7953\"], [0.7777777777777778, \"#fb9f3a\"], [0.8888888888888888, \"#fdca26\"], [1.0, \"#f0f921\"]], \"type\": \"histogram2d\"}], \"histogram2dcontour\": [{\"colorbar\": {\"outlinewidth\": 0, \"ticks\": \"\"}, \"colorscale\": [[0.0, \"#0d0887\"], [0.1111111111111111, \"#46039f\"], [0.2222222222222222, \"#7201a8\"], [0.3333333333333333, \"#9c179e\"], [0.4444444444444444, \"#bd3786\"], [0.5555555555555556, \"#d8576b\"], [0.6666666666666666, \"#ed7953\"], [0.7777777777777778, \"#fb9f3a\"], [0.8888888888888888, \"#fdca26\"], [1.0, \"#f0f921\"]], \"type\": \"histogram2dcontour\"}], \"mesh3d\": [{\"colorbar\": {\"outlinewidth\": 0, \"ticks\": \"\"}, \"type\": \"mesh3d\"}], \"parcoords\": [{\"line\": {\"colorbar\": {\"outlinewidth\": 0, \"ticks\": \"\"}}, \"type\": \"parcoords\"}], \"pie\": [{\"automargin\": true, \"type\": \"pie\"}], \"scatter\": [{\"marker\": {\"colorbar\": {\"outlinewidth\": 0, \"ticks\": \"\"}}, \"type\": \"scatter\"}], \"scatter3d\": [{\"line\": {\"colorbar\": {\"outlinewidth\": 0, \"ticks\": \"\"}}, \"marker\": {\"colorbar\": {\"outlinewidth\": 0, \"ticks\": \"\"}}, \"type\": \"scatter3d\"}], \"scattercarpet\": [{\"marker\": {\"colorbar\": {\"outlinewidth\": 0, \"ticks\": \"\"}}, \"type\": \"scattercarpet\"}], \"scattergeo\": [{\"marker\": {\"colorbar\": {\"outlinewidth\": 0, \"ticks\": \"\"}}, \"type\": \"scattergeo\"}], \"scattergl\": [{\"marker\": {\"colorbar\": {\"outlinewidth\": 0, \"ticks\": \"\"}}, \"type\": \"scattergl\"}], \"scattermapbox\": [{\"marker\": {\"colorbar\": {\"outlinewidth\": 0, \"ticks\": \"\"}}, \"type\": \"scattermapbox\"}], \"scatterpolar\": [{\"marker\": {\"colorbar\": {\"outlinewidth\": 0, \"ticks\": \"\"}}, \"type\": \"scatterpolar\"}], \"scatterpolargl\": [{\"marker\": {\"colorbar\": {\"outlinewidth\": 0, \"ticks\": \"\"}}, \"type\": \"scatterpolargl\"}], \"scatterternary\": [{\"marker\": {\"colorbar\": {\"outlinewidth\": 0, \"ticks\": \"\"}}, \"type\": \"scatterternary\"}], \"surface\": [{\"colorbar\": {\"outlinewidth\": 0, \"ticks\": \"\"}, \"colorscale\": [[0.0, \"#0d0887\"], [0.1111111111111111, \"#46039f\"], [0.2222222222222222, \"#7201a8\"], [0.3333333333333333, \"#9c179e\"], [0.4444444444444444, \"#bd3786\"], [0.5555555555555556, \"#d8576b\"], [0.6666666666666666, \"#ed7953\"], [0.7777777777777778, \"#fb9f3a\"], [0.8888888888888888, \"#fdca26\"], [1.0, \"#f0f921\"]], \"type\": \"surface\"}], \"table\": [{\"cells\": {\"fill\": {\"color\": \"#EBF0F8\"}, \"line\": {\"color\": \"white\"}}, \"header\": {\"fill\": {\"color\": \"#C8D4E3\"}, \"line\": {\"color\": \"white\"}}, \"type\": \"table\"}]}, \"layout\": {\"annotationdefaults\": {\"arrowcolor\": \"#2a3f5f\", \"arrowhead\": 0, \"arrowwidth\": 1}, \"coloraxis\": {\"colorbar\": {\"outlinewidth\": 0, \"ticks\": \"\"}}, \"colorscale\": {\"diverging\": [[0, \"#8e0152\"], [0.1, \"#c51b7d\"], [0.2, \"#de77ae\"], [0.3, \"#f1b6da\"], [0.4, \"#fde0ef\"], [0.5, \"#f7f7f7\"], [0.6, \"#e6f5d0\"], [0.7, \"#b8e186\"], [0.8, \"#7fbc41\"], [0.9, \"#4d9221\"], [1, \"#276419\"]], \"sequential\": [[0.0, \"#0d0887\"], [0.1111111111111111, \"#46039f\"], [0.2222222222222222, \"#7201a8\"], [0.3333333333333333, \"#9c179e\"], [0.4444444444444444, \"#bd3786\"], [0.5555555555555556, \"#d8576b\"], [0.6666666666666666, \"#ed7953\"], [0.7777777777777778, \"#fb9f3a\"], [0.8888888888888888, \"#fdca26\"], [1.0, \"#f0f921\"]], \"sequentialminus\": [[0.0, \"#0d0887\"], [0.1111111111111111, \"#46039f\"], [0.2222222222222222, \"#7201a8\"], [0.3333333333333333, \"#9c179e\"], [0.4444444444444444, \"#bd3786\"], [0.5555555555555556, \"#d8576b\"], [0.6666666666666666, \"#ed7953\"], [0.7777777777777778, \"#fb9f3a\"], [0.8888888888888888, \"#fdca26\"], [1.0, \"#f0f921\"]]}, \"colorway\": [\"#636efa\", \"#EF553B\", \"#00cc96\", \"#ab63fa\", \"#FFA15A\", \"#19d3f3\", \"#FF6692\", \"#B6E880\", \"#FF97FF\", \"#FECB52\"], \"font\": {\"color\": \"#2a3f5f\"}, \"geo\": {\"bgcolor\": \"white\", \"lakecolor\": \"white\", \"landcolor\": \"#E5ECF6\", \"showlakes\": true, \"showland\": true, \"subunitcolor\": \"white\"}, \"hoverlabel\": {\"align\": \"left\"}, \"hovermode\": \"closest\", \"mapbox\": {\"style\": \"light\"}, \"paper_bgcolor\": \"white\", \"plot_bgcolor\": \"#E5ECF6\", \"polar\": {\"angularaxis\": {\"gridcolor\": \"white\", \"linecolor\": \"white\", \"ticks\": \"\"}, \"bgcolor\": \"#E5ECF6\", \"radialaxis\": {\"gridcolor\": \"white\", \"linecolor\": \"white\", \"ticks\": \"\"}}, \"scene\": {\"xaxis\": {\"backgroundcolor\": \"#E5ECF6\", \"gridcolor\": \"white\", \"gridwidth\": 2, \"linecolor\": \"white\", \"showbackground\": true, \"ticks\": \"\", \"zerolinecolor\": \"white\"}, \"yaxis\": {\"backgroundcolor\": \"#E5ECF6\", \"gridcolor\": \"white\", \"gridwidth\": 2, \"linecolor\": \"white\", \"showbackground\": true, \"ticks\": \"\", \"zerolinecolor\": \"white\"}, \"zaxis\": {\"backgroundcolor\": \"#E5ECF6\", \"gridcolor\": \"white\", \"gridwidth\": 2, \"linecolor\": \"white\", \"showbackground\": true, \"ticks\": \"\", \"zerolinecolor\": \"white\"}}, \"shapedefaults\": {\"line\": {\"color\": \"#2a3f5f\"}}, \"ternary\": {\"aaxis\": {\"gridcolor\": \"white\", \"linecolor\": \"white\", \"ticks\": \"\"}, \"baxis\": {\"gridcolor\": \"white\", \"linecolor\": \"white\", \"ticks\": \"\"}, \"bgcolor\": \"#E5ECF6\", \"caxis\": {\"gridcolor\": \"white\", \"linecolor\": \"white\", \"ticks\": \"\"}}, \"title\": {\"x\": 0.05}, \"xaxis\": {\"automargin\": true, \"gridcolor\": \"white\", \"linecolor\": \"white\", \"ticks\": \"\", \"title\": {\"standoff\": 15}, \"zerolinecolor\": \"white\", \"zerolinewidth\": 2}, \"yaxis\": {\"automargin\": true, \"gridcolor\": \"white\", \"linecolor\": \"white\", \"ticks\": \"\", \"title\": {\"standoff\": 15}, \"zerolinecolor\": \"white\", \"zerolinewidth\": 2}}}, \"title\": {\"text\": \"Distribution of hashtags by post for ##humanconnection\"}, \"xaxis\": {\"title\": {\"text\": \"Count of hashtags by post\"}}, \"yaxis\": {\"title\": {\"text\": \"Frequency\"}}},\n",
       "                        {\"responsive\": true}\n",
       "                    ).then(function(){\n",
       "                            \n",
       "var gd = document.getElementById('1c7c6ab7-db77-41eb-92af-de30e99051ce');\n",
       "var x = new MutationObserver(function (mutations, observer) {{\n",
       "        var display = window.getComputedStyle(gd).display;\n",
       "        if (!display || display === 'none') {{\n",
       "            console.log([gd, 'removed!']);\n",
       "            Plotly.purge(gd);\n",
       "            observer.disconnect();\n",
       "        }}\n",
       "}});\n",
       "\n",
       "// Listen for the removal of the full notebook cells\n",
       "var notebookContainer = gd.closest('#notebook-container');\n",
       "if (notebookContainer) {{\n",
       "    x.observe(notebookContainer, {childList: true});\n",
       "}}\n",
       "\n",
       "// Listen for the clearing of the current output cell\n",
       "var outputEl = gd.closest('.output');\n",
       "if (outputEl) {{\n",
       "    x.observe(outputEl, {childList: true});\n",
       "}}\n",
       "\n",
       "                        })\n",
       "                };\n",
       "                });\n",
       "            </script>\n",
       "        </div>"
      ]
     },
     "metadata": {},
     "output_type": "display_data"
    },
    {
     "data": {
      "application/vnd.plotly.v1+json": {
       "config": {
        "plotlyServerURL": "https://plot.ly"
       },
       "data": [
        {
         "type": "scatter",
         "x": [
          0.0018832391713747645,
          0.003766478342749529,
          0.005649717514124294,
          0.007532956685499058,
          0.009416195856873822,
          0.011299435028248588,
          0.013182674199623353,
          0.015065913370998116,
          0.01694915254237288,
          0.018832391713747645,
          0.02071563088512241,
          0.022598870056497175,
          0.02448210922787194,
          0.026365348399246705,
          0.02824858757062147,
          0.030131826741996232,
          0.032015065913371,
          0.03389830508474576,
          0.035781544256120526,
          0.03766478342749529,
          0.03954802259887006,
          0.04143126177024482,
          0.04331450094161959,
          0.04519774011299435,
          0.047080979284369114,
          0.04896421845574388,
          0.05084745762711865,
          0.05273069679849341,
          0.054613935969868174,
          0.05649717514124294,
          0.0583804143126177,
          0.060263653483992465,
          0.062146892655367235,
          0.064030131826742,
          0.06591337099811675,
          0.06779661016949153,
          0.0696798493408663,
          0.07156308851224105,
          0.07344632768361582,
          0.07532956685499058,
          0.07721280602636535,
          0.07909604519774012,
          0.08097928436911488,
          0.08286252354048965,
          0.0847457627118644,
          0.08662900188323917,
          0.08851224105461393,
          0.0903954802259887,
          0.09227871939736347,
          0.09416195856873823,
          0.096045197740113,
          0.09792843691148775,
          0.09981167608286252,
          0.1016949152542373,
          0.10357815442561205,
          0.10546139359698682,
          0.10734463276836158,
          0.10922787193973635,
          0.1111111111111111,
          0.11299435028248588,
          0.11487758945386065,
          0.1167608286252354,
          0.11864406779661017,
          0.12052730696798493,
          0.1224105461393597,
          0.12429378531073447,
          0.12617702448210924,
          0.128060263653484,
          0.12994350282485875,
          0.1318267419962335,
          0.1337099811676083,
          0.13559322033898305,
          0.1374764595103578,
          0.1393596986817326,
          0.14124293785310735,
          0.1431261770244821,
          0.14500941619585686,
          0.14689265536723164,
          0.1487758945386064,
          0.15065913370998116,
          0.15254237288135594,
          0.1544256120527307,
          0.15630885122410546,
          0.15819209039548024,
          0.160075329566855,
          0.16195856873822975,
          0.1638418079096045,
          0.1657250470809793,
          0.16760828625235405,
          0.1694915254237288,
          0.1713747645951036,
          0.17325800376647835,
          0.1751412429378531,
          0.17702448210922786,
          0.17890772128060264,
          0.1807909604519774,
          0.18267419962335216,
          0.18455743879472694,
          0.1864406779661017,
          0.18832391713747645,
          0.1902071563088512,
          0.192090395480226,
          0.19397363465160075,
          0.1958568738229755,
          0.1977401129943503,
          0.19962335216572505,
          0.2015065913370998,
          0.2033898305084746,
          0.20527306967984935,
          0.2071563088512241,
          0.20903954802259886,
          0.21092278719397364,
          0.2128060263653484,
          0.21468926553672316,
          0.21657250470809794,
          0.2184557438794727,
          0.22033898305084745,
          0.2222222222222222,
          0.224105461393597,
          0.22598870056497175,
          0.2278719397363465,
          0.2297551789077213,
          0.23163841807909605,
          0.2335216572504708,
          0.23540489642184556,
          0.23728813559322035,
          0.2391713747645951,
          0.24105461393596986,
          0.24293785310734464,
          0.2448210922787194,
          0.24670433145009416,
          0.24858757062146894,
          0.2504708097928437,
          0.2523540489642185,
          0.2542372881355932,
          0.256120527306968,
          0.2580037664783427,
          0.2598870056497175,
          0.2617702448210923,
          0.263653483992467,
          0.2655367231638418,
          0.2674199623352166,
          0.2693032015065913,
          0.2711864406779661,
          0.2730696798493409,
          0.2749529190207156,
          0.2768361581920904,
          0.2787193973634652,
          0.2806026365348399,
          0.2824858757062147,
          0.2843691148775895,
          0.2862523540489642,
          0.288135593220339,
          0.2900188323917137,
          0.2919020715630885,
          0.2937853107344633,
          0.295668549905838,
          0.2975517890772128,
          0.2994350282485876,
          0.3013182674199623,
          0.3032015065913371,
          0.3050847457627119,
          0.3069679849340866,
          0.3088512241054614,
          0.3107344632768362,
          0.3126177024482109,
          0.3145009416195857,
          0.3163841807909605,
          0.3182674199623352,
          0.32015065913371,
          0.3220338983050847,
          0.3239171374764595,
          0.3258003766478343,
          0.327683615819209,
          0.3295668549905838,
          0.3314500941619586,
          0.3333333333333333,
          0.3352165725047081,
          0.3370998116760829,
          0.3389830508474576,
          0.3408662900188324,
          0.3427495291902072,
          0.3446327683615819,
          0.3465160075329567,
          0.3483992467043315,
          0.3502824858757062,
          0.352165725047081,
          0.3540489642184557,
          0.3559322033898305,
          0.3578154425612053,
          0.35969868173258,
          0.3615819209039548,
          0.3634651600753296,
          0.3653483992467043,
          0.3672316384180791,
          0.3691148775894539,
          0.3709981167608286,
          0.3728813559322034,
          0.3747645951035782,
          0.3766478342749529,
          0.3785310734463277,
          0.3804143126177024,
          0.3822975517890772,
          0.384180790960452,
          0.3860640301318267,
          0.3879472693032015,
          0.3898305084745763,
          0.391713747645951,
          0.3935969868173258,
          0.3954802259887006,
          0.3973634651600753,
          0.3992467043314501,
          0.4011299435028249,
          0.4030131826741996,
          0.4048964218455744,
          0.4067796610169492,
          0.4086629001883239,
          0.4105461393596987,
          0.4124293785310734,
          0.4143126177024482,
          0.416195856873823,
          0.4180790960451977,
          0.4199623352165725,
          0.4218455743879473,
          0.423728813559322,
          0.4256120527306968,
          0.4274952919020716,
          0.4293785310734463,
          0.4312617702448211,
          0.4331450094161959,
          0.4350282485875706,
          0.4369114877589454,
          0.4387947269303202,
          0.4406779661016949,
          0.4425612052730697,
          0.4444444444444444,
          0.4463276836158192,
          0.448210922787194,
          0.4500941619585687,
          0.4519774011299435,
          0.4538606403013183,
          0.455743879472693,
          0.4576271186440678,
          0.4595103578154426,
          0.4613935969868173,
          0.4632768361581921,
          0.4651600753295669,
          0.4670433145009416,
          0.4689265536723164,
          0.4708097928436911,
          0.4726930320150659,
          0.4745762711864407,
          0.4764595103578154,
          0.4783427495291902,
          0.480225988700565,
          0.4821092278719397,
          0.4839924670433145,
          0.4858757062146893,
          0.487758945386064,
          0.4896421845574388,
          0.4915254237288136,
          0.4934086629001883,
          0.4952919020715631,
          0.4971751412429379,
          0.4990583804143126,
          0.5009416195856874,
          0.5028248587570622,
          0.504708097928437,
          0.5065913370998116,
          0.5084745762711864,
          0.5103578154425612,
          0.512241054613936,
          0.5141242937853108,
          0.5160075329566854,
          0.5178907721280602,
          0.519774011299435,
          0.5216572504708098,
          0.5235404896421846,
          0.5254237288135594,
          0.527306967984934,
          0.5291902071563088,
          0.5310734463276836,
          0.5329566854990584,
          0.5348399246704332,
          0.536723163841808,
          0.5386064030131826,
          0.5404896421845574,
          0.5423728813559322,
          0.544256120527307,
          0.5461393596986818,
          0.5480225988700564,
          0.5499058380414312,
          0.551789077212806,
          0.5536723163841808,
          0.5555555555555556,
          0.5574387947269304,
          0.559322033898305,
          0.5612052730696798,
          0.5630885122410546,
          0.5649717514124294,
          0.5668549905838042,
          0.568738229755179,
          0.5706214689265536,
          0.5725047080979284,
          0.5743879472693032,
          0.576271186440678,
          0.5781544256120528,
          0.5800376647834274,
          0.5819209039548022,
          0.583804143126177,
          0.5856873822975518,
          0.5875706214689266,
          0.5894538606403014,
          0.591337099811676,
          0.5932203389830508,
          0.5951035781544256,
          0.5969868173258004,
          0.5988700564971752,
          0.60075329566855,
          0.6026365348399246,
          0.6045197740112994,
          0.6064030131826742,
          0.608286252354049,
          0.6101694915254238,
          0.6120527306967984,
          0.6139359698681732,
          0.615819209039548,
          0.6177024482109228,
          0.6195856873822976,
          0.6214689265536724,
          0.623352165725047,
          0.6252354048964218,
          0.6271186440677966,
          0.6290018832391714,
          0.6308851224105462,
          0.632768361581921,
          0.6346516007532956,
          0.6365348399246704,
          0.6384180790960452,
          0.64030131826742,
          0.6421845574387948,
          0.6440677966101694,
          0.6459510357815442,
          0.647834274952919,
          0.6497175141242938,
          0.6516007532956686,
          0.6534839924670434,
          0.655367231638418,
          0.6572504708097928,
          0.6591337099811676,
          0.6610169491525424,
          0.6629001883239172,
          0.664783427495292,
          0.6666666666666666,
          0.6685499058380414,
          0.6704331450094162,
          0.672316384180791,
          0.6741996233521658,
          0.6760828625235404,
          0.6779661016949152,
          0.67984934086629,
          0.6817325800376648,
          0.6836158192090396,
          0.6854990583804144,
          0.687382297551789,
          0.6892655367231638,
          0.6911487758945386,
          0.6930320150659134,
          0.6949152542372882,
          0.696798493408663,
          0.6986817325800376,
          0.7005649717514124,
          0.7024482109227872,
          0.704331450094162,
          0.7062146892655368,
          0.7080979284369114,
          0.7099811676082862,
          0.711864406779661,
          0.7137476459510358,
          0.7156308851224106,
          0.7175141242937854,
          0.71939736346516,
          0.7212806026365348,
          0.7231638418079096,
          0.7250470809792844,
          0.7269303201506592,
          0.7288135593220338,
          0.7306967984934086,
          0.7325800376647834,
          0.7344632768361582,
          0.736346516007533,
          0.7382297551789078,
          0.7401129943502824,
          0.7419962335216572,
          0.743879472693032,
          0.7457627118644068,
          0.7476459510357816,
          0.7495291902071564,
          0.751412429378531,
          0.7532956685499058,
          0.7551789077212806,
          0.7570621468926554,
          0.7589453860640302,
          0.7608286252354048,
          0.7627118644067796,
          0.7645951035781544,
          0.7664783427495292,
          0.768361581920904,
          0.7702448210922788,
          0.7721280602636534,
          0.7740112994350282,
          0.775894538606403,
          0.7777777777777778,
          0.7796610169491526,
          0.7815442561205274,
          0.783427495291902,
          0.7853107344632768,
          0.7871939736346516,
          0.7890772128060264,
          0.7909604519774012,
          0.7928436911487758,
          0.7947269303201506,
          0.7966101694915254,
          0.7984934086629002,
          0.800376647834275,
          0.8022598870056498,
          0.8041431261770244,
          0.8060263653483992,
          0.807909604519774,
          0.8097928436911488,
          0.8116760828625236,
          0.8135593220338984,
          0.815442561205273,
          0.8173258003766478,
          0.8192090395480226,
          0.8210922787193974,
          0.8229755178907722,
          0.8248587570621468,
          0.8267419962335216,
          0.8286252354048964,
          0.8305084745762712,
          0.832391713747646,
          0.8342749529190208,
          0.8361581920903954,
          0.8380414312617702,
          0.839924670433145,
          0.8418079096045198,
          0.8436911487758946,
          0.8455743879472694,
          0.847457627118644,
          0.8493408662900188,
          0.8512241054613936,
          0.8531073446327684,
          0.8549905838041432,
          0.8568738229755178,
          0.8587570621468926,
          0.8606403013182674,
          0.8625235404896422,
          0.864406779661017,
          0.8662900188323918,
          0.8681732580037664,
          0.8700564971751412,
          0.871939736346516,
          0.8738229755178908,
          0.8757062146892656,
          0.8775894538606404,
          0.879472693032015,
          0.8813559322033898,
          0.8832391713747646,
          0.8851224105461394,
          0.8870056497175142,
          0.8888888888888888,
          0.8907721280602636,
          0.8926553672316384,
          0.8945386064030132,
          0.896421845574388,
          0.8983050847457628,
          0.9001883239171374,
          0.9020715630885122,
          0.903954802259887,
          0.9058380414312618,
          0.9077212806026366,
          0.9096045197740112,
          0.911487758945386,
          0.9133709981167608,
          0.9152542372881356,
          0.9171374764595104,
          0.9190207156308852,
          0.9209039548022598,
          0.9227871939736346,
          0.9246704331450094,
          0.9265536723163842,
          0.928436911487759,
          0.9303201506591338,
          0.9322033898305084,
          0.9340866290018832,
          0.935969868173258,
          0.9378531073446328,
          0.9397363465160076,
          0.9416195856873822,
          0.943502824858757,
          0.9453860640301318,
          0.9472693032015066,
          0.9491525423728814,
          0.9510357815442562,
          0.9529190207156308,
          0.9548022598870056,
          0.9566854990583804,
          0.9585687382297552,
          0.96045197740113,
          0.9623352165725048,
          0.9642184557438794,
          0.9661016949152542,
          0.967984934086629,
          0.9698681732580038,
          0.9717514124293786,
          0.9736346516007532,
          0.975517890772128,
          0.9774011299435028,
          0.9792843691148776,
          0.9811676082862524,
          0.9830508474576272,
          0.9849340866290018,
          0.9868173258003766,
          0.9887005649717514,
          0.9905838041431262,
          0.992467043314501,
          0.9943502824858758,
          0.9962335216572504,
          0.9981167608286252,
          1
         ],
         "y": [
          0.01507537688442211,
          0.025125628140703515,
          0.03182579564489112,
          0.03852596314907872,
          0.04522613065326632,
          0.050251256281407024,
          0.05527638190954773,
          0.06030150753768843,
          0.06532663316582914,
          0.07035175879396983,
          0.07537688442211053,
          0.08040201005025123,
          0.08542713567839193,
          0.08877721943048573,
          0.09212730318257954,
          0.09547738693467335,
          0.09882747068676716,
          0.10217755443886097,
          0.10552763819095477,
          0.10887772194304858,
          0.11222780569514239,
          0.1155778894472362,
          0.11892797319933,
          0.12227805695142381,
          0.1256281407035176,
          0.1289782244556114,
          0.13232830820770522,
          0.13567839195979903,
          0.13902847571189283,
          0.14237855946398664,
          0.14572864321608045,
          0.14907872696817426,
          0.15242881072026807,
          0.15577889447236187,
          0.15912897822445568,
          0.1624790619765495,
          0.1658291457286433,
          0.1691792294807371,
          0.1725293132328309,
          0.17587939698492472,
          0.17922948073701853,
          0.18090452261306542,
          0.1825795644891123,
          0.1842546063651592,
          0.18592964824120609,
          0.18760469011725298,
          0.18927973199329987,
          0.19095477386934676,
          0.19262981574539365,
          0.19430485762144054,
          0.19597989949748743,
          0.19765494137353432,
          0.1993299832495812,
          0.2010050251256281,
          0.20268006700167499,
          0.20435510887772187,
          0.20603015075376876,
          0.20770519262981565,
          0.20938023450586254,
          0.21105527638190943,
          0.21273031825795632,
          0.21440536013400321,
          0.2160804020100501,
          0.217755443886097,
          0.21943048576214388,
          0.22110552763819077,
          0.22278056951423766,
          0.22445561139028455,
          0.22613065326633144,
          0.22780569514237833,
          0.22948073701842522,
          0.2311557788944721,
          0.232830820770519,
          0.2345058626465659,
          0.23618090452261278,
          0.23785594639865967,
          0.23953098827470656,
          0.24120603015075345,
          0.24288107202680034,
          0.24455611390284723,
          0.24623115577889412,
          0.247906197654941,
          0.2495812395309879,
          0.2512562814070348,
          0.2529313232830817,
          0.2546063651591286,
          0.2562814070351755,
          0.2579564489112224,
          0.25963149078726927,
          0.26130653266331616,
          0.26298157453936305,
          0.26465661641540994,
          0.26633165829145683,
          0.2680067001675037,
          0.2696817420435506,
          0.2713567839195975,
          0.2730318257956444,
          0.2747068676716913,
          0.27638190954773817,
          0.27805695142378506,
          0.27973199329983195,
          0.28140703517587884,
          0.28308207705192573,
          0.2847571189279726,
          0.2864321608040195,
          0.2881072026800664,
          0.2897822445561133,
          0.2914572864321602,
          0.29313232830820707,
          0.29480737018425396,
          0.29648241206030085,
          0.29815745393634774,
          0.29983249581239463,
          0.3015075376884415,
          0.3031825795644884,
          0.3048576214405353,
          0.3065326633165822,
          0.3082077051926291,
          0.30988274706867597,
          0.31155778894472286,
          0.31323283082076975,
          0.31490787269681664,
          0.3165829145728635,
          0.3182579564489104,
          0.3199329983249573,
          0.3216080402010042,
          0.3232830820770511,
          0.324958123953098,
          0.32663316582914487,
          0.32830820770519176,
          0.32998324958123865,
          0.33165829145728554,
          0.3333333333333324,
          0.3350083752093793,
          0.3366834170854262,
          0.3383584589614731,
          0.34003350083752,
          0.3417085427135669,
          0.34338358458961377,
          0.34505862646566066,
          0.34673366834170755,
          0.34840871021775444,
          0.3500837520938013,
          0.3517587939698482,
          0.3534338358458951,
          0.355108877721942,
          0.3567839195979889,
          0.3584589614740358,
          0.36013400335008267,
          0.36180904522612956,
          0.36348408710217645,
          0.36515912897822334,
          0.3668341708542702,
          0.3685092127303171,
          0.370184254606364,
          0.3718592964824109,
          0.3735343383584578,
          0.3752093802345047,
          0.37688442211055156,
          0.37855946398659845,
          0.38023450586264534,
          0.38190954773869223,
          0.3835845896147391,
          0.385259631490786,
          0.3869346733668329,
          0.3886097152428798,
          0.3902847571189267,
          0.3919597989949736,
          0.39363484087102046,
          0.39530988274706735,
          0.39698492462311424,
          0.39865996649916113,
          0.400335008375208,
          0.4020100502512549,
          0.4036850921273018,
          0.4053601340033487,
          0.4070351758793956,
          0.4087102177554425,
          0.41038525963148936,
          0.41206030150753625,
          0.41373534338358314,
          0.41541038525963003,
          0.4170854271356769,
          0.4187604690117238,
          0.4204355108877707,
          0.4221105527638176,
          0.4237855946398645,
          0.4254606365159114,
          0.42713567839195826,
          0.42881072026800515,
          0.43048576214405204,
          0.43216080402009893,
          0.4338358458961458,
          0.4355108877721927,
          0.4371859296482396,
          0.4388609715242865,
          0.4405360134003334,
          0.44221105527638027,
          0.44388609715242716,
          0.44556113902847405,
          0.44723618090452094,
          0.44891122278056783,
          0.4505862646566147,
          0.4522613065326616,
          0.4539363484087085,
          0.4556113902847554,
          0.4572864321608023,
          0.45896147403684917,
          0.46063651591289606,
          0.46231155778894295,
          0.46398659966498984,
          0.46566164154103673,
          0.4673366834170836,
          0.4690117252931305,
          0.4706867671691774,
          0.4723618090452243,
          0.4740368509212712,
          0.47571189279731807,
          0.47738693467336496,
          0.47906197654941185,
          0.48073701842545874,
          0.48241206030150563,
          0.4840871021775525,
          0.4857621440535994,
          0.4874371859296463,
          0.4891122278056932,
          0.4907872696817401,
          0.49246231155778697,
          0.49413735343383386,
          0.49581239530988075,
          0.49748743718592764,
          0.49916247906197453,
          0.5008375209380215,
          0.5025125628140684,
          0.5041876046901154,
          0.5058626465661623,
          0.5075376884422093,
          0.5092127303182562,
          0.5108877721943031,
          0.5125628140703501,
          0.514237855946397,
          0.515912897822444,
          0.5175879396984909,
          0.5192629815745379,
          0.5209380234505848,
          0.5226130653266318,
          0.5242881072026787,
          0.5259631490787257,
          0.5276381909547726,
          0.5293132328308195,
          0.5309882747068665,
          0.5326633165829134,
          0.5343383584589604,
          0.5360134003350073,
          0.5376884422110543,
          0.5393634840871012,
          0.5410385259631482,
          0.5427135678391951,
          0.5443886097152421,
          0.546063651591289,
          0.547738693467336,
          0.5494137353433829,
          0.5510887772194298,
          0.5527638190954768,
          0.5544388609715237,
          0.5561139028475707,
          0.5577889447236176,
          0.5594639865996646,
          0.5611390284757115,
          0.5628140703517585,
          0.5644891122278054,
          0.5661641541038523,
          0.5678391959798993,
          0.5695142378559462,
          0.5711892797319932,
          0.5728643216080401,
          0.5745393634840871,
          0.576214405360134,
          0.577889447236181,
          0.5795644891122279,
          0.5812395309882749,
          0.5829145728643218,
          0.5845896147403687,
          0.5862646566164157,
          0.5879396984924626,
          0.5896147403685096,
          0.5912897822445565,
          0.5929648241206035,
          0.5946398659966504,
          0.5963149078726974,
          0.5979899497487443,
          0.5996649916247913,
          0.6013400335008382,
          0.6030150753768851,
          0.6046901172529321,
          0.606365159128979,
          0.608040201005026,
          0.6097152428810729,
          0.6113902847571199,
          0.6130653266331668,
          0.6147403685092138,
          0.6164154103852607,
          0.6180904522613077,
          0.6197654941373546,
          0.6214405360134015,
          0.6231155778894485,
          0.6247906197654954,
          0.6264656616415424,
          0.6281407035175893,
          0.6298157453936363,
          0.6314907872696832,
          0.6331658291457302,
          0.6348408710217771,
          0.636515912897824,
          0.638190954773871,
          0.639865996649918,
          0.6415410385259649,
          0.6432160804020118,
          0.6448911222780588,
          0.6465661641541057,
          0.6482412060301527,
          0.6499162479061996,
          0.6515912897822466,
          0.6532663316582935,
          0.6549413735343405,
          0.6566164154103874,
          0.6582914572864343,
          0.6599664991624813,
          0.6616415410385282,
          0.6633165829145752,
          0.6649916247906221,
          0.6666666666666691,
          0.668341708542716,
          0.670016750418763,
          0.6716917922948099,
          0.6733668341708569,
          0.6750418760469038,
          0.6767169179229507,
          0.6783919597989977,
          0.6800670016750446,
          0.6817420435510916,
          0.6834170854271385,
          0.6850921273031855,
          0.6867671691792324,
          0.6884422110552794,
          0.6901172529313263,
          0.6917922948073733,
          0.6934673366834202,
          0.6951423785594671,
          0.6968174204355141,
          0.698492462311561,
          0.700167504187608,
          0.7018425460636549,
          0.7035175879397019,
          0.7051926298157488,
          0.7068676716917958,
          0.7085427135678427,
          0.7102177554438897,
          0.7118927973199366,
          0.7135678391959835,
          0.7152428810720305,
          0.7169179229480774,
          0.7185929648241244,
          0.7202680067001713,
          0.7219430485762183,
          0.7236180904522652,
          0.7252931323283122,
          0.7269681742043591,
          0.728643216080406,
          0.730318257956453,
          0.7319932998324999,
          0.7336683417085469,
          0.7353433835845938,
          0.7370184254606408,
          0.7386934673366877,
          0.7403685092127347,
          0.7420435510887816,
          0.7437185929648286,
          0.7453936348408755,
          0.7470686767169225,
          0.7487437185929694,
          0.7504187604690163,
          0.7520938023450633,
          0.7537688442211102,
          0.7554438860971572,
          0.7571189279732041,
          0.7587939698492511,
          0.760469011725298,
          0.762144053601345,
          0.7638190954773919,
          0.7654941373534389,
          0.7671691792294858,
          0.7688442211055327,
          0.7705192629815797,
          0.7721943048576266,
          0.7738693467336736,
          0.7755443886097205,
          0.7772194304857675,
          0.7788944723618144,
          0.7805695142378614,
          0.7822445561139083,
          0.7839195979899553,
          0.7855946398660022,
          0.7872696817420491,
          0.7889447236180961,
          0.790619765494143,
          0.79229480737019,
          0.7939698492462369,
          0.7956448911222839,
          0.7973199329983308,
          0.7989949748743778,
          0.8006700167504247,
          0.8023450586264717,
          0.8040201005025186,
          0.8056951423785655,
          0.8073701842546125,
          0.8090452261306594,
          0.8107202680067064,
          0.8123953098827533,
          0.8140703517588003,
          0.8157453936348472,
          0.8174204355108942,
          0.8190954773869411,
          0.820770519262988,
          0.822445561139035,
          0.8241206030150819,
          0.8257956448911289,
          0.8274706867671758,
          0.8291457286432228,
          0.8308207705192697,
          0.8324958123953167,
          0.8341708542713636,
          0.8358458961474106,
          0.8375209380234575,
          0.8391959798995045,
          0.8408710217755514,
          0.8425460636515983,
          0.8442211055276453,
          0.8458961474036922,
          0.8475711892797392,
          0.8492462311557861,
          0.8509212730318331,
          0.85259631490788,
          0.854271356783927,
          0.8559463986599739,
          0.8576214405360209,
          0.8592964824120678,
          0.8609715242881147,
          0.8626465661641617,
          0.8643216080402086,
          0.8659966499162556,
          0.8676716917923025,
          0.8693467336683495,
          0.8710217755443964,
          0.8726968174204434,
          0.8743718592964903,
          0.8760469011725373,
          0.8777219430485842,
          0.8793969849246311,
          0.8810720268006781,
          0.882747068676725,
          0.884422110552772,
          0.8860971524288189,
          0.8877721943048659,
          0.8894472361809128,
          0.8911222780569598,
          0.8927973199330067,
          0.8944723618090537,
          0.8961474036851006,
          0.8978224455611475,
          0.8994974874371945,
          0.9011725293132414,
          0.9028475711892884,
          0.9045226130653353,
          0.9061976549413823,
          0.9078726968174292,
          0.9095477386934762,
          0.9112227805695231,
          0.91289782244557,
          0.914572864321617,
          0.9162479061976639,
          0.9179229480737109,
          0.9195979899497578,
          0.9212730318258048,
          0.9229480737018517,
          0.9246231155778987,
          0.9262981574539456,
          0.9279731993299926,
          0.9296482412060395,
          0.9313232830820865,
          0.9329983249581334,
          0.9346733668341803,
          0.9363484087102273,
          0.9380234505862742,
          0.9396984924623212,
          0.9413735343383681,
          0.9430485762144151,
          0.944723618090462,
          0.946398659966509,
          0.9480737018425559,
          0.9497487437186029,
          0.9514237855946498,
          0.9530988274706967,
          0.9547738693467437,
          0.9564489112227906,
          0.9581239530988376,
          0.9597989949748845,
          0.9614740368509315,
          0.9631490787269784,
          0.9648241206030254,
          0.9664991624790723,
          0.9681742043551193,
          0.9698492462311662,
          0.9715242881072131,
          0.9731993299832601,
          0.974874371859307,
          0.976549413735354,
          0.9782244556114009,
          0.9798994974874479,
          0.9815745393634948,
          0.9832495812395418,
          0.9849246231155887,
          0.9865996649916356,
          0.9882747068676826,
          0.9899497487437295,
          0.9916247906197765,
          0.9932998324958234,
          0.9949748743718704,
          0.9966499162479173,
          0.9983249581239643,
          1.000000000000011
         ]
        }
       ],
       "layout": {
        "template": {
         "data": {
          "bar": [
           {
            "error_x": {
             "color": "#2a3f5f"
            },
            "error_y": {
             "color": "#2a3f5f"
            },
            "marker": {
             "line": {
              "color": "#E5ECF6",
              "width": 0.5
             }
            },
            "type": "bar"
           }
          ],
          "barpolar": [
           {
            "marker": {
             "line": {
              "color": "#E5ECF6",
              "width": 0.5
             }
            },
            "type": "barpolar"
           }
          ],
          "carpet": [
           {
            "aaxis": {
             "endlinecolor": "#2a3f5f",
             "gridcolor": "white",
             "linecolor": "white",
             "minorgridcolor": "white",
             "startlinecolor": "#2a3f5f"
            },
            "baxis": {
             "endlinecolor": "#2a3f5f",
             "gridcolor": "white",
             "linecolor": "white",
             "minorgridcolor": "white",
             "startlinecolor": "#2a3f5f"
            },
            "type": "carpet"
           }
          ],
          "choropleth": [
           {
            "colorbar": {
             "outlinewidth": 0,
             "ticks": ""
            },
            "type": "choropleth"
           }
          ],
          "contour": [
           {
            "colorbar": {
             "outlinewidth": 0,
             "ticks": ""
            },
            "colorscale": [
             [
              0,
              "#0d0887"
             ],
             [
              0.1111111111111111,
              "#46039f"
             ],
             [
              0.2222222222222222,
              "#7201a8"
             ],
             [
              0.3333333333333333,
              "#9c179e"
             ],
             [
              0.4444444444444444,
              "#bd3786"
             ],
             [
              0.5555555555555556,
              "#d8576b"
             ],
             [
              0.6666666666666666,
              "#ed7953"
             ],
             [
              0.7777777777777778,
              "#fb9f3a"
             ],
             [
              0.8888888888888888,
              "#fdca26"
             ],
             [
              1,
              "#f0f921"
             ]
            ],
            "type": "contour"
           }
          ],
          "contourcarpet": [
           {
            "colorbar": {
             "outlinewidth": 0,
             "ticks": ""
            },
            "type": "contourcarpet"
           }
          ],
          "heatmap": [
           {
            "colorbar": {
             "outlinewidth": 0,
             "ticks": ""
            },
            "colorscale": [
             [
              0,
              "#0d0887"
             ],
             [
              0.1111111111111111,
              "#46039f"
             ],
             [
              0.2222222222222222,
              "#7201a8"
             ],
             [
              0.3333333333333333,
              "#9c179e"
             ],
             [
              0.4444444444444444,
              "#bd3786"
             ],
             [
              0.5555555555555556,
              "#d8576b"
             ],
             [
              0.6666666666666666,
              "#ed7953"
             ],
             [
              0.7777777777777778,
              "#fb9f3a"
             ],
             [
              0.8888888888888888,
              "#fdca26"
             ],
             [
              1,
              "#f0f921"
             ]
            ],
            "type": "heatmap"
           }
          ],
          "heatmapgl": [
           {
            "colorbar": {
             "outlinewidth": 0,
             "ticks": ""
            },
            "colorscale": [
             [
              0,
              "#0d0887"
             ],
             [
              0.1111111111111111,
              "#46039f"
             ],
             [
              0.2222222222222222,
              "#7201a8"
             ],
             [
              0.3333333333333333,
              "#9c179e"
             ],
             [
              0.4444444444444444,
              "#bd3786"
             ],
             [
              0.5555555555555556,
              "#d8576b"
             ],
             [
              0.6666666666666666,
              "#ed7953"
             ],
             [
              0.7777777777777778,
              "#fb9f3a"
             ],
             [
              0.8888888888888888,
              "#fdca26"
             ],
             [
              1,
              "#f0f921"
             ]
            ],
            "type": "heatmapgl"
           }
          ],
          "histogram": [
           {
            "marker": {
             "colorbar": {
              "outlinewidth": 0,
              "ticks": ""
             }
            },
            "type": "histogram"
           }
          ],
          "histogram2d": [
           {
            "colorbar": {
             "outlinewidth": 0,
             "ticks": ""
            },
            "colorscale": [
             [
              0,
              "#0d0887"
             ],
             [
              0.1111111111111111,
              "#46039f"
             ],
             [
              0.2222222222222222,
              "#7201a8"
             ],
             [
              0.3333333333333333,
              "#9c179e"
             ],
             [
              0.4444444444444444,
              "#bd3786"
             ],
             [
              0.5555555555555556,
              "#d8576b"
             ],
             [
              0.6666666666666666,
              "#ed7953"
             ],
             [
              0.7777777777777778,
              "#fb9f3a"
             ],
             [
              0.8888888888888888,
              "#fdca26"
             ],
             [
              1,
              "#f0f921"
             ]
            ],
            "type": "histogram2d"
           }
          ],
          "histogram2dcontour": [
           {
            "colorbar": {
             "outlinewidth": 0,
             "ticks": ""
            },
            "colorscale": [
             [
              0,
              "#0d0887"
             ],
             [
              0.1111111111111111,
              "#46039f"
             ],
             [
              0.2222222222222222,
              "#7201a8"
             ],
             [
              0.3333333333333333,
              "#9c179e"
             ],
             [
              0.4444444444444444,
              "#bd3786"
             ],
             [
              0.5555555555555556,
              "#d8576b"
             ],
             [
              0.6666666666666666,
              "#ed7953"
             ],
             [
              0.7777777777777778,
              "#fb9f3a"
             ],
             [
              0.8888888888888888,
              "#fdca26"
             ],
             [
              1,
              "#f0f921"
             ]
            ],
            "type": "histogram2dcontour"
           }
          ],
          "mesh3d": [
           {
            "colorbar": {
             "outlinewidth": 0,
             "ticks": ""
            },
            "type": "mesh3d"
           }
          ],
          "parcoords": [
           {
            "line": {
             "colorbar": {
              "outlinewidth": 0,
              "ticks": ""
             }
            },
            "type": "parcoords"
           }
          ],
          "pie": [
           {
            "automargin": true,
            "type": "pie"
           }
          ],
          "scatter": [
           {
            "marker": {
             "colorbar": {
              "outlinewidth": 0,
              "ticks": ""
             }
            },
            "type": "scatter"
           }
          ],
          "scatter3d": [
           {
            "line": {
             "colorbar": {
              "outlinewidth": 0,
              "ticks": ""
             }
            },
            "marker": {
             "colorbar": {
              "outlinewidth": 0,
              "ticks": ""
             }
            },
            "type": "scatter3d"
           }
          ],
          "scattercarpet": [
           {
            "marker": {
             "colorbar": {
              "outlinewidth": 0,
              "ticks": ""
             }
            },
            "type": "scattercarpet"
           }
          ],
          "scattergeo": [
           {
            "marker": {
             "colorbar": {
              "outlinewidth": 0,
              "ticks": ""
             }
            },
            "type": "scattergeo"
           }
          ],
          "scattergl": [
           {
            "marker": {
             "colorbar": {
              "outlinewidth": 0,
              "ticks": ""
             }
            },
            "type": "scattergl"
           }
          ],
          "scattermapbox": [
           {
            "marker": {
             "colorbar": {
              "outlinewidth": 0,
              "ticks": ""
             }
            },
            "type": "scattermapbox"
           }
          ],
          "scatterpolar": [
           {
            "marker": {
             "colorbar": {
              "outlinewidth": 0,
              "ticks": ""
             }
            },
            "type": "scatterpolar"
           }
          ],
          "scatterpolargl": [
           {
            "marker": {
             "colorbar": {
              "outlinewidth": 0,
              "ticks": ""
             }
            },
            "type": "scatterpolargl"
           }
          ],
          "scatterternary": [
           {
            "marker": {
             "colorbar": {
              "outlinewidth": 0,
              "ticks": ""
             }
            },
            "type": "scatterternary"
           }
          ],
          "surface": [
           {
            "colorbar": {
             "outlinewidth": 0,
             "ticks": ""
            },
            "colorscale": [
             [
              0,
              "#0d0887"
             ],
             [
              0.1111111111111111,
              "#46039f"
             ],
             [
              0.2222222222222222,
              "#7201a8"
             ],
             [
              0.3333333333333333,
              "#9c179e"
             ],
             [
              0.4444444444444444,
              "#bd3786"
             ],
             [
              0.5555555555555556,
              "#d8576b"
             ],
             [
              0.6666666666666666,
              "#ed7953"
             ],
             [
              0.7777777777777778,
              "#fb9f3a"
             ],
             [
              0.8888888888888888,
              "#fdca26"
             ],
             [
              1,
              "#f0f921"
             ]
            ],
            "type": "surface"
           }
          ],
          "table": [
           {
            "cells": {
             "fill": {
              "color": "#EBF0F8"
             },
             "line": {
              "color": "white"
             }
            },
            "header": {
             "fill": {
              "color": "#C8D4E3"
             },
             "line": {
              "color": "white"
             }
            },
            "type": "table"
           }
          ]
         },
         "layout": {
          "annotationdefaults": {
           "arrowcolor": "#2a3f5f",
           "arrowhead": 0,
           "arrowwidth": 1
          },
          "coloraxis": {
           "colorbar": {
            "outlinewidth": 0,
            "ticks": ""
           }
          },
          "colorscale": {
           "diverging": [
            [
             0,
             "#8e0152"
            ],
            [
             0.1,
             "#c51b7d"
            ],
            [
             0.2,
             "#de77ae"
            ],
            [
             0.3,
             "#f1b6da"
            ],
            [
             0.4,
             "#fde0ef"
            ],
            [
             0.5,
             "#f7f7f7"
            ],
            [
             0.6,
             "#e6f5d0"
            ],
            [
             0.7,
             "#b8e186"
            ],
            [
             0.8,
             "#7fbc41"
            ],
            [
             0.9,
             "#4d9221"
            ],
            [
             1,
             "#276419"
            ]
           ],
           "sequential": [
            [
             0,
             "#0d0887"
            ],
            [
             0.1111111111111111,
             "#46039f"
            ],
            [
             0.2222222222222222,
             "#7201a8"
            ],
            [
             0.3333333333333333,
             "#9c179e"
            ],
            [
             0.4444444444444444,
             "#bd3786"
            ],
            [
             0.5555555555555556,
             "#d8576b"
            ],
            [
             0.6666666666666666,
             "#ed7953"
            ],
            [
             0.7777777777777778,
             "#fb9f3a"
            ],
            [
             0.8888888888888888,
             "#fdca26"
            ],
            [
             1,
             "#f0f921"
            ]
           ],
           "sequentialminus": [
            [
             0,
             "#0d0887"
            ],
            [
             0.1111111111111111,
             "#46039f"
            ],
            [
             0.2222222222222222,
             "#7201a8"
            ],
            [
             0.3333333333333333,
             "#9c179e"
            ],
            [
             0.4444444444444444,
             "#bd3786"
            ],
            [
             0.5555555555555556,
             "#d8576b"
            ],
            [
             0.6666666666666666,
             "#ed7953"
            ],
            [
             0.7777777777777778,
             "#fb9f3a"
            ],
            [
             0.8888888888888888,
             "#fdca26"
            ],
            [
             1,
             "#f0f921"
            ]
           ]
          },
          "colorway": [
           "#636efa",
           "#EF553B",
           "#00cc96",
           "#ab63fa",
           "#FFA15A",
           "#19d3f3",
           "#FF6692",
           "#B6E880",
           "#FF97FF",
           "#FECB52"
          ],
          "font": {
           "color": "#2a3f5f"
          },
          "geo": {
           "bgcolor": "white",
           "lakecolor": "white",
           "landcolor": "#E5ECF6",
           "showlakes": true,
           "showland": true,
           "subunitcolor": "white"
          },
          "hoverlabel": {
           "align": "left"
          },
          "hovermode": "closest",
          "mapbox": {
           "style": "light"
          },
          "paper_bgcolor": "white",
          "plot_bgcolor": "#E5ECF6",
          "polar": {
           "angularaxis": {
            "gridcolor": "white",
            "linecolor": "white",
            "ticks": ""
           },
           "bgcolor": "#E5ECF6",
           "radialaxis": {
            "gridcolor": "white",
            "linecolor": "white",
            "ticks": ""
           }
          },
          "scene": {
           "xaxis": {
            "backgroundcolor": "#E5ECF6",
            "gridcolor": "white",
            "gridwidth": 2,
            "linecolor": "white",
            "showbackground": true,
            "ticks": "",
            "zerolinecolor": "white"
           },
           "yaxis": {
            "backgroundcolor": "#E5ECF6",
            "gridcolor": "white",
            "gridwidth": 2,
            "linecolor": "white",
            "showbackground": true,
            "ticks": "",
            "zerolinecolor": "white"
           },
           "zaxis": {
            "backgroundcolor": "#E5ECF6",
            "gridcolor": "white",
            "gridwidth": 2,
            "linecolor": "white",
            "showbackground": true,
            "ticks": "",
            "zerolinecolor": "white"
           }
          },
          "shapedefaults": {
           "line": {
            "color": "#2a3f5f"
           }
          },
          "ternary": {
           "aaxis": {
            "gridcolor": "white",
            "linecolor": "white",
            "ticks": ""
           },
           "baxis": {
            "gridcolor": "white",
            "linecolor": "white",
            "ticks": ""
           },
           "bgcolor": "#E5ECF6",
           "caxis": {
            "gridcolor": "white",
            "linecolor": "white",
            "ticks": ""
           }
          },
          "title": {
           "x": 0.05
          },
          "xaxis": {
           "automargin": true,
           "gridcolor": "white",
           "linecolor": "white",
           "ticks": "",
           "title": {
            "standoff": 15
           },
           "zerolinecolor": "white",
           "zerolinewidth": 2
          },
          "yaxis": {
           "automargin": true,
           "gridcolor": "white",
           "linecolor": "white",
           "ticks": "",
           "title": {
            "standoff": 15
           },
           "zerolinecolor": "white",
           "zerolinewidth": 2
          }
         }
        },
        "title": {
         "text": "User post contribution for ##humanconnection"
        },
        "xaxis": {
         "title": {
          "text": "Normalised User Base"
         }
        },
        "yaxis": {
         "title": {
          "text": "Normalised Post Contribution"
         }
        }
       }
      },
      "text/html": [
       "<div>\n",
       "        \n",
       "        \n",
       "            <div id=\"cb9f9ab0-2b0e-4b39-bd6e-e10babea19c8\" class=\"plotly-graph-div\" style=\"height:525px; width:100%;\"></div>\n",
       "            <script type=\"text/javascript\">\n",
       "                require([\"plotly\"], function(Plotly) {\n",
       "                    window.PLOTLYENV=window.PLOTLYENV || {};\n",
       "                    \n",
       "                if (document.getElementById(\"cb9f9ab0-2b0e-4b39-bd6e-e10babea19c8\")) {\n",
       "                    Plotly.newPlot(\n",
       "                        'cb9f9ab0-2b0e-4b39-bd6e-e10babea19c8',\n",
       "                        [{\"type\": \"scatter\", \"x\": [0.0018832391713747645, 0.003766478342749529, 0.005649717514124294, 0.007532956685499058, 0.009416195856873822, 0.011299435028248588, 0.013182674199623353, 0.015065913370998116, 0.01694915254237288, 0.018832391713747645, 0.02071563088512241, 0.022598870056497175, 0.02448210922787194, 0.026365348399246705, 0.02824858757062147, 0.030131826741996232, 0.032015065913371, 0.03389830508474576, 0.035781544256120526, 0.03766478342749529, 0.03954802259887006, 0.04143126177024482, 0.04331450094161959, 0.04519774011299435, 0.047080979284369114, 0.04896421845574388, 0.05084745762711865, 0.05273069679849341, 0.054613935969868174, 0.05649717514124294, 0.0583804143126177, 0.060263653483992465, 0.062146892655367235, 0.064030131826742, 0.06591337099811675, 0.06779661016949153, 0.0696798493408663, 0.07156308851224105, 0.07344632768361582, 0.07532956685499058, 0.07721280602636535, 0.07909604519774012, 0.08097928436911488, 0.08286252354048965, 0.0847457627118644, 0.08662900188323917, 0.08851224105461393, 0.0903954802259887, 0.09227871939736347, 0.09416195856873823, 0.096045197740113, 0.09792843691148775, 0.09981167608286252, 0.1016949152542373, 0.10357815442561205, 0.10546139359698682, 0.10734463276836158, 0.10922787193973635, 0.1111111111111111, 0.11299435028248588, 0.11487758945386065, 0.1167608286252354, 0.11864406779661017, 0.12052730696798493, 0.1224105461393597, 0.12429378531073447, 0.12617702448210924, 0.128060263653484, 0.12994350282485875, 0.1318267419962335, 0.1337099811676083, 0.13559322033898305, 0.1374764595103578, 0.1393596986817326, 0.14124293785310735, 0.1431261770244821, 0.14500941619585686, 0.14689265536723164, 0.1487758945386064, 0.15065913370998116, 0.15254237288135594, 0.1544256120527307, 0.15630885122410546, 0.15819209039548024, 0.160075329566855, 0.16195856873822975, 0.1638418079096045, 0.1657250470809793, 0.16760828625235405, 0.1694915254237288, 0.1713747645951036, 0.17325800376647835, 0.1751412429378531, 0.17702448210922786, 0.17890772128060264, 0.1807909604519774, 0.18267419962335216, 0.18455743879472694, 0.1864406779661017, 0.18832391713747645, 0.1902071563088512, 0.192090395480226, 0.19397363465160075, 0.1958568738229755, 0.1977401129943503, 0.19962335216572505, 0.2015065913370998, 0.2033898305084746, 0.20527306967984935, 0.2071563088512241, 0.20903954802259886, 0.21092278719397364, 0.2128060263653484, 0.21468926553672316, 0.21657250470809794, 0.2184557438794727, 0.22033898305084745, 0.2222222222222222, 0.224105461393597, 0.22598870056497175, 0.2278719397363465, 0.2297551789077213, 0.23163841807909605, 0.2335216572504708, 0.23540489642184556, 0.23728813559322035, 0.2391713747645951, 0.24105461393596986, 0.24293785310734464, 0.2448210922787194, 0.24670433145009416, 0.24858757062146894, 0.2504708097928437, 0.2523540489642185, 0.2542372881355932, 0.256120527306968, 0.2580037664783427, 0.2598870056497175, 0.2617702448210923, 0.263653483992467, 0.2655367231638418, 0.2674199623352166, 0.2693032015065913, 0.2711864406779661, 0.2730696798493409, 0.2749529190207156, 0.2768361581920904, 0.2787193973634652, 0.2806026365348399, 0.2824858757062147, 0.2843691148775895, 0.2862523540489642, 0.288135593220339, 0.2900188323917137, 0.2919020715630885, 0.2937853107344633, 0.295668549905838, 0.2975517890772128, 0.2994350282485876, 0.3013182674199623, 0.3032015065913371, 0.3050847457627119, 0.3069679849340866, 0.3088512241054614, 0.3107344632768362, 0.3126177024482109, 0.3145009416195857, 0.3163841807909605, 0.3182674199623352, 0.32015065913371, 0.3220338983050847, 0.3239171374764595, 0.3258003766478343, 0.327683615819209, 0.3295668549905838, 0.3314500941619586, 0.3333333333333333, 0.3352165725047081, 0.3370998116760829, 0.3389830508474576, 0.3408662900188324, 0.3427495291902072, 0.3446327683615819, 0.3465160075329567, 0.3483992467043315, 0.3502824858757062, 0.352165725047081, 0.3540489642184557, 0.3559322033898305, 0.3578154425612053, 0.35969868173258, 0.3615819209039548, 0.3634651600753296, 0.3653483992467043, 0.3672316384180791, 0.3691148775894539, 0.3709981167608286, 0.3728813559322034, 0.3747645951035782, 0.3766478342749529, 0.3785310734463277, 0.3804143126177024, 0.3822975517890772, 0.384180790960452, 0.3860640301318267, 0.3879472693032015, 0.3898305084745763, 0.391713747645951, 0.3935969868173258, 0.3954802259887006, 0.3973634651600753, 0.3992467043314501, 0.4011299435028249, 0.4030131826741996, 0.4048964218455744, 0.4067796610169492, 0.4086629001883239, 0.4105461393596987, 0.4124293785310734, 0.4143126177024482, 0.416195856873823, 0.4180790960451977, 0.4199623352165725, 0.4218455743879473, 0.423728813559322, 0.4256120527306968, 0.4274952919020716, 0.4293785310734463, 0.4312617702448211, 0.4331450094161959, 0.4350282485875706, 0.4369114877589454, 0.4387947269303202, 0.4406779661016949, 0.4425612052730697, 0.4444444444444444, 0.4463276836158192, 0.448210922787194, 0.4500941619585687, 0.4519774011299435, 0.4538606403013183, 0.455743879472693, 0.4576271186440678, 0.4595103578154426, 0.4613935969868173, 0.4632768361581921, 0.4651600753295669, 0.4670433145009416, 0.4689265536723164, 0.4708097928436911, 0.4726930320150659, 0.4745762711864407, 0.4764595103578154, 0.4783427495291902, 0.480225988700565, 0.4821092278719397, 0.4839924670433145, 0.4858757062146893, 0.487758945386064, 0.4896421845574388, 0.4915254237288136, 0.4934086629001883, 0.4952919020715631, 0.4971751412429379, 0.4990583804143126, 0.5009416195856874, 0.5028248587570622, 0.504708097928437, 0.5065913370998116, 0.5084745762711864, 0.5103578154425612, 0.512241054613936, 0.5141242937853108, 0.5160075329566854, 0.5178907721280602, 0.519774011299435, 0.5216572504708098, 0.5235404896421846, 0.5254237288135594, 0.527306967984934, 0.5291902071563088, 0.5310734463276836, 0.5329566854990584, 0.5348399246704332, 0.536723163841808, 0.5386064030131826, 0.5404896421845574, 0.5423728813559322, 0.544256120527307, 0.5461393596986818, 0.5480225988700564, 0.5499058380414312, 0.551789077212806, 0.5536723163841808, 0.5555555555555556, 0.5574387947269304, 0.559322033898305, 0.5612052730696798, 0.5630885122410546, 0.5649717514124294, 0.5668549905838042, 0.568738229755179, 0.5706214689265536, 0.5725047080979284, 0.5743879472693032, 0.576271186440678, 0.5781544256120528, 0.5800376647834274, 0.5819209039548022, 0.583804143126177, 0.5856873822975518, 0.5875706214689266, 0.5894538606403014, 0.591337099811676, 0.5932203389830508, 0.5951035781544256, 0.5969868173258004, 0.5988700564971752, 0.60075329566855, 0.6026365348399246, 0.6045197740112994, 0.6064030131826742, 0.608286252354049, 0.6101694915254238, 0.6120527306967984, 0.6139359698681732, 0.615819209039548, 0.6177024482109228, 0.6195856873822976, 0.6214689265536724, 0.623352165725047, 0.6252354048964218, 0.6271186440677966, 0.6290018832391714, 0.6308851224105462, 0.632768361581921, 0.6346516007532956, 0.6365348399246704, 0.6384180790960452, 0.64030131826742, 0.6421845574387948, 0.6440677966101694, 0.6459510357815442, 0.647834274952919, 0.6497175141242938, 0.6516007532956686, 0.6534839924670434, 0.655367231638418, 0.6572504708097928, 0.6591337099811676, 0.6610169491525424, 0.6629001883239172, 0.664783427495292, 0.6666666666666666, 0.6685499058380414, 0.6704331450094162, 0.672316384180791, 0.6741996233521658, 0.6760828625235404, 0.6779661016949152, 0.67984934086629, 0.6817325800376648, 0.6836158192090396, 0.6854990583804144, 0.687382297551789, 0.6892655367231638, 0.6911487758945386, 0.6930320150659134, 0.6949152542372882, 0.696798493408663, 0.6986817325800376, 0.7005649717514124, 0.7024482109227872, 0.704331450094162, 0.7062146892655368, 0.7080979284369114, 0.7099811676082862, 0.711864406779661, 0.7137476459510358, 0.7156308851224106, 0.7175141242937854, 0.71939736346516, 0.7212806026365348, 0.7231638418079096, 0.7250470809792844, 0.7269303201506592, 0.7288135593220338, 0.7306967984934086, 0.7325800376647834, 0.7344632768361582, 0.736346516007533, 0.7382297551789078, 0.7401129943502824, 0.7419962335216572, 0.743879472693032, 0.7457627118644068, 0.7476459510357816, 0.7495291902071564, 0.751412429378531, 0.7532956685499058, 0.7551789077212806, 0.7570621468926554, 0.7589453860640302, 0.7608286252354048, 0.7627118644067796, 0.7645951035781544, 0.7664783427495292, 0.768361581920904, 0.7702448210922788, 0.7721280602636534, 0.7740112994350282, 0.775894538606403, 0.7777777777777778, 0.7796610169491526, 0.7815442561205274, 0.783427495291902, 0.7853107344632768, 0.7871939736346516, 0.7890772128060264, 0.7909604519774012, 0.7928436911487758, 0.7947269303201506, 0.7966101694915254, 0.7984934086629002, 0.800376647834275, 0.8022598870056498, 0.8041431261770244, 0.8060263653483992, 0.807909604519774, 0.8097928436911488, 0.8116760828625236, 0.8135593220338984, 0.815442561205273, 0.8173258003766478, 0.8192090395480226, 0.8210922787193974, 0.8229755178907722, 0.8248587570621468, 0.8267419962335216, 0.8286252354048964, 0.8305084745762712, 0.832391713747646, 0.8342749529190208, 0.8361581920903954, 0.8380414312617702, 0.839924670433145, 0.8418079096045198, 0.8436911487758946, 0.8455743879472694, 0.847457627118644, 0.8493408662900188, 0.8512241054613936, 0.8531073446327684, 0.8549905838041432, 0.8568738229755178, 0.8587570621468926, 0.8606403013182674, 0.8625235404896422, 0.864406779661017, 0.8662900188323918, 0.8681732580037664, 0.8700564971751412, 0.871939736346516, 0.8738229755178908, 0.8757062146892656, 0.8775894538606404, 0.879472693032015, 0.8813559322033898, 0.8832391713747646, 0.8851224105461394, 0.8870056497175142, 0.8888888888888888, 0.8907721280602636, 0.8926553672316384, 0.8945386064030132, 0.896421845574388, 0.8983050847457628, 0.9001883239171374, 0.9020715630885122, 0.903954802259887, 0.9058380414312618, 0.9077212806026366, 0.9096045197740112, 0.911487758945386, 0.9133709981167608, 0.9152542372881356, 0.9171374764595104, 0.9190207156308852, 0.9209039548022598, 0.9227871939736346, 0.9246704331450094, 0.9265536723163842, 0.928436911487759, 0.9303201506591338, 0.9322033898305084, 0.9340866290018832, 0.935969868173258, 0.9378531073446328, 0.9397363465160076, 0.9416195856873822, 0.943502824858757, 0.9453860640301318, 0.9472693032015066, 0.9491525423728814, 0.9510357815442562, 0.9529190207156308, 0.9548022598870056, 0.9566854990583804, 0.9585687382297552, 0.96045197740113, 0.9623352165725048, 0.9642184557438794, 0.9661016949152542, 0.967984934086629, 0.9698681732580038, 0.9717514124293786, 0.9736346516007532, 0.975517890772128, 0.9774011299435028, 0.9792843691148776, 0.9811676082862524, 0.9830508474576272, 0.9849340866290018, 0.9868173258003766, 0.9887005649717514, 0.9905838041431262, 0.992467043314501, 0.9943502824858758, 0.9962335216572504, 0.9981167608286252, 1.0], \"y\": [0.01507537688442211, 0.025125628140703515, 0.03182579564489112, 0.03852596314907872, 0.04522613065326632, 0.050251256281407024, 0.05527638190954773, 0.06030150753768843, 0.06532663316582914, 0.07035175879396983, 0.07537688442211053, 0.08040201005025123, 0.08542713567839193, 0.08877721943048573, 0.09212730318257954, 0.09547738693467335, 0.09882747068676716, 0.10217755443886097, 0.10552763819095477, 0.10887772194304858, 0.11222780569514239, 0.1155778894472362, 0.11892797319933, 0.12227805695142381, 0.1256281407035176, 0.1289782244556114, 0.13232830820770522, 0.13567839195979903, 0.13902847571189283, 0.14237855946398664, 0.14572864321608045, 0.14907872696817426, 0.15242881072026807, 0.15577889447236187, 0.15912897822445568, 0.1624790619765495, 0.1658291457286433, 0.1691792294807371, 0.1725293132328309, 0.17587939698492472, 0.17922948073701853, 0.18090452261306542, 0.1825795644891123, 0.1842546063651592, 0.18592964824120609, 0.18760469011725298, 0.18927973199329987, 0.19095477386934676, 0.19262981574539365, 0.19430485762144054, 0.19597989949748743, 0.19765494137353432, 0.1993299832495812, 0.2010050251256281, 0.20268006700167499, 0.20435510887772187, 0.20603015075376876, 0.20770519262981565, 0.20938023450586254, 0.21105527638190943, 0.21273031825795632, 0.21440536013400321, 0.2160804020100501, 0.217755443886097, 0.21943048576214388, 0.22110552763819077, 0.22278056951423766, 0.22445561139028455, 0.22613065326633144, 0.22780569514237833, 0.22948073701842522, 0.2311557788944721, 0.232830820770519, 0.2345058626465659, 0.23618090452261278, 0.23785594639865967, 0.23953098827470656, 0.24120603015075345, 0.24288107202680034, 0.24455611390284723, 0.24623115577889412, 0.247906197654941, 0.2495812395309879, 0.2512562814070348, 0.2529313232830817, 0.2546063651591286, 0.2562814070351755, 0.2579564489112224, 0.25963149078726927, 0.26130653266331616, 0.26298157453936305, 0.26465661641540994, 0.26633165829145683, 0.2680067001675037, 0.2696817420435506, 0.2713567839195975, 0.2730318257956444, 0.2747068676716913, 0.27638190954773817, 0.27805695142378506, 0.27973199329983195, 0.28140703517587884, 0.28308207705192573, 0.2847571189279726, 0.2864321608040195, 0.2881072026800664, 0.2897822445561133, 0.2914572864321602, 0.29313232830820707, 0.29480737018425396, 0.29648241206030085, 0.29815745393634774, 0.29983249581239463, 0.3015075376884415, 0.3031825795644884, 0.3048576214405353, 0.3065326633165822, 0.3082077051926291, 0.30988274706867597, 0.31155778894472286, 0.31323283082076975, 0.31490787269681664, 0.3165829145728635, 0.3182579564489104, 0.3199329983249573, 0.3216080402010042, 0.3232830820770511, 0.324958123953098, 0.32663316582914487, 0.32830820770519176, 0.32998324958123865, 0.33165829145728554, 0.3333333333333324, 0.3350083752093793, 0.3366834170854262, 0.3383584589614731, 0.34003350083752, 0.3417085427135669, 0.34338358458961377, 0.34505862646566066, 0.34673366834170755, 0.34840871021775444, 0.3500837520938013, 0.3517587939698482, 0.3534338358458951, 0.355108877721942, 0.3567839195979889, 0.3584589614740358, 0.36013400335008267, 0.36180904522612956, 0.36348408710217645, 0.36515912897822334, 0.3668341708542702, 0.3685092127303171, 0.370184254606364, 0.3718592964824109, 0.3735343383584578, 0.3752093802345047, 0.37688442211055156, 0.37855946398659845, 0.38023450586264534, 0.38190954773869223, 0.3835845896147391, 0.385259631490786, 0.3869346733668329, 0.3886097152428798, 0.3902847571189267, 0.3919597989949736, 0.39363484087102046, 0.39530988274706735, 0.39698492462311424, 0.39865996649916113, 0.400335008375208, 0.4020100502512549, 0.4036850921273018, 0.4053601340033487, 0.4070351758793956, 0.4087102177554425, 0.41038525963148936, 0.41206030150753625, 0.41373534338358314, 0.41541038525963003, 0.4170854271356769, 0.4187604690117238, 0.4204355108877707, 0.4221105527638176, 0.4237855946398645, 0.4254606365159114, 0.42713567839195826, 0.42881072026800515, 0.43048576214405204, 0.43216080402009893, 0.4338358458961458, 0.4355108877721927, 0.4371859296482396, 0.4388609715242865, 0.4405360134003334, 0.44221105527638027, 0.44388609715242716, 0.44556113902847405, 0.44723618090452094, 0.44891122278056783, 0.4505862646566147, 0.4522613065326616, 0.4539363484087085, 0.4556113902847554, 0.4572864321608023, 0.45896147403684917, 0.46063651591289606, 0.46231155778894295, 0.46398659966498984, 0.46566164154103673, 0.4673366834170836, 0.4690117252931305, 0.4706867671691774, 0.4723618090452243, 0.4740368509212712, 0.47571189279731807, 0.47738693467336496, 0.47906197654941185, 0.48073701842545874, 0.48241206030150563, 0.4840871021775525, 0.4857621440535994, 0.4874371859296463, 0.4891122278056932, 0.4907872696817401, 0.49246231155778697, 0.49413735343383386, 0.49581239530988075, 0.49748743718592764, 0.49916247906197453, 0.5008375209380215, 0.5025125628140684, 0.5041876046901154, 0.5058626465661623, 0.5075376884422093, 0.5092127303182562, 0.5108877721943031, 0.5125628140703501, 0.514237855946397, 0.515912897822444, 0.5175879396984909, 0.5192629815745379, 0.5209380234505848, 0.5226130653266318, 0.5242881072026787, 0.5259631490787257, 0.5276381909547726, 0.5293132328308195, 0.5309882747068665, 0.5326633165829134, 0.5343383584589604, 0.5360134003350073, 0.5376884422110543, 0.5393634840871012, 0.5410385259631482, 0.5427135678391951, 0.5443886097152421, 0.546063651591289, 0.547738693467336, 0.5494137353433829, 0.5510887772194298, 0.5527638190954768, 0.5544388609715237, 0.5561139028475707, 0.5577889447236176, 0.5594639865996646, 0.5611390284757115, 0.5628140703517585, 0.5644891122278054, 0.5661641541038523, 0.5678391959798993, 0.5695142378559462, 0.5711892797319932, 0.5728643216080401, 0.5745393634840871, 0.576214405360134, 0.577889447236181, 0.5795644891122279, 0.5812395309882749, 0.5829145728643218, 0.5845896147403687, 0.5862646566164157, 0.5879396984924626, 0.5896147403685096, 0.5912897822445565, 0.5929648241206035, 0.5946398659966504, 0.5963149078726974, 0.5979899497487443, 0.5996649916247913, 0.6013400335008382, 0.6030150753768851, 0.6046901172529321, 0.606365159128979, 0.608040201005026, 0.6097152428810729, 0.6113902847571199, 0.6130653266331668, 0.6147403685092138, 0.6164154103852607, 0.6180904522613077, 0.6197654941373546, 0.6214405360134015, 0.6231155778894485, 0.6247906197654954, 0.6264656616415424, 0.6281407035175893, 0.6298157453936363, 0.6314907872696832, 0.6331658291457302, 0.6348408710217771, 0.636515912897824, 0.638190954773871, 0.639865996649918, 0.6415410385259649, 0.6432160804020118, 0.6448911222780588, 0.6465661641541057, 0.6482412060301527, 0.6499162479061996, 0.6515912897822466, 0.6532663316582935, 0.6549413735343405, 0.6566164154103874, 0.6582914572864343, 0.6599664991624813, 0.6616415410385282, 0.6633165829145752, 0.6649916247906221, 0.6666666666666691, 0.668341708542716, 0.670016750418763, 0.6716917922948099, 0.6733668341708569, 0.6750418760469038, 0.6767169179229507, 0.6783919597989977, 0.6800670016750446, 0.6817420435510916, 0.6834170854271385, 0.6850921273031855, 0.6867671691792324, 0.6884422110552794, 0.6901172529313263, 0.6917922948073733, 0.6934673366834202, 0.6951423785594671, 0.6968174204355141, 0.698492462311561, 0.700167504187608, 0.7018425460636549, 0.7035175879397019, 0.7051926298157488, 0.7068676716917958, 0.7085427135678427, 0.7102177554438897, 0.7118927973199366, 0.7135678391959835, 0.7152428810720305, 0.7169179229480774, 0.7185929648241244, 0.7202680067001713, 0.7219430485762183, 0.7236180904522652, 0.7252931323283122, 0.7269681742043591, 0.728643216080406, 0.730318257956453, 0.7319932998324999, 0.7336683417085469, 0.7353433835845938, 0.7370184254606408, 0.7386934673366877, 0.7403685092127347, 0.7420435510887816, 0.7437185929648286, 0.7453936348408755, 0.7470686767169225, 0.7487437185929694, 0.7504187604690163, 0.7520938023450633, 0.7537688442211102, 0.7554438860971572, 0.7571189279732041, 0.7587939698492511, 0.760469011725298, 0.762144053601345, 0.7638190954773919, 0.7654941373534389, 0.7671691792294858, 0.7688442211055327, 0.7705192629815797, 0.7721943048576266, 0.7738693467336736, 0.7755443886097205, 0.7772194304857675, 0.7788944723618144, 0.7805695142378614, 0.7822445561139083, 0.7839195979899553, 0.7855946398660022, 0.7872696817420491, 0.7889447236180961, 0.790619765494143, 0.79229480737019, 0.7939698492462369, 0.7956448911222839, 0.7973199329983308, 0.7989949748743778, 0.8006700167504247, 0.8023450586264717, 0.8040201005025186, 0.8056951423785655, 0.8073701842546125, 0.8090452261306594, 0.8107202680067064, 0.8123953098827533, 0.8140703517588003, 0.8157453936348472, 0.8174204355108942, 0.8190954773869411, 0.820770519262988, 0.822445561139035, 0.8241206030150819, 0.8257956448911289, 0.8274706867671758, 0.8291457286432228, 0.8308207705192697, 0.8324958123953167, 0.8341708542713636, 0.8358458961474106, 0.8375209380234575, 0.8391959798995045, 0.8408710217755514, 0.8425460636515983, 0.8442211055276453, 0.8458961474036922, 0.8475711892797392, 0.8492462311557861, 0.8509212730318331, 0.85259631490788, 0.854271356783927, 0.8559463986599739, 0.8576214405360209, 0.8592964824120678, 0.8609715242881147, 0.8626465661641617, 0.8643216080402086, 0.8659966499162556, 0.8676716917923025, 0.8693467336683495, 0.8710217755443964, 0.8726968174204434, 0.8743718592964903, 0.8760469011725373, 0.8777219430485842, 0.8793969849246311, 0.8810720268006781, 0.882747068676725, 0.884422110552772, 0.8860971524288189, 0.8877721943048659, 0.8894472361809128, 0.8911222780569598, 0.8927973199330067, 0.8944723618090537, 0.8961474036851006, 0.8978224455611475, 0.8994974874371945, 0.9011725293132414, 0.9028475711892884, 0.9045226130653353, 0.9061976549413823, 0.9078726968174292, 0.9095477386934762, 0.9112227805695231, 0.91289782244557, 0.914572864321617, 0.9162479061976639, 0.9179229480737109, 0.9195979899497578, 0.9212730318258048, 0.9229480737018517, 0.9246231155778987, 0.9262981574539456, 0.9279731993299926, 0.9296482412060395, 0.9313232830820865, 0.9329983249581334, 0.9346733668341803, 0.9363484087102273, 0.9380234505862742, 0.9396984924623212, 0.9413735343383681, 0.9430485762144151, 0.944723618090462, 0.946398659966509, 0.9480737018425559, 0.9497487437186029, 0.9514237855946498, 0.9530988274706967, 0.9547738693467437, 0.9564489112227906, 0.9581239530988376, 0.9597989949748845, 0.9614740368509315, 0.9631490787269784, 0.9648241206030254, 0.9664991624790723, 0.9681742043551193, 0.9698492462311662, 0.9715242881072131, 0.9731993299832601, 0.974874371859307, 0.976549413735354, 0.9782244556114009, 0.9798994974874479, 0.9815745393634948, 0.9832495812395418, 0.9849246231155887, 0.9865996649916356, 0.9882747068676826, 0.9899497487437295, 0.9916247906197765, 0.9932998324958234, 0.9949748743718704, 0.9966499162479173, 0.9983249581239643, 1.000000000000011]}],\n",
       "                        {\"template\": {\"data\": {\"bar\": [{\"error_x\": {\"color\": \"#2a3f5f\"}, \"error_y\": {\"color\": \"#2a3f5f\"}, \"marker\": {\"line\": {\"color\": \"#E5ECF6\", \"width\": 0.5}}, \"type\": \"bar\"}], \"barpolar\": [{\"marker\": {\"line\": {\"color\": \"#E5ECF6\", \"width\": 0.5}}, \"type\": \"barpolar\"}], \"carpet\": [{\"aaxis\": {\"endlinecolor\": \"#2a3f5f\", \"gridcolor\": \"white\", \"linecolor\": \"white\", \"minorgridcolor\": \"white\", \"startlinecolor\": \"#2a3f5f\"}, \"baxis\": {\"endlinecolor\": \"#2a3f5f\", \"gridcolor\": \"white\", \"linecolor\": \"white\", \"minorgridcolor\": \"white\", \"startlinecolor\": \"#2a3f5f\"}, \"type\": \"carpet\"}], \"choropleth\": [{\"colorbar\": {\"outlinewidth\": 0, \"ticks\": \"\"}, \"type\": \"choropleth\"}], \"contour\": [{\"colorbar\": {\"outlinewidth\": 0, \"ticks\": \"\"}, \"colorscale\": [[0.0, \"#0d0887\"], [0.1111111111111111, \"#46039f\"], [0.2222222222222222, \"#7201a8\"], [0.3333333333333333, \"#9c179e\"], [0.4444444444444444, \"#bd3786\"], [0.5555555555555556, \"#d8576b\"], [0.6666666666666666, \"#ed7953\"], [0.7777777777777778, \"#fb9f3a\"], [0.8888888888888888, \"#fdca26\"], [1.0, \"#f0f921\"]], \"type\": \"contour\"}], \"contourcarpet\": [{\"colorbar\": {\"outlinewidth\": 0, \"ticks\": \"\"}, \"type\": \"contourcarpet\"}], \"heatmap\": [{\"colorbar\": {\"outlinewidth\": 0, \"ticks\": \"\"}, \"colorscale\": [[0.0, \"#0d0887\"], [0.1111111111111111, \"#46039f\"], [0.2222222222222222, \"#7201a8\"], [0.3333333333333333, \"#9c179e\"], [0.4444444444444444, \"#bd3786\"], [0.5555555555555556, \"#d8576b\"], [0.6666666666666666, \"#ed7953\"], [0.7777777777777778, \"#fb9f3a\"], [0.8888888888888888, \"#fdca26\"], [1.0, \"#f0f921\"]], \"type\": \"heatmap\"}], \"heatmapgl\": [{\"colorbar\": {\"outlinewidth\": 0, \"ticks\": \"\"}, \"colorscale\": [[0.0, \"#0d0887\"], [0.1111111111111111, \"#46039f\"], [0.2222222222222222, \"#7201a8\"], [0.3333333333333333, \"#9c179e\"], [0.4444444444444444, \"#bd3786\"], [0.5555555555555556, \"#d8576b\"], [0.6666666666666666, \"#ed7953\"], [0.7777777777777778, \"#fb9f3a\"], [0.8888888888888888, \"#fdca26\"], [1.0, \"#f0f921\"]], \"type\": \"heatmapgl\"}], \"histogram\": [{\"marker\": {\"colorbar\": {\"outlinewidth\": 0, \"ticks\": \"\"}}, \"type\": \"histogram\"}], \"histogram2d\": [{\"colorbar\": {\"outlinewidth\": 0, \"ticks\": \"\"}, \"colorscale\": [[0.0, \"#0d0887\"], [0.1111111111111111, \"#46039f\"], [0.2222222222222222, \"#7201a8\"], [0.3333333333333333, \"#9c179e\"], [0.4444444444444444, \"#bd3786\"], [0.5555555555555556, \"#d8576b\"], [0.6666666666666666, \"#ed7953\"], [0.7777777777777778, \"#fb9f3a\"], [0.8888888888888888, \"#fdca26\"], [1.0, \"#f0f921\"]], \"type\": \"histogram2d\"}], \"histogram2dcontour\": [{\"colorbar\": {\"outlinewidth\": 0, \"ticks\": \"\"}, \"colorscale\": [[0.0, \"#0d0887\"], [0.1111111111111111, \"#46039f\"], [0.2222222222222222, \"#7201a8\"], [0.3333333333333333, \"#9c179e\"], [0.4444444444444444, \"#bd3786\"], [0.5555555555555556, \"#d8576b\"], [0.6666666666666666, \"#ed7953\"], [0.7777777777777778, \"#fb9f3a\"], [0.8888888888888888, \"#fdca26\"], [1.0, \"#f0f921\"]], \"type\": \"histogram2dcontour\"}], \"mesh3d\": [{\"colorbar\": {\"outlinewidth\": 0, \"ticks\": \"\"}, \"type\": \"mesh3d\"}], \"parcoords\": [{\"line\": {\"colorbar\": {\"outlinewidth\": 0, \"ticks\": \"\"}}, \"type\": \"parcoords\"}], \"pie\": [{\"automargin\": true, \"type\": \"pie\"}], \"scatter\": [{\"marker\": {\"colorbar\": {\"outlinewidth\": 0, \"ticks\": \"\"}}, \"type\": \"scatter\"}], \"scatter3d\": [{\"line\": {\"colorbar\": {\"outlinewidth\": 0, \"ticks\": \"\"}}, \"marker\": {\"colorbar\": {\"outlinewidth\": 0, \"ticks\": \"\"}}, \"type\": \"scatter3d\"}], \"scattercarpet\": [{\"marker\": {\"colorbar\": {\"outlinewidth\": 0, \"ticks\": \"\"}}, \"type\": \"scattercarpet\"}], \"scattergeo\": [{\"marker\": {\"colorbar\": {\"outlinewidth\": 0, \"ticks\": \"\"}}, \"type\": \"scattergeo\"}], \"scattergl\": [{\"marker\": {\"colorbar\": {\"outlinewidth\": 0, \"ticks\": \"\"}}, \"type\": \"scattergl\"}], \"scattermapbox\": [{\"marker\": {\"colorbar\": {\"outlinewidth\": 0, \"ticks\": \"\"}}, \"type\": \"scattermapbox\"}], \"scatterpolar\": [{\"marker\": {\"colorbar\": {\"outlinewidth\": 0, \"ticks\": \"\"}}, \"type\": \"scatterpolar\"}], \"scatterpolargl\": [{\"marker\": {\"colorbar\": {\"outlinewidth\": 0, \"ticks\": \"\"}}, \"type\": \"scatterpolargl\"}], \"scatterternary\": [{\"marker\": {\"colorbar\": {\"outlinewidth\": 0, \"ticks\": \"\"}}, \"type\": \"scatterternary\"}], \"surface\": [{\"colorbar\": {\"outlinewidth\": 0, \"ticks\": \"\"}, \"colorscale\": [[0.0, \"#0d0887\"], [0.1111111111111111, \"#46039f\"], [0.2222222222222222, \"#7201a8\"], [0.3333333333333333, \"#9c179e\"], [0.4444444444444444, \"#bd3786\"], [0.5555555555555556, \"#d8576b\"], [0.6666666666666666, \"#ed7953\"], [0.7777777777777778, \"#fb9f3a\"], [0.8888888888888888, \"#fdca26\"], [1.0, \"#f0f921\"]], \"type\": \"surface\"}], \"table\": [{\"cells\": {\"fill\": {\"color\": \"#EBF0F8\"}, \"line\": {\"color\": \"white\"}}, \"header\": {\"fill\": {\"color\": \"#C8D4E3\"}, \"line\": {\"color\": \"white\"}}, \"type\": \"table\"}]}, \"layout\": {\"annotationdefaults\": {\"arrowcolor\": \"#2a3f5f\", \"arrowhead\": 0, \"arrowwidth\": 1}, \"coloraxis\": {\"colorbar\": {\"outlinewidth\": 0, \"ticks\": \"\"}}, \"colorscale\": {\"diverging\": [[0, \"#8e0152\"], [0.1, \"#c51b7d\"], [0.2, \"#de77ae\"], [0.3, \"#f1b6da\"], [0.4, \"#fde0ef\"], [0.5, \"#f7f7f7\"], [0.6, \"#e6f5d0\"], [0.7, \"#b8e186\"], [0.8, \"#7fbc41\"], [0.9, \"#4d9221\"], [1, \"#276419\"]], \"sequential\": [[0.0, \"#0d0887\"], [0.1111111111111111, \"#46039f\"], [0.2222222222222222, \"#7201a8\"], [0.3333333333333333, \"#9c179e\"], [0.4444444444444444, \"#bd3786\"], [0.5555555555555556, \"#d8576b\"], [0.6666666666666666, \"#ed7953\"], [0.7777777777777778, \"#fb9f3a\"], [0.8888888888888888, \"#fdca26\"], [1.0, \"#f0f921\"]], \"sequentialminus\": [[0.0, \"#0d0887\"], [0.1111111111111111, \"#46039f\"], [0.2222222222222222, \"#7201a8\"], [0.3333333333333333, \"#9c179e\"], [0.4444444444444444, \"#bd3786\"], [0.5555555555555556, \"#d8576b\"], [0.6666666666666666, \"#ed7953\"], [0.7777777777777778, \"#fb9f3a\"], [0.8888888888888888, \"#fdca26\"], [1.0, \"#f0f921\"]]}, \"colorway\": [\"#636efa\", \"#EF553B\", \"#00cc96\", \"#ab63fa\", \"#FFA15A\", \"#19d3f3\", \"#FF6692\", \"#B6E880\", \"#FF97FF\", \"#FECB52\"], \"font\": {\"color\": \"#2a3f5f\"}, \"geo\": {\"bgcolor\": \"white\", \"lakecolor\": \"white\", \"landcolor\": \"#E5ECF6\", \"showlakes\": true, \"showland\": true, \"subunitcolor\": \"white\"}, \"hoverlabel\": {\"align\": \"left\"}, \"hovermode\": \"closest\", \"mapbox\": {\"style\": \"light\"}, \"paper_bgcolor\": \"white\", \"plot_bgcolor\": \"#E5ECF6\", \"polar\": {\"angularaxis\": {\"gridcolor\": \"white\", \"linecolor\": \"white\", \"ticks\": \"\"}, \"bgcolor\": \"#E5ECF6\", \"radialaxis\": {\"gridcolor\": \"white\", \"linecolor\": \"white\", \"ticks\": \"\"}}, \"scene\": {\"xaxis\": {\"backgroundcolor\": \"#E5ECF6\", \"gridcolor\": \"white\", \"gridwidth\": 2, \"linecolor\": \"white\", \"showbackground\": true, \"ticks\": \"\", \"zerolinecolor\": \"white\"}, \"yaxis\": {\"backgroundcolor\": \"#E5ECF6\", \"gridcolor\": \"white\", \"gridwidth\": 2, \"linecolor\": \"white\", \"showbackground\": true, \"ticks\": \"\", \"zerolinecolor\": \"white\"}, \"zaxis\": {\"backgroundcolor\": \"#E5ECF6\", \"gridcolor\": \"white\", \"gridwidth\": 2, \"linecolor\": \"white\", \"showbackground\": true, \"ticks\": \"\", \"zerolinecolor\": \"white\"}}, \"shapedefaults\": {\"line\": {\"color\": \"#2a3f5f\"}}, \"ternary\": {\"aaxis\": {\"gridcolor\": \"white\", \"linecolor\": \"white\", \"ticks\": \"\"}, \"baxis\": {\"gridcolor\": \"white\", \"linecolor\": \"white\", \"ticks\": \"\"}, \"bgcolor\": \"#E5ECF6\", \"caxis\": {\"gridcolor\": \"white\", \"linecolor\": \"white\", \"ticks\": \"\"}}, \"title\": {\"x\": 0.05}, \"xaxis\": {\"automargin\": true, \"gridcolor\": \"white\", \"linecolor\": \"white\", \"ticks\": \"\", \"title\": {\"standoff\": 15}, \"zerolinecolor\": \"white\", \"zerolinewidth\": 2}, \"yaxis\": {\"automargin\": true, \"gridcolor\": \"white\", \"linecolor\": \"white\", \"ticks\": \"\", \"title\": {\"standoff\": 15}, \"zerolinecolor\": \"white\", \"zerolinewidth\": 2}}}, \"title\": {\"text\": \"User post contribution for ##humanconnection\"}, \"xaxis\": {\"title\": {\"text\": \"Normalised User Base\"}}, \"yaxis\": {\"title\": {\"text\": \"Normalised Post Contribution\"}}},\n",
       "                        {\"responsive\": true}\n",
       "                    ).then(function(){\n",
       "                            \n",
       "var gd = document.getElementById('cb9f9ab0-2b0e-4b39-bd6e-e10babea19c8');\n",
       "var x = new MutationObserver(function (mutations, observer) {{\n",
       "        var display = window.getComputedStyle(gd).display;\n",
       "        if (!display || display === 'none') {{\n",
       "            console.log([gd, 'removed!']);\n",
       "            Plotly.purge(gd);\n",
       "            observer.disconnect();\n",
       "        }}\n",
       "}});\n",
       "\n",
       "// Listen for the removal of the full notebook cells\n",
       "var notebookContainer = gd.closest('#notebook-container');\n",
       "if (notebookContainer) {{\n",
       "    x.observe(notebookContainer, {childList: true});\n",
       "}}\n",
       "\n",
       "// Listen for the clearing of the current output cell\n",
       "var outputEl = gd.closest('.output');\n",
       "if (outputEl) {{\n",
       "    x.observe(outputEl, {childList: true});\n",
       "}}\n",
       "\n",
       "                        })\n",
       "                };\n",
       "                });\n",
       "            </script>\n",
       "        </div>"
      ]
     },
     "metadata": {},
     "output_type": "display_data"
    }
   ],
   "source": [
    "hc.getFeatures()"
   ]
  },
  {
   "cell_type": "code",
   "execution_count": 91,
   "metadata": {},
   "outputs": [
    {
     "name": "stdout",
     "output_type": "stream",
     "text": [
      "Data Selected.\n"
     ]
    }
   ],
   "source": [
    "hc.selectData(max_posts=2)"
   ]
  },
  {
   "cell_type": "code",
   "execution_count": 92,
   "metadata": {},
   "outputs": [
    {
     "name": "stdout",
     "output_type": "stream",
     "text": [
      "Graph successfully built.\n",
      "Node and Edge dataframes created.\n",
      "Communities calculated.\n"
     ]
    }
   ],
   "source": [
    "hc.buildGraph(additional_stopwords=['humanconnection'],min_frequency=3)"
   ]
  },
  {
   "cell_type": "code",
   "execution_count": 97,
   "metadata": {},
   "outputs": [
    {
     "name": "stdout",
     "output_type": "stream",
     "text": [
      "Plot saved.\n"
     ]
    }
   ],
   "source": [
    "hc.savePlot(plot='community')"
   ]
  },
  {
   "cell_type": "code",
   "execution_count": 94,
   "metadata": {},
   "outputs": [
    {
     "data": {
      "application/vnd.plotly.v1+json": {
       "config": {
        "linkText": "Export to plot.ly",
        "plotlyServerURL": "https://plot.ly",
        "showLink": false
       },
       "data": [
        {
         "line": {
          "shape": "spline",
          "width": 0.5
         },
         "marker": {
          "color": "#ece8e8"
         },
         "mode": "lines",
         "opacity": 1,
         "type": "scatter",
         "x": [
          0.3455860921936984,
          0.11541973297070345,
          null
         ],
         "y": [
          -0.2506740674215007,
          -0.21690996264590942,
          null
         ]
        },
        {
         "line": {
          "shape": "spline",
          "width": 0.5
         },
         "marker": {
          "color": "#ece8e8"
         },
         "mode": "lines",
         "opacity": 1,
         "type": "scatter",
         "x": [
          0.3455860921936984,
          0.1351314306774506,
          null
         ],
         "y": [
          -0.2506740674215007,
          -0.3903134575357185,
          null
         ]
        },
        {
         "line": {
          "shape": "spline",
          "width": 0.5
         },
         "marker": {
          "color": "#ece8e8"
         },
         "mode": "lines",
         "opacity": 1,
         "type": "scatter",
         "x": [
          0.3455860921936984,
          0.11016575605877602,
          null
         ],
         "y": [
          -0.2506740674215007,
          -0.003233609876338488,
          null
         ]
        },
        {
         "line": {
          "shape": "spline",
          "width": 0.5
         },
         "marker": {
          "color": "#ece8e8"
         },
         "mode": "lines",
         "opacity": 1,
         "type": "scatter",
         "x": [
          0.3455860921936984,
          -0.012047858220622801,
          null
         ],
         "y": [
          -0.2506740674215007,
          -0.15888910657255112,
          null
         ]
        },
        {
         "line": {
          "shape": "spline",
          "width": 0.5
         },
         "marker": {
          "color": "#ece8e8"
         },
         "mode": "lines",
         "opacity": 1,
         "type": "scatter",
         "x": [
          0.3455860921936984,
          0.725878196654557,
          null
         ],
         "y": [
          -0.2506740674215007,
          0.09005833924457493,
          null
         ]
        },
        {
         "line": {
          "shape": "spline",
          "width": 0.5
         },
         "marker": {
          "color": "#ece8e8"
         },
         "mode": "lines",
         "opacity": 1,
         "type": "scatter",
         "x": [
          0.3455860921936984,
          -0.10097929361113614,
          null
         ],
         "y": [
          -0.2506740674215007,
          0.012466463271866533,
          null
         ]
        },
        {
         "line": {
          "shape": "spline",
          "width": 0.5
         },
         "marker": {
          "color": "#ece8e8"
         },
         "mode": "lines",
         "opacity": 1,
         "type": "scatter",
         "x": [
          0.3455860921936984,
          0.48507726352568553,
          null
         ],
         "y": [
          -0.2506740674215007,
          -0.3810037570628175,
          null
         ]
        },
        {
         "line": {
          "shape": "spline",
          "width": 0.5
         },
         "marker": {
          "color": "#ece8e8"
         },
         "mode": "lines",
         "opacity": 1,
         "type": "scatter",
         "x": [
          0.3455860921936984,
          0.5028339812484264,
          null
         ],
         "y": [
          -0.2506740674215007,
          -0.594702808507188,
          null
         ]
        },
        {
         "line": {
          "shape": "spline",
          "width": 0.5
         },
         "marker": {
          "color": "#ece8e8"
         },
         "mode": "lines",
         "opacity": 1,
         "type": "scatter",
         "x": [
          0.3455860921936984,
          -0.09362941864909598,
          null
         ],
         "y": [
          -0.2506740674215007,
          -0.21052603249987867,
          null
         ]
        },
        {
         "line": {
          "shape": "spline",
          "width": 0.5
         },
         "marker": {
          "color": "#ece8e8"
         },
         "mode": "lines",
         "opacity": 1,
         "type": "scatter",
         "x": [
          0.3455860921936984,
          0.4318521812552965,
          null
         ],
         "y": [
          -0.2506740674215007,
          -0.5128045224896088,
          null
         ]
        },
        {
         "line": {
          "shape": "spline",
          "width": 0.5
         },
         "marker": {
          "color": "#ece8e8"
         },
         "mode": "lines",
         "opacity": 1,
         "type": "scatter",
         "x": [
          0.3455860921936984,
          0.6290120909970636,
          null
         ],
         "y": [
          -0.2506740674215007,
          -0.4128442794561126,
          null
         ]
        },
        {
         "line": {
          "shape": "spline",
          "width": 0.5
         },
         "marker": {
          "color": "#ece8e8"
         },
         "mode": "lines",
         "opacity": 1,
         "type": "scatter",
         "x": [
          0.3455860921936984,
          0.24825279855494556,
          null
         ],
         "y": [
          -0.2506740674215007,
          -0.7094891097792136,
          null
         ]
        },
        {
         "line": {
          "shape": "spline",
          "width": 0.5
         },
         "marker": {
          "color": "#ece8e8"
         },
         "mode": "lines",
         "opacity": 1,
         "type": "scatter",
         "x": [
          0.3455860921936984,
          0.2892316921553843,
          null
         ],
         "y": [
          -0.2506740674215007,
          -0.38862113390255304,
          null
         ]
        },
        {
         "line": {
          "shape": "spline",
          "width": 0.5
         },
         "marker": {
          "color": "#ece8e8"
         },
         "mode": "lines",
         "opacity": 1,
         "type": "scatter",
         "x": [
          0.3455860921936984,
          0.3838157817750737,
          null
         ],
         "y": [
          -0.2506740674215007,
          -0.6236523001417581,
          null
         ]
        },
        {
         "line": {
          "shape": "spline",
          "width": 0.5
         },
         "marker": {
          "color": "#ece8e8"
         },
         "mode": "lines",
         "opacity": 1,
         "type": "scatter",
         "x": [
          0.3455860921936984,
          0.5515481576936492,
          null
         ],
         "y": [
          -0.2506740674215007,
          -0.23981830129662174,
          null
         ]
        },
        {
         "line": {
          "shape": "spline",
          "width": 0.5
         },
         "marker": {
          "color": "#ece8e8"
         },
         "mode": "lines",
         "opacity": 1,
         "type": "scatter",
         "x": [
          0.3455860921936984,
          0.3195313911654045,
          null
         ],
         "y": [
          -0.2506740674215007,
          -0.10717551763546776,
          null
         ]
        },
        {
         "line": {
          "shape": "spline",
          "width": 0.5
         },
         "marker": {
          "color": "#ece8e8"
         },
         "mode": "lines",
         "opacity": 1,
         "type": "scatter",
         "x": [
          0.3455860921936984,
          0.6299540558288864,
          null
         ],
         "y": [
          -0.2506740674215007,
          -0.31109339780408973,
          null
         ]
        },
        {
         "line": {
          "shape": "spline",
          "width": 0.5
         },
         "marker": {
          "color": "#ece8e8"
         },
         "mode": "lines",
         "opacity": 1,
         "type": "scatter",
         "x": [
          0.3455860921936984,
          0.5807241683507863,
          null
         ],
         "y": [
          -0.2506740674215007,
          -0.5061029488591657,
          null
         ]
        },
        {
         "line": {
          "shape": "spline",
          "width": 0.5
         },
         "marker": {
          "color": "#ece8e8"
         },
         "mode": "lines",
         "opacity": 1,
         "type": "scatter",
         "x": [
          0.3455860921936984,
          0.2665607881338202,
          null
         ],
         "y": [
          -0.2506740674215007,
          -0.5420407078386288,
          null
         ]
        },
        {
         "line": {
          "shape": "spline",
          "width": 0.5
         },
         "marker": {
          "color": "#ece8e8"
         },
         "mode": "lines",
         "opacity": 1,
         "type": "scatter",
         "x": [
          0.11016575605877602,
          0.11541973297070345,
          null
         ],
         "y": [
          -0.003233609876338488,
          -0.21690996264590942,
          null
         ]
        },
        {
         "line": {
          "shape": "spline",
          "width": 0.5
         },
         "marker": {
          "color": "#ece8e8"
         },
         "mode": "lines",
         "opacity": 1,
         "type": "scatter",
         "x": [
          0.11016575605877602,
          -0.10097929361113614,
          null
         ],
         "y": [
          -0.003233609876338488,
          0.012466463271866533,
          null
         ]
        },
        {
         "line": {
          "shape": "spline",
          "width": 0.5
         },
         "marker": {
          "color": "#ece8e8"
         },
         "mode": "lines",
         "opacity": 1,
         "type": "scatter",
         "x": [
          0.11016575605877602,
          0.39965091730429475,
          null
         ],
         "y": [
          -0.003233609876338488,
          0.3020403870395779,
          null
         ]
        },
        {
         "line": {
          "shape": "spline",
          "width": 0.5
         },
         "marker": {
          "color": "#ece8e8"
         },
         "mode": "lines",
         "opacity": 1,
         "type": "scatter",
         "x": [
          0.11016575605877602,
          0.07036544299160555,
          null
         ],
         "y": [
          -0.003233609876338488,
          0.49460034709621575,
          null
         ]
        },
        {
         "line": {
          "shape": "spline",
          "width": 0.5
         },
         "marker": {
          "color": "#ece8e8"
         },
         "mode": "lines",
         "opacity": 1,
         "type": "scatter",
         "x": [
          0.11016575605877602,
          -0.012047858220622801,
          null
         ],
         "y": [
          -0.003233609876338488,
          -0.15888910657255112,
          null
         ]
        },
        {
         "line": {
          "shape": "spline",
          "width": 0.5
         },
         "marker": {
          "color": "#ece8e8"
         },
         "mode": "lines",
         "opacity": 1,
         "type": "scatter",
         "x": [
          0.11016575605877602,
          0.3195313911654045,
          null
         ],
         "y": [
          -0.003233609876338488,
          -0.10717551763546776,
          null
         ]
        },
        {
         "line": {
          "shape": "spline",
          "width": 0.5
         },
         "marker": {
          "color": "#ece8e8"
         },
         "mode": "lines",
         "opacity": 1,
         "type": "scatter",
         "x": [
          0.11016575605877602,
          0.014723219068822279,
          null
         ],
         "y": [
          -0.003233609876338488,
          -0.5544443642049247,
          null
         ]
        },
        {
         "line": {
          "shape": "spline",
          "width": 0.5
         },
         "marker": {
          "color": "#ece8e8"
         },
         "mode": "lines",
         "opacity": 1,
         "type": "scatter",
         "x": [
          0.11016575605877602,
          -0.13702344846983283,
          null
         ],
         "y": [
          -0.003233609876338488,
          0.2331159758732535,
          null
         ]
        },
        {
         "line": {
          "shape": "spline",
          "width": 0.5
         },
         "marker": {
          "color": "#ece8e8"
         },
         "mode": "lines",
         "opacity": 1,
         "type": "scatter",
         "x": [
          0.11016575605877602,
          0.2892316921553843,
          null
         ],
         "y": [
          -0.003233609876338488,
          -0.38862113390255304,
          null
         ]
        },
        {
         "line": {
          "shape": "spline",
          "width": 0.5
         },
         "marker": {
          "color": "#ece8e8"
         },
         "mode": "lines",
         "opacity": 1,
         "type": "scatter",
         "x": [
          0.11016575605877602,
          -0.5498714292610081,
          null
         ],
         "y": [
          -0.003233609876338488,
          -0.1228099526109709,
          null
         ]
        },
        {
         "line": {
          "shape": "spline",
          "width": 0.5
         },
         "marker": {
          "color": "#ece8e8"
         },
         "mode": "lines",
         "opacity": 1,
         "type": "scatter",
         "x": [
          0.11016575605877602,
          0.1351314306774506,
          null
         ],
         "y": [
          -0.003233609876338488,
          -0.3903134575357185,
          null
         ]
        },
        {
         "line": {
          "shape": "spline",
          "width": 0.5
         },
         "marker": {
          "color": "#ece8e8"
         },
         "mode": "lines",
         "opacity": 1,
         "type": "scatter",
         "x": [
          0.11016575605877602,
          0.6364914127707022,
          null
         ],
         "y": [
          -0.003233609876338488,
          0.4083442949047109,
          null
         ]
        },
        {
         "line": {
          "shape": "spline",
          "width": 0.5
         },
         "marker": {
          "color": "#ece8e8"
         },
         "mode": "lines",
         "opacity": 1,
         "type": "scatter",
         "x": [
          0.11016575605877602,
          -0.22912735232692857,
          null
         ],
         "y": [
          -0.003233609876338488,
          0.22291283856355693,
          null
         ]
        },
        {
         "line": {
          "shape": "spline",
          "width": 0.5
         },
         "marker": {
          "color": "#ece8e8"
         },
         "mode": "lines",
         "opacity": 1,
         "type": "scatter",
         "x": [
          0.11016575605877602,
          -0.4047900951610015,
          null
         ],
         "y": [
          -0.003233609876338488,
          -0.6324012080012414,
          null
         ]
        },
        {
         "line": {
          "shape": "spline",
          "width": 0.5
         },
         "marker": {
          "color": "#ece8e8"
         },
         "mode": "lines",
         "opacity": 1,
         "type": "scatter",
         "x": [
          0.11016575605877602,
          -0.23567920674210455,
          null
         ],
         "y": [
          -0.003233609876338488,
          0.09696823925398873,
          null
         ]
        },
        {
         "line": {
          "shape": "spline",
          "width": 0.5
         },
         "marker": {
          "color": "#ece8e8"
         },
         "mode": "lines",
         "opacity": 1,
         "type": "scatter",
         "x": [
          0.11016575605877602,
          0.725878196654557,
          null
         ],
         "y": [
          -0.003233609876338488,
          0.09005833924457493,
          null
         ]
        },
        {
         "line": {
          "shape": "spline",
          "width": 0.5
         },
         "marker": {
          "color": "#ece8e8"
         },
         "mode": "lines",
         "opacity": 1,
         "type": "scatter",
         "x": [
          0.11016575605877602,
          -0.1445613452142485,
          null
         ],
         "y": [
          -0.003233609876338488,
          0.4643110051266712,
          null
         ]
        },
        {
         "line": {
          "shape": "spline",
          "width": 0.5
         },
         "marker": {
          "color": "#ece8e8"
         },
         "mode": "lines",
         "opacity": 1,
         "type": "scatter",
         "x": [
          0.11016575605877602,
          0.1105766569509571,
          null
         ],
         "y": [
          -0.003233609876338488,
          0.14114263222055068,
          null
         ]
        },
        {
         "line": {
          "shape": "spline",
          "width": 0.5
         },
         "marker": {
          "color": "#ece8e8"
         },
         "mode": "lines",
         "opacity": 1,
         "type": "scatter",
         "x": [
          0.11016575605877602,
          -0.09362941864909598,
          null
         ],
         "y": [
          -0.003233609876338488,
          -0.21052603249987867,
          null
         ]
        },
        {
         "line": {
          "shape": "spline",
          "width": 0.5
         },
         "marker": {
          "color": "#ece8e8"
         },
         "mode": "lines",
         "opacity": 1,
         "type": "scatter",
         "x": [
          -0.2892684372156338,
          -0.13702344846983283,
          null
         ],
         "y": [
          -0.17833222659589787,
          0.2331159758732535,
          null
         ]
        },
        {
         "line": {
          "shape": "spline",
          "width": 0.5
         },
         "marker": {
          "color": "#ece8e8"
         },
         "mode": "lines",
         "opacity": 1,
         "type": "scatter",
         "x": [
          -0.2892684372156338,
          -0.22912735232692857,
          null
         ],
         "y": [
          -0.17833222659589787,
          0.22291283856355693,
          null
         ]
        },
        {
         "line": {
          "shape": "spline",
          "width": 0.5
         },
         "marker": {
          "color": "#ece8e8"
         },
         "mode": "lines",
         "opacity": 1,
         "type": "scatter",
         "x": [
          -0.2892684372156338,
          -0.23567920674210455,
          null
         ],
         "y": [
          -0.17833222659589787,
          0.09696823925398873,
          null
         ]
        },
        {
         "line": {
          "shape": "spline",
          "width": 0.5
         },
         "marker": {
          "color": "#ece8e8"
         },
         "mode": "lines",
         "opacity": 1,
         "type": "scatter",
         "x": [
          -0.2892684372156338,
          -0.012047858220622801,
          null
         ],
         "y": [
          -0.17833222659589787,
          -0.15888910657255112,
          null
         ]
        },
        {
         "line": {
          "shape": "spline",
          "width": 0.5
         },
         "marker": {
          "color": "#ece8e8"
         },
         "mode": "lines",
         "opacity": 1,
         "type": "scatter",
         "x": [
          -0.2892684372156338,
          0.11541973297070345,
          null
         ],
         "y": [
          -0.17833222659589787,
          -0.21690996264590942,
          null
         ]
        },
        {
         "line": {
          "shape": "spline",
          "width": 0.5
         },
         "marker": {
          "color": "#ece8e8"
         },
         "mode": "lines",
         "opacity": 1,
         "type": "scatter",
         "x": [
          0.26546216653525684,
          0.11541973297070345,
          null
         ],
         "y": [
          0.11511316391266556,
          -0.21690996264590942,
          null
         ]
        },
        {
         "line": {
          "shape": "spline",
          "width": 0.5
         },
         "marker": {
          "color": "#ece8e8"
         },
         "mode": "lines",
         "opacity": 1,
         "type": "scatter",
         "x": [
          0.26546216653525684,
          -0.10097929361113614,
          null
         ],
         "y": [
          0.11511316391266556,
          0.012466463271866533,
          null
         ]
        },
        {
         "line": {
          "shape": "spline",
          "width": 0.5
         },
         "marker": {
          "color": "#ece8e8"
         },
         "mode": "lines",
         "opacity": 1,
         "type": "scatter",
         "x": [
          0.26546216653525684,
          -0.22912735232692857,
          null
         ],
         "y": [
          0.11511316391266556,
          0.22291283856355693,
          null
         ]
        },
        {
         "line": {
          "shape": "spline",
          "width": 0.5
         },
         "marker": {
          "color": "#ece8e8"
         },
         "mode": "lines",
         "opacity": 1,
         "type": "scatter",
         "x": [
          0.2892316921553843,
          0.11541973297070345,
          null
         ],
         "y": [
          -0.38862113390255304,
          -0.21690996264590942,
          null
         ]
        },
        {
         "line": {
          "shape": "spline",
          "width": 0.5
         },
         "marker": {
          "color": "#ece8e8"
         },
         "mode": "lines",
         "opacity": 1,
         "type": "scatter",
         "x": [
          0.2892316921553843,
          0.3838157817750737,
          null
         ],
         "y": [
          -0.38862113390255304,
          -0.6236523001417581,
          null
         ]
        },
        {
         "line": {
          "shape": "spline",
          "width": 0.5
         },
         "marker": {
          "color": "#ece8e8"
         },
         "mode": "lines",
         "opacity": 1,
         "type": "scatter",
         "x": [
          0.2892316921553843,
          0.6290120909970636,
          null
         ],
         "y": [
          -0.38862113390255304,
          -0.4128442794561126,
          null
         ]
        },
        {
         "line": {
          "shape": "spline",
          "width": 0.5
         },
         "marker": {
          "color": "#ece8e8"
         },
         "mode": "lines",
         "opacity": 1,
         "type": "scatter",
         "x": [
          0.2892316921553843,
          -0.09362941864909598,
          null
         ],
         "y": [
          -0.38862113390255304,
          -0.21052603249987867,
          null
         ]
        },
        {
         "line": {
          "shape": "spline",
          "width": 0.5
         },
         "marker": {
          "color": "#ece8e8"
         },
         "mode": "lines",
         "opacity": 1,
         "type": "scatter",
         "x": [
          0.2892316921553843,
          0.5515481576936492,
          null
         ],
         "y": [
          -0.38862113390255304,
          -0.23981830129662174,
          null
         ]
        },
        {
         "line": {
          "shape": "spline",
          "width": 0.5
         },
         "marker": {
          "color": "#ece8e8"
         },
         "mode": "lines",
         "opacity": 1,
         "type": "scatter",
         "x": [
          0.2892316921553843,
          -0.012047858220622801,
          null
         ],
         "y": [
          -0.38862113390255304,
          -0.15888910657255112,
          null
         ]
        },
        {
         "line": {
          "shape": "spline",
          "width": 0.5
         },
         "marker": {
          "color": "#ece8e8"
         },
         "mode": "lines",
         "opacity": 1,
         "type": "scatter",
         "x": [
          0.2892316921553843,
          0.3195313911654045,
          null
         ],
         "y": [
          -0.38862113390255304,
          -0.10717551763546776,
          null
         ]
        },
        {
         "line": {
          "shape": "spline",
          "width": 0.5
         },
         "marker": {
          "color": "#ece8e8"
         },
         "mode": "lines",
         "opacity": 1,
         "type": "scatter",
         "x": [
          0.2892316921553843,
          0.2665607881338202,
          null
         ],
         "y": [
          -0.38862113390255304,
          -0.5420407078386288,
          null
         ]
        },
        {
         "line": {
          "shape": "spline",
          "width": 0.5
         },
         "marker": {
          "color": "#ece8e8"
         },
         "mode": "lines",
         "opacity": 1,
         "type": "scatter",
         "x": [
          0.2892316921553843,
          0.6299540558288864,
          null
         ],
         "y": [
          -0.38862113390255304,
          -0.31109339780408973,
          null
         ]
        },
        {
         "line": {
          "shape": "spline",
          "width": 0.5
         },
         "marker": {
          "color": "#ece8e8"
         },
         "mode": "lines",
         "opacity": 1,
         "type": "scatter",
         "x": [
          0.2892316921553843,
          0.5807241683507863,
          null
         ],
         "y": [
          -0.38862113390255304,
          -0.5061029488591657,
          null
         ]
        },
        {
         "line": {
          "shape": "spline",
          "width": 0.5
         },
         "marker": {
          "color": "#ece8e8"
         },
         "mode": "lines",
         "opacity": 1,
         "type": "scatter",
         "x": [
          0.2892316921553843,
          0.48507726352568553,
          null
         ],
         "y": [
          -0.38862113390255304,
          -0.3810037570628175,
          null
         ]
        },
        {
         "line": {
          "shape": "spline",
          "width": 0.5
         },
         "marker": {
          "color": "#ece8e8"
         },
         "mode": "lines",
         "opacity": 1,
         "type": "scatter",
         "x": [
          0.2892316921553843,
          0.014723219068822279,
          null
         ],
         "y": [
          -0.38862113390255304,
          -0.5544443642049247,
          null
         ]
        },
        {
         "line": {
          "shape": "spline",
          "width": 0.5
         },
         "marker": {
          "color": "#ece8e8"
         },
         "mode": "lines",
         "opacity": 1,
         "type": "scatter",
         "x": [
          0.2892316921553843,
          0.1351314306774506,
          null
         ],
         "y": [
          -0.38862113390255304,
          -0.3903134575357185,
          null
         ]
        },
        {
         "line": {
          "shape": "spline",
          "width": 0.5
         },
         "marker": {
          "color": "#ece8e8"
         },
         "mode": "lines",
         "opacity": 1,
         "type": "scatter",
         "x": [
          0.2892316921553843,
          0.5028339812484264,
          null
         ],
         "y": [
          -0.38862113390255304,
          -0.594702808507188,
          null
         ]
        },
        {
         "line": {
          "shape": "spline",
          "width": 0.5
         },
         "marker": {
          "color": "#ece8e8"
         },
         "mode": "lines",
         "opacity": 1,
         "type": "scatter",
         "x": [
          0.2892316921553843,
          0.4318521812552965,
          null
         ],
         "y": [
          -0.38862113390255304,
          -0.5128045224896088,
          null
         ]
        },
        {
         "line": {
          "shape": "spline",
          "width": 0.5
         },
         "marker": {
          "color": "#ece8e8"
         },
         "mode": "lines",
         "opacity": 1,
         "type": "scatter",
         "x": [
          -0.6916730567979607,
          -0.23567920674210455,
          null
         ],
         "y": [
          0.006143562593996747,
          0.09696823925398873,
          null
         ]
        },
        {
         "line": {
          "shape": "spline",
          "width": 0.5
         },
         "marker": {
          "color": "#ece8e8"
         },
         "mode": "lines",
         "opacity": 1,
         "type": "scatter",
         "x": [
          -0.6916730567979607,
          -0.3911271321957173,
          null
         ],
         "y": [
          0.006143562593996747,
          -0.4023905035836392,
          null
         ]
        },
        {
         "line": {
          "shape": "spline",
          "width": 0.5
         },
         "marker": {
          "color": "#ece8e8"
         },
         "mode": "lines",
         "opacity": 1,
         "type": "scatter",
         "x": [
          -0.6916730567979607,
          -0.22912735232692857,
          null
         ],
         "y": [
          0.006143562593996747,
          0.22291283856355693,
          null
         ]
        },
        {
         "line": {
          "shape": "spline",
          "width": 0.5
         },
         "marker": {
          "color": "#ece8e8"
         },
         "mode": "lines",
         "opacity": 1,
         "type": "scatter",
         "x": [
          0.1797321410368675,
          -0.23567920674210455,
          null
         ],
         "y": [
          0.2767419094255269,
          0.09696823925398873,
          null
         ]
        },
        {
         "line": {
          "shape": "spline",
          "width": 0.5
         },
         "marker": {
          "color": "#ece8e8"
         },
         "mode": "lines",
         "opacity": 1,
         "type": "scatter",
         "x": [
          0.1797321410368675,
          -0.1445613452142485,
          null
         ],
         "y": [
          0.2767419094255269,
          0.4643110051266712,
          null
         ]
        },
        {
         "line": {
          "shape": "spline",
          "width": 0.5
         },
         "marker": {
          "color": "#ece8e8"
         },
         "mode": "lines",
         "opacity": 1,
         "type": "scatter",
         "x": [
          0.1797321410368675,
          0.11541973297070345,
          null
         ],
         "y": [
          0.2767419094255269,
          -0.21690996264590942,
          null
         ]
        },
        {
         "line": {
          "shape": "spline",
          "width": 0.5
         },
         "marker": {
          "color": "#ece8e8"
         },
         "mode": "lines",
         "opacity": 1,
         "type": "scatter",
         "x": [
          0.1797321410368675,
          -0.13702344846983283,
          null
         ],
         "y": [
          0.2767419094255269,
          0.2331159758732535,
          null
         ]
        },
        {
         "line": {
          "shape": "spline",
          "width": 0.5
         },
         "marker": {
          "color": "#ece8e8"
         },
         "mode": "lines",
         "opacity": 1,
         "type": "scatter",
         "x": [
          0.1797321410368675,
          -0.36482090931303934,
          null
         ],
         "y": [
          0.2767419094255269,
          0.39149959542752877,
          null
         ]
        },
        {
         "line": {
          "shape": "spline",
          "width": 0.5
         },
         "marker": {
          "color": "#ece8e8"
         },
         "mode": "lines",
         "opacity": 1,
         "type": "scatter",
         "x": [
          0.9338772018253828,
          0.3195313911654045,
          null
         ],
         "y": [
          -0.07474316404009786,
          -0.10717551763546776,
          null
         ]
        },
        {
         "line": {
          "shape": "spline",
          "width": 0.5
         },
         "marker": {
          "color": "#ece8e8"
         },
         "mode": "lines",
         "opacity": 1,
         "type": "scatter",
         "x": [
          0.028671847889608058,
          -0.22912735232692857,
          null
         ],
         "y": [
          0.06825381499332386,
          0.22291283856355693,
          null
         ]
        },
        {
         "line": {
          "shape": "spline",
          "width": 0.5
         },
         "marker": {
          "color": "#ece8e8"
         },
         "mode": "lines",
         "opacity": 1,
         "type": "scatter",
         "x": [
          0.028671847889608058,
          -0.19035530087513267,
          null
         ],
         "y": [
          0.06825381499332386,
          -0.08457543621539751,
          null
         ]
        },
        {
         "line": {
          "shape": "spline",
          "width": 0.5
         },
         "marker": {
          "color": "#ece8e8"
         },
         "mode": "lines",
         "opacity": 1,
         "type": "scatter",
         "x": [
          0.028671847889608058,
          0.09352037973994606,
          null
         ],
         "y": [
          0.06825381499332386,
          0.29478968137512285,
          null
         ]
        },
        {
         "line": {
          "shape": "spline",
          "width": 0.5
         },
         "marker": {
          "color": "#ece8e8"
         },
         "mode": "lines",
         "opacity": 1,
         "type": "scatter",
         "x": [
          0.028671847889608058,
          -0.23567920674210455,
          null
         ],
         "y": [
          0.06825381499332386,
          0.09696823925398873,
          null
         ]
        },
        {
         "line": {
          "shape": "spline",
          "width": 0.5
         },
         "marker": {
          "color": "#ece8e8"
         },
         "mode": "lines",
         "opacity": 1,
         "type": "scatter",
         "x": [
          0.028671847889608058,
          0.11541973297070345,
          null
         ],
         "y": [
          0.06825381499332386,
          -0.21690996264590942,
          null
         ]
        },
        {
         "line": {
          "shape": "spline",
          "width": 0.5
         },
         "marker": {
          "color": "#ece8e8"
         },
         "mode": "lines",
         "opacity": 1,
         "type": "scatter",
         "x": [
          0.028671847889608058,
          -0.10097929361113614,
          null
         ],
         "y": [
          0.06825381499332386,
          0.012466463271866533,
          null
         ]
        },
        {
         "line": {
          "shape": "spline",
          "width": 0.5
         },
         "marker": {
          "color": "#ece8e8"
         },
         "mode": "lines",
         "opacity": 1,
         "type": "scatter",
         "x": [
          -0.19288743746830359,
          -0.22912735232692857,
          null
         ],
         "y": [
          0.6808559339423768,
          0.22291283856355693,
          null
         ]
        },
        {
         "line": {
          "shape": "spline",
          "width": 0.5
         },
         "marker": {
          "color": "#ece8e8"
         },
         "mode": "lines",
         "opacity": 1,
         "type": "scatter",
         "x": [
          -0.19288743746830359,
          -0.004762764740717416,
          null
         ],
         "y": [
          0.6808559339423768,
          0.21016259525776215,
          null
         ]
        },
        {
         "line": {
          "shape": "spline",
          "width": 0.5
         },
         "marker": {
          "color": "#ece8e8"
         },
         "mode": "lines",
         "opacity": 1,
         "type": "scatter",
         "x": [
          -0.19288743746830359,
          -0.5870065943209695,
          null
         ],
         "y": [
          0.6808559339423768,
          0.6122795569856104,
          null
         ]
        },
        {
         "line": {
          "shape": "spline",
          "width": 0.5
         },
         "marker": {
          "color": "#ece8e8"
         },
         "mode": "lines",
         "opacity": 1,
         "type": "scatter",
         "x": [
          -0.1445613452142485,
          -0.23567920674210455,
          null
         ],
         "y": [
          0.4643110051266712,
          0.09696823925398873,
          null
         ]
        },
        {
         "line": {
          "shape": "spline",
          "width": 0.5
         },
         "marker": {
          "color": "#ece8e8"
         },
         "mode": "lines",
         "opacity": 1,
         "type": "scatter",
         "x": [
          -0.1445613452142485,
          -0.36482090931303934,
          null
         ],
         "y": [
          0.4643110051266712,
          0.39149959542752877,
          null
         ]
        },
        {
         "line": {
          "shape": "spline",
          "width": 0.5
         },
         "marker": {
          "color": "#ece8e8"
         },
         "mode": "lines",
         "opacity": 1,
         "type": "scatter",
         "x": [
          -0.1445613452142485,
          -0.22912735232692857,
          null
         ],
         "y": [
          0.4643110051266712,
          0.22291283856355693,
          null
         ]
        },
        {
         "line": {
          "shape": "spline",
          "width": 0.5
         },
         "marker": {
          "color": "#ece8e8"
         },
         "mode": "lines",
         "opacity": 1,
         "type": "scatter",
         "x": [
          -0.1445613452142485,
          -0.13702344846983283,
          null
         ],
         "y": [
          0.4643110051266712,
          0.2331159758732535,
          null
         ]
        },
        {
         "line": {
          "shape": "spline",
          "width": 0.5
         },
         "marker": {
          "color": "#ece8e8"
         },
         "mode": "lines",
         "opacity": 1,
         "type": "scatter",
         "x": [
          -0.1445613452142485,
          -0.3333316635460027,
          null
         ],
         "y": [
          0.4643110051266712,
          -0.012684536489999069,
          null
         ]
        },
        {
         "line": {
          "shape": "spline",
          "width": 0.5
         },
         "marker": {
          "color": "#ece8e8"
         },
         "mode": "lines",
         "opacity": 1,
         "type": "scatter",
         "x": [
          0.7692618358499506,
          0.39965091730429475,
          null
         ],
         "y": [
          0.7093155420719485,
          0.3020403870395779,
          null
         ]
        },
        {
         "line": {
          "shape": "spline",
          "width": 0.5
         },
         "marker": {
          "color": "#ece8e8"
         },
         "mode": "lines",
         "opacity": 1,
         "type": "scatter",
         "x": [
          0.6366761443052944,
          0.11541973297070345,
          null
         ],
         "y": [
          -0.06192863350479695,
          -0.21690996264590942,
          null
         ]
        },
        {
         "line": {
          "shape": "spline",
          "width": 0.5
         },
         "marker": {
          "color": "#ece8e8"
         },
         "mode": "lines",
         "opacity": 1,
         "type": "scatter",
         "x": [
          0.22914481294055586,
          0.11541973297070345,
          null
         ],
         "y": [
          0.1894883472262376,
          -0.21690996264590942,
          null
         ]
        },
        {
         "line": {
          "shape": "spline",
          "width": 0.5
         },
         "marker": {
          "color": "#ece8e8"
         },
         "mode": "lines",
         "opacity": 1,
         "type": "scatter",
         "x": [
          0.22914481294055586,
          -0.22912735232692857,
          null
         ],
         "y": [
          0.1894883472262376,
          0.22291283856355693,
          null
         ]
        },
        {
         "line": {
          "shape": "spline",
          "width": 0.5
         },
         "marker": {
          "color": "#ece8e8"
         },
         "mode": "lines",
         "opacity": 1,
         "type": "scatter",
         "x": [
          0.22914481294055586,
          -0.23567920674210455,
          null
         ],
         "y": [
          0.1894883472262376,
          0.09696823925398873,
          null
         ]
        },
        {
         "line": {
          "shape": "spline",
          "width": 0.5
         },
         "marker": {
          "color": "#ece8e8"
         },
         "mode": "lines",
         "opacity": 1,
         "type": "scatter",
         "x": [
          0.22914481294055586,
          0.3195313911654045,
          null
         ],
         "y": [
          0.1894883472262376,
          -0.10717551763546776,
          null
         ]
        },
        {
         "line": {
          "shape": "spline",
          "width": 0.5
         },
         "marker": {
          "color": "#ece8e8"
         },
         "mode": "lines",
         "opacity": 1,
         "type": "scatter",
         "x": [
          -0.10659690513775608,
          -0.22912735232692857,
          null
         ],
         "y": [
          0.793218568697612,
          0.22291283856355693,
          null
         ]
        },
        {
         "line": {
          "shape": "spline",
          "width": 0.5
         },
         "marker": {
          "color": "#ece8e8"
         },
         "mode": "lines",
         "opacity": 1,
         "type": "scatter",
         "x": [
          0.42181900325014254,
          -0.10097929361113614,
          null
         ],
         "y": [
          0.5535004420554839,
          0.012466463271866533,
          null
         ]
        },
        {
         "line": {
          "shape": "spline",
          "width": 0.5
         },
         "marker": {
          "color": "#ece8e8"
         },
         "mode": "lines",
         "opacity": 1,
         "type": "scatter",
         "x": [
          0.2665607881338202,
          0.5515481576936492,
          null
         ],
         "y": [
          -0.5420407078386288,
          -0.23981830129662174,
          null
         ]
        },
        {
         "line": {
          "shape": "spline",
          "width": 0.5
         },
         "marker": {
          "color": "#ece8e8"
         },
         "mode": "lines",
         "opacity": 1,
         "type": "scatter",
         "x": [
          0.2665607881338202,
          0.3195313911654045,
          null
         ],
         "y": [
          -0.5420407078386288,
          -0.10717551763546776,
          null
         ]
        },
        {
         "line": {
          "shape": "spline",
          "width": 0.5
         },
         "marker": {
          "color": "#ece8e8"
         },
         "mode": "lines",
         "opacity": 1,
         "type": "scatter",
         "x": [
          0.2665607881338202,
          0.6290120909970636,
          null
         ],
         "y": [
          -0.5420407078386288,
          -0.4128442794561126,
          null
         ]
        },
        {
         "line": {
          "shape": "spline",
          "width": 0.5
         },
         "marker": {
          "color": "#ece8e8"
         },
         "mode": "lines",
         "opacity": 1,
         "type": "scatter",
         "x": [
          0.2665607881338202,
          -0.09362941864909598,
          null
         ],
         "y": [
          -0.5420407078386288,
          -0.21052603249987867,
          null
         ]
        },
        {
         "line": {
          "shape": "spline",
          "width": 0.5
         },
         "marker": {
          "color": "#ece8e8"
         },
         "mode": "lines",
         "opacity": 1,
         "type": "scatter",
         "x": [
          0.2665607881338202,
          0.11541973297070345,
          null
         ],
         "y": [
          -0.5420407078386288,
          -0.21690996264590942,
          null
         ]
        },
        {
         "line": {
          "shape": "spline",
          "width": 0.5
         },
         "marker": {
          "color": "#ece8e8"
         },
         "mode": "lines",
         "opacity": 1,
         "type": "scatter",
         "x": [
          0.2665607881338202,
          0.3838157817750737,
          null
         ],
         "y": [
          -0.5420407078386288,
          -0.6236523001417581,
          null
         ]
        },
        {
         "line": {
          "shape": "spline",
          "width": 0.5
         },
         "marker": {
          "color": "#ece8e8"
         },
         "mode": "lines",
         "opacity": 1,
         "type": "scatter",
         "x": [
          0.2665607881338202,
          0.5807241683507863,
          null
         ],
         "y": [
          -0.5420407078386288,
          -0.5061029488591657,
          null
         ]
        },
        {
         "line": {
          "shape": "spline",
          "width": 0.5
         },
         "marker": {
          "color": "#ece8e8"
         },
         "mode": "lines",
         "opacity": 1,
         "type": "scatter",
         "x": [
          0.2665607881338202,
          0.6299540558288864,
          null
         ],
         "y": [
          -0.5420407078386288,
          -0.31109339780408973,
          null
         ]
        },
        {
         "line": {
          "shape": "spline",
          "width": 0.5
         },
         "marker": {
          "color": "#ece8e8"
         },
         "mode": "lines",
         "opacity": 1,
         "type": "scatter",
         "x": [
          0.2665607881338202,
          0.48507726352568553,
          null
         ],
         "y": [
          -0.5420407078386288,
          -0.3810037570628175,
          null
         ]
        },
        {
         "line": {
          "shape": "spline",
          "width": 0.5
         },
         "marker": {
          "color": "#ece8e8"
         },
         "mode": "lines",
         "opacity": 1,
         "type": "scatter",
         "x": [
          0.2665607881338202,
          0.4318521812552965,
          null
         ],
         "y": [
          -0.5420407078386288,
          -0.5128045224896088,
          null
         ]
        },
        {
         "line": {
          "shape": "spline",
          "width": 0.5
         },
         "marker": {
          "color": "#ece8e8"
         },
         "mode": "lines",
         "opacity": 1,
         "type": "scatter",
         "x": [
          0.2665607881338202,
          0.5028339812484264,
          null
         ],
         "y": [
          -0.5420407078386288,
          -0.594702808507188,
          null
         ]
        },
        {
         "line": {
          "shape": "spline",
          "width": 0.5
         },
         "marker": {
          "color": "#ece8e8"
         },
         "mode": "lines",
         "opacity": 1,
         "type": "scatter",
         "x": [
          0.24531530748599703,
          -0.10097929361113614,
          null
         ],
         "y": [
          0.6705042785290103,
          0.012466463271866533,
          null
         ]
        },
        {
         "line": {
          "shape": "spline",
          "width": 0.5
         },
         "marker": {
          "color": "#ece8e8"
         },
         "mode": "lines",
         "opacity": 1,
         "type": "scatter",
         "x": [
          -0.23567920674210455,
          -0.22912735232692857,
          null
         ],
         "y": [
          0.09696823925398873,
          0.22291283856355693,
          null
         ]
        },
        {
         "line": {
          "shape": "spline",
          "width": 0.5
         },
         "marker": {
          "color": "#ece8e8"
         },
         "mode": "lines",
         "opacity": 1,
         "type": "scatter",
         "x": [
          -0.23567920674210455,
          -0.13702344846983283,
          null
         ],
         "y": [
          0.09696823925398873,
          0.2331159758732535,
          null
         ]
        },
        {
         "line": {
          "shape": "spline",
          "width": 0.5
         },
         "marker": {
          "color": "#ece8e8"
         },
         "mode": "lines",
         "opacity": 1,
         "type": "scatter",
         "x": [
          -0.23567920674210455,
          -0.10097929361113614,
          null
         ],
         "y": [
          0.09696823925398873,
          0.012466463271866533,
          null
         ]
        },
        {
         "line": {
          "shape": "spline",
          "width": 0.5
         },
         "marker": {
          "color": "#ece8e8"
         },
         "mode": "lines",
         "opacity": 1,
         "type": "scatter",
         "x": [
          -0.23567920674210455,
          -0.004762764740717416,
          null
         ],
         "y": [
          0.09696823925398873,
          0.21016259525776215,
          null
         ]
        },
        {
         "line": {
          "shape": "spline",
          "width": 0.5
         },
         "marker": {
          "color": "#ece8e8"
         },
         "mode": "lines",
         "opacity": 1,
         "type": "scatter",
         "x": [
          -0.23567920674210455,
          -0.5758968296931457,
          null
         ],
         "y": [
          0.09696823925398873,
          0.3677070715846346,
          null
         ]
        },
        {
         "line": {
          "shape": "spline",
          "width": 0.5
         },
         "marker": {
          "color": "#ece8e8"
         },
         "mode": "lines",
         "opacity": 1,
         "type": "scatter",
         "x": [
          -0.23567920674210455,
          0.11541973297070345,
          null
         ],
         "y": [
          0.09696823925398873,
          -0.21690996264590942,
          null
         ]
        },
        {
         "line": {
          "shape": "spline",
          "width": 0.5
         },
         "marker": {
          "color": "#ece8e8"
         },
         "mode": "lines",
         "opacity": 1,
         "type": "scatter",
         "x": [
          -0.23567920674210455,
          -0.3911271321957173,
          null
         ],
         "y": [
          0.09696823925398873,
          -0.4023905035836392,
          null
         ]
        },
        {
         "line": {
          "shape": "spline",
          "width": 0.5
         },
         "marker": {
          "color": "#ece8e8"
         },
         "mode": "lines",
         "opacity": 1,
         "type": "scatter",
         "x": [
          -0.23567920674210455,
          -0.5274432885344671,
          null
         ],
         "y": [
          0.09696823925398873,
          0.22543680209160435,
          null
         ]
        },
        {
         "line": {
          "shape": "spline",
          "width": 0.5
         },
         "marker": {
          "color": "#ece8e8"
         },
         "mode": "lines",
         "opacity": 1,
         "type": "scatter",
         "x": [
          -0.23567920674210455,
          -0.6953534605468638,
          null
         ],
         "y": [
          0.09696823925398873,
          0.2824221850916814,
          null
         ]
        },
        {
         "line": {
          "shape": "spline",
          "width": 0.5
         },
         "marker": {
          "color": "#ece8e8"
         },
         "mode": "lines",
         "opacity": 1,
         "type": "scatter",
         "x": [
          -0.23567920674210455,
          -0.36482090931303934,
          null
         ],
         "y": [
          0.09696823925398873,
          0.39149959542752877,
          null
         ]
        },
        {
         "line": {
          "shape": "spline",
          "width": 0.5
         },
         "marker": {
          "color": "#ece8e8"
         },
         "mode": "lines",
         "opacity": 1,
         "type": "scatter",
         "x": [
          -0.23567920674210455,
          -0.3612541971196493,
          null
         ],
         "y": [
          0.09696823925398873,
          -0.13150119562845486,
          null
         ]
        },
        {
         "line": {
          "shape": "spline",
          "width": 0.5
         },
         "marker": {
          "color": "#ece8e8"
         },
         "mode": "lines",
         "opacity": 1,
         "type": "scatter",
         "x": [
          -0.23567920674210455,
          -0.7072987167828125,
          null
         ],
         "y": [
          0.09696823925398873,
          0.14388729813877643,
          null
         ]
        },
        {
         "line": {
          "shape": "spline",
          "width": 0.5
         },
         "marker": {
          "color": "#ece8e8"
         },
         "mode": "lines",
         "opacity": 1,
         "type": "scatter",
         "x": [
          -0.23567920674210455,
          0.07036544299160555,
          null
         ],
         "y": [
          0.09696823925398873,
          0.49460034709621575,
          null
         ]
        },
        {
         "line": {
          "shape": "spline",
          "width": 0.5
         },
         "marker": {
          "color": "#ece8e8"
         },
         "mode": "lines",
         "opacity": 1,
         "type": "scatter",
         "x": [
          -0.23567920674210455,
          0.1105766569509571,
          null
         ],
         "y": [
          0.09696823925398873,
          0.14114263222055068,
          null
         ]
        },
        {
         "line": {
          "shape": "spline",
          "width": 0.5
         },
         "marker": {
          "color": "#ece8e8"
         },
         "mode": "lines",
         "opacity": 1,
         "type": "scatter",
         "x": [
          -0.23567920674210455,
          -0.19035530087513267,
          null
         ],
         "y": [
          0.09696823925398873,
          -0.08457543621539751,
          null
         ]
        },
        {
         "line": {
          "shape": "spline",
          "width": 0.5
         },
         "marker": {
          "color": "#ece8e8"
         },
         "mode": "lines",
         "opacity": 1,
         "type": "scatter",
         "x": [
          -0.23567920674210455,
          0.09352037973994606,
          null
         ],
         "y": [
          0.09696823925398873,
          0.29478968137512285,
          null
         ]
        },
        {
         "line": {
          "shape": "spline",
          "width": 0.5
         },
         "marker": {
          "color": "#ece8e8"
         },
         "mode": "lines",
         "opacity": 1,
         "type": "scatter",
         "x": [
          -0.23567920674210455,
          0.39965091730429475,
          null
         ],
         "y": [
          0.09696823925398873,
          0.3020403870395779,
          null
         ]
        },
        {
         "line": {
          "shape": "spline",
          "width": 0.5
         },
         "marker": {
          "color": "#ece8e8"
         },
         "mode": "lines",
         "opacity": 1,
         "type": "scatter",
         "x": [
          -0.23567920674210455,
          -0.8141036198228513,
          null
         ],
         "y": [
          0.09696823925398873,
          -0.13995571584364622,
          null
         ]
        },
        {
         "line": {
          "shape": "spline",
          "width": 0.5
         },
         "marker": {
          "color": "#ece8e8"
         },
         "mode": "lines",
         "opacity": 1,
         "type": "scatter",
         "x": [
          -0.23567920674210455,
          -0.5121741430949502,
          null
         ],
         "y": [
          0.09696823925398873,
          0.5279114595048212,
          null
         ]
        },
        {
         "line": {
          "shape": "spline",
          "width": 0.5
         },
         "marker": {
          "color": "#ece8e8"
         },
         "mode": "lines",
         "opacity": 1,
         "type": "scatter",
         "x": [
          -0.23567920674210455,
          -0.2925581991378536,
          null
         ],
         "y": [
          0.09696823925398873,
          -0.45084155397997905,
          null
         ]
        },
        {
         "line": {
          "shape": "spline",
          "width": 0.5
         },
         "marker": {
          "color": "#ece8e8"
         },
         "mode": "lines",
         "opacity": 1,
         "type": "scatter",
         "x": [
          -0.23567920674210455,
          -0.5498714292610081,
          null
         ],
         "y": [
          0.09696823925398873,
          -0.1228099526109709,
          null
         ]
        },
        {
         "line": {
          "shape": "spline",
          "width": 0.5
         },
         "marker": {
          "color": "#ece8e8"
         },
         "mode": "lines",
         "opacity": 1,
         "type": "scatter",
         "x": [
          -0.004762764740717416,
          -0.22912735232692857,
          null
         ],
         "y": [
          0.21016259525776215,
          0.22291283856355693,
          null
         ]
        },
        {
         "line": {
          "shape": "spline",
          "width": 0.5
         },
         "marker": {
          "color": "#ece8e8"
         },
         "mode": "lines",
         "opacity": 1,
         "type": "scatter",
         "x": [
          -0.004762764740717416,
          -0.13702344846983283,
          null
         ],
         "y": [
          0.21016259525776215,
          0.2331159758732535,
          null
         ]
        },
        {
         "line": {
          "shape": "spline",
          "width": 0.5
         },
         "marker": {
          "color": "#ece8e8"
         },
         "mode": "lines",
         "opacity": 1,
         "type": "scatter",
         "x": [
          -0.004762764740717416,
          0.11541973297070345,
          null
         ],
         "y": [
          0.21016259525776215,
          -0.21690996264590942,
          null
         ]
        },
        {
         "line": {
          "shape": "spline",
          "width": 0.5
         },
         "marker": {
          "color": "#ece8e8"
         },
         "mode": "lines",
         "opacity": 1,
         "type": "scatter",
         "x": [
          -0.004762764740717416,
          -0.10097929361113614,
          null
         ],
         "y": [
          0.21016259525776215,
          0.012466463271866533,
          null
         ]
        },
        {
         "line": {
          "shape": "spline",
          "width": 0.5
         },
         "marker": {
          "color": "#ece8e8"
         },
         "mode": "lines",
         "opacity": 1,
         "type": "scatter",
         "x": [
          -0.004762764740717416,
          0.07036544299160555,
          null
         ],
         "y": [
          0.21016259525776215,
          0.49460034709621575,
          null
         ]
        },
        {
         "line": {
          "shape": "spline",
          "width": 0.5
         },
         "marker": {
          "color": "#ece8e8"
         },
         "mode": "lines",
         "opacity": 1,
         "type": "scatter",
         "x": [
          -0.004762764740717416,
          -0.5121741430949502,
          null
         ],
         "y": [
          0.21016259525776215,
          0.5279114595048212,
          null
         ]
        },
        {
         "line": {
          "shape": "spline",
          "width": 0.5
         },
         "marker": {
          "color": "#ece8e8"
         },
         "mode": "lines",
         "opacity": 1,
         "type": "scatter",
         "x": [
          -0.004762764740717416,
          0.39965091730429475,
          null
         ],
         "y": [
          0.21016259525776215,
          0.3020403870395779,
          null
         ]
        },
        {
         "line": {
          "shape": "spline",
          "width": 0.5
         },
         "marker": {
          "color": "#ece8e8"
         },
         "mode": "lines",
         "opacity": 1,
         "type": "scatter",
         "x": [
          -0.004762764740717416,
          -0.015456291130570357,
          null
         ],
         "y": [
          0.21016259525776215,
          0.6693358453638216,
          null
         ]
        },
        {
         "line": {
          "shape": "spline",
          "width": 0.5
         },
         "marker": {
          "color": "#ece8e8"
         },
         "mode": "lines",
         "opacity": 1,
         "type": "scatter",
         "x": [
          -0.004762764740717416,
          -0.09362941864909598,
          null
         ],
         "y": [
          0.21016259525776215,
          -0.21052603249987867,
          null
         ]
        },
        {
         "line": {
          "shape": "spline",
          "width": 0.5
         },
         "marker": {
          "color": "#ece8e8"
         },
         "mode": "lines",
         "opacity": 1,
         "type": "scatter",
         "x": [
          -0.004762764740717416,
          -0.19035530087513267,
          null
         ],
         "y": [
          0.21016259525776215,
          -0.08457543621539751,
          null
         ]
        },
        {
         "line": {
          "shape": "spline",
          "width": 0.5
         },
         "marker": {
          "color": "#ece8e8"
         },
         "mode": "lines",
         "opacity": 1,
         "type": "scatter",
         "x": [
          -0.004762764740717416,
          -0.10024018529683958,
          null
         ],
         "y": [
          0.21016259525776215,
          -0.46487625861225423,
          null
         ]
        },
        {
         "line": {
          "shape": "spline",
          "width": 0.5
         },
         "marker": {
          "color": "#ece8e8"
         },
         "mode": "lines",
         "opacity": 1,
         "type": "scatter",
         "x": [
          0.11541973297070345,
          -0.09362941864909598,
          null
         ],
         "y": [
          -0.21690996264590942,
          -0.21052603249987867,
          null
         ]
        },
        {
         "line": {
          "shape": "spline",
          "width": 0.5
         },
         "marker": {
          "color": "#ece8e8"
         },
         "mode": "lines",
         "opacity": 1,
         "type": "scatter",
         "x": [
          0.11541973297070345,
          -0.22912735232692857,
          null
         ],
         "y": [
          -0.21690996264590942,
          0.22291283856355693,
          null
         ]
        },
        {
         "line": {
          "shape": "spline",
          "width": 0.5
         },
         "marker": {
          "color": "#ece8e8"
         },
         "mode": "lines",
         "opacity": 1,
         "type": "scatter",
         "x": [
          0.11541973297070345,
          -0.10097929361113614,
          null
         ],
         "y": [
          -0.21690996264590942,
          0.012466463271866533,
          null
         ]
        },
        {
         "line": {
          "shape": "spline",
          "width": 0.5
         },
         "marker": {
          "color": "#ece8e8"
         },
         "mode": "lines",
         "opacity": 1,
         "type": "scatter",
         "x": [
          0.11541973297070345,
          -0.012047858220622801,
          null
         ],
         "y": [
          -0.21690996264590942,
          -0.15888910657255112,
          null
         ]
        },
        {
         "line": {
          "shape": "spline",
          "width": 0.5
         },
         "marker": {
          "color": "#ece8e8"
         },
         "mode": "lines",
         "opacity": 1,
         "type": "scatter",
         "x": [
          0.11541973297070345,
          0.1351314306774506,
          null
         ],
         "y": [
          -0.21690996264590942,
          -0.3903134575357185,
          null
         ]
        },
        {
         "line": {
          "shape": "spline",
          "width": 0.5
         },
         "marker": {
          "color": "#ece8e8"
         },
         "mode": "lines",
         "opacity": 1,
         "type": "scatter",
         "x": [
          0.11541973297070345,
          -0.13702344846983283,
          null
         ],
         "y": [
          -0.21690996264590942,
          0.2331159758732535,
          null
         ]
        },
        {
         "line": {
          "shape": "spline",
          "width": 0.5
         },
         "marker": {
          "color": "#ece8e8"
         },
         "mode": "lines",
         "opacity": 1,
         "type": "scatter",
         "x": [
          0.11541973297070345,
          -0.2925581991378536,
          null
         ],
         "y": [
          -0.21690996264590942,
          -0.45084155397997905,
          null
         ]
        },
        {
         "line": {
          "shape": "spline",
          "width": 0.5
         },
         "marker": {
          "color": "#ece8e8"
         },
         "mode": "lines",
         "opacity": 1,
         "type": "scatter",
         "x": [
          0.11541973297070345,
          -0.19035530087513267,
          null
         ],
         "y": [
          -0.21690996264590942,
          -0.08457543621539751,
          null
         ]
        },
        {
         "line": {
          "shape": "spline",
          "width": 0.5
         },
         "marker": {
          "color": "#ece8e8"
         },
         "mode": "lines",
         "opacity": 1,
         "type": "scatter",
         "x": [
          0.11541973297070345,
          -0.05969594242830725,
          null
         ],
         "y": [
          -0.21690996264590942,
          -0.7076181826831953,
          null
         ]
        },
        {
         "line": {
          "shape": "spline",
          "width": 0.5
         },
         "marker": {
          "color": "#ece8e8"
         },
         "mode": "lines",
         "opacity": 1,
         "type": "scatter",
         "x": [
          0.11541973297070345,
          -0.10024018529683958,
          null
         ],
         "y": [
          -0.21690996264590942,
          -0.46487625861225423,
          null
         ]
        },
        {
         "line": {
          "shape": "spline",
          "width": 0.5
         },
         "marker": {
          "color": "#ece8e8"
         },
         "mode": "lines",
         "opacity": 1,
         "type": "scatter",
         "x": [
          0.11541973297070345,
          0.3195313911654045,
          null
         ],
         "y": [
          -0.21690996264590942,
          -0.10717551763546776,
          null
         ]
        },
        {
         "line": {
          "shape": "spline",
          "width": 0.5
         },
         "marker": {
          "color": "#ece8e8"
         },
         "mode": "lines",
         "opacity": 1,
         "type": "scatter",
         "x": [
          0.11541973297070345,
          0.09352037973994606,
          null
         ],
         "y": [
          -0.21690996264590942,
          0.29478968137512285,
          null
         ]
        },
        {
         "line": {
          "shape": "spline",
          "width": 0.5
         },
         "marker": {
          "color": "#ece8e8"
         },
         "mode": "lines",
         "opacity": 1,
         "type": "scatter",
         "x": [
          0.11541973297070345,
          0.48507726352568553,
          null
         ],
         "y": [
          -0.21690996264590942,
          -0.3810037570628175,
          null
         ]
        },
        {
         "line": {
          "shape": "spline",
          "width": 0.5
         },
         "marker": {
          "color": "#ece8e8"
         },
         "mode": "lines",
         "opacity": 1,
         "type": "scatter",
         "x": [
          0.11541973297070345,
          -0.3333316635460027,
          null
         ],
         "y": [
          -0.21690996264590942,
          -0.012684536489999069,
          null
         ]
        },
        {
         "line": {
          "shape": "spline",
          "width": 0.5
         },
         "marker": {
          "color": "#ece8e8"
         },
         "mode": "lines",
         "opacity": 1,
         "type": "scatter",
         "x": [
          0.11541973297070345,
          -0.3612541971196493,
          null
         ],
         "y": [
          -0.21690996264590942,
          -0.13150119562845486,
          null
         ]
        },
        {
         "line": {
          "shape": "spline",
          "width": 0.5
         },
         "marker": {
          "color": "#ece8e8"
         },
         "mode": "lines",
         "opacity": 1,
         "type": "scatter",
         "x": [
          0.11541973297070345,
          0.1105766569509571,
          null
         ],
         "y": [
          -0.21690996264590942,
          0.14114263222055068,
          null
         ]
        },
        {
         "line": {
          "shape": "spline",
          "width": 0.5
         },
         "marker": {
          "color": "#ece8e8"
         },
         "mode": "lines",
         "opacity": 1,
         "type": "scatter",
         "x": [
          0.11541973297070345,
          0.027778077840414615,
          null
         ],
         "y": [
          -0.21690996264590942,
          -0.7842122928210482,
          null
         ]
        },
        {
         "line": {
          "shape": "spline",
          "width": 0.5
         },
         "marker": {
          "color": "#ece8e8"
         },
         "mode": "lines",
         "opacity": 1,
         "type": "scatter",
         "x": [
          0.11541973297070345,
          0.6290120909970636,
          null
         ],
         "y": [
          -0.21690996264590942,
          -0.4128442794561126,
          null
         ]
        },
        {
         "line": {
          "shape": "spline",
          "width": 0.5
         },
         "marker": {
          "color": "#ece8e8"
         },
         "mode": "lines",
         "opacity": 1,
         "type": "scatter",
         "x": [
          0.11541973297070345,
          0.5975013312563732,
          null
         ],
         "y": [
          -0.21690996264590942,
          0.07153110121700443,
          null
         ]
        },
        {
         "line": {
          "shape": "spline",
          "width": 0.5
         },
         "marker": {
          "color": "#ece8e8"
         },
         "mode": "lines",
         "opacity": 1,
         "type": "scatter",
         "x": [
          0.11541973297070345,
          0.5515481576936492,
          null
         ],
         "y": [
          -0.21690996264590942,
          -0.23981830129662174,
          null
         ]
        },
        {
         "line": {
          "shape": "spline",
          "width": 0.5
         },
         "marker": {
          "color": "#ece8e8"
         },
         "mode": "lines",
         "opacity": 1,
         "type": "scatter",
         "x": [
          0.11541973297070345,
          0.014723219068822279,
          null
         ],
         "y": [
          -0.21690996264590942,
          -0.5544443642049247,
          null
         ]
        },
        {
         "line": {
          "shape": "spline",
          "width": 0.5
         },
         "marker": {
          "color": "#ece8e8"
         },
         "mode": "lines",
         "opacity": 1,
         "type": "scatter",
         "x": [
          0.11541973297070345,
          0.24825279855494556,
          null
         ],
         "y": [
          -0.21690996264590942,
          -0.7094891097792136,
          null
         ]
        },
        {
         "line": {
          "shape": "spline",
          "width": 0.5
         },
         "marker": {
          "color": "#ece8e8"
         },
         "mode": "lines",
         "opacity": 1,
         "type": "scatter",
         "x": [
          0.11541973297070345,
          0.5807241683507863,
          null
         ],
         "y": [
          -0.21690996264590942,
          -0.5061029488591657,
          null
         ]
        },
        {
         "line": {
          "shape": "spline",
          "width": 0.5
         },
         "marker": {
          "color": "#ece8e8"
         },
         "mode": "lines",
         "opacity": 1,
         "type": "scatter",
         "x": [
          0.11541973297070345,
          0.6299540558288864,
          null
         ],
         "y": [
          -0.21690996264590942,
          -0.31109339780408973,
          null
         ]
        },
        {
         "line": {
          "shape": "spline",
          "width": 0.5
         },
         "marker": {
          "color": "#ece8e8"
         },
         "mode": "lines",
         "opacity": 1,
         "type": "scatter",
         "x": [
          0.11541973297070345,
          0.3838157817750737,
          null
         ],
         "y": [
          -0.21690996264590942,
          -0.6236523001417581,
          null
         ]
        },
        {
         "line": {
          "shape": "spline",
          "width": 0.5
         },
         "marker": {
          "color": "#ece8e8"
         },
         "mode": "lines",
         "opacity": 1,
         "type": "scatter",
         "x": [
          0.11541973297070345,
          0.14109557713993912,
          null
         ],
         "y": [
          -0.21690996264590942,
          -0.7796271789726851,
          null
         ]
        },
        {
         "line": {
          "shape": "spline",
          "width": 0.5
         },
         "marker": {
          "color": "#ece8e8"
         },
         "mode": "lines",
         "opacity": 1,
         "type": "scatter",
         "x": [
          0.11541973297070345,
          -0.4124275868642897,
          null
         ],
         "y": [
          -0.21690996264590942,
          -0.26460271208769764,
          null
         ]
        },
        {
         "line": {
          "shape": "spline",
          "width": 0.5
         },
         "marker": {
          "color": "#ece8e8"
         },
         "mode": "lines",
         "opacity": 1,
         "type": "scatter",
         "x": [
          0.11541973297070345,
          0.6823149614898538,
          null
         ],
         "y": [
          -0.21690996264590942,
          -0.170017609452674,
          null
         ]
        },
        {
         "line": {
          "shape": "spline",
          "width": 0.5
         },
         "marker": {
          "color": "#ece8e8"
         },
         "mode": "lines",
         "opacity": 1,
         "type": "scatter",
         "x": [
          0.11541973297070345,
          -0.3911271321957173,
          null
         ],
         "y": [
          -0.21690996264590942,
          -0.4023905035836392,
          null
         ]
        },
        {
         "line": {
          "shape": "spline",
          "width": 0.5
         },
         "marker": {
          "color": "#ece8e8"
         },
         "mode": "lines",
         "opacity": 1,
         "type": "scatter",
         "x": [
          0.11541973297070345,
          0.4318521812552965,
          null
         ],
         "y": [
          -0.21690996264590942,
          -0.5128045224896088,
          null
         ]
        },
        {
         "line": {
          "shape": "spline",
          "width": 0.5
         },
         "marker": {
          "color": "#ece8e8"
         },
         "mode": "lines",
         "opacity": 1,
         "type": "scatter",
         "x": [
          0.11541973297070345,
          -0.19794348947731769,
          null
         ],
         "y": [
          -0.21690996264590942,
          -0.5593650114387015,
          null
         ]
        },
        {
         "line": {
          "shape": "spline",
          "width": 0.5
         },
         "marker": {
          "color": "#ece8e8"
         },
         "mode": "lines",
         "opacity": 1,
         "type": "scatter",
         "x": [
          0.11541973297070345,
          -0.1657672958705738,
          null
         ],
         "y": [
          -0.21690996264590942,
          -0.7460209293463961,
          null
         ]
        },
        {
         "line": {
          "shape": "spline",
          "width": 0.5
         },
         "marker": {
          "color": "#ece8e8"
         },
         "mode": "lines",
         "opacity": 1,
         "type": "scatter",
         "x": [
          0.11541973297070345,
          0.5028339812484264,
          null
         ],
         "y": [
          -0.21690996264590942,
          -0.594702808507188,
          null
         ]
        },
        {
         "line": {
          "shape": "spline",
          "width": 0.5
         },
         "marker": {
          "color": "#ece8e8"
         },
         "mode": "lines",
         "opacity": 1,
         "type": "scatter",
         "x": [
          0.11085799295388234,
          -0.13702344846983283,
          null
         ],
         "y": [
          0.8416908865464873,
          0.2331159758732535,
          null
         ]
        },
        {
         "line": {
          "shape": "spline",
          "width": 0.5
         },
         "marker": {
          "color": "#ece8e8"
         },
         "mode": "lines",
         "opacity": 1,
         "type": "scatter",
         "x": [
          -0.015456291130570357,
          -0.22912735232692857,
          null
         ],
         "y": [
          0.6693358453638216,
          0.22291283856355693,
          null
         ]
        },
        {
         "line": {
          "shape": "spline",
          "width": 0.5
         },
         "marker": {
          "color": "#ece8e8"
         },
         "mode": "lines",
         "opacity": 1,
         "type": "scatter",
         "x": [
          -0.015456291130570357,
          -0.13702344846983283,
          null
         ],
         "y": [
          0.6693358453638216,
          0.2331159758732535,
          null
         ]
        },
        {
         "line": {
          "shape": "spline",
          "width": 0.5
         },
         "marker": {
          "color": "#ece8e8"
         },
         "mode": "lines",
         "opacity": 1,
         "type": "scatter",
         "x": [
          -0.29730801594806094,
          -0.22912735232692857,
          null
         ],
         "y": [
          0.7770261330114536,
          0.22291283856355693,
          null
         ]
        },
        {
         "line": {
          "shape": "spline",
          "width": 0.5
         },
         "marker": {
          "color": "#ece8e8"
         },
         "mode": "lines",
         "opacity": 1,
         "type": "scatter",
         "x": [
          0.476418546252964,
          0.09352037973994606,
          null
         ],
         "y": [
          0.7772259038295884,
          0.29478968137512285,
          null
         ]
        },
        {
         "line": {
          "shape": "spline",
          "width": 0.5
         },
         "marker": {
          "color": "#ece8e8"
         },
         "mode": "lines",
         "opacity": 1,
         "type": "scatter",
         "x": [
          0.24825279855494556,
          0.1351314306774506,
          null
         ],
         "y": [
          -0.7094891097792136,
          -0.3903134575357185,
          null
         ]
        },
        {
         "line": {
          "shape": "spline",
          "width": 0.5
         },
         "marker": {
          "color": "#ece8e8"
         },
         "mode": "lines",
         "opacity": 1,
         "type": "scatter",
         "x": [
          -0.3333316635460027,
          -0.22912735232692857,
          null
         ],
         "y": [
          -0.012684536489999069,
          0.22291283856355693,
          null
         ]
        },
        {
         "line": {
          "shape": "spline",
          "width": 0.5
         },
         "marker": {
          "color": "#ece8e8"
         },
         "mode": "lines",
         "opacity": 1,
         "type": "scatter",
         "x": [
          -0.3333316635460027,
          -0.36482090931303934,
          null
         ],
         "y": [
          -0.012684536489999069,
          0.39149959542752877,
          null
         ]
        },
        {
         "line": {
          "shape": "spline",
          "width": 0.5
         },
         "marker": {
          "color": "#ece8e8"
         },
         "mode": "lines",
         "opacity": 1,
         "type": "scatter",
         "x": [
          -0.3333316635460027,
          -0.10097929361113614,
          null
         ],
         "y": [
          -0.012684536489999069,
          0.012466463271866533,
          null
         ]
        },
        {
         "line": {
          "shape": "spline",
          "width": 0.5
         },
         "marker": {
          "color": "#ece8e8"
         },
         "mode": "lines",
         "opacity": 1,
         "type": "scatter",
         "x": [
          -0.3333316635460027,
          -0.09362941864909598,
          null
         ],
         "y": [
          -0.012684536489999069,
          -0.21052603249987867,
          null
         ]
        },
        {
         "line": {
          "shape": "spline",
          "width": 0.5
         },
         "marker": {
          "color": "#ece8e8"
         },
         "mode": "lines",
         "opacity": 1,
         "type": "scatter",
         "x": [
          -0.19035530087513267,
          -0.22912735232692857,
          null
         ],
         "y": [
          -0.08457543621539751,
          0.22291283856355693,
          null
         ]
        },
        {
         "line": {
          "shape": "spline",
          "width": 0.5
         },
         "marker": {
          "color": "#ece8e8"
         },
         "mode": "lines",
         "opacity": 1,
         "type": "scatter",
         "x": [
          -0.19035530087513267,
          0.09352037973994606,
          null
         ],
         "y": [
          -0.08457543621539751,
          0.29478968137512285,
          null
         ]
        },
        {
         "line": {
          "shape": "spline",
          "width": 0.5
         },
         "marker": {
          "color": "#ece8e8"
         },
         "mode": "lines",
         "opacity": 1,
         "type": "scatter",
         "x": [
          0.014723219068822279,
          -0.4047900951610015,
          null
         ],
         "y": [
          -0.5544443642049247,
          -0.6324012080012414,
          null
         ]
        },
        {
         "line": {
          "shape": "spline",
          "width": 0.5
         },
         "marker": {
          "color": "#ece8e8"
         },
         "mode": "lines",
         "opacity": 1,
         "type": "scatter",
         "x": [
          0.014723219068822279,
          0.1351314306774506,
          null
         ],
         "y": [
          -0.5544443642049247,
          -0.3903134575357185,
          null
         ]
        },
        {
         "line": {
          "shape": "spline",
          "width": 0.5
         },
         "marker": {
          "color": "#ece8e8"
         },
         "mode": "lines",
         "opacity": 1,
         "type": "scatter",
         "x": [
          0.014723219068822279,
          -0.09362941864909598,
          null
         ],
         "y": [
          -0.5544443642049247,
          -0.21052603249987867,
          null
         ]
        },
        {
         "line": {
          "shape": "spline",
          "width": 0.5
         },
         "marker": {
          "color": "#ece8e8"
         },
         "mode": "lines",
         "opacity": 1,
         "type": "scatter",
         "x": [
          0.5515481576936492,
          0.3195313911654045,
          null
         ],
         "y": [
          -0.23981830129662174,
          -0.10717551763546776,
          null
         ]
        },
        {
         "line": {
          "shape": "spline",
          "width": 0.5
         },
         "marker": {
          "color": "#ece8e8"
         },
         "mode": "lines",
         "opacity": 1,
         "type": "scatter",
         "x": [
          0.5515481576936492,
          0.6299540558288864,
          null
         ],
         "y": [
          -0.23981830129662174,
          -0.31109339780408973,
          null
         ]
        },
        {
         "line": {
          "shape": "spline",
          "width": 0.5
         },
         "marker": {
          "color": "#ece8e8"
         },
         "mode": "lines",
         "opacity": 1,
         "type": "scatter",
         "x": [
          0.5515481576936492,
          0.5807241683507863,
          null
         ],
         "y": [
          -0.23981830129662174,
          -0.5061029488591657,
          null
         ]
        },
        {
         "line": {
          "shape": "spline",
          "width": 0.5
         },
         "marker": {
          "color": "#ece8e8"
         },
         "mode": "lines",
         "opacity": 1,
         "type": "scatter",
         "x": [
          0.5515481576936492,
          0.3838157817750737,
          null
         ],
         "y": [
          -0.23981830129662174,
          -0.6236523001417581,
          null
         ]
        },
        {
         "line": {
          "shape": "spline",
          "width": 0.5
         },
         "marker": {
          "color": "#ece8e8"
         },
         "mode": "lines",
         "opacity": 1,
         "type": "scatter",
         "x": [
          0.5515481576936492,
          0.6290120909970636,
          null
         ],
         "y": [
          -0.23981830129662174,
          -0.4128442794561126,
          null
         ]
        },
        {
         "line": {
          "shape": "spline",
          "width": 0.5
         },
         "marker": {
          "color": "#ece8e8"
         },
         "mode": "lines",
         "opacity": 1,
         "type": "scatter",
         "x": [
          0.5515481576936492,
          0.48507726352568553,
          null
         ],
         "y": [
          -0.23981830129662174,
          -0.3810037570628175,
          null
         ]
        },
        {
         "line": {
          "shape": "spline",
          "width": 0.5
         },
         "marker": {
          "color": "#ece8e8"
         },
         "mode": "lines",
         "opacity": 1,
         "type": "scatter",
         "x": [
          0.5515481576936492,
          0.4318521812552965,
          null
         ],
         "y": [
          -0.23981830129662174,
          -0.5128045224896088,
          null
         ]
        },
        {
         "line": {
          "shape": "spline",
          "width": 0.5
         },
         "marker": {
          "color": "#ece8e8"
         },
         "mode": "lines",
         "opacity": 1,
         "type": "scatter",
         "x": [
          0.5515481576936492,
          0.5028339812484264,
          null
         ],
         "y": [
          -0.23981830129662174,
          -0.594702808507188,
          null
         ]
        },
        {
         "line": {
          "shape": "spline",
          "width": 0.5
         },
         "marker": {
          "color": "#ece8e8"
         },
         "mode": "lines",
         "opacity": 1,
         "type": "scatter",
         "x": [
          -0.19794348947731769,
          -0.10097929361113614,
          null
         ],
         "y": [
          -0.5593650114387015,
          0.012466463271866533,
          null
         ]
        },
        {
         "line": {
          "shape": "spline",
          "width": 0.5
         },
         "marker": {
          "color": "#ece8e8"
         },
         "mode": "lines",
         "opacity": 1,
         "type": "scatter",
         "x": [
          -0.19794348947731769,
          -0.09362941864909598,
          null
         ],
         "y": [
          -0.5593650114387015,
          -0.21052603249987867,
          null
         ]
        },
        {
         "line": {
          "shape": "spline",
          "width": 0.5
         },
         "marker": {
          "color": "#ece8e8"
         },
         "mode": "lines",
         "opacity": 1,
         "type": "scatter",
         "x": [
          -0.3592400312522192,
          -0.13702344846983283,
          null
         ],
         "y": [
          0.6679030006308194,
          0.2331159758732535,
          null
         ]
        },
        {
         "line": {
          "shape": "spline",
          "width": 0.5
         },
         "marker": {
          "color": "#ece8e8"
         },
         "mode": "lines",
         "opacity": 1,
         "type": "scatter",
         "x": [
          -0.3592400312522192,
          -0.22912735232692857,
          null
         ],
         "y": [
          0.6679030006308194,
          0.22291283856355693,
          null
         ]
        },
        {
         "line": {
          "shape": "spline",
          "width": 0.5
         },
         "marker": {
          "color": "#ece8e8"
         },
         "mode": "lines",
         "opacity": 1,
         "type": "scatter",
         "x": [
          0.3838157817750737,
          0.6290120909970636,
          null
         ],
         "y": [
          -0.6236523001417581,
          -0.4128442794561126,
          null
         ]
        },
        {
         "line": {
          "shape": "spline",
          "width": 0.5
         },
         "marker": {
          "color": "#ece8e8"
         },
         "mode": "lines",
         "opacity": 1,
         "type": "scatter",
         "x": [
          0.3838157817750737,
          0.3195313911654045,
          null
         ],
         "y": [
          -0.6236523001417581,
          -0.10717551763546776,
          null
         ]
        },
        {
         "line": {
          "shape": "spline",
          "width": 0.5
         },
         "marker": {
          "color": "#ece8e8"
         },
         "mode": "lines",
         "opacity": 1,
         "type": "scatter",
         "x": [
          0.3838157817750737,
          0.6299540558288864,
          null
         ],
         "y": [
          -0.6236523001417581,
          -0.31109339780408973,
          null
         ]
        },
        {
         "line": {
          "shape": "spline",
          "width": 0.5
         },
         "marker": {
          "color": "#ece8e8"
         },
         "mode": "lines",
         "opacity": 1,
         "type": "scatter",
         "x": [
          0.3838157817750737,
          0.5807241683507863,
          null
         ],
         "y": [
          -0.6236523001417581,
          -0.5061029488591657,
          null
         ]
        },
        {
         "line": {
          "shape": "spline",
          "width": 0.5
         },
         "marker": {
          "color": "#ece8e8"
         },
         "mode": "lines",
         "opacity": 1,
         "type": "scatter",
         "x": [
          0.3838157817750737,
          0.48507726352568553,
          null
         ],
         "y": [
          -0.6236523001417581,
          -0.3810037570628175,
          null
         ]
        },
        {
         "line": {
          "shape": "spline",
          "width": 0.5
         },
         "marker": {
          "color": "#ece8e8"
         },
         "mode": "lines",
         "opacity": 1,
         "type": "scatter",
         "x": [
          0.3838157817750737,
          0.5028339812484264,
          null
         ],
         "y": [
          -0.6236523001417581,
          -0.594702808507188,
          null
         ]
        },
        {
         "line": {
          "shape": "spline",
          "width": 0.5
         },
         "marker": {
          "color": "#ece8e8"
         },
         "mode": "lines",
         "opacity": 1,
         "type": "scatter",
         "x": [
          0.3838157817750737,
          0.4318521812552965,
          null
         ],
         "y": [
          -0.6236523001417581,
          -0.5128045224896088,
          null
         ]
        },
        {
         "line": {
          "shape": "spline",
          "width": 0.5
         },
         "marker": {
          "color": "#ece8e8"
         },
         "mode": "lines",
         "opacity": 1,
         "type": "scatter",
         "x": [
          0.5028339812484264,
          0.48507726352568553,
          null
         ],
         "y": [
          -0.594702808507188,
          -0.3810037570628175,
          null
         ]
        },
        {
         "line": {
          "shape": "spline",
          "width": 0.5
         },
         "marker": {
          "color": "#ece8e8"
         },
         "mode": "lines",
         "opacity": 1,
         "type": "scatter",
         "x": [
          0.5028339812484264,
          0.5807241683507863,
          null
         ],
         "y": [
          -0.594702808507188,
          -0.5061029488591657,
          null
         ]
        },
        {
         "line": {
          "shape": "spline",
          "width": 0.5
         },
         "marker": {
          "color": "#ece8e8"
         },
         "mode": "lines",
         "opacity": 1,
         "type": "scatter",
         "x": [
          0.5028339812484264,
          0.6290120909970636,
          null
         ],
         "y": [
          -0.594702808507188,
          -0.4128442794561126,
          null
         ]
        },
        {
         "line": {
          "shape": "spline",
          "width": 0.5
         },
         "marker": {
          "color": "#ece8e8"
         },
         "mode": "lines",
         "opacity": 1,
         "type": "scatter",
         "x": [
          0.5028339812484264,
          0.3195313911654045,
          null
         ],
         "y": [
          -0.594702808507188,
          -0.10717551763546776,
          null
         ]
        },
        {
         "line": {
          "shape": "spline",
          "width": 0.5
         },
         "marker": {
          "color": "#ece8e8"
         },
         "mode": "lines",
         "opacity": 1,
         "type": "scatter",
         "x": [
          0.5028339812484264,
          0.6299540558288864,
          null
         ],
         "y": [
          -0.594702808507188,
          -0.31109339780408973,
          null
         ]
        },
        {
         "line": {
          "shape": "spline",
          "width": 0.5
         },
         "marker": {
          "color": "#ece8e8"
         },
         "mode": "lines",
         "opacity": 1,
         "type": "scatter",
         "x": [
          0.5028339812484264,
          0.4318521812552965,
          null
         ],
         "y": [
          -0.594702808507188,
          -0.5128045224896088,
          null
         ]
        },
        {
         "line": {
          "shape": "spline",
          "width": 0.5
         },
         "marker": {
          "color": "#ece8e8"
         },
         "mode": "lines",
         "opacity": 1,
         "type": "scatter",
         "x": [
          -0.620931538614446,
          -0.10097929361113614,
          null
         ],
         "y": [
          -0.42585874467997253,
          0.012466463271866533,
          null
         ]
        },
        {
         "line": {
          "shape": "spline",
          "width": 0.5
         },
         "marker": {
          "color": "#ece8e8"
         },
         "mode": "lines",
         "opacity": 1,
         "type": "scatter",
         "x": [
          -0.620931538614446,
          -0.09362941864909598,
          null
         ],
         "y": [
          -0.42585874467997253,
          -0.21052603249987867,
          null
         ]
        },
        {
         "line": {
          "shape": "spline",
          "width": 0.5
         },
         "marker": {
          "color": "#ece8e8"
         },
         "mode": "lines",
         "opacity": 1,
         "type": "scatter",
         "x": [
          -0.620931538614446,
          -1,
          null
         ],
         "y": [
          -0.42585874467997253,
          -0.7322490795682237,
          null
         ]
        },
        {
         "line": {
          "shape": "spline",
          "width": 0.5
         },
         "marker": {
          "color": "#ece8e8"
         },
         "mode": "lines",
         "opacity": 1,
         "type": "scatter",
         "x": [
          0.4318521812552965,
          0.48507726352568553,
          null
         ],
         "y": [
          -0.5128045224896088,
          -0.3810037570628175,
          null
         ]
        },
        {
         "line": {
          "shape": "spline",
          "width": 0.5
         },
         "marker": {
          "color": "#ece8e8"
         },
         "mode": "lines",
         "opacity": 1,
         "type": "scatter",
         "x": [
          0.4318521812552965,
          0.3195313911654045,
          null
         ],
         "y": [
          -0.5128045224896088,
          -0.10717551763546776,
          null
         ]
        },
        {
         "line": {
          "shape": "spline",
          "width": 0.5
         },
         "marker": {
          "color": "#ece8e8"
         },
         "mode": "lines",
         "opacity": 1,
         "type": "scatter",
         "x": [
          0.4318521812552965,
          0.6299540558288864,
          null
         ],
         "y": [
          -0.5128045224896088,
          -0.31109339780408973,
          null
         ]
        },
        {
         "line": {
          "shape": "spline",
          "width": 0.5
         },
         "marker": {
          "color": "#ece8e8"
         },
         "mode": "lines",
         "opacity": 1,
         "type": "scatter",
         "x": [
          0.4318521812552965,
          0.5807241683507863,
          null
         ],
         "y": [
          -0.5128045224896088,
          -0.5061029488591657,
          null
         ]
        },
        {
         "line": {
          "shape": "spline",
          "width": 0.5
         },
         "marker": {
          "color": "#ece8e8"
         },
         "mode": "lines",
         "opacity": 1,
         "type": "scatter",
         "x": [
          0.4318521812552965,
          0.6290120909970636,
          null
         ],
         "y": [
          -0.5128045224896088,
          -0.4128442794561126,
          null
         ]
        },
        {
         "line": {
          "shape": "spline",
          "width": 0.5
         },
         "marker": {
          "color": "#ece8e8"
         },
         "mode": "lines",
         "opacity": 1,
         "type": "scatter",
         "x": [
          -0.6953534605468638,
          -0.22912735232692857,
          null
         ],
         "y": [
          0.2824221850916814,
          0.22291283856355693,
          null
         ]
        },
        {
         "line": {
          "shape": "spline",
          "width": 0.5
         },
         "marker": {
          "color": "#ece8e8"
         },
         "mode": "lines",
         "opacity": 1,
         "type": "scatter",
         "x": [
          -0.49189390341491623,
          -0.22912735232692857,
          null
         ],
         "y": [
          0.6875421976569124,
          0.22291283856355693,
          null
         ]
        },
        {
         "line": {
          "shape": "spline",
          "width": 0.5
         },
         "marker": {
          "color": "#ece8e8"
         },
         "mode": "lines",
         "opacity": 1,
         "type": "scatter",
         "x": [
          -0.1963402500119412,
          0.19783976317957855,
          null
         ],
         "y": [
          -0.042028302662227617,
          -0.03437081669964165,
          null
         ]
        },
        {
         "line": {
          "shape": "spline",
          "width": 0.5
         },
         "marker": {
          "color": "#ece8e8"
         },
         "mode": "lines",
         "opacity": 1,
         "type": "scatter",
         "x": [
          -0.36482090931303934,
          -0.22912735232692857,
          null
         ],
         "y": [
          0.39149959542752877,
          0.22291283856355693,
          null
         ]
        },
        {
         "line": {
          "shape": "spline",
          "width": 0.5
         },
         "marker": {
          "color": "#ece8e8"
         },
         "mode": "lines",
         "opacity": 1,
         "type": "scatter",
         "x": [
          -0.36482090931303934,
          -0.10097929361113614,
          null
         ],
         "y": [
          0.39149959542752877,
          0.012466463271866533,
          null
         ]
        },
        {
         "line": {
          "shape": "spline",
          "width": 0.5
         },
         "marker": {
          "color": "#ece8e8"
         },
         "mode": "lines",
         "opacity": 1,
         "type": "scatter",
         "x": [
          -0.36482090931303934,
          -0.13702344846983283,
          null
         ],
         "y": [
          0.39149959542752877,
          0.2331159758732535,
          null
         ]
        },
        {
         "line": {
          "shape": "spline",
          "width": 0.5
         },
         "marker": {
          "color": "#ece8e8"
         },
         "mode": "lines",
         "opacity": 1,
         "type": "scatter",
         "x": [
          -0.6489179757813794,
          -0.22912735232692857,
          null
         ],
         "y": [
          0.4729061598992384,
          0.22291283856355693,
          null
         ]
        },
        {
         "line": {
          "shape": "spline",
          "width": 0.5
         },
         "marker": {
          "color": "#ece8e8"
         },
         "mode": "lines",
         "opacity": 1,
         "type": "scatter",
         "x": [
          -0.6489179757813794,
          -0.13702344846983283,
          null
         ],
         "y": [
          0.4729061598992384,
          0.2331159758732535,
          null
         ]
        },
        {
         "line": {
          "shape": "spline",
          "width": 0.5
         },
         "marker": {
          "color": "#ece8e8"
         },
         "mode": "lines",
         "opacity": 1,
         "type": "scatter",
         "x": [
          -0.3612541971196493,
          -0.13702344846983283,
          null
         ],
         "y": [
          -0.13150119562845486,
          0.2331159758732535,
          null
         ]
        },
        {
         "line": {
          "shape": "spline",
          "width": 0.5
         },
         "marker": {
          "color": "#ece8e8"
         },
         "mode": "lines",
         "opacity": 1,
         "type": "scatter",
         "x": [
          -0.3612541971196493,
          -0.22912735232692857,
          null
         ],
         "y": [
          -0.13150119562845486,
          0.22291283856355693,
          null
         ]
        },
        {
         "line": {
          "shape": "spline",
          "width": 0.5
         },
         "marker": {
          "color": "#ece8e8"
         },
         "mode": "lines",
         "opacity": 1,
         "type": "scatter",
         "x": [
          -0.5870065943209695,
          -0.22912735232692857,
          null
         ],
         "y": [
          0.6122795569856104,
          0.22291283856355693,
          null
         ]
        },
        {
         "line": {
          "shape": "spline",
          "width": 0.5
         },
         "marker": {
          "color": "#ece8e8"
         },
         "mode": "lines",
         "opacity": 1,
         "type": "scatter",
         "x": [
          -0.5870065943209695,
          -0.5758968296931457,
          null
         ],
         "y": [
          0.6122795569856104,
          0.3677070715846346,
          null
         ]
        },
        {
         "line": {
          "shape": "spline",
          "width": 0.5
         },
         "marker": {
          "color": "#ece8e8"
         },
         "mode": "lines",
         "opacity": 1,
         "type": "scatter",
         "x": [
          -0.7072987167828125,
          -0.22912735232692857,
          null
         ],
         "y": [
          0.14388729813877643,
          0.22291283856355693,
          null
         ]
        },
        {
         "line": {
          "shape": "spline",
          "width": 0.5
         },
         "marker": {
          "color": "#ece8e8"
         },
         "mode": "lines",
         "opacity": 1,
         "type": "scatter",
         "x": [
          -0.7072987167828125,
          -0.5758968296931457,
          null
         ],
         "y": [
          0.14388729813877643,
          0.3677070715846346,
          null
         ]
        },
        {
         "line": {
          "shape": "spline",
          "width": 0.5
         },
         "marker": {
          "color": "#ece8e8"
         },
         "mode": "lines",
         "opacity": 1,
         "type": "scatter",
         "x": [
          0.1351314306774506,
          -0.10097929361113614,
          null
         ],
         "y": [
          -0.3903134575357185,
          0.012466463271866533,
          null
         ]
        },
        {
         "line": {
          "shape": "spline",
          "width": 0.5
         },
         "marker": {
          "color": "#ece8e8"
         },
         "mode": "lines",
         "opacity": 1,
         "type": "scatter",
         "x": [
          0.1351314306774506,
          0.3195313911654045,
          null
         ],
         "y": [
          -0.3903134575357185,
          -0.10717551763546776,
          null
         ]
        },
        {
         "line": {
          "shape": "spline",
          "width": 0.5
         },
         "marker": {
          "color": "#ece8e8"
         },
         "mode": "lines",
         "opacity": 1,
         "type": "scatter",
         "x": [
          0.1351314306774506,
          -0.09362941864909598,
          null
         ],
         "y": [
          -0.3903134575357185,
          -0.21052603249987867,
          null
         ]
        },
        {
         "line": {
          "shape": "spline",
          "width": 0.5
         },
         "marker": {
          "color": "#ece8e8"
         },
         "mode": "lines",
         "opacity": 1,
         "type": "scatter",
         "x": [
          0.1351314306774506,
          0.48507726352568553,
          null
         ],
         "y": [
          -0.3903134575357185,
          -0.3810037570628175,
          null
         ]
        },
        {
         "line": {
          "shape": "spline",
          "width": 0.5
         },
         "marker": {
          "color": "#ece8e8"
         },
         "mode": "lines",
         "opacity": 1,
         "type": "scatter",
         "x": [
          0.1351314306774506,
          -0.012047858220622801,
          null
         ],
         "y": [
          -0.3903134575357185,
          -0.15888910657255112,
          null
         ]
        },
        {
         "line": {
          "shape": "spline",
          "width": 0.5
         },
         "marker": {
          "color": "#ece8e8"
         },
         "mode": "lines",
         "opacity": 1,
         "type": "scatter",
         "x": [
          0.5975013312563732,
          0.39965091730429475,
          null
         ],
         "y": [
          0.07153110121700443,
          0.3020403870395779,
          null
         ]
        },
        {
         "line": {
          "shape": "spline",
          "width": 0.5
         },
         "marker": {
          "color": "#ece8e8"
         },
         "mode": "lines",
         "opacity": 1,
         "type": "scatter",
         "x": [
          0.5975013312563732,
          0.9105720569030873,
          null
         ],
         "y": [
          0.07153110121700443,
          0.365109930519383,
          null
         ]
        },
        {
         "line": {
          "shape": "spline",
          "width": 0.5
         },
         "marker": {
          "color": "#ece8e8"
         },
         "mode": "lines",
         "opacity": 1,
         "type": "scatter",
         "x": [
          0.5975013312563732,
          0.3195313911654045,
          null
         ],
         "y": [
          0.07153110121700443,
          -0.10717551763546776,
          null
         ]
        },
        {
         "line": {
          "shape": "spline",
          "width": 0.5
         },
         "marker": {
          "color": "#ece8e8"
         },
         "mode": "lines",
         "opacity": 1,
         "type": "scatter",
         "x": [
          -0.012047858220622801,
          -0.13702344846983283,
          null
         ],
         "y": [
          -0.15888910657255112,
          0.2331159758732535,
          null
         ]
        },
        {
         "line": {
          "shape": "spline",
          "width": 0.5
         },
         "marker": {
          "color": "#ece8e8"
         },
         "mode": "lines",
         "opacity": 1,
         "type": "scatter",
         "x": [
          -0.012047858220622801,
          -0.10097929361113614,
          null
         ],
         "y": [
          -0.15888910657255112,
          0.012466463271866533,
          null
         ]
        },
        {
         "line": {
          "shape": "spline",
          "width": 0.5
         },
         "marker": {
          "color": "#ece8e8"
         },
         "mode": "lines",
         "opacity": 1,
         "type": "scatter",
         "x": [
          -0.012047858220622801,
          -0.22912735232692857,
          null
         ],
         "y": [
          -0.15888910657255112,
          0.22291283856355693,
          null
         ]
        },
        {
         "line": {
          "shape": "spline",
          "width": 0.5
         },
         "marker": {
          "color": "#ece8e8"
         },
         "mode": "lines",
         "opacity": 1,
         "type": "scatter",
         "x": [
          -0.012047858220622801,
          0.3195313911654045,
          null
         ],
         "y": [
          -0.15888910657255112,
          -0.10717551763546776,
          null
         ]
        },
        {
         "line": {
          "shape": "spline",
          "width": 0.5
         },
         "marker": {
          "color": "#ece8e8"
         },
         "mode": "lines",
         "opacity": 1,
         "type": "scatter",
         "x": [
          -0.012047858220622801,
          -0.05969594242830725,
          null
         ],
         "y": [
          -0.15888910657255112,
          -0.7076181826831953,
          null
         ]
        },
        {
         "line": {
          "shape": "spline",
          "width": 0.5
         },
         "marker": {
          "color": "#ece8e8"
         },
         "mode": "lines",
         "opacity": 1,
         "type": "scatter",
         "x": [
          -0.4124275868642897,
          -0.22912735232692857,
          null
         ],
         "y": [
          -0.26460271208769764,
          0.22291283856355693,
          null
         ]
        },
        {
         "line": {
          "shape": "spline",
          "width": 0.5
         },
         "marker": {
          "color": "#ece8e8"
         },
         "mode": "lines",
         "opacity": 1,
         "type": "scatter",
         "x": [
          -0.22912735232692857,
          -0.13702344846983283,
          null
         ],
         "y": [
          0.22291283856355693,
          0.2331159758732535,
          null
         ]
        },
        {
         "line": {
          "shape": "spline",
          "width": 0.5
         },
         "marker": {
          "color": "#ece8e8"
         },
         "mode": "lines",
         "opacity": 1,
         "type": "scatter",
         "x": [
          -0.22912735232692857,
          -0.10097929361113614,
          null
         ],
         "y": [
          0.22291283856355693,
          0.012466463271866533,
          null
         ]
        },
        {
         "line": {
          "shape": "spline",
          "width": 0.5
         },
         "marker": {
          "color": "#ece8e8"
         },
         "mode": "lines",
         "opacity": 1,
         "type": "scatter",
         "x": [
          -0.22912735232692857,
          0.09352037973994606,
          null
         ],
         "y": [
          0.22291283856355693,
          0.29478968137512285,
          null
         ]
        },
        {
         "line": {
          "shape": "spline",
          "width": 0.5
         },
         "marker": {
          "color": "#ece8e8"
         },
         "mode": "lines",
         "opacity": 1,
         "type": "scatter",
         "x": [
          -0.22912735232692857,
          -0.5758968296931457,
          null
         ],
         "y": [
          0.22291283856355693,
          0.3677070715846346,
          null
         ]
        },
        {
         "line": {
          "shape": "spline",
          "width": 0.5
         },
         "marker": {
          "color": "#ece8e8"
         },
         "mode": "lines",
         "opacity": 1,
         "type": "scatter",
         "x": [
          -0.22912735232692857,
          0.1105766569509571,
          null
         ],
         "y": [
          0.22291283856355693,
          0.14114263222055068,
          null
         ]
        },
        {
         "line": {
          "shape": "spline",
          "width": 0.5
         },
         "marker": {
          "color": "#ece8e8"
         },
         "mode": "lines",
         "opacity": 1,
         "type": "scatter",
         "x": [
          -0.22912735232692857,
          -0.5274432885344671,
          null
         ],
         "y": [
          0.22291283856355693,
          0.22543680209160435,
          null
         ]
        },
        {
         "line": {
          "shape": "spline",
          "width": 0.5
         },
         "marker": {
          "color": "#ece8e8"
         },
         "mode": "lines",
         "opacity": 1,
         "type": "scatter",
         "x": [
          -0.22912735232692857,
          -0.09362941864909598,
          null
         ],
         "y": [
          0.22291283856355693,
          -0.21052603249987867,
          null
         ]
        },
        {
         "line": {
          "shape": "spline",
          "width": 0.5
         },
         "marker": {
          "color": "#ece8e8"
         },
         "mode": "lines",
         "opacity": 1,
         "type": "scatter",
         "x": [
          -0.22912735232692857,
          0.3195313911654045,
          null
         ],
         "y": [
          0.22291283856355693,
          -0.10717551763546776,
          null
         ]
        },
        {
         "line": {
          "shape": "spline",
          "width": 0.5
         },
         "marker": {
          "color": "#ece8e8"
         },
         "mode": "lines",
         "opacity": 1,
         "type": "scatter",
         "x": [
          -0.22912735232692857,
          0.07036544299160555,
          null
         ],
         "y": [
          0.22291283856355693,
          0.49460034709621575,
          null
         ]
        },
        {
         "line": {
          "shape": "spline",
          "width": 0.5
         },
         "marker": {
          "color": "#ece8e8"
         },
         "mode": "lines",
         "opacity": 1,
         "type": "scatter",
         "x": [
          -0.22912735232692857,
          -0.8184577461104179,
          null
         ],
         "y": [
          0.22291283856355693,
          0.20188714087348514,
          null
         ]
        },
        {
         "line": {
          "shape": "spline",
          "width": 0.5
         },
         "marker": {
          "color": "#ece8e8"
         },
         "mode": "lines",
         "opacity": 1,
         "type": "scatter",
         "x": [
          -0.2925581991378536,
          -0.09362941864909598,
          null
         ],
         "y": [
          -0.45084155397997905,
          -0.21052603249987867,
          null
         ]
        },
        {
         "line": {
          "shape": "spline",
          "width": 0.5
         },
         "marker": {
          "color": "#ece8e8"
         },
         "mode": "lines",
         "opacity": 1,
         "type": "scatter",
         "x": [
          -0.10097929361113614,
          -0.13702344846983283,
          null
         ],
         "y": [
          0.012466463271866533,
          0.2331159758732535,
          null
         ]
        },
        {
         "line": {
          "shape": "spline",
          "width": 0.5
         },
         "marker": {
          "color": "#ece8e8"
         },
         "mode": "lines",
         "opacity": 1,
         "type": "scatter",
         "x": [
          -0.10097929361113614,
          0.09352037973994606,
          null
         ],
         "y": [
          0.012466463271866533,
          0.29478968137512285,
          null
         ]
        },
        {
         "line": {
          "shape": "spline",
          "width": 0.5
         },
         "marker": {
          "color": "#ece8e8"
         },
         "mode": "lines",
         "opacity": 1,
         "type": "scatter",
         "x": [
          -0.10097929361113614,
          0.1105766569509571,
          null
         ],
         "y": [
          0.012466463271866533,
          0.14114263222055068,
          null
         ]
        },
        {
         "line": {
          "shape": "spline",
          "width": 0.5
         },
         "marker": {
          "color": "#ece8e8"
         },
         "mode": "lines",
         "opacity": 1,
         "type": "scatter",
         "x": [
          -0.10097929361113614,
          -0.5274432885344671,
          null
         ],
         "y": [
          0.012466463271866533,
          0.22543680209160435,
          null
         ]
        },
        {
         "line": {
          "shape": "spline",
          "width": 0.5
         },
         "marker": {
          "color": "#ece8e8"
         },
         "mode": "lines",
         "opacity": 1,
         "type": "scatter",
         "x": [
          -0.10097929361113614,
          -0.09362941864909598,
          null
         ],
         "y": [
          0.012466463271866533,
          -0.21052603249987867,
          null
         ]
        },
        {
         "line": {
          "shape": "spline",
          "width": 0.5
         },
         "marker": {
          "color": "#ece8e8"
         },
         "mode": "lines",
         "opacity": 1,
         "type": "scatter",
         "x": [
          -0.10097929361113614,
          -0.5498714292610081,
          null
         ],
         "y": [
          0.012466463271866533,
          -0.1228099526109709,
          null
         ]
        },
        {
         "line": {
          "shape": "spline",
          "width": 0.5
         },
         "marker": {
          "color": "#ece8e8"
         },
         "mode": "lines",
         "opacity": 1,
         "type": "scatter",
         "x": [
          -0.09362941864909598,
          0.3195313911654045,
          null
         ],
         "y": [
          -0.21052603249987867,
          -0.10717551763546776,
          null
         ]
        },
        {
         "line": {
          "shape": "spline",
          "width": 0.5
         },
         "marker": {
          "color": "#ece8e8"
         },
         "mode": "lines",
         "opacity": 1,
         "type": "scatter",
         "x": [
          -0.09362941864909598,
          -0.13702344846983283,
          null
         ],
         "y": [
          -0.21052603249987867,
          0.2331159758732535,
          null
         ]
        },
        {
         "line": {
          "shape": "spline",
          "width": 0.5
         },
         "marker": {
          "color": "#ece8e8"
         },
         "mode": "lines",
         "opacity": 1,
         "type": "scatter",
         "x": [
          0.6290120909970636,
          0.5807241683507863,
          null
         ],
         "y": [
          -0.4128442794561126,
          -0.5061029488591657,
          null
         ]
        },
        {
         "line": {
          "shape": "spline",
          "width": 0.5
         },
         "marker": {
          "color": "#ece8e8"
         },
         "mode": "lines",
         "opacity": 1,
         "type": "scatter",
         "x": [
          0.6290120909970636,
          0.6299540558288864,
          null
         ],
         "y": [
          -0.4128442794561126,
          -0.31109339780408973,
          null
         ]
        },
        {
         "line": {
          "shape": "spline",
          "width": 0.5
         },
         "marker": {
          "color": "#ece8e8"
         },
         "mode": "lines",
         "opacity": 1,
         "type": "scatter",
         "x": [
          0.6290120909970636,
          0.3195313911654045,
          null
         ],
         "y": [
          -0.4128442794561126,
          -0.10717551763546776,
          null
         ]
        },
        {
         "line": {
          "shape": "spline",
          "width": 0.5
         },
         "marker": {
          "color": "#ece8e8"
         },
         "mode": "lines",
         "opacity": 1,
         "type": "scatter",
         "x": [
          0.6290120909970636,
          0.48507726352568553,
          null
         ],
         "y": [
          -0.4128442794561126,
          -0.3810037570628175,
          null
         ]
        },
        {
         "line": {
          "shape": "spline",
          "width": 0.5
         },
         "marker": {
          "color": "#ece8e8"
         },
         "mode": "lines",
         "opacity": 1,
         "type": "scatter",
         "x": [
          -0.5274432885344671,
          -0.13702344846983283,
          null
         ],
         "y": [
          0.22543680209160435,
          0.2331159758732535,
          null
         ]
        },
        {
         "line": {
          "shape": "spline",
          "width": 0.5
         },
         "marker": {
          "color": "#ece8e8"
         },
         "mode": "lines",
         "opacity": 1,
         "type": "scatter",
         "x": [
          -0.13702344846983283,
          -0.5758968296931457,
          null
         ],
         "y": [
          0.2331159758732535,
          0.3677070715846346,
          null
         ]
        },
        {
         "line": {
          "shape": "spline",
          "width": 0.5
         },
         "marker": {
          "color": "#ece8e8"
         },
         "mode": "lines",
         "opacity": 1,
         "type": "scatter",
         "x": [
          -0.13702344846983283,
          0.1105766569509571,
          null
         ],
         "y": [
          0.2331159758732535,
          0.14114263222055068,
          null
         ]
        },
        {
         "line": {
          "shape": "spline",
          "width": 0.5
         },
         "marker": {
          "color": "#ece8e8"
         },
         "mode": "lines",
         "opacity": 1,
         "type": "scatter",
         "x": [
          -0.13702344846983283,
          0.09352037973994606,
          null
         ],
         "y": [
          0.2331159758732535,
          0.29478968137512285,
          null
         ]
        },
        {
         "line": {
          "shape": "spline",
          "width": 0.5
         },
         "marker": {
          "color": "#ece8e8"
         },
         "mode": "lines",
         "opacity": 1,
         "type": "scatter",
         "x": [
          0.5807241683507863,
          0.48507726352568553,
          null
         ],
         "y": [
          -0.5061029488591657,
          -0.3810037570628175,
          null
         ]
        },
        {
         "line": {
          "shape": "spline",
          "width": 0.5
         },
         "marker": {
          "color": "#ece8e8"
         },
         "mode": "lines",
         "opacity": 1,
         "type": "scatter",
         "x": [
          0.5807241683507863,
          0.3195313911654045,
          null
         ],
         "y": [
          -0.5061029488591657,
          -0.10717551763546776,
          null
         ]
        },
        {
         "line": {
          "shape": "spline",
          "width": 0.5
         },
         "marker": {
          "color": "#ece8e8"
         },
         "mode": "lines",
         "opacity": 1,
         "type": "scatter",
         "x": [
          0.5807241683507863,
          0.6299540558288864,
          null
         ],
         "y": [
          -0.5061029488591657,
          -0.31109339780408973,
          null
         ]
        },
        {
         "line": {
          "shape": "spline",
          "width": 0.5
         },
         "marker": {
          "color": "#ece8e8"
         },
         "mode": "lines",
         "opacity": 1,
         "type": "scatter",
         "x": [
          0.3195313911654045,
          0.48507726352568553,
          null
         ],
         "y": [
          -0.10717551763546776,
          -0.3810037570628175,
          null
         ]
        },
        {
         "line": {
          "shape": "spline",
          "width": 0.5
         },
         "marker": {
          "color": "#ece8e8"
         },
         "mode": "lines",
         "opacity": 1,
         "type": "scatter",
         "x": [
          0.3195313911654045,
          0.6299540558288864,
          null
         ],
         "y": [
          -0.10717551763546776,
          -0.31109339780408973,
          null
         ]
        },
        {
         "line": {
          "shape": "spline",
          "width": 0.5
         },
         "marker": {
          "color": "#ece8e8"
         },
         "mode": "lines",
         "opacity": 1,
         "type": "scatter",
         "x": [
          0.3195313911654045,
          0.39965091730429475,
          null
         ],
         "y": [
          -0.10717551763546776,
          0.3020403870395779,
          null
         ]
        },
        {
         "line": {
          "shape": "spline",
          "width": 0.5
         },
         "marker": {
          "color": "#ece8e8"
         },
         "mode": "lines",
         "opacity": 1,
         "type": "scatter",
         "x": [
          0.07036544299160555,
          0.39965091730429475,
          null
         ],
         "y": [
          0.49460034709621575,
          0.3020403870395779,
          null
         ]
        },
        {
         "line": {
          "shape": "spline",
          "width": 0.5
         },
         "marker": {
          "color": "#ece8e8"
         },
         "mode": "lines",
         "opacity": 1,
         "type": "scatter",
         "x": [
          0.48507726352568553,
          0.6299540558288864,
          null
         ],
         "y": [
          -0.3810037570628175,
          -0.31109339780408973,
          null
         ]
        },
        {
         "line": {
          "shape": "spline",
          "width": 0.5
         },
         "marker": {
          "color": "#ece8e8"
         },
         "mode": "lines",
         "opacity": 1,
         "type": "scatter",
         "x": [
          0.39965091730429475,
          0.9105720569030873,
          null
         ],
         "y": [
          0.3020403870395779,
          0.365109930519383,
          null
         ]
        },
        {
         "line": {
          "shape": "spline",
          "width": 0.5
         },
         "marker": {
          "color": "#ece8e8"
         },
         "mode": "lines",
         "opacity": 1,
         "type": "scatter",
         "x": [
          0.1105766569509571,
          0.09352037973994606,
          null
         ],
         "y": [
          0.14114263222055068,
          0.29478968137512285,
          null
         ]
        },
        {
         "hoverinfo": "text",
         "hovertext": [],
         "marker": {
          "color": [
           2,
           2,
           0,
           0,
           2,
           0,
           0,
           1,
           0,
           0,
           0,
           1,
           3,
           0,
           0,
           0,
           1,
           0,
           0,
           0,
           3,
           2,
           0,
           0,
           0,
           0,
           2,
           0,
           0,
           3,
           0,
           2,
           1,
           3,
           0,
           1,
           1,
           2,
           2,
           1,
           0,
           0,
           4,
           0,
           0,
           0,
           0,
           0,
           2,
           1,
           3,
           0,
           2,
           3,
           3,
           0,
           3,
           0,
           0,
           0,
           2,
           1,
           0,
           3,
           0,
           0,
           1,
           3,
           1,
           0,
           0,
           2,
           1,
           1,
           1,
           3,
           2,
           0,
           1,
           0,
           4,
           2,
           2,
           0,
           0,
           2,
           0,
           0,
           1,
           0,
           0,
           0,
           1,
           3,
           0,
           0,
           0,
           1,
           0,
           0,
           0,
           3,
           2,
           0,
           0,
           0,
           0,
           2,
           0,
           0,
           3,
           0,
           2,
           1,
           3,
           0,
           1,
           1,
           2,
           2,
           1,
           0,
           0,
           4,
           0,
           0,
           0,
           0,
           0,
           2,
           1,
           3,
           0,
           2,
           3,
           3,
           0,
           3,
           0,
           0,
           0,
           2,
           1,
           0,
           3,
           0,
           0,
           1,
           3,
           1,
           0,
           0,
           2,
           1,
           1,
           1,
           3,
           2,
           0,
           1,
           0,
           4,
           2,
           2,
           0,
           0,
           2,
           0,
           0,
           1,
           0,
           0,
           0,
           1,
           3,
           0,
           0,
           0,
           1,
           0,
           0,
           0,
           3,
           2,
           0,
           0,
           0,
           0,
           2,
           0,
           0,
           3,
           0,
           2,
           1,
           3,
           0,
           1,
           1,
           2,
           2,
           1,
           0,
           0,
           4,
           0,
           0,
           0,
           0,
           0,
           2,
           1,
           3,
           0,
           2,
           3,
           3,
           0,
           3,
           0,
           0,
           0,
           2,
           1,
           0,
           3,
           0,
           0,
           1,
           3,
           1,
           0,
           0,
           2,
           1,
           1,
           1,
           3,
           2,
           0,
           1,
           0,
           4,
           2,
           2,
           0,
           0,
           2,
           0,
           0,
           1,
           0,
           0,
           0,
           1,
           3,
           0,
           0,
           0,
           1,
           0,
           0,
           0,
           3,
           2,
           0,
           0,
           0,
           0,
           2,
           0,
           0,
           3,
           0,
           2,
           1,
           3,
           0,
           1,
           1,
           2,
           2,
           1,
           0,
           0,
           4,
           0,
           0,
           0,
           0,
           0,
           2,
           1,
           3,
           0,
           2,
           3,
           3,
           0,
           3,
           0,
           0,
           0,
           2,
           1,
           0,
           3,
           0,
           0,
           1,
           3,
           1,
           0,
           0,
           2,
           1,
           1,
           1,
           3,
           2,
           0,
           1,
           0,
           4,
           2,
           2,
           0,
           0,
           2,
           0,
           0,
           1,
           0,
           0,
           0,
           1,
           3,
           0,
           0,
           0,
           1,
           0,
           0,
           0,
           3,
           2,
           0,
           0,
           0,
           0,
           2,
           0,
           0,
           3,
           0,
           2,
           1,
           3,
           0,
           1,
           1,
           2,
           2,
           1,
           0,
           0,
           4,
           0,
           0,
           0,
           0,
           0,
           2,
           1,
           3,
           0,
           2,
           3,
           3,
           0,
           3,
           0,
           0,
           0,
           2,
           1,
           0,
           3,
           0,
           0,
           1,
           3,
           1,
           0,
           0,
           2,
           1,
           1,
           1,
           3,
           2,
           0,
           1,
           0,
           4,
           2,
           2,
           0,
           0,
           2,
           0,
           0,
           1,
           0,
           0,
           0,
           1,
           3,
           0,
           0,
           0,
           1,
           0,
           0,
           0,
           3,
           2,
           0,
           0,
           0,
           0,
           2,
           0,
           0,
           3,
           0,
           2,
           1,
           3,
           0,
           1,
           1,
           2,
           2,
           1,
           0,
           0,
           4,
           0,
           0,
           0,
           0,
           0,
           2,
           1,
           3,
           0,
           2,
           3,
           3,
           0,
           3,
           0,
           0,
           0,
           2,
           1,
           0,
           3,
           0,
           0,
           1,
           3,
           1,
           0,
           0,
           2,
           1,
           1,
           1,
           3,
           2,
           0,
           1,
           0,
           4,
           2,
           2,
           0,
           0,
           2,
           0,
           0,
           1,
           0,
           0,
           0,
           1,
           3,
           0,
           0,
           0,
           1,
           0,
           0,
           0,
           3,
           2,
           0,
           0,
           0,
           0,
           2,
           0,
           0,
           3,
           0,
           2,
           1,
           3,
           0,
           1,
           1,
           2,
           2,
           1,
           0,
           0,
           4,
           0,
           0,
           0,
           0,
           0,
           2,
           1,
           3,
           0,
           2,
           3,
           3,
           0,
           3,
           0,
           0,
           0,
           2,
           1,
           0,
           3,
           0,
           0,
           1,
           3,
           1,
           0,
           0,
           2,
           1,
           1,
           1,
           3,
           2,
           0,
           1,
           0,
           4,
           2,
           2,
           0,
           0,
           2,
           0,
           0,
           1,
           0,
           0,
           0,
           1,
           3,
           0,
           0,
           0,
           1,
           0,
           0,
           0,
           3,
           2,
           0,
           0,
           0,
           0,
           2,
           0,
           0,
           3,
           0,
           2,
           1,
           3,
           0,
           1,
           1,
           2,
           2,
           1,
           0,
           0,
           4,
           0,
           0,
           0,
           0,
           0,
           2,
           1,
           3,
           0,
           2,
           3,
           3,
           0,
           3,
           0,
           0,
           0,
           2,
           1,
           0,
           3,
           0,
           0,
           1,
           3,
           1,
           0,
           0,
           2,
           1,
           1,
           1,
           3,
           2,
           0,
           1,
           0,
           4,
           2,
           2,
           0,
           0,
           2,
           0,
           0,
           1,
           0,
           0,
           0,
           1,
           3,
           0,
           0,
           0,
           1,
           0,
           0,
           0,
           3,
           2,
           0,
           0,
           0,
           0,
           2,
           0,
           0,
           3,
           0,
           2,
           1,
           3,
           0,
           1,
           1,
           2,
           2,
           1,
           0,
           0,
           4,
           0,
           0,
           0,
           0,
           0,
           2,
           1,
           3,
           0,
           2,
           3,
           3,
           0,
           3,
           0,
           0,
           0,
           2,
           1,
           0,
           3,
           0,
           0,
           1,
           3,
           1,
           0,
           0,
           2,
           1,
           1,
           1,
           3,
           2,
           0,
           1,
           0,
           4,
           2,
           2,
           0,
           0,
           2,
           0,
           0,
           1,
           0,
           0,
           0,
           1,
           3,
           0,
           0,
           0,
           1,
           0,
           0,
           0,
           3,
           2,
           0,
           0,
           0,
           0,
           2,
           0,
           0,
           3,
           0,
           2,
           1,
           3,
           0,
           1,
           1,
           2,
           2,
           1,
           0,
           0,
           4,
           0,
           0,
           0,
           0,
           0,
           2,
           1,
           3,
           0,
           2,
           3,
           3,
           0,
           3,
           0,
           0,
           0,
           2,
           1,
           0,
           3,
           0,
           0,
           1,
           3,
           1,
           0,
           0,
           2,
           1,
           1,
           1,
           3,
           2,
           0,
           1,
           0,
           4,
           2,
           2,
           0,
           0,
           2,
           0,
           0,
           1,
           0,
           0,
           0,
           1,
           3,
           0,
           0,
           0,
           1,
           0,
           0,
           0,
           3,
           2,
           0,
           0,
           0,
           0,
           2,
           0,
           0,
           3,
           0,
           2,
           1,
           3,
           0,
           1,
           1,
           2,
           2,
           1,
           0,
           0,
           4,
           0,
           0,
           0,
           0,
           0,
           2,
           1,
           3,
           0,
           2,
           3,
           3,
           0,
           3,
           0,
           0,
           0,
           2,
           1,
           0,
           3,
           0,
           0,
           1,
           3,
           1,
           0,
           0,
           2,
           1,
           1,
           1,
           3,
           2,
           0,
           1,
           0,
           4,
           2,
           2,
           0,
           0,
           2,
           0,
           0,
           1,
           0,
           0,
           0,
           1,
           3,
           0,
           0,
           0,
           1,
           0,
           0,
           0,
           3,
           2,
           0,
           0,
           0,
           0,
           2,
           0,
           0,
           3,
           0,
           2,
           1,
           3,
           0,
           1,
           1,
           2,
           2,
           1,
           0,
           0,
           4,
           0,
           0,
           0,
           0,
           0,
           2,
           1,
           3,
           0,
           2,
           3,
           3,
           0,
           3,
           0,
           0,
           0,
           2,
           1,
           0,
           3,
           0,
           0,
           1,
           3,
           1,
           0,
           0,
           2,
           1,
           1,
           1,
           3,
           2,
           0,
           1,
           0,
           4,
           2,
           2,
           0,
           0,
           2,
           0,
           0,
           1,
           0,
           0,
           0,
           1,
           3,
           0,
           0,
           0,
           1,
           0,
           0,
           0,
           3,
           2,
           0,
           0,
           0,
           0,
           2,
           0,
           0,
           3,
           0,
           2,
           1,
           3,
           0,
           1,
           1,
           2,
           2,
           1,
           0,
           0,
           4,
           0,
           0,
           0,
           0,
           0,
           2,
           1,
           3,
           0,
           2,
           3,
           3,
           0,
           3,
           0,
           0,
           0,
           2,
           1,
           0,
           3,
           0,
           0,
           1,
           3,
           1,
           0,
           0,
           2,
           1,
           1,
           1,
           3,
           2,
           0,
           1,
           0,
           4,
           2,
           2,
           0,
           0,
           2,
           0,
           0,
           1,
           0,
           0,
           0,
           1,
           3,
           0,
           0,
           0,
           1,
           0,
           0,
           0,
           3,
           2,
           0,
           0,
           0,
           0,
           2,
           0,
           0,
           3,
           0,
           2,
           1,
           3,
           0,
           1,
           1,
           2,
           2,
           1,
           0,
           0,
           4,
           0,
           0,
           0,
           0,
           0,
           2,
           1,
           3,
           0,
           2,
           3,
           3,
           0,
           3,
           0,
           0,
           0,
           2,
           1,
           0,
           3,
           0,
           0,
           1,
           3,
           1,
           0,
           0,
           2,
           1,
           1,
           1,
           3,
           2,
           0,
           1,
           0,
           4,
           2,
           2,
           0,
           0,
           2,
           0,
           0,
           1,
           0,
           0,
           0,
           1,
           3,
           0,
           0,
           0,
           1,
           0,
           0,
           0,
           3,
           2,
           0,
           0,
           0,
           0,
           2,
           0,
           0,
           3,
           0,
           2,
           1,
           3,
           0,
           1,
           1,
           2,
           2,
           1,
           0,
           0,
           4,
           0,
           0,
           0,
           0,
           0,
           2,
           1,
           3,
           0,
           2,
           3,
           3,
           0,
           3,
           0,
           0,
           0,
           2,
           1,
           0,
           3,
           0,
           0,
           1,
           3,
           1,
           0,
           0,
           2,
           1,
           1,
           1,
           3,
           2,
           0,
           1,
           0,
           4,
           2,
           2,
           0,
           0,
           2,
           0,
           0,
           1,
           0,
           0,
           0,
           1,
           3,
           0,
           0,
           0,
           1,
           0,
           0,
           0,
           3,
           2,
           0,
           0,
           0,
           0,
           2,
           0,
           0,
           3,
           0,
           2,
           1,
           3,
           0,
           1,
           1,
           2,
           2,
           1,
           0,
           0,
           4,
           0,
           0,
           0,
           0,
           0,
           2,
           1,
           3,
           0,
           2,
           3,
           3,
           0,
           3,
           0,
           0,
           0,
           2,
           1,
           0,
           3,
           0,
           0,
           1,
           3,
           1,
           0,
           0,
           2,
           1,
           1,
           1,
           3,
           2,
           0,
           1,
           0,
           4,
           2,
           2,
           0,
           0,
           2,
           0,
           0,
           1,
           0,
           0,
           0,
           1,
           3,
           0,
           0,
           0,
           1,
           0,
           0,
           0,
           3,
           2,
           0,
           0,
           0,
           0,
           2,
           0,
           0,
           3,
           0,
           2,
           1,
           3,
           0,
           1,
           1,
           2,
           2,
           1,
           0,
           0,
           4,
           0,
           0,
           0,
           0,
           0,
           2,
           1,
           3,
           0,
           2,
           3,
           3,
           0,
           3,
           0,
           0,
           0,
           2,
           1,
           0,
           3,
           0,
           0,
           1,
           3,
           1,
           0,
           0,
           2,
           1,
           1,
           1,
           3,
           2,
           0,
           1,
           0,
           4,
           2,
           2,
           0,
           0,
           2,
           0,
           0,
           1,
           0,
           0,
           0,
           1,
           3,
           0,
           0,
           0,
           1,
           0,
           0,
           0,
           3,
           2,
           0,
           0,
           0,
           0,
           2,
           0,
           0,
           3,
           0,
           2,
           1,
           3,
           0,
           1,
           1,
           2,
           2,
           1,
           0,
           0,
           4,
           0,
           0,
           0,
           0,
           0,
           2,
           1,
           3,
           0,
           2,
           3,
           3,
           0,
           3,
           0,
           0,
           0,
           2,
           1,
           0,
           3,
           0,
           0,
           1,
           3,
           1,
           0,
           0,
           2,
           1,
           1,
           1,
           3,
           2,
           0,
           1,
           0,
           4,
           2,
           2,
           0,
           0,
           2,
           0,
           0,
           1,
           0,
           0,
           0,
           1,
           3,
           0,
           0,
           0,
           1,
           0,
           0,
           0,
           3,
           2,
           0,
           0,
           0,
           0,
           2,
           0,
           0,
           3,
           0,
           2,
           1,
           3,
           0,
           1,
           1,
           2,
           2,
           1,
           0,
           0,
           4,
           0,
           0,
           0,
           0,
           0,
           2,
           1,
           3,
           0,
           2,
           3,
           3,
           0,
           3,
           0,
           0,
           0,
           2,
           1,
           0,
           3,
           0,
           0,
           1,
           3,
           1,
           0,
           0,
           2,
           1,
           1,
           1,
           3,
           2,
           0,
           1,
           0,
           4,
           2,
           2,
           0,
           0,
           2,
           0,
           0,
           1,
           0,
           0,
           0,
           1,
           3,
           0,
           0,
           0,
           1,
           0,
           0,
           0,
           3,
           2,
           0,
           0,
           0,
           0,
           2,
           0,
           0,
           3,
           0,
           2,
           1,
           3,
           0,
           1,
           1,
           2,
           2,
           1,
           0,
           0,
           4,
           0,
           0,
           0,
           0,
           0,
           2,
           1,
           3,
           0,
           2,
           3,
           3,
           0,
           3,
           0,
           0,
           0,
           2,
           1,
           0,
           3,
           0,
           0,
           1,
           3,
           1,
           0,
           0,
           2,
           1,
           1,
           1,
           3,
           2,
           0,
           1,
           0,
           4,
           2,
           2,
           0,
           0,
           2,
           0,
           0,
           1,
           0,
           0,
           0,
           1,
           3,
           0,
           0,
           0,
           1,
           0,
           0,
           0,
           3,
           2,
           0,
           0,
           0,
           0,
           2,
           0,
           0,
           3,
           0,
           2,
           1,
           3,
           0,
           1,
           1,
           2,
           2,
           1,
           0,
           0,
           4,
           0,
           0,
           0,
           0,
           0,
           2,
           1,
           3,
           0,
           2,
           3,
           3,
           0,
           3,
           0,
           0,
           0,
           2,
           1,
           0,
           3,
           0,
           0,
           1,
           3,
           1,
           0,
           0,
           2,
           1,
           1,
           1,
           3,
           2,
           0,
           1,
           0,
           4,
           2,
           2,
           0,
           0,
           2,
           0,
           0,
           1,
           0,
           0,
           0,
           1,
           3,
           0,
           0,
           0,
           1,
           0,
           0,
           0,
           3,
           2,
           0,
           0,
           0,
           0,
           2,
           0,
           0,
           3,
           0,
           2,
           1,
           3,
           0,
           1,
           1,
           2,
           2,
           1,
           0,
           0,
           4,
           0,
           0,
           0,
           0,
           0,
           2,
           1,
           3,
           0,
           2,
           3,
           3,
           0,
           3,
           0,
           0,
           0,
           2,
           1,
           0,
           3,
           0,
           0,
           1,
           3,
           1,
           0,
           0,
           2,
           1,
           1,
           1,
           3,
           2,
           0,
           1,
           0,
           4,
           2,
           2,
           0,
           0,
           2,
           0,
           0,
           1,
           0,
           0,
           0,
           1,
           3,
           0,
           0,
           0,
           1,
           0,
           0,
           0,
           3,
           2,
           0,
           0,
           0,
           0,
           2,
           0,
           0,
           3,
           0,
           2,
           1,
           3,
           0,
           1,
           1,
           2,
           2,
           1,
           0,
           0,
           4,
           0,
           0,
           0,
           0,
           0,
           2,
           1,
           3,
           0,
           2,
           3,
           3,
           0,
           3,
           0,
           0,
           0,
           2,
           1,
           0,
           3,
           0,
           0,
           1,
           3,
           1,
           0,
           0,
           2,
           1,
           1,
           1,
           3,
           2,
           0,
           1,
           0,
           4,
           2,
           2,
           0,
           0,
           2,
           0,
           0,
           1,
           0,
           0,
           0,
           1,
           3,
           0,
           0,
           0,
           1,
           0,
           0,
           0,
           3,
           2,
           0,
           0,
           0,
           0,
           2,
           0,
           0,
           3,
           0,
           2,
           1,
           3,
           0,
           1,
           1,
           2,
           2,
           1,
           0,
           0,
           4,
           0,
           0,
           0,
           0,
           0,
           2,
           1,
           3,
           0,
           2,
           3,
           3,
           0,
           3,
           0,
           0,
           0,
           2,
           1,
           0,
           3,
           0,
           0,
           1,
           3,
           1,
           0,
           0,
           2,
           1,
           1,
           1,
           3,
           2,
           0,
           1,
           0,
           4,
           2,
           2,
           0,
           0,
           2,
           0,
           0,
           1,
           0,
           0,
           0,
           1,
           3,
           0,
           0,
           0,
           1,
           0,
           0,
           0,
           3,
           2,
           0,
           0,
           0,
           0,
           2,
           0,
           0,
           3,
           0,
           2,
           1,
           3,
           0,
           1,
           1,
           2,
           2,
           1,
           0,
           0,
           4,
           0,
           0,
           0,
           0,
           0,
           2,
           1,
           3,
           0,
           2,
           3,
           3,
           0,
           3,
           0,
           0,
           0,
           2,
           1,
           0,
           3,
           0,
           0,
           1,
           3,
           1,
           0,
           0,
           2,
           1,
           1,
           1,
           3,
           2,
           0,
           1,
           0,
           4,
           2,
           2,
           0,
           0,
           2,
           0,
           0,
           1,
           0,
           0,
           0,
           1,
           3,
           0,
           0,
           0,
           1,
           0,
           0,
           0,
           3,
           2,
           0,
           0,
           0,
           0,
           2,
           0,
           0,
           3,
           0,
           2,
           1,
           3,
           0,
           1,
           1,
           2,
           2,
           1,
           0,
           0,
           4,
           0,
           0,
           0,
           0,
           0,
           2,
           1,
           3,
           0,
           2,
           3,
           3,
           0,
           3,
           0,
           0,
           0,
           2,
           1,
           0,
           3,
           0,
           0,
           1,
           3,
           1,
           0,
           0,
           2,
           1,
           1,
           1,
           3,
           2,
           0,
           1,
           0,
           4,
           2,
           2,
           0,
           0,
           2,
           0,
           0,
           1,
           0,
           0,
           0,
           1,
           3,
           0,
           0,
           0,
           1,
           0,
           0,
           0,
           3,
           2,
           0,
           0,
           0,
           0,
           2,
           0,
           0,
           3,
           0,
           2,
           1,
           3,
           0,
           1,
           1,
           2,
           2,
           1,
           0,
           0,
           4,
           0,
           0,
           0,
           0,
           0,
           2,
           1,
           3,
           0,
           2,
           3,
           3,
           0,
           3,
           0,
           0,
           0,
           2,
           1,
           0,
           3,
           0,
           0,
           1,
           3,
           1,
           0,
           0,
           2,
           1,
           1,
           1,
           3,
           2,
           0,
           1,
           0,
           4,
           2,
           2,
           0,
           0,
           2,
           0,
           0,
           1,
           0,
           0,
           0,
           1,
           3,
           0,
           0,
           0,
           1,
           0,
           0,
           0,
           3,
           2,
           0,
           0,
           0,
           0,
           2,
           0,
           0,
           3,
           0,
           2,
           1,
           3,
           0,
           1,
           1,
           2,
           2,
           1,
           0,
           0,
           4,
           0,
           0,
           0,
           0,
           0,
           2,
           1,
           3,
           0,
           2,
           3,
           3,
           0,
           3,
           0,
           0,
           0,
           2,
           1,
           0,
           3,
           0,
           0,
           1,
           3,
           1,
           0,
           0,
           2,
           1,
           1,
           1,
           3,
           2,
           0,
           1,
           0,
           4,
           2,
           2,
           0,
           0,
           2,
           0,
           0,
           1,
           0,
           0,
           0,
           1,
           3,
           0,
           0,
           0,
           1,
           0,
           0,
           0,
           3,
           2,
           0,
           0,
           0,
           0,
           2,
           0,
           0,
           3,
           0,
           2,
           1,
           3,
           0,
           1,
           1,
           2,
           2,
           1,
           0,
           0,
           4,
           0,
           0,
           0,
           0,
           0,
           2,
           1,
           3,
           0,
           2,
           3,
           3,
           0,
           3,
           0,
           0,
           0,
           2,
           1,
           0,
           3,
           0,
           0,
           1,
           3,
           1,
           0,
           0,
           2,
           1,
           1,
           1,
           3,
           2,
           0,
           1,
           0,
           4,
           2,
           2,
           0,
           0,
           2,
           0,
           0,
           1,
           0,
           0,
           0,
           1,
           3,
           0,
           0,
           0,
           1,
           0,
           0,
           0,
           3,
           2,
           0,
           0,
           0,
           0,
           2,
           0,
           0,
           3,
           0,
           2,
           1,
           3,
           0,
           1,
           1,
           2,
           2,
           1,
           0,
           0,
           4,
           0,
           0,
           0,
           0,
           0,
           2,
           1,
           3,
           0,
           2,
           3,
           3,
           0,
           3,
           0,
           0,
           0,
           2,
           1,
           0,
           3,
           0,
           0,
           1,
           3,
           1,
           0,
           0,
           2,
           1,
           1,
           1,
           3,
           2,
           0,
           1,
           0,
           4,
           2,
           2,
           0,
           0,
           2,
           0,
           0,
           1,
           0,
           0,
           0,
           1,
           3,
           0,
           0,
           0,
           1,
           0,
           0,
           0,
           3,
           2,
           0,
           0,
           0,
           0,
           2,
           0,
           0,
           3,
           0,
           2,
           1,
           3,
           0,
           1,
           1,
           2,
           2,
           1,
           0,
           0,
           4,
           0,
           0,
           0,
           0,
           0,
           2,
           1,
           3,
           0,
           2,
           3,
           3,
           0,
           3,
           0,
           0,
           0,
           2,
           1,
           0,
           3,
           0,
           0,
           1,
           3,
           1,
           0,
           0,
           2,
           1,
           1,
           1,
           3,
           2,
           0,
           1,
           0,
           4,
           2,
           2,
           0,
           0,
           2,
           0,
           0,
           1,
           0,
           0,
           0,
           1,
           3,
           0,
           0,
           0,
           1,
           0,
           0,
           0,
           3,
           2,
           0,
           0,
           0,
           0,
           2,
           0,
           0,
           3,
           0,
           2,
           1,
           3,
           0,
           1,
           1,
           2,
           2,
           1,
           0,
           0,
           4,
           0,
           0,
           0,
           0,
           0,
           2,
           1,
           3,
           0,
           2,
           3,
           3,
           0,
           3,
           0,
           0,
           0,
           2,
           1,
           0,
           3,
           0,
           0,
           1,
           3,
           1,
           0,
           0,
           2,
           1,
           1,
           1,
           3,
           2,
           0,
           1,
           0,
           4,
           2,
           2,
           0,
           0,
           2,
           0,
           0,
           1,
           0,
           0,
           0,
           1,
           3,
           0,
           0,
           0,
           1,
           0,
           0,
           0,
           3,
           2,
           0,
           0,
           0,
           0,
           2,
           0,
           0,
           3,
           0,
           2,
           1,
           3,
           0,
           1,
           1,
           2,
           2,
           1,
           0,
           0,
           4,
           0,
           0,
           0,
           0,
           0,
           2,
           1,
           3,
           0,
           2,
           3,
           3,
           0,
           3,
           0,
           0,
           0,
           2,
           1,
           0,
           3,
           0,
           0,
           1,
           3,
           1,
           0,
           0,
           2,
           1,
           1,
           1,
           3,
           2,
           0,
           1,
           0,
           4,
           2,
           2,
           0,
           0,
           2,
           0,
           0,
           1,
           0,
           0,
           0,
           1,
           3,
           0,
           0,
           0,
           1,
           0,
           0,
           0,
           3,
           2,
           0,
           0,
           0,
           0,
           2,
           0,
           0,
           3,
           0,
           2,
           1,
           3,
           0,
           1,
           1,
           2,
           2,
           1,
           0,
           0,
           4,
           0,
           0,
           0,
           0,
           0,
           2,
           1,
           3,
           0,
           2,
           3,
           3,
           0,
           3,
           0,
           0,
           0,
           2,
           1,
           0,
           3,
           0,
           0,
           1,
           3,
           1,
           0,
           0,
           2,
           1,
           1,
           1,
           3,
           2,
           0,
           1,
           0,
           4,
           2,
           2,
           0,
           0,
           2,
           0,
           0,
           1,
           0,
           0,
           0,
           1,
           3,
           0,
           0,
           0,
           1,
           0,
           0,
           0,
           3,
           2,
           0,
           0,
           0,
           0,
           2,
           0,
           0,
           3,
           0,
           2,
           1,
           3,
           0,
           1,
           1,
           2,
           2,
           1,
           0,
           0,
           4,
           0,
           0,
           0,
           0,
           0,
           2,
           1,
           3,
           0,
           2,
           3,
           3,
           0,
           3,
           0,
           0,
           0,
           2,
           1,
           0,
           3,
           0,
           0,
           1,
           3,
           1,
           0,
           0,
           2,
           1,
           1,
           1,
           3,
           2,
           0,
           1,
           0,
           4,
           2,
           2,
           0,
           0,
           2,
           0,
           0,
           1,
           0,
           0,
           0,
           1,
           3,
           0,
           0,
           0,
           1,
           0,
           0,
           0,
           3,
           2,
           0,
           0,
           0,
           0,
           2,
           0,
           0,
           3,
           0,
           2,
           1,
           3,
           0,
           1,
           1,
           2,
           2,
           1,
           0,
           0,
           4,
           0,
           0,
           0,
           0,
           0,
           2,
           1,
           3,
           0,
           2,
           3,
           3,
           0,
           3,
           0,
           0,
           0,
           2,
           1,
           0,
           3,
           0,
           0,
           1,
           3,
           1,
           0,
           0,
           2,
           1,
           1,
           1,
           3,
           2,
           0,
           1,
           0,
           4,
           2,
           2,
           0,
           0,
           2,
           0,
           0,
           1,
           0,
           0,
           0,
           1,
           3,
           0,
           0,
           0,
           1,
           0,
           0,
           0,
           3,
           2,
           0,
           0,
           0,
           0,
           2,
           0,
           0,
           3,
           0,
           2,
           1,
           3,
           0,
           1,
           1,
           2,
           2,
           1,
           0,
           0,
           4,
           0,
           0,
           0,
           0,
           0,
           2,
           1,
           3,
           0,
           2,
           3,
           3,
           0,
           3,
           0,
           0,
           0,
           2,
           1,
           0,
           3,
           0,
           0,
           1,
           3,
           1,
           0,
           0,
           2,
           1,
           1,
           1,
           3,
           2,
           0,
           1,
           0,
           4,
           2,
           2,
           0,
           0,
           2,
           0,
           0,
           1,
           0,
           0,
           0,
           1,
           3,
           0,
           0,
           0,
           1,
           0,
           0,
           0,
           3,
           2,
           0,
           0,
           0,
           0,
           2,
           0,
           0,
           3,
           0,
           2,
           1,
           3,
           0,
           1,
           1,
           2,
           2,
           1,
           0,
           0,
           4,
           0,
           0,
           0,
           0,
           0,
           2,
           1,
           3,
           0,
           2,
           3,
           3,
           0,
           3,
           0,
           0,
           0,
           2,
           1,
           0,
           3,
           0,
           0,
           1,
           3,
           1,
           0,
           0,
           2,
           1,
           1,
           1,
           3,
           2,
           0,
           1,
           0,
           4,
           2,
           2,
           0,
           0,
           2,
           0,
           0,
           1,
           0,
           0,
           0,
           1,
           3,
           0,
           0,
           0,
           1,
           0,
           0,
           0,
           3,
           2,
           0,
           0,
           0,
           0,
           2,
           0,
           0,
           3,
           0,
           2,
           1,
           3,
           0,
           1,
           1,
           2,
           2,
           1,
           0,
           0,
           4,
           0,
           0,
           0,
           0,
           0,
           2,
           1,
           3,
           0,
           2,
           3,
           3,
           0,
           3,
           0,
           0,
           0,
           2,
           1,
           0,
           3,
           0,
           0,
           1,
           3,
           1,
           0,
           0,
           2,
           1,
           1,
           1,
           3,
           2,
           0,
           1,
           0,
           4,
           2,
           2,
           0,
           0,
           2,
           0,
           0,
           1,
           0,
           0,
           0,
           1,
           3,
           0,
           0,
           0,
           1,
           0,
           0,
           0,
           3,
           2,
           0,
           0,
           0,
           0,
           2,
           0,
           0,
           3,
           0,
           2,
           1,
           3,
           0,
           1,
           1,
           2,
           2,
           1,
           0,
           0,
           4,
           0,
           0,
           0,
           0,
           0,
           2,
           1,
           3,
           0,
           2,
           3,
           3,
           0,
           3,
           0,
           0,
           0,
           2,
           1,
           0,
           3,
           0,
           0,
           1,
           3,
           1,
           0,
           0,
           2,
           1,
           1,
           1,
           3,
           2,
           0,
           1,
           0,
           4,
           2,
           2,
           0,
           0,
           2,
           0,
           0,
           1,
           0,
           0,
           0,
           1,
           3,
           0,
           0,
           0,
           1,
           0,
           0,
           0,
           3,
           2,
           0,
           0,
           0,
           0,
           2,
           0,
           0,
           3,
           0,
           2,
           1,
           3,
           0,
           1,
           1,
           2,
           2,
           1,
           0,
           0,
           4,
           0,
           0,
           0,
           0,
           0,
           2,
           1,
           3,
           0,
           2,
           3,
           3,
           0,
           3,
           0,
           0,
           0,
           2,
           1,
           0,
           3,
           0,
           0,
           1,
           3,
           1,
           0,
           0,
           2,
           1,
           1,
           1,
           3,
           2,
           0,
           1,
           0,
           4,
           2,
           2,
           0,
           0,
           2,
           0,
           0,
           1,
           0,
           0,
           0,
           1,
           3,
           0,
           0,
           0,
           1,
           0,
           0,
           0,
           3,
           2,
           0,
           0,
           0,
           0,
           2,
           0,
           0,
           3,
           0,
           2,
           1,
           3,
           0,
           1,
           1,
           2,
           2,
           1,
           0,
           0,
           4,
           0,
           0,
           0,
           0,
           0,
           2,
           1,
           3,
           0,
           2,
           3,
           3,
           0,
           3,
           0,
           0,
           0,
           2,
           1,
           0,
           3,
           0,
           0,
           1,
           3,
           1,
           0,
           0,
           2,
           1,
           1,
           1,
           3,
           2,
           0,
           1,
           0,
           4,
           2,
           2,
           0,
           0,
           2,
           0,
           0,
           1,
           0,
           0,
           0,
           1,
           3,
           0,
           0,
           0,
           1,
           0,
           0,
           0,
           3,
           2,
           0,
           0,
           0,
           0,
           2,
           0,
           0,
           3,
           0,
           2,
           1,
           3,
           0,
           1,
           1,
           2,
           2,
           1,
           0,
           0,
           4,
           0,
           0,
           0,
           0,
           0,
           2,
           1,
           3,
           0,
           2,
           3,
           3,
           0,
           3,
           0,
           0,
           0,
           2,
           1,
           0,
           3,
           0,
           0,
           1,
           3,
           1,
           0,
           0,
           2,
           1,
           1,
           1,
           3,
           2,
           0,
           1,
           0,
           4,
           2,
           2,
           0,
           0,
           2,
           0,
           0,
           1,
           0,
           0,
           0,
           1,
           3,
           0,
           0,
           0,
           1,
           0,
           0,
           0,
           3,
           2,
           0,
           0,
           0,
           0,
           2,
           0,
           0,
           3,
           0,
           2,
           1,
           3,
           0,
           1,
           1,
           2,
           2,
           1,
           0,
           0,
           4,
           0,
           0,
           0,
           0,
           0,
           2,
           1,
           3,
           0,
           2,
           3,
           3,
           0,
           3,
           0,
           0,
           0,
           2,
           1,
           0,
           3,
           0,
           0,
           1,
           3,
           1,
           0,
           0,
           2,
           1,
           1,
           1,
           3,
           2,
           0,
           1,
           0,
           4,
           2,
           2,
           0,
           0,
           2,
           0,
           0,
           1,
           0,
           0,
           0,
           1,
           3,
           0,
           0,
           0,
           1,
           0,
           0,
           0,
           3,
           2,
           0,
           0,
           0,
           0,
           2,
           0,
           0,
           3,
           0,
           2,
           1,
           3,
           0,
           1,
           1,
           2,
           2,
           1,
           0,
           0,
           4,
           0,
           0,
           0,
           0,
           0,
           2,
           1,
           3,
           0,
           2,
           3,
           3,
           0,
           3,
           0,
           0,
           0,
           2,
           1,
           0,
           3,
           0,
           0,
           1,
           3,
           1,
           0,
           0,
           2,
           1,
           1,
           1,
           3,
           2,
           0,
           1,
           0,
           4,
           2,
           2,
           0,
           0,
           2,
           0,
           0,
           1,
           0,
           0,
           0,
           1,
           3,
           0,
           0,
           0,
           1,
           0,
           0,
           0,
           3,
           2,
           0,
           0,
           0,
           0,
           2,
           0,
           0,
           3,
           0,
           2,
           1,
           3,
           0,
           1,
           1,
           2,
           2,
           1,
           0,
           0,
           4,
           0,
           0,
           0,
           0,
           0,
           2,
           1,
           3,
           0,
           2,
           3,
           3,
           0,
           3,
           0,
           0,
           0,
           2,
           1,
           0,
           3,
           0,
           0,
           1,
           3,
           1,
           0,
           0,
           2,
           1,
           1,
           1,
           3,
           2,
           0,
           1,
           0,
           4,
           2,
           2,
           0,
           0,
           2,
           0,
           0,
           1,
           0,
           0,
           0,
           1,
           3,
           0,
           0,
           0,
           1,
           0,
           0,
           0,
           3,
           2,
           0,
           0,
           0,
           0,
           2,
           0,
           0,
           3,
           0,
           2,
           1,
           3,
           0,
           1,
           1,
           2,
           2,
           1,
           0,
           0,
           4,
           0,
           0,
           0,
           0,
           0,
           2,
           1,
           3,
           0,
           2,
           3,
           3,
           0,
           3,
           0,
           0,
           0,
           2,
           1,
           0,
           3,
           0,
           0,
           1,
           3,
           1,
           0,
           0,
           2,
           1,
           1,
           1,
           3,
           2,
           0,
           1,
           0,
           4,
           2,
           2,
           0,
           0,
           2,
           0,
           0,
           1,
           0,
           0,
           0,
           1,
           3,
           0,
           0,
           0,
           1,
           0,
           0,
           0,
           3,
           2,
           0,
           0,
           0,
           0,
           2,
           0,
           0,
           3,
           0,
           2,
           1,
           3,
           0,
           1,
           1,
           2,
           2,
           1,
           0,
           0,
           4,
           0,
           0,
           0,
           0,
           0,
           2,
           1,
           3,
           0,
           2,
           3,
           3,
           0,
           3,
           0,
           0,
           0,
           2,
           1,
           0,
           3,
           0,
           0,
           1,
           3,
           1,
           0,
           0,
           2,
           1,
           1,
           1,
           3,
           2,
           0,
           1,
           0,
           4,
           2,
           2,
           0,
           0,
           2,
           0,
           0,
           1,
           0,
           0,
           0,
           1,
           3,
           0,
           0,
           0,
           1,
           0,
           0,
           0,
           3,
           2,
           0,
           0,
           0,
           0,
           2,
           0,
           0,
           3,
           0,
           2,
           1,
           3,
           0,
           1,
           1,
           2,
           2,
           1,
           0,
           0,
           4,
           0,
           0,
           0,
           0,
           0,
           2,
           1,
           3,
           0,
           2,
           3,
           3,
           0,
           3,
           0,
           0,
           0,
           2,
           1,
           0,
           3,
           0,
           0,
           1,
           3,
           1,
           0,
           0,
           2,
           1,
           1,
           1,
           3,
           2,
           0,
           1,
           0,
           4,
           2,
           2,
           0,
           0,
           2,
           0,
           0,
           1,
           0,
           0,
           0,
           1,
           3,
           0,
           0,
           0,
           1,
           0,
           0,
           0,
           3,
           2,
           0,
           0,
           0,
           0,
           2,
           0,
           0,
           3,
           0,
           2,
           1,
           3,
           0,
           1,
           1,
           2,
           2,
           1,
           0,
           0,
           4,
           0,
           0,
           0,
           0,
           0,
           2,
           1,
           3,
           0,
           2,
           3,
           3,
           0,
           3,
           0,
           0,
           0,
           2,
           1,
           0,
           3,
           0,
           0,
           1,
           3,
           1,
           0,
           0,
           2,
           1,
           1,
           1,
           3,
           2,
           0,
           1,
           0,
           4,
           2,
           2,
           0,
           0,
           2,
           0,
           0,
           1,
           0,
           0,
           0,
           1,
           3,
           0,
           0,
           0,
           1,
           0,
           0,
           0,
           3,
           2,
           0,
           0,
           0,
           0,
           2,
           0,
           0,
           3,
           0,
           2,
           1,
           3,
           0,
           1,
           1,
           2,
           2,
           1,
           0,
           0,
           4,
           0,
           0,
           0,
           0,
           0,
           2,
           1,
           3,
           0,
           2,
           3,
           3,
           0,
           3,
           0,
           0,
           0,
           2,
           1,
           0,
           3,
           0,
           0,
           1,
           3,
           1,
           0,
           0,
           2,
           1,
           1,
           1,
           3,
           2,
           0,
           1,
           0,
           4,
           2,
           2,
           0,
           0,
           2,
           0,
           0,
           1,
           0,
           0,
           0,
           1,
           3,
           0,
           0,
           0,
           1,
           0,
           0,
           0,
           3,
           2,
           0,
           0,
           0,
           0,
           2,
           0,
           0,
           3,
           0,
           2,
           1,
           3,
           0,
           1,
           1,
           2,
           2,
           1,
           0,
           0,
           4,
           0,
           0,
           0,
           0,
           0,
           2,
           1,
           3,
           0,
           2,
           3,
           3,
           0,
           3,
           0,
           0,
           0,
           2,
           1,
           0,
           3,
           0,
           0,
           1,
           3,
           1,
           0,
           0,
           2,
           1,
           1,
           1,
           3,
           2,
           0,
           1,
           0,
           4,
           2,
           2,
           0,
           0,
           2,
           0,
           0,
           1,
           0,
           0,
           0,
           1,
           3,
           0,
           0,
           0,
           1,
           0,
           0,
           0,
           3,
           2,
           0,
           0,
           0,
           0,
           2,
           0,
           0,
           3,
           0,
           2,
           1,
           3,
           0,
           1,
           1,
           2,
           2,
           1,
           0,
           0,
           4,
           0,
           0,
           0,
           0,
           0,
           2,
           1,
           3,
           0,
           2,
           3,
           3,
           0,
           3,
           0,
           0,
           0,
           2,
           1,
           0,
           3,
           0,
           0,
           1,
           3,
           1,
           0,
           0,
           2,
           1,
           1,
           1,
           3,
           2,
           0,
           1,
           0,
           4,
           2,
           2,
           0,
           0,
           2,
           0,
           0,
           1,
           0,
           0,
           0,
           1,
           3,
           0,
           0,
           0,
           1,
           0,
           0,
           0,
           3,
           2,
           0,
           0,
           0,
           0,
           2,
           0,
           0,
           3,
           0,
           2,
           1,
           3,
           0,
           1,
           1,
           2,
           2,
           1,
           0,
           0,
           4,
           0,
           0,
           0,
           0,
           0,
           2,
           1,
           3,
           0,
           2,
           3,
           3,
           0,
           3,
           0,
           0,
           0,
           2,
           1,
           0,
           3,
           0,
           0,
           1,
           3,
           1,
           0,
           0,
           2,
           1,
           1,
           1,
           3,
           2,
           0,
           1,
           0,
           4,
           2,
           2,
           0,
           0,
           2,
           0,
           0,
           1,
           0,
           0,
           0,
           1,
           3,
           0,
           0,
           0,
           1,
           0,
           0,
           0,
           3,
           2,
           0,
           0,
           0,
           0,
           2,
           0,
           0,
           3,
           0,
           2,
           1,
           3,
           0,
           1,
           1,
           2,
           2,
           1,
           0,
           0,
           4,
           0,
           0,
           0,
           0,
           0,
           2,
           1,
           3,
           0,
           2,
           3,
           3,
           0,
           3,
           0,
           0,
           0,
           2,
           1,
           0,
           3,
           0,
           0,
           1,
           3,
           1,
           0,
           0,
           2,
           1,
           1,
           1,
           3,
           2,
           0,
           1,
           0,
           4,
           2,
           2,
           0,
           0,
           2,
           0,
           0,
           1,
           0,
           0,
           0,
           1,
           3,
           0,
           0,
           0,
           1,
           0,
           0,
           0,
           3,
           2,
           0,
           0,
           0,
           0,
           2,
           0,
           0,
           3,
           0,
           2,
           1,
           3,
           0,
           1,
           1,
           2,
           2,
           1,
           0,
           0,
           4,
           0,
           0,
           0,
           0,
           0,
           2,
           1,
           3,
           0,
           2,
           3,
           3,
           0,
           3,
           0,
           0,
           0,
           2,
           1,
           0,
           3,
           0,
           0,
           1,
           3,
           1,
           0,
           0,
           2,
           1,
           1,
           1,
           3,
           2,
           0,
           1,
           0,
           4,
           2,
           2,
           0,
           0,
           2,
           0,
           0,
           1,
           0,
           0,
           0,
           1,
           3,
           0,
           0,
           0,
           1,
           0,
           0,
           0,
           3,
           2,
           0,
           0,
           0,
           0,
           2,
           0,
           0,
           3,
           0,
           2,
           1,
           3,
           0,
           1,
           1,
           2,
           2,
           1,
           0,
           0,
           4,
           0,
           0,
           0,
           0,
           0,
           2,
           1,
           3,
           0,
           2,
           3,
           3,
           0,
           3,
           0,
           0,
           0,
           2,
           1,
           0,
           3,
           0,
           0,
           1,
           3,
           1,
           0,
           0,
           2,
           1,
           1,
           1,
           3,
           2,
           0,
           1,
           0,
           4,
           2,
           2,
           0,
           0,
           2,
           0,
           0,
           1,
           0,
           0,
           0,
           1,
           3,
           0,
           0,
           0,
           1,
           0,
           0,
           0,
           3,
           2,
           0,
           0,
           0,
           0,
           2,
           0,
           0,
           3,
           0,
           2,
           1,
           3,
           0,
           1,
           1,
           2,
           2,
           1,
           0,
           0,
           4,
           0,
           0,
           0,
           0,
           0,
           2,
           1,
           3,
           0,
           2,
           3,
           3,
           0,
           3,
           0,
           0,
           0,
           2,
           1,
           0,
           3,
           0,
           0,
           1,
           3,
           1,
           0,
           0,
           2,
           1,
           1,
           1,
           3,
           2,
           0,
           1,
           0,
           4,
           2,
           2,
           0,
           0,
           2,
           0,
           0,
           1,
           0,
           0,
           0,
           1,
           3,
           0,
           0,
           0,
           1,
           0,
           0,
           0,
           3,
           2,
           0,
           0,
           0,
           0,
           2,
           0,
           0,
           3,
           0,
           2,
           1,
           3,
           0,
           1,
           1,
           2,
           2,
           1,
           0,
           0,
           4,
           0,
           0,
           0,
           0,
           0,
           2,
           1,
           3,
           0,
           2,
           3,
           3,
           0,
           3,
           0,
           0,
           0,
           2,
           1,
           0,
           3,
           0,
           0,
           1,
           3,
           1,
           0,
           0,
           2,
           1,
           1,
           1,
           3,
           2,
           0,
           1,
           0,
           4,
           2,
           2,
           0,
           0,
           2,
           0,
           0,
           1,
           0,
           0,
           0,
           1,
           3,
           0,
           0,
           0,
           1,
           0,
           0,
           0,
           3,
           2,
           0,
           0,
           0,
           0,
           2,
           0,
           0,
           3,
           0,
           2,
           1,
           3,
           0,
           1,
           1,
           2,
           2,
           1,
           0,
           0,
           4,
           0,
           0,
           0,
           0,
           0,
           2,
           1,
           3,
           0,
           2,
           3,
           3,
           0,
           3,
           0,
           0,
           0,
           2,
           1,
           0,
           3,
           0,
           0,
           1,
           3,
           1,
           0,
           0,
           2,
           1,
           1,
           1,
           3,
           2,
           0,
           1,
           0,
           4,
           2,
           2,
           0,
           0,
           2,
           0,
           0,
           1,
           0,
           0,
           0,
           1,
           3,
           0,
           0,
           0,
           1,
           0,
           0,
           0,
           3,
           2,
           0,
           0,
           0,
           0,
           2,
           0,
           0,
           3,
           0,
           2,
           1,
           3,
           0,
           1,
           1,
           2,
           2,
           1,
           0,
           0,
           4,
           0,
           0,
           0,
           0,
           0,
           2,
           1,
           3,
           0,
           2,
           3,
           3,
           0,
           3,
           0,
           0,
           0,
           2,
           1,
           0,
           3,
           0,
           0,
           1,
           3,
           1,
           0,
           0,
           2,
           1,
           1,
           1,
           3,
           2,
           0,
           1,
           0,
           4,
           2,
           2,
           0,
           0,
           2,
           0,
           0,
           1,
           0,
           0,
           0,
           1,
           3,
           0,
           0,
           0,
           1,
           0,
           0,
           0,
           3,
           2,
           0,
           0,
           0,
           0,
           2,
           0,
           0,
           3,
           0,
           2,
           1,
           3,
           0,
           1,
           1,
           2,
           2,
           1,
           0,
           0,
           4,
           0,
           0,
           0,
           0,
           0,
           2,
           1,
           3,
           0,
           2,
           3,
           3,
           0,
           3,
           0,
           0,
           0,
           2,
           1,
           0,
           3,
           0,
           0,
           1,
           3,
           1,
           0,
           0,
           2,
           1,
           1,
           1,
           3,
           2,
           0,
           1,
           0,
           4,
           2,
           2,
           0,
           0,
           2,
           0,
           0,
           1,
           0,
           0,
           0,
           1,
           3,
           0,
           0,
           0,
           1,
           0,
           0,
           0,
           3,
           2,
           0,
           0,
           0,
           0,
           2,
           0,
           0,
           3,
           0,
           2,
           1,
           3,
           0,
           1,
           1,
           2,
           2,
           1,
           0,
           0,
           4,
           0,
           0,
           0,
           0,
           0,
           2,
           1,
           3,
           0,
           2,
           3,
           3,
           0,
           3,
           0,
           0,
           0,
           2,
           1,
           0,
           3,
           0,
           0,
           1,
           3,
           1,
           0,
           0,
           2,
           1,
           1,
           1,
           3,
           2,
           0,
           1,
           0,
           4,
           2,
           2,
           0,
           0,
           2,
           0,
           0,
           1,
           0,
           0,
           0,
           1,
           3,
           0,
           0,
           0,
           1,
           0,
           0,
           0,
           3,
           2,
           0,
           0,
           0,
           0,
           2,
           0,
           0,
           3,
           0,
           2,
           1,
           3,
           0,
           1,
           1,
           2,
           2,
           1,
           0,
           0,
           4,
           0,
           0,
           0,
           0,
           0,
           2,
           1,
           3,
           0,
           2,
           3,
           3,
           0,
           3,
           0,
           0,
           0,
           2,
           1,
           0,
           3,
           0,
           0,
           1,
           3,
           1,
           0,
           0,
           2,
           1,
           1,
           1,
           3,
           2,
           0,
           1,
           0,
           4,
           2,
           2,
           0,
           0,
           2,
           0,
           0,
           1,
           0,
           0,
           0,
           1,
           3,
           0,
           0,
           0,
           1,
           0,
           0,
           0,
           3,
           2,
           0,
           0,
           0,
           0,
           2,
           0,
           0,
           3,
           0,
           2,
           1,
           3,
           0,
           1,
           1,
           2,
           2,
           1,
           0,
           0,
           4,
           0,
           0,
           0,
           0,
           0,
           2,
           1,
           3,
           0,
           2,
           3,
           3,
           0,
           3,
           0,
           0,
           0,
           2,
           1,
           0,
           3,
           0,
           0,
           1,
           3,
           1,
           0,
           0,
           2,
           1,
           1,
           1,
           3,
           2,
           0,
           1,
           0,
           4,
           2,
           2,
           0,
           0,
           2,
           0,
           0,
           1,
           0,
           0,
           0,
           1,
           3,
           0,
           0,
           0,
           1,
           0,
           0,
           0,
           3,
           2,
           0,
           0,
           0,
           0,
           2,
           0,
           0,
           3,
           0,
           2,
           1,
           3,
           0,
           1,
           1,
           2,
           2,
           1,
           0,
           0,
           4,
           0,
           0,
           0,
           0,
           0,
           2,
           1,
           3,
           0,
           2,
           3,
           3,
           0,
           3,
           0,
           0,
           0,
           2,
           1,
           0,
           3,
           0,
           0,
           1,
           3,
           1,
           0,
           0,
           2,
           1,
           1,
           1,
           3,
           2,
           0,
           1,
           0,
           4,
           2,
           2,
           0,
           0,
           2,
           0,
           0,
           1,
           0,
           0,
           0,
           1,
           3,
           0,
           0,
           0,
           1,
           0,
           0,
           0,
           3,
           2,
           0,
           0,
           0,
           0,
           2,
           0,
           0,
           3,
           0,
           2,
           1,
           3,
           0,
           1,
           1,
           2,
           2,
           1,
           0,
           0,
           4,
           0,
           0,
           0,
           0,
           0,
           2,
           1,
           3,
           0,
           2,
           3,
           3,
           0,
           3,
           0,
           0,
           0,
           2,
           1,
           0,
           3,
           0,
           0,
           1,
           3,
           1,
           0,
           0,
           2,
           1,
           1,
           1,
           3,
           2,
           0,
           1,
           0,
           4,
           2,
           2,
           0,
           0,
           2,
           0,
           0,
           1,
           0,
           0,
           0,
           1,
           3,
           0,
           0,
           0,
           1,
           0,
           0,
           0,
           3,
           2,
           0,
           0,
           0,
           0,
           2,
           0,
           0,
           3,
           0,
           2,
           1,
           3,
           0,
           1,
           1,
           2,
           2,
           1,
           0,
           0,
           4,
           0,
           0,
           0,
           0,
           0,
           2,
           1,
           3,
           0,
           2,
           3,
           3,
           0,
           3,
           0,
           0,
           0,
           2,
           1,
           0,
           3,
           0,
           0,
           1,
           3,
           1,
           0,
           0,
           2,
           1,
           1,
           1,
           3,
           2,
           0,
           1,
           0,
           4,
           2,
           2,
           0,
           0,
           2,
           0,
           0,
           1,
           0,
           0,
           0,
           1,
           3,
           0,
           0,
           0,
           1,
           0,
           0,
           0,
           3,
           2,
           0,
           0,
           0,
           0,
           2,
           0,
           0,
           3,
           0,
           2,
           1,
           3,
           0,
           1,
           1,
           2,
           2,
           1,
           0,
           0,
           4,
           0,
           0,
           0,
           0,
           0,
           2,
           1,
           3,
           0,
           2,
           3,
           3,
           0,
           3,
           0,
           0,
           0,
           2,
           1,
           0,
           3,
           0,
           0,
           1,
           3,
           1,
           0,
           0,
           2,
           1,
           1,
           1,
           3,
           2,
           0,
           1,
           0,
           4,
           2,
           2,
           0,
           0,
           2,
           0,
           0,
           1,
           0,
           0,
           0,
           1,
           3,
           0,
           0,
           0,
           1,
           0,
           0,
           0,
           3,
           2,
           0,
           0,
           0,
           0,
           2,
           0,
           0,
           3,
           0,
           2,
           1,
           3,
           0,
           1,
           1,
           2,
           2,
           1,
           0,
           0,
           4,
           0,
           0,
           0,
           0,
           0,
           2,
           1,
           3,
           0,
           2,
           3,
           3,
           0,
           3,
           0,
           0,
           0,
           2,
           1,
           0,
           3,
           0,
           0,
           1,
           3,
           1,
           0,
           0,
           2,
           1,
           1,
           1,
           3,
           2,
           0,
           1,
           0,
           4,
           2,
           2,
           0,
           0,
           2,
           0,
           0,
           1,
           0,
           0,
           0,
           1,
           3,
           0,
           0,
           0,
           1,
           0,
           0,
           0,
           3,
           2,
           0,
           0,
           0,
           0,
           2,
           0,
           0,
           3,
           0,
           2,
           1,
           3,
           0,
           1,
           1,
           2,
           2,
           1,
           0,
           0,
           4,
           0,
           0,
           0,
           0,
           0,
           2,
           1,
           3,
           0,
           2,
           3,
           3,
           0,
           3,
           0,
           0,
           0,
           2,
           1,
           0,
           3,
           0,
           0,
           1,
           3,
           1,
           0,
           0,
           2,
           1,
           1,
           1,
           3,
           2,
           0,
           1,
           0,
           4,
           2,
           2,
           0,
           0,
           2,
           0,
           0,
           1,
           0,
           0,
           0,
           1,
           3,
           0,
           0,
           0,
           1,
           0,
           0,
           0,
           3,
           2,
           0,
           0,
           0,
           0,
           2,
           0,
           0,
           3,
           0,
           2,
           1,
           3,
           0,
           1,
           1,
           2,
           2,
           1,
           0,
           0,
           4,
           0,
           0,
           0,
           0,
           0,
           2,
           1,
           3,
           0,
           2,
           3,
           3,
           0,
           3,
           0,
           0,
           0,
           2,
           1,
           0,
           3,
           0,
           0,
           1,
           3,
           1,
           0,
           0,
           2,
           1,
           1,
           1,
           3,
           2,
           0,
           1,
           0,
           4,
           2,
           2,
           0,
           0,
           2,
           0,
           0,
           1,
           0,
           0,
           0,
           1,
           3,
           0,
           0,
           0,
           1,
           0,
           0,
           0,
           3,
           2,
           0,
           0,
           0,
           0,
           2,
           0,
           0,
           3,
           0,
           2,
           1,
           3,
           0,
           1,
           1,
           2,
           2,
           1,
           0,
           0,
           4,
           0,
           0,
           0,
           0,
           0,
           2,
           1,
           3,
           0,
           2,
           3,
           3,
           0,
           3,
           0,
           0,
           0,
           2,
           1,
           0,
           3,
           0,
           0,
           1,
           3,
           1,
           0,
           0,
           2,
           1,
           1,
           1,
           3,
           2,
           0,
           1,
           0,
           4,
           2,
           2,
           0,
           0,
           2,
           0,
           0,
           1,
           0,
           0,
           0,
           1,
           3,
           0,
           0,
           0,
           1,
           0,
           0,
           0,
           3,
           2,
           0,
           0,
           0,
           0,
           2,
           0,
           0,
           3,
           0,
           2,
           1,
           3,
           0,
           1,
           1,
           2,
           2,
           1,
           0,
           0,
           4,
           0,
           0,
           0,
           0,
           0,
           2,
           1,
           3,
           0,
           2,
           3,
           3,
           0,
           3,
           0,
           0,
           0,
           2,
           1,
           0,
           3,
           0,
           0,
           1,
           3,
           1,
           0,
           0,
           2,
           1,
           1,
           1,
           3,
           2,
           0,
           1,
           0,
           4,
           2,
           2,
           0,
           0,
           2,
           0,
           0,
           1,
           0,
           0,
           0,
           1,
           3,
           0,
           0,
           0,
           1,
           0,
           0,
           0,
           3,
           2,
           0,
           0,
           0,
           0,
           2,
           0,
           0,
           3,
           0,
           2,
           1,
           3,
           0,
           1,
           1,
           2,
           2,
           1,
           0,
           0,
           4,
           0,
           0,
           0,
           0,
           0,
           2,
           1,
           3,
           0,
           2,
           3,
           3,
           0,
           3,
           0,
           0,
           0,
           2,
           1,
           0,
           3,
           0,
           0,
           1,
           3,
           1,
           0,
           0,
           2,
           1,
           1,
           1,
           3,
           2,
           0,
           1,
           0,
           4,
           2,
           2,
           0,
           0,
           2,
           0,
           0,
           1,
           0,
           0,
           0,
           1,
           3,
           0,
           0,
           0,
           1,
           0,
           0,
           0,
           3,
           2,
           0,
           0,
           0,
           0,
           2,
           0,
           0,
           3,
           0,
           2,
           1,
           3,
           0,
           1,
           1,
           2,
           2,
           1,
           0,
           0,
           4,
           0,
           0,
           0,
           0,
           0,
           2,
           1,
           3,
           0,
           2,
           3,
           3,
           0,
           3,
           0,
           0,
           0,
           2,
           1,
           0,
           3,
           0,
           0,
           1,
           3,
           1,
           0,
           0,
           2,
           1,
           1,
           1,
           3,
           2,
           0,
           1,
           0,
           4,
           2,
           2,
           0,
           0,
           2,
           0,
           0,
           1,
           0,
           0,
           0,
           1,
           3,
           0,
           0,
           0,
           1,
           0,
           0,
           0,
           3,
           2,
           0,
           0,
           0,
           0,
           2,
           0,
           0,
           3,
           0,
           2,
           1,
           3,
           0,
           1,
           1,
           2,
           2,
           1,
           0,
           0,
           4,
           0,
           0,
           0,
           0,
           0,
           2,
           1,
           3,
           0,
           2,
           3,
           3,
           0,
           3,
           0,
           0,
           0,
           2,
           1,
           0,
           3,
           0,
           0,
           1,
           3,
           1,
           0,
           0,
           2,
           1,
           1,
           1,
           3,
           2,
           0,
           1,
           0,
           4,
           2,
           2,
           0,
           0,
           2,
           0,
           0,
           1,
           0,
           0,
           0,
           1,
           3,
           0,
           0,
           0,
           1,
           0,
           0,
           0,
           3,
           2,
           0,
           0,
           0,
           0,
           2,
           0,
           0,
           3,
           0,
           2,
           1,
           3,
           0,
           1,
           1,
           2,
           2,
           1,
           0,
           0,
           4,
           0,
           0,
           0,
           0,
           0,
           2,
           1,
           3,
           0,
           2,
           3,
           3,
           0,
           3,
           0,
           0,
           0,
           2,
           1,
           0,
           3,
           0,
           0,
           1,
           3,
           1,
           0,
           0,
           2,
           1,
           1,
           1,
           3,
           2,
           0,
           1,
           0,
           4,
           2,
           2,
           0,
           0,
           2,
           0,
           0,
           1,
           0,
           0,
           0,
           1,
           3,
           0,
           0,
           0,
           1,
           0,
           0,
           0,
           3,
           2,
           0,
           0,
           0,
           0,
           2,
           0,
           0,
           3,
           0,
           2,
           1,
           3,
           0,
           1,
           1,
           2,
           2,
           1,
           0,
           0,
           4,
           0,
           0,
           0,
           0,
           0,
           2,
           1,
           3,
           0,
           2,
           3,
           3,
           0,
           3,
           0,
           0,
           0,
           2,
           1,
           0,
           3,
           0,
           0,
           1,
           3,
           1,
           0,
           0,
           2,
           1,
           1,
           1,
           3,
           2,
           0,
           1,
           0,
           4,
           2,
           2,
           0,
           0,
           2,
           0,
           0,
           1,
           0,
           0,
           0,
           1,
           3,
           0,
           0,
           0,
           1,
           0,
           0,
           0,
           3,
           2,
           0,
           0,
           0,
           0,
           2,
           0,
           0,
           3,
           0,
           2,
           1,
           3,
           0,
           1,
           1,
           2,
           2,
           1,
           0,
           0,
           4,
           0,
           0,
           0,
           0,
           0,
           2,
           1,
           3,
           0,
           2,
           3,
           3,
           0,
           3,
           0,
           0,
           0,
           2,
           1,
           0,
           3,
           0,
           0,
           1,
           3,
           1,
           0,
           0,
           2,
           1,
           1,
           1,
           3,
           2,
           0,
           1,
           0,
           4,
           2,
           2,
           0,
           0,
           2,
           0,
           0,
           1,
           0,
           0,
           0,
           1,
           3,
           0,
           0,
           0,
           1,
           0,
           0,
           0,
           3,
           2,
           0,
           0,
           0,
           0,
           2,
           0,
           0,
           3,
           0,
           2,
           1,
           3,
           0,
           1,
           1,
           2,
           2,
           1,
           0,
           0,
           4,
           0,
           0,
           0,
           0,
           0,
           2,
           1,
           3,
           0,
           2,
           3,
           3,
           0,
           3,
           0,
           0,
           0,
           2,
           1,
           0,
           3,
           0,
           0,
           1,
           3,
           1,
           0,
           0,
           2,
           1,
           1,
           1,
           3,
           2,
           0,
           1,
           0,
           4
          ],
          "line": {
           "color": "#ece8e8",
           "width": 0.5
          },
          "size": [
           40.909090909090914,
           43.18181818181819,
           9.090909090909092,
           4.545454545454545,
           36.36363636363637,
           4.545454545454545,
           9.090909090909092,
           0,
           11.363636363636362,
           4.545454545454545,
           13.636363636363635,
           0,
           0,
           6.8181818181818175,
           0,
           0,
           27.272727272727277,
           0,
           61.36363636363637,
           27.272727272727277,
           100,
           2.272727272727273,
           0,
           4.545454545454545,
           0,
           0,
           4.545454545454545,
           2.272727272727273,
           11.363636363636362,
           2.272727272727273,
           11.363636363636362,
           11.363636363636362,
           24.999999999999996,
           4.545454545454545,
           2.272727272727273,
           24.999999999999996,
           24.999999999999996,
           2.272727272727273,
           4.545454545454545,
           24.999999999999996,
           2.272727272727273,
           0,
           0,
           13.636363636363635,
           2.272727272727273,
           6.8181818181818175,
           4.545454545454545,
           4.545454545454545,
           22.727272727272727,
           6.8181818181818175,
           0,
           0,
           22.727272727272727,
           0,
           2.272727272727273,
           79.54545454545455,
           4.545454545454545,
           4.545454545454545,
           47.72727272727273,
           4.545454545454545,
           34.09090909090909,
           24.999999999999996,
           6.8181818181818175,
           2.272727272727273,
           45.45454545454546,
           0,
           24.999999999999996,
           0,
           45.45454545454546,
           9.090909090909092,
           9.090909090909092,
           0,
           27.272727272727277,
           15.909090909090908,
           2.272727272727273,
           0,
           0,
           13.636363636363635,
           24.999999999999996,
           18.181818181818183,
           0
          ]
         },
         "mode": "markers",
         "text": [
          "compassion",
          "mentalhealth",
          "bekind",
          "humanity",
          "happiness",
          "stayhome",
          "reachout",
          "bettertogether",
          "support",
          "staysafe",
          "wellness",
          "spirituality",
          "strength",
          "hope",
          "perspective",
          "virus",
          "mindset",
          "create",
          "socialdistancing",
          "quarantine",
          "love",
          "empathy",
          "personaltrainer",
          "lockdown",
          "physicaldistance",
          "workingfromhome",
          "actsofkindness",
          "quarantinelife",
          "grateful",
          "positivevibes",
          "connect",
          "leadership",
          "humanpotential",
          "healing",
          "social",
          "higherpurpose",
          "consciouscapitalism",
          "stressmanagement",
          "relationship",
          "consciousbusiness",
          "washyourhands",
          "immunity",
          "professionaldevelopment",
          "health",
          "pandemic",
          "friendship",
          "staythefuckhome",
          "corona",
          "inspiration",
          "meditation",
          "peace",
          "besafe",
          "kindness",
          "loveyourself",
          "unity",
          "covid19",
          "family",
          "selfisolation",
          "connection",
          "socialconnection",
          "gratitude",
          "greatwomenleaders",
          "together",
          "positivity",
          "coronavirus",
          "covd19",
          "purposedrivenbusiness",
          "nature",
          "mindfulness",
          "flattenthecurve",
          "selfcare",
          "anxiety",
          "authenticity",
          "selflove",
          "yoga",
          "faith",
          "interdependncia",
          "isolation",
          "powerful",
          "community",
          "personaldevelopment"
         ],
         "textposition": "bottom center",
         "type": "scatter",
         "x": [
          0.3455860921936984,
          0.11016575605877602,
          -0.2892684372156338,
          0.26546216653525684,
          0.2892316921553843,
          -0.6916730567979607,
          0.1797321410368675,
          0.9338772018253828,
          0.028671847889608058,
          -0.19288743746830359,
          -0.1445613452142485,
          0.7692618358499506,
          0.6366761443052944,
          0.22914481294055586,
          -0.10659690513775608,
          0.42181900325014254,
          0.2665607881338202,
          0.24531530748599703,
          -0.23567920674210455,
          -0.004762764740717416,
          0.11541973297070345,
          0.725878196654557,
          0.11085799295388234,
          -0.015456291130570357,
          -0.29730801594806094,
          0.476418546252964,
          0.24825279855494556,
          -0.5121741430949502,
          -0.3333316635460027,
          -0.10024018529683958,
          -0.19035530087513267,
          0.014723219068822279,
          0.5515481576936492,
          -0.19794348947731769,
          -0.3592400312522192,
          0.3838157817750737,
          0.5028339812484264,
          -0.4047900951610015,
          -0.620931538614446,
          0.4318521812552965,
          -0.6953534605468638,
          -0.49189390341491623,
          -0.1963402500119412,
          -0.36482090931303934,
          -0.6489179757813794,
          -0.3612541971196493,
          -0.5870065943209695,
          -0.7072987167828125,
          0.1351314306774506,
          0.5975013312563732,
          -0.1657672958705738,
          -0.8141036198228513,
          -0.012047858220622801,
          0.027778077840414615,
          -0.4124275868642897,
          -0.22912735232692857,
          -0.2925581991378536,
          -0.3911271321957173,
          -0.10097929361113614,
          -0.5498714292610081,
          -0.09362941864909598,
          0.6290120909970636,
          -0.5274432885344671,
          -0.05969594242830725,
          -0.13702344846983283,
          -0.8184577461104179,
          0.5807241683507863,
          0.14109557713993912,
          0.3195313911654045,
          -0.5758968296931457,
          0.07036544299160555,
          0.6364914127707022,
          0.48507726352568553,
          0.39965091730429475,
          0.9105720569030873,
          0.6823149614898538,
          -1,
          0.1105766569509571,
          0.6299540558288864,
          0.09352037973994606,
          0.19783976317957855
         ],
         "y": [
          -0.2506740674215007,
          -0.003233609876338488,
          -0.17833222659589787,
          0.11511316391266556,
          -0.38862113390255304,
          0.006143562593996747,
          0.2767419094255269,
          -0.07474316404009786,
          0.06825381499332386,
          0.6808559339423768,
          0.4643110051266712,
          0.7093155420719485,
          -0.06192863350479695,
          0.1894883472262376,
          0.793218568697612,
          0.5535004420554839,
          -0.5420407078386288,
          0.6705042785290103,
          0.09696823925398873,
          0.21016259525776215,
          -0.21690996264590942,
          0.09005833924457493,
          0.8416908865464873,
          0.6693358453638216,
          0.7770261330114536,
          0.7772259038295884,
          -0.7094891097792136,
          0.5279114595048212,
          -0.012684536489999069,
          -0.46487625861225423,
          -0.08457543621539751,
          -0.5544443642049247,
          -0.23981830129662174,
          -0.5593650114387015,
          0.6679030006308194,
          -0.6236523001417581,
          -0.594702808507188,
          -0.6324012080012414,
          -0.42585874467997253,
          -0.5128045224896088,
          0.2824221850916814,
          0.6875421976569124,
          -0.042028302662227617,
          0.39149959542752877,
          0.4729061598992384,
          -0.13150119562845486,
          0.6122795569856104,
          0.14388729813877643,
          -0.3903134575357185,
          0.07153110121700443,
          -0.7460209293463961,
          -0.13995571584364622,
          -0.15888910657255112,
          -0.7842122928210482,
          -0.26460271208769764,
          0.22291283856355693,
          -0.45084155397997905,
          -0.4023905035836392,
          0.012466463271866533,
          -0.1228099526109709,
          -0.21052603249987867,
          -0.4128442794561126,
          0.22543680209160435,
          -0.7076181826831953,
          0.2331159758732535,
          0.20188714087348514,
          -0.5061029488591657,
          -0.7796271789726851,
          -0.10717551763546776,
          0.3677070715846346,
          0.49460034709621575,
          0.4083442949047109,
          -0.3810037570628175,
          0.3020403870395779,
          0.365109930519383,
          -0.170017609452674,
          -0.7322490795682237,
          0.14114263222055068,
          -0.31109339780408973,
          0.29478968137512285,
          -0.03437081669964165
         ]
        }
       ],
       "layout": {
        "autosize": false,
        "font": {
         "family": "Arial",
         "size": 20
        },
        "height": 1100,
        "hovermode": "closest",
        "margin": {
         "b": 85,
         "l": 40,
         "pad": 0,
         "r": 40,
         "t": 100
        },
        "plot_bgcolor": "#ffffff",
        "showlegend": false,
        "template": {
         "data": {
          "bar": [
           {
            "error_x": {
             "color": "#2a3f5f"
            },
            "error_y": {
             "color": "#2a3f5f"
            },
            "marker": {
             "line": {
              "color": "#E5ECF6",
              "width": 0.5
             }
            },
            "type": "bar"
           }
          ],
          "barpolar": [
           {
            "marker": {
             "line": {
              "color": "#E5ECF6",
              "width": 0.5
             }
            },
            "type": "barpolar"
           }
          ],
          "carpet": [
           {
            "aaxis": {
             "endlinecolor": "#2a3f5f",
             "gridcolor": "white",
             "linecolor": "white",
             "minorgridcolor": "white",
             "startlinecolor": "#2a3f5f"
            },
            "baxis": {
             "endlinecolor": "#2a3f5f",
             "gridcolor": "white",
             "linecolor": "white",
             "minorgridcolor": "white",
             "startlinecolor": "#2a3f5f"
            },
            "type": "carpet"
           }
          ],
          "choropleth": [
           {
            "colorbar": {
             "outlinewidth": 0,
             "ticks": ""
            },
            "type": "choropleth"
           }
          ],
          "contour": [
           {
            "colorbar": {
             "outlinewidth": 0,
             "ticks": ""
            },
            "colorscale": [
             [
              0,
              "#0d0887"
             ],
             [
              0.1111111111111111,
              "#46039f"
             ],
             [
              0.2222222222222222,
              "#7201a8"
             ],
             [
              0.3333333333333333,
              "#9c179e"
             ],
             [
              0.4444444444444444,
              "#bd3786"
             ],
             [
              0.5555555555555556,
              "#d8576b"
             ],
             [
              0.6666666666666666,
              "#ed7953"
             ],
             [
              0.7777777777777778,
              "#fb9f3a"
             ],
             [
              0.8888888888888888,
              "#fdca26"
             ],
             [
              1,
              "#f0f921"
             ]
            ],
            "type": "contour"
           }
          ],
          "contourcarpet": [
           {
            "colorbar": {
             "outlinewidth": 0,
             "ticks": ""
            },
            "type": "contourcarpet"
           }
          ],
          "heatmap": [
           {
            "colorbar": {
             "outlinewidth": 0,
             "ticks": ""
            },
            "colorscale": [
             [
              0,
              "#0d0887"
             ],
             [
              0.1111111111111111,
              "#46039f"
             ],
             [
              0.2222222222222222,
              "#7201a8"
             ],
             [
              0.3333333333333333,
              "#9c179e"
             ],
             [
              0.4444444444444444,
              "#bd3786"
             ],
             [
              0.5555555555555556,
              "#d8576b"
             ],
             [
              0.6666666666666666,
              "#ed7953"
             ],
             [
              0.7777777777777778,
              "#fb9f3a"
             ],
             [
              0.8888888888888888,
              "#fdca26"
             ],
             [
              1,
              "#f0f921"
             ]
            ],
            "type": "heatmap"
           }
          ],
          "heatmapgl": [
           {
            "colorbar": {
             "outlinewidth": 0,
             "ticks": ""
            },
            "colorscale": [
             [
              0,
              "#0d0887"
             ],
             [
              0.1111111111111111,
              "#46039f"
             ],
             [
              0.2222222222222222,
              "#7201a8"
             ],
             [
              0.3333333333333333,
              "#9c179e"
             ],
             [
              0.4444444444444444,
              "#bd3786"
             ],
             [
              0.5555555555555556,
              "#d8576b"
             ],
             [
              0.6666666666666666,
              "#ed7953"
             ],
             [
              0.7777777777777778,
              "#fb9f3a"
             ],
             [
              0.8888888888888888,
              "#fdca26"
             ],
             [
              1,
              "#f0f921"
             ]
            ],
            "type": "heatmapgl"
           }
          ],
          "histogram": [
           {
            "marker": {
             "colorbar": {
              "outlinewidth": 0,
              "ticks": ""
             }
            },
            "type": "histogram"
           }
          ],
          "histogram2d": [
           {
            "colorbar": {
             "outlinewidth": 0,
             "ticks": ""
            },
            "colorscale": [
             [
              0,
              "#0d0887"
             ],
             [
              0.1111111111111111,
              "#46039f"
             ],
             [
              0.2222222222222222,
              "#7201a8"
             ],
             [
              0.3333333333333333,
              "#9c179e"
             ],
             [
              0.4444444444444444,
              "#bd3786"
             ],
             [
              0.5555555555555556,
              "#d8576b"
             ],
             [
              0.6666666666666666,
              "#ed7953"
             ],
             [
              0.7777777777777778,
              "#fb9f3a"
             ],
             [
              0.8888888888888888,
              "#fdca26"
             ],
             [
              1,
              "#f0f921"
             ]
            ],
            "type": "histogram2d"
           }
          ],
          "histogram2dcontour": [
           {
            "colorbar": {
             "outlinewidth": 0,
             "ticks": ""
            },
            "colorscale": [
             [
              0,
              "#0d0887"
             ],
             [
              0.1111111111111111,
              "#46039f"
             ],
             [
              0.2222222222222222,
              "#7201a8"
             ],
             [
              0.3333333333333333,
              "#9c179e"
             ],
             [
              0.4444444444444444,
              "#bd3786"
             ],
             [
              0.5555555555555556,
              "#d8576b"
             ],
             [
              0.6666666666666666,
              "#ed7953"
             ],
             [
              0.7777777777777778,
              "#fb9f3a"
             ],
             [
              0.8888888888888888,
              "#fdca26"
             ],
             [
              1,
              "#f0f921"
             ]
            ],
            "type": "histogram2dcontour"
           }
          ],
          "mesh3d": [
           {
            "colorbar": {
             "outlinewidth": 0,
             "ticks": ""
            },
            "type": "mesh3d"
           }
          ],
          "parcoords": [
           {
            "line": {
             "colorbar": {
              "outlinewidth": 0,
              "ticks": ""
             }
            },
            "type": "parcoords"
           }
          ],
          "pie": [
           {
            "automargin": true,
            "type": "pie"
           }
          ],
          "scatter": [
           {
            "marker": {
             "colorbar": {
              "outlinewidth": 0,
              "ticks": ""
             }
            },
            "type": "scatter"
           }
          ],
          "scatter3d": [
           {
            "line": {
             "colorbar": {
              "outlinewidth": 0,
              "ticks": ""
             }
            },
            "marker": {
             "colorbar": {
              "outlinewidth": 0,
              "ticks": ""
             }
            },
            "type": "scatter3d"
           }
          ],
          "scattercarpet": [
           {
            "marker": {
             "colorbar": {
              "outlinewidth": 0,
              "ticks": ""
             }
            },
            "type": "scattercarpet"
           }
          ],
          "scattergeo": [
           {
            "marker": {
             "colorbar": {
              "outlinewidth": 0,
              "ticks": ""
             }
            },
            "type": "scattergeo"
           }
          ],
          "scattergl": [
           {
            "marker": {
             "colorbar": {
              "outlinewidth": 0,
              "ticks": ""
             }
            },
            "type": "scattergl"
           }
          ],
          "scattermapbox": [
           {
            "marker": {
             "colorbar": {
              "outlinewidth": 0,
              "ticks": ""
             }
            },
            "type": "scattermapbox"
           }
          ],
          "scatterpolar": [
           {
            "marker": {
             "colorbar": {
              "outlinewidth": 0,
              "ticks": ""
             }
            },
            "type": "scatterpolar"
           }
          ],
          "scatterpolargl": [
           {
            "marker": {
             "colorbar": {
              "outlinewidth": 0,
              "ticks": ""
             }
            },
            "type": "scatterpolargl"
           }
          ],
          "scatterternary": [
           {
            "marker": {
             "colorbar": {
              "outlinewidth": 0,
              "ticks": ""
             }
            },
            "type": "scatterternary"
           }
          ],
          "surface": [
           {
            "colorbar": {
             "outlinewidth": 0,
             "ticks": ""
            },
            "colorscale": [
             [
              0,
              "#0d0887"
             ],
             [
              0.1111111111111111,
              "#46039f"
             ],
             [
              0.2222222222222222,
              "#7201a8"
             ],
             [
              0.3333333333333333,
              "#9c179e"
             ],
             [
              0.4444444444444444,
              "#bd3786"
             ],
             [
              0.5555555555555556,
              "#d8576b"
             ],
             [
              0.6666666666666666,
              "#ed7953"
             ],
             [
              0.7777777777777778,
              "#fb9f3a"
             ],
             [
              0.8888888888888888,
              "#fdca26"
             ],
             [
              1,
              "#f0f921"
             ]
            ],
            "type": "surface"
           }
          ],
          "table": [
           {
            "cells": {
             "fill": {
              "color": "#EBF0F8"
             },
             "line": {
              "color": "white"
             }
            },
            "header": {
             "fill": {
              "color": "#C8D4E3"
             },
             "line": {
              "color": "white"
             }
            },
            "type": "table"
           }
          ]
         },
         "layout": {
          "annotationdefaults": {
           "arrowcolor": "#2a3f5f",
           "arrowhead": 0,
           "arrowwidth": 1
          },
          "coloraxis": {
           "colorbar": {
            "outlinewidth": 0,
            "ticks": ""
           }
          },
          "colorscale": {
           "diverging": [
            [
             0,
             "#8e0152"
            ],
            [
             0.1,
             "#c51b7d"
            ],
            [
             0.2,
             "#de77ae"
            ],
            [
             0.3,
             "#f1b6da"
            ],
            [
             0.4,
             "#fde0ef"
            ],
            [
             0.5,
             "#f7f7f7"
            ],
            [
             0.6,
             "#e6f5d0"
            ],
            [
             0.7,
             "#b8e186"
            ],
            [
             0.8,
             "#7fbc41"
            ],
            [
             0.9,
             "#4d9221"
            ],
            [
             1,
             "#276419"
            ]
           ],
           "sequential": [
            [
             0,
             "#0d0887"
            ],
            [
             0.1111111111111111,
             "#46039f"
            ],
            [
             0.2222222222222222,
             "#7201a8"
            ],
            [
             0.3333333333333333,
             "#9c179e"
            ],
            [
             0.4444444444444444,
             "#bd3786"
            ],
            [
             0.5555555555555556,
             "#d8576b"
            ],
            [
             0.6666666666666666,
             "#ed7953"
            ],
            [
             0.7777777777777778,
             "#fb9f3a"
            ],
            [
             0.8888888888888888,
             "#fdca26"
            ],
            [
             1,
             "#f0f921"
            ]
           ],
           "sequentialminus": [
            [
             0,
             "#0d0887"
            ],
            [
             0.1111111111111111,
             "#46039f"
            ],
            [
             0.2222222222222222,
             "#7201a8"
            ],
            [
             0.3333333333333333,
             "#9c179e"
            ],
            [
             0.4444444444444444,
             "#bd3786"
            ],
            [
             0.5555555555555556,
             "#d8576b"
            ],
            [
             0.6666666666666666,
             "#ed7953"
            ],
            [
             0.7777777777777778,
             "#fb9f3a"
            ],
            [
             0.8888888888888888,
             "#fdca26"
            ],
            [
             1,
             "#f0f921"
            ]
           ]
          },
          "colorway": [
           "#636efa",
           "#EF553B",
           "#00cc96",
           "#ab63fa",
           "#FFA15A",
           "#19d3f3",
           "#FF6692",
           "#B6E880",
           "#FF97FF",
           "#FECB52"
          ],
          "font": {
           "color": "#2a3f5f"
          },
          "geo": {
           "bgcolor": "white",
           "lakecolor": "white",
           "landcolor": "#E5ECF6",
           "showlakes": true,
           "showland": true,
           "subunitcolor": "white"
          },
          "hoverlabel": {
           "align": "left"
          },
          "hovermode": "closest",
          "mapbox": {
           "style": "light"
          },
          "paper_bgcolor": "white",
          "plot_bgcolor": "#E5ECF6",
          "polar": {
           "angularaxis": {
            "gridcolor": "white",
            "linecolor": "white",
            "ticks": ""
           },
           "bgcolor": "#E5ECF6",
           "radialaxis": {
            "gridcolor": "white",
            "linecolor": "white",
            "ticks": ""
           }
          },
          "scene": {
           "xaxis": {
            "backgroundcolor": "#E5ECF6",
            "gridcolor": "white",
            "gridwidth": 2,
            "linecolor": "white",
            "showbackground": true,
            "ticks": "",
            "zerolinecolor": "white"
           },
           "yaxis": {
            "backgroundcolor": "#E5ECF6",
            "gridcolor": "white",
            "gridwidth": 2,
            "linecolor": "white",
            "showbackground": true,
            "ticks": "",
            "zerolinecolor": "white"
           },
           "zaxis": {
            "backgroundcolor": "#E5ECF6",
            "gridcolor": "white",
            "gridwidth": 2,
            "linecolor": "white",
            "showbackground": true,
            "ticks": "",
            "zerolinecolor": "white"
           }
          },
          "shapedefaults": {
           "line": {
            "color": "#2a3f5f"
           }
          },
          "ternary": {
           "aaxis": {
            "gridcolor": "white",
            "linecolor": "white",
            "ticks": ""
           },
           "baxis": {
            "gridcolor": "white",
            "linecolor": "white",
            "ticks": ""
           },
           "bgcolor": "#E5ECF6",
           "caxis": {
            "gridcolor": "white",
            "linecolor": "white",
            "ticks": ""
           }
          },
          "title": {
           "x": 0.05
          },
          "xaxis": {
           "automargin": true,
           "gridcolor": "white",
           "linecolor": "white",
           "ticks": "",
           "title": {
            "standoff": 15
           },
           "zerolinecolor": "white",
           "zerolinewidth": 2
          },
          "yaxis": {
           "automargin": true,
           "gridcolor": "white",
           "linecolor": "white",
           "ticks": "",
           "title": {
            "standoff": 15
           },
           "zerolinecolor": "white",
           "zerolinewidth": 2
          }
         }
        },
        "title": {
         "text": "#humanconnection is.."
        },
        "width": 1100,
        "xaxis": {
         "showgrid": false,
         "showline": false,
         "showticklabels": false,
         "title": {
          "text": ""
         },
         "zeroline": false
        },
        "yaxis": {
         "showgrid": false,
         "showline": false,
         "showticklabels": false,
         "title": {
          "text": ""
         },
         "zeroline": false
        }
       }
      },
      "text/html": [
       "<div>\n",
       "        \n",
       "        \n",
       "            <div id=\"3476c80f-4b71-4a1a-a053-962a142da2b4\" class=\"plotly-graph-div\" style=\"height:1100px; width:1100px;\"></div>\n",
       "            <script type=\"text/javascript\">\n",
       "                require([\"plotly\"], function(Plotly) {\n",
       "                    window.PLOTLYENV=window.PLOTLYENV || {};\n",
       "                    \n",
       "                if (document.getElementById(\"3476c80f-4b71-4a1a-a053-962a142da2b4\")) {\n",
       "                    Plotly.newPlot(\n",
       "                        '3476c80f-4b71-4a1a-a053-962a142da2b4',\n",
       "                        [{\"line\": {\"shape\": \"spline\", \"width\": 0.5}, \"marker\": {\"color\": \"#ece8e8\"}, \"mode\": \"lines\", \"opacity\": 1, \"type\": \"scatter\", \"x\": [0.3455860921936984, 0.11541973297070345, null], \"y\": [-0.2506740674215007, -0.21690996264590942, null]}, {\"line\": {\"shape\": \"spline\", \"width\": 0.5}, \"marker\": {\"color\": \"#ece8e8\"}, \"mode\": \"lines\", \"opacity\": 1, \"type\": \"scatter\", \"x\": [0.3455860921936984, 0.1351314306774506, null], \"y\": [-0.2506740674215007, -0.3903134575357185, null]}, {\"line\": {\"shape\": \"spline\", \"width\": 0.5}, \"marker\": {\"color\": \"#ece8e8\"}, \"mode\": \"lines\", \"opacity\": 1, \"type\": \"scatter\", \"x\": [0.3455860921936984, 0.11016575605877602, null], \"y\": [-0.2506740674215007, -0.003233609876338488, null]}, {\"line\": {\"shape\": \"spline\", \"width\": 0.5}, \"marker\": {\"color\": \"#ece8e8\"}, \"mode\": \"lines\", \"opacity\": 1, \"type\": \"scatter\", \"x\": [0.3455860921936984, -0.012047858220622801, null], \"y\": [-0.2506740674215007, -0.15888910657255112, null]}, {\"line\": {\"shape\": \"spline\", \"width\": 0.5}, \"marker\": {\"color\": \"#ece8e8\"}, \"mode\": \"lines\", \"opacity\": 1, \"type\": \"scatter\", \"x\": [0.3455860921936984, 0.725878196654557, null], \"y\": [-0.2506740674215007, 0.09005833924457493, null]}, {\"line\": {\"shape\": \"spline\", \"width\": 0.5}, \"marker\": {\"color\": \"#ece8e8\"}, \"mode\": \"lines\", \"opacity\": 1, \"type\": \"scatter\", \"x\": [0.3455860921936984, -0.10097929361113614, null], \"y\": [-0.2506740674215007, 0.012466463271866533, null]}, {\"line\": {\"shape\": \"spline\", \"width\": 0.5}, \"marker\": {\"color\": \"#ece8e8\"}, \"mode\": \"lines\", \"opacity\": 1, \"type\": \"scatter\", \"x\": [0.3455860921936984, 0.48507726352568553, null], \"y\": [-0.2506740674215007, -0.3810037570628175, null]}, {\"line\": {\"shape\": \"spline\", \"width\": 0.5}, \"marker\": {\"color\": \"#ece8e8\"}, \"mode\": \"lines\", \"opacity\": 1, \"type\": \"scatter\", \"x\": [0.3455860921936984, 0.5028339812484264, null], \"y\": [-0.2506740674215007, -0.594702808507188, null]}, {\"line\": {\"shape\": \"spline\", \"width\": 0.5}, \"marker\": {\"color\": \"#ece8e8\"}, \"mode\": \"lines\", \"opacity\": 1, \"type\": \"scatter\", \"x\": [0.3455860921936984, -0.09362941864909598, null], \"y\": [-0.2506740674215007, -0.21052603249987867, null]}, {\"line\": {\"shape\": \"spline\", \"width\": 0.5}, \"marker\": {\"color\": \"#ece8e8\"}, \"mode\": \"lines\", \"opacity\": 1, \"type\": \"scatter\", \"x\": [0.3455860921936984, 0.4318521812552965, null], \"y\": [-0.2506740674215007, -0.5128045224896088, null]}, {\"line\": {\"shape\": \"spline\", \"width\": 0.5}, \"marker\": {\"color\": \"#ece8e8\"}, \"mode\": \"lines\", \"opacity\": 1, \"type\": \"scatter\", \"x\": [0.3455860921936984, 0.6290120909970636, null], \"y\": [-0.2506740674215007, -0.4128442794561126, null]}, {\"line\": {\"shape\": \"spline\", \"width\": 0.5}, \"marker\": {\"color\": \"#ece8e8\"}, \"mode\": \"lines\", \"opacity\": 1, \"type\": \"scatter\", \"x\": [0.3455860921936984, 0.24825279855494556, null], \"y\": [-0.2506740674215007, -0.7094891097792136, null]}, {\"line\": {\"shape\": \"spline\", \"width\": 0.5}, \"marker\": {\"color\": \"#ece8e8\"}, \"mode\": \"lines\", \"opacity\": 1, \"type\": \"scatter\", \"x\": [0.3455860921936984, 0.2892316921553843, null], \"y\": [-0.2506740674215007, -0.38862113390255304, null]}, {\"line\": {\"shape\": \"spline\", \"width\": 0.5}, \"marker\": {\"color\": \"#ece8e8\"}, \"mode\": \"lines\", \"opacity\": 1, \"type\": \"scatter\", \"x\": [0.3455860921936984, 0.3838157817750737, null], \"y\": [-0.2506740674215007, -0.6236523001417581, null]}, {\"line\": {\"shape\": \"spline\", \"width\": 0.5}, \"marker\": {\"color\": \"#ece8e8\"}, \"mode\": \"lines\", \"opacity\": 1, \"type\": \"scatter\", \"x\": [0.3455860921936984, 0.5515481576936492, null], \"y\": [-0.2506740674215007, -0.23981830129662174, null]}, {\"line\": {\"shape\": \"spline\", \"width\": 0.5}, \"marker\": {\"color\": \"#ece8e8\"}, \"mode\": \"lines\", \"opacity\": 1, \"type\": \"scatter\", \"x\": [0.3455860921936984, 0.3195313911654045, null], \"y\": [-0.2506740674215007, -0.10717551763546776, null]}, {\"line\": {\"shape\": \"spline\", \"width\": 0.5}, \"marker\": {\"color\": \"#ece8e8\"}, \"mode\": \"lines\", \"opacity\": 1, \"type\": \"scatter\", \"x\": [0.3455860921936984, 0.6299540558288864, null], \"y\": [-0.2506740674215007, -0.31109339780408973, null]}, {\"line\": {\"shape\": \"spline\", \"width\": 0.5}, \"marker\": {\"color\": \"#ece8e8\"}, \"mode\": \"lines\", \"opacity\": 1, \"type\": \"scatter\", \"x\": [0.3455860921936984, 0.5807241683507863, null], \"y\": [-0.2506740674215007, -0.5061029488591657, null]}, {\"line\": {\"shape\": \"spline\", \"width\": 0.5}, \"marker\": {\"color\": \"#ece8e8\"}, \"mode\": \"lines\", \"opacity\": 1, \"type\": \"scatter\", \"x\": [0.3455860921936984, 0.2665607881338202, null], \"y\": [-0.2506740674215007, -0.5420407078386288, null]}, {\"line\": {\"shape\": \"spline\", \"width\": 0.5}, \"marker\": {\"color\": \"#ece8e8\"}, \"mode\": \"lines\", \"opacity\": 1, \"type\": \"scatter\", \"x\": [0.11016575605877602, 0.11541973297070345, null], \"y\": [-0.003233609876338488, -0.21690996264590942, null]}, {\"line\": {\"shape\": \"spline\", \"width\": 0.5}, \"marker\": {\"color\": \"#ece8e8\"}, \"mode\": \"lines\", \"opacity\": 1, \"type\": \"scatter\", \"x\": [0.11016575605877602, -0.10097929361113614, null], \"y\": [-0.003233609876338488, 0.012466463271866533, null]}, {\"line\": {\"shape\": \"spline\", \"width\": 0.5}, \"marker\": {\"color\": \"#ece8e8\"}, \"mode\": \"lines\", \"opacity\": 1, \"type\": \"scatter\", \"x\": [0.11016575605877602, 0.39965091730429475, null], \"y\": [-0.003233609876338488, 0.3020403870395779, null]}, {\"line\": {\"shape\": \"spline\", \"width\": 0.5}, \"marker\": {\"color\": \"#ece8e8\"}, \"mode\": \"lines\", \"opacity\": 1, \"type\": \"scatter\", \"x\": [0.11016575605877602, 0.07036544299160555, null], \"y\": [-0.003233609876338488, 0.49460034709621575, null]}, {\"line\": {\"shape\": \"spline\", \"width\": 0.5}, \"marker\": {\"color\": \"#ece8e8\"}, \"mode\": \"lines\", \"opacity\": 1, \"type\": \"scatter\", \"x\": [0.11016575605877602, -0.012047858220622801, null], \"y\": [-0.003233609876338488, -0.15888910657255112, null]}, {\"line\": {\"shape\": \"spline\", \"width\": 0.5}, \"marker\": {\"color\": \"#ece8e8\"}, \"mode\": \"lines\", \"opacity\": 1, \"type\": \"scatter\", \"x\": [0.11016575605877602, 0.3195313911654045, null], \"y\": [-0.003233609876338488, -0.10717551763546776, null]}, {\"line\": {\"shape\": \"spline\", \"width\": 0.5}, \"marker\": {\"color\": \"#ece8e8\"}, \"mode\": \"lines\", \"opacity\": 1, \"type\": \"scatter\", \"x\": [0.11016575605877602, 0.014723219068822279, null], \"y\": [-0.003233609876338488, -0.5544443642049247, null]}, {\"line\": {\"shape\": \"spline\", \"width\": 0.5}, \"marker\": {\"color\": \"#ece8e8\"}, \"mode\": \"lines\", \"opacity\": 1, \"type\": \"scatter\", \"x\": [0.11016575605877602, -0.13702344846983283, null], \"y\": [-0.003233609876338488, 0.2331159758732535, null]}, {\"line\": {\"shape\": \"spline\", \"width\": 0.5}, \"marker\": {\"color\": \"#ece8e8\"}, \"mode\": \"lines\", \"opacity\": 1, \"type\": \"scatter\", \"x\": [0.11016575605877602, 0.2892316921553843, null], \"y\": [-0.003233609876338488, -0.38862113390255304, null]}, {\"line\": {\"shape\": \"spline\", \"width\": 0.5}, \"marker\": {\"color\": \"#ece8e8\"}, \"mode\": \"lines\", \"opacity\": 1, \"type\": \"scatter\", \"x\": [0.11016575605877602, -0.5498714292610081, null], \"y\": [-0.003233609876338488, -0.1228099526109709, null]}, {\"line\": {\"shape\": \"spline\", \"width\": 0.5}, \"marker\": {\"color\": \"#ece8e8\"}, \"mode\": \"lines\", \"opacity\": 1, \"type\": \"scatter\", \"x\": [0.11016575605877602, 0.1351314306774506, null], \"y\": [-0.003233609876338488, -0.3903134575357185, null]}, {\"line\": {\"shape\": \"spline\", \"width\": 0.5}, \"marker\": {\"color\": \"#ece8e8\"}, \"mode\": \"lines\", \"opacity\": 1, \"type\": \"scatter\", \"x\": [0.11016575605877602, 0.6364914127707022, null], \"y\": [-0.003233609876338488, 0.4083442949047109, null]}, {\"line\": {\"shape\": \"spline\", \"width\": 0.5}, \"marker\": {\"color\": \"#ece8e8\"}, \"mode\": \"lines\", \"opacity\": 1, \"type\": \"scatter\", \"x\": [0.11016575605877602, -0.22912735232692857, null], \"y\": [-0.003233609876338488, 0.22291283856355693, null]}, {\"line\": {\"shape\": \"spline\", \"width\": 0.5}, \"marker\": {\"color\": \"#ece8e8\"}, \"mode\": \"lines\", \"opacity\": 1, \"type\": \"scatter\", \"x\": [0.11016575605877602, -0.4047900951610015, null], \"y\": [-0.003233609876338488, -0.6324012080012414, null]}, {\"line\": {\"shape\": \"spline\", \"width\": 0.5}, \"marker\": {\"color\": \"#ece8e8\"}, \"mode\": \"lines\", \"opacity\": 1, \"type\": \"scatter\", \"x\": [0.11016575605877602, -0.23567920674210455, null], \"y\": [-0.003233609876338488, 0.09696823925398873, null]}, {\"line\": {\"shape\": \"spline\", \"width\": 0.5}, \"marker\": {\"color\": \"#ece8e8\"}, \"mode\": \"lines\", \"opacity\": 1, \"type\": \"scatter\", \"x\": [0.11016575605877602, 0.725878196654557, null], \"y\": [-0.003233609876338488, 0.09005833924457493, null]}, {\"line\": {\"shape\": \"spline\", \"width\": 0.5}, \"marker\": {\"color\": \"#ece8e8\"}, \"mode\": \"lines\", \"opacity\": 1, \"type\": \"scatter\", \"x\": [0.11016575605877602, -0.1445613452142485, null], \"y\": [-0.003233609876338488, 0.4643110051266712, null]}, {\"line\": {\"shape\": \"spline\", \"width\": 0.5}, \"marker\": {\"color\": \"#ece8e8\"}, \"mode\": \"lines\", \"opacity\": 1, \"type\": \"scatter\", \"x\": [0.11016575605877602, 0.1105766569509571, null], \"y\": [-0.003233609876338488, 0.14114263222055068, null]}, {\"line\": {\"shape\": \"spline\", \"width\": 0.5}, \"marker\": {\"color\": \"#ece8e8\"}, \"mode\": \"lines\", \"opacity\": 1, \"type\": \"scatter\", \"x\": [0.11016575605877602, -0.09362941864909598, null], \"y\": [-0.003233609876338488, -0.21052603249987867, null]}, {\"line\": {\"shape\": \"spline\", \"width\": 0.5}, \"marker\": {\"color\": \"#ece8e8\"}, \"mode\": \"lines\", \"opacity\": 1, \"type\": \"scatter\", \"x\": [-0.2892684372156338, -0.13702344846983283, null], \"y\": [-0.17833222659589787, 0.2331159758732535, null]}, {\"line\": {\"shape\": \"spline\", \"width\": 0.5}, \"marker\": {\"color\": \"#ece8e8\"}, \"mode\": \"lines\", \"opacity\": 1, \"type\": \"scatter\", \"x\": [-0.2892684372156338, -0.22912735232692857, null], \"y\": [-0.17833222659589787, 0.22291283856355693, null]}, {\"line\": {\"shape\": \"spline\", \"width\": 0.5}, \"marker\": {\"color\": \"#ece8e8\"}, \"mode\": \"lines\", \"opacity\": 1, \"type\": \"scatter\", \"x\": [-0.2892684372156338, -0.23567920674210455, null], \"y\": [-0.17833222659589787, 0.09696823925398873, null]}, {\"line\": {\"shape\": \"spline\", \"width\": 0.5}, \"marker\": {\"color\": \"#ece8e8\"}, \"mode\": \"lines\", \"opacity\": 1, \"type\": \"scatter\", \"x\": [-0.2892684372156338, -0.012047858220622801, null], \"y\": [-0.17833222659589787, -0.15888910657255112, null]}, {\"line\": {\"shape\": \"spline\", \"width\": 0.5}, \"marker\": {\"color\": \"#ece8e8\"}, \"mode\": \"lines\", \"opacity\": 1, \"type\": \"scatter\", \"x\": [-0.2892684372156338, 0.11541973297070345, null], \"y\": [-0.17833222659589787, -0.21690996264590942, null]}, {\"line\": {\"shape\": \"spline\", \"width\": 0.5}, \"marker\": {\"color\": \"#ece8e8\"}, \"mode\": \"lines\", \"opacity\": 1, \"type\": \"scatter\", \"x\": [0.26546216653525684, 0.11541973297070345, null], \"y\": [0.11511316391266556, -0.21690996264590942, null]}, {\"line\": {\"shape\": \"spline\", \"width\": 0.5}, \"marker\": {\"color\": \"#ece8e8\"}, \"mode\": \"lines\", \"opacity\": 1, \"type\": \"scatter\", \"x\": [0.26546216653525684, -0.10097929361113614, null], \"y\": [0.11511316391266556, 0.012466463271866533, null]}, {\"line\": {\"shape\": \"spline\", \"width\": 0.5}, \"marker\": {\"color\": \"#ece8e8\"}, \"mode\": \"lines\", \"opacity\": 1, \"type\": \"scatter\", \"x\": [0.26546216653525684, -0.22912735232692857, null], \"y\": [0.11511316391266556, 0.22291283856355693, null]}, {\"line\": {\"shape\": \"spline\", \"width\": 0.5}, \"marker\": {\"color\": \"#ece8e8\"}, \"mode\": \"lines\", \"opacity\": 1, \"type\": \"scatter\", \"x\": [0.2892316921553843, 0.11541973297070345, null], \"y\": [-0.38862113390255304, -0.21690996264590942, null]}, {\"line\": {\"shape\": \"spline\", \"width\": 0.5}, \"marker\": {\"color\": \"#ece8e8\"}, \"mode\": \"lines\", \"opacity\": 1, \"type\": \"scatter\", \"x\": [0.2892316921553843, 0.3838157817750737, null], \"y\": [-0.38862113390255304, -0.6236523001417581, null]}, {\"line\": {\"shape\": \"spline\", \"width\": 0.5}, \"marker\": {\"color\": \"#ece8e8\"}, \"mode\": \"lines\", \"opacity\": 1, \"type\": \"scatter\", \"x\": [0.2892316921553843, 0.6290120909970636, null], \"y\": [-0.38862113390255304, -0.4128442794561126, null]}, {\"line\": {\"shape\": \"spline\", \"width\": 0.5}, \"marker\": {\"color\": \"#ece8e8\"}, \"mode\": \"lines\", \"opacity\": 1, \"type\": \"scatter\", \"x\": [0.2892316921553843, -0.09362941864909598, null], \"y\": [-0.38862113390255304, -0.21052603249987867, null]}, {\"line\": {\"shape\": \"spline\", \"width\": 0.5}, \"marker\": {\"color\": \"#ece8e8\"}, \"mode\": \"lines\", \"opacity\": 1, \"type\": \"scatter\", \"x\": [0.2892316921553843, 0.5515481576936492, null], \"y\": [-0.38862113390255304, -0.23981830129662174, null]}, {\"line\": {\"shape\": \"spline\", \"width\": 0.5}, \"marker\": {\"color\": \"#ece8e8\"}, \"mode\": \"lines\", \"opacity\": 1, \"type\": \"scatter\", \"x\": [0.2892316921553843, -0.012047858220622801, null], \"y\": [-0.38862113390255304, -0.15888910657255112, null]}, {\"line\": {\"shape\": \"spline\", \"width\": 0.5}, \"marker\": {\"color\": \"#ece8e8\"}, \"mode\": \"lines\", \"opacity\": 1, \"type\": \"scatter\", \"x\": [0.2892316921553843, 0.3195313911654045, null], \"y\": [-0.38862113390255304, -0.10717551763546776, null]}, {\"line\": {\"shape\": \"spline\", \"width\": 0.5}, \"marker\": {\"color\": \"#ece8e8\"}, \"mode\": \"lines\", \"opacity\": 1, \"type\": \"scatter\", \"x\": [0.2892316921553843, 0.2665607881338202, null], \"y\": [-0.38862113390255304, -0.5420407078386288, null]}, {\"line\": {\"shape\": \"spline\", \"width\": 0.5}, \"marker\": {\"color\": \"#ece8e8\"}, \"mode\": \"lines\", \"opacity\": 1, \"type\": \"scatter\", \"x\": [0.2892316921553843, 0.6299540558288864, null], \"y\": [-0.38862113390255304, -0.31109339780408973, null]}, {\"line\": {\"shape\": \"spline\", \"width\": 0.5}, \"marker\": {\"color\": \"#ece8e8\"}, \"mode\": \"lines\", \"opacity\": 1, \"type\": \"scatter\", \"x\": [0.2892316921553843, 0.5807241683507863, null], \"y\": [-0.38862113390255304, -0.5061029488591657, null]}, {\"line\": {\"shape\": \"spline\", \"width\": 0.5}, \"marker\": {\"color\": \"#ece8e8\"}, \"mode\": \"lines\", \"opacity\": 1, \"type\": \"scatter\", \"x\": [0.2892316921553843, 0.48507726352568553, null], \"y\": [-0.38862113390255304, -0.3810037570628175, null]}, {\"line\": {\"shape\": \"spline\", \"width\": 0.5}, \"marker\": {\"color\": \"#ece8e8\"}, \"mode\": \"lines\", \"opacity\": 1, \"type\": \"scatter\", \"x\": [0.2892316921553843, 0.014723219068822279, null], \"y\": [-0.38862113390255304, -0.5544443642049247, null]}, {\"line\": {\"shape\": \"spline\", \"width\": 0.5}, \"marker\": {\"color\": \"#ece8e8\"}, \"mode\": \"lines\", \"opacity\": 1, \"type\": \"scatter\", \"x\": [0.2892316921553843, 0.1351314306774506, null], \"y\": [-0.38862113390255304, -0.3903134575357185, null]}, {\"line\": {\"shape\": \"spline\", \"width\": 0.5}, \"marker\": {\"color\": \"#ece8e8\"}, \"mode\": \"lines\", \"opacity\": 1, \"type\": \"scatter\", \"x\": [0.2892316921553843, 0.5028339812484264, null], \"y\": [-0.38862113390255304, -0.594702808507188, null]}, {\"line\": {\"shape\": \"spline\", \"width\": 0.5}, \"marker\": {\"color\": \"#ece8e8\"}, \"mode\": \"lines\", \"opacity\": 1, \"type\": \"scatter\", \"x\": [0.2892316921553843, 0.4318521812552965, null], \"y\": [-0.38862113390255304, -0.5128045224896088, null]}, {\"line\": {\"shape\": \"spline\", \"width\": 0.5}, \"marker\": {\"color\": \"#ece8e8\"}, \"mode\": \"lines\", \"opacity\": 1, \"type\": \"scatter\", \"x\": [-0.6916730567979607, -0.23567920674210455, null], \"y\": [0.006143562593996747, 0.09696823925398873, null]}, {\"line\": {\"shape\": \"spline\", \"width\": 0.5}, \"marker\": {\"color\": \"#ece8e8\"}, \"mode\": \"lines\", \"opacity\": 1, \"type\": \"scatter\", \"x\": [-0.6916730567979607, -0.3911271321957173, null], \"y\": [0.006143562593996747, -0.4023905035836392, null]}, {\"line\": {\"shape\": \"spline\", \"width\": 0.5}, \"marker\": {\"color\": \"#ece8e8\"}, \"mode\": \"lines\", \"opacity\": 1, \"type\": \"scatter\", \"x\": [-0.6916730567979607, -0.22912735232692857, null], \"y\": [0.006143562593996747, 0.22291283856355693, null]}, {\"line\": {\"shape\": \"spline\", \"width\": 0.5}, \"marker\": {\"color\": \"#ece8e8\"}, \"mode\": \"lines\", \"opacity\": 1, \"type\": \"scatter\", \"x\": [0.1797321410368675, -0.23567920674210455, null], \"y\": [0.2767419094255269, 0.09696823925398873, null]}, {\"line\": {\"shape\": \"spline\", \"width\": 0.5}, \"marker\": {\"color\": \"#ece8e8\"}, \"mode\": \"lines\", \"opacity\": 1, \"type\": \"scatter\", \"x\": [0.1797321410368675, -0.1445613452142485, null], \"y\": [0.2767419094255269, 0.4643110051266712, null]}, {\"line\": {\"shape\": \"spline\", \"width\": 0.5}, \"marker\": {\"color\": \"#ece8e8\"}, \"mode\": \"lines\", \"opacity\": 1, \"type\": \"scatter\", \"x\": [0.1797321410368675, 0.11541973297070345, null], \"y\": [0.2767419094255269, -0.21690996264590942, null]}, {\"line\": {\"shape\": \"spline\", \"width\": 0.5}, \"marker\": {\"color\": \"#ece8e8\"}, \"mode\": \"lines\", \"opacity\": 1, \"type\": \"scatter\", \"x\": [0.1797321410368675, -0.13702344846983283, null], \"y\": [0.2767419094255269, 0.2331159758732535, null]}, {\"line\": {\"shape\": \"spline\", \"width\": 0.5}, \"marker\": {\"color\": \"#ece8e8\"}, \"mode\": \"lines\", \"opacity\": 1, \"type\": \"scatter\", \"x\": [0.1797321410368675, -0.36482090931303934, null], \"y\": [0.2767419094255269, 0.39149959542752877, null]}, {\"line\": {\"shape\": \"spline\", \"width\": 0.5}, \"marker\": {\"color\": \"#ece8e8\"}, \"mode\": \"lines\", \"opacity\": 1, \"type\": \"scatter\", \"x\": [0.9338772018253828, 0.3195313911654045, null], \"y\": [-0.07474316404009786, -0.10717551763546776, null]}, {\"line\": {\"shape\": \"spline\", \"width\": 0.5}, \"marker\": {\"color\": \"#ece8e8\"}, \"mode\": \"lines\", \"opacity\": 1, \"type\": \"scatter\", \"x\": [0.028671847889608058, -0.22912735232692857, null], \"y\": [0.06825381499332386, 0.22291283856355693, null]}, {\"line\": {\"shape\": \"spline\", \"width\": 0.5}, \"marker\": {\"color\": \"#ece8e8\"}, \"mode\": \"lines\", \"opacity\": 1, \"type\": \"scatter\", \"x\": [0.028671847889608058, -0.19035530087513267, null], \"y\": [0.06825381499332386, -0.08457543621539751, null]}, {\"line\": {\"shape\": \"spline\", \"width\": 0.5}, \"marker\": {\"color\": \"#ece8e8\"}, \"mode\": \"lines\", \"opacity\": 1, \"type\": \"scatter\", \"x\": [0.028671847889608058, 0.09352037973994606, null], \"y\": [0.06825381499332386, 0.29478968137512285, null]}, {\"line\": {\"shape\": \"spline\", \"width\": 0.5}, \"marker\": {\"color\": \"#ece8e8\"}, \"mode\": \"lines\", \"opacity\": 1, \"type\": \"scatter\", \"x\": [0.028671847889608058, -0.23567920674210455, null], \"y\": [0.06825381499332386, 0.09696823925398873, null]}, {\"line\": {\"shape\": \"spline\", \"width\": 0.5}, \"marker\": {\"color\": \"#ece8e8\"}, \"mode\": \"lines\", \"opacity\": 1, \"type\": \"scatter\", \"x\": [0.028671847889608058, 0.11541973297070345, null], \"y\": [0.06825381499332386, -0.21690996264590942, null]}, {\"line\": {\"shape\": \"spline\", \"width\": 0.5}, \"marker\": {\"color\": \"#ece8e8\"}, \"mode\": \"lines\", \"opacity\": 1, \"type\": \"scatter\", \"x\": [0.028671847889608058, -0.10097929361113614, null], \"y\": [0.06825381499332386, 0.012466463271866533, null]}, {\"line\": {\"shape\": \"spline\", \"width\": 0.5}, \"marker\": {\"color\": \"#ece8e8\"}, \"mode\": \"lines\", \"opacity\": 1, \"type\": \"scatter\", \"x\": [-0.19288743746830359, -0.22912735232692857, null], \"y\": [0.6808559339423768, 0.22291283856355693, null]}, {\"line\": {\"shape\": \"spline\", \"width\": 0.5}, \"marker\": {\"color\": \"#ece8e8\"}, \"mode\": \"lines\", \"opacity\": 1, \"type\": \"scatter\", \"x\": [-0.19288743746830359, -0.004762764740717416, null], \"y\": [0.6808559339423768, 0.21016259525776215, null]}, {\"line\": {\"shape\": \"spline\", \"width\": 0.5}, \"marker\": {\"color\": \"#ece8e8\"}, \"mode\": \"lines\", \"opacity\": 1, \"type\": \"scatter\", \"x\": [-0.19288743746830359, -0.5870065943209695, null], \"y\": [0.6808559339423768, 0.6122795569856104, null]}, {\"line\": {\"shape\": \"spline\", \"width\": 0.5}, \"marker\": {\"color\": \"#ece8e8\"}, \"mode\": \"lines\", \"opacity\": 1, \"type\": \"scatter\", \"x\": [-0.1445613452142485, -0.23567920674210455, null], \"y\": [0.4643110051266712, 0.09696823925398873, null]}, {\"line\": {\"shape\": \"spline\", \"width\": 0.5}, \"marker\": {\"color\": \"#ece8e8\"}, \"mode\": \"lines\", \"opacity\": 1, \"type\": \"scatter\", \"x\": [-0.1445613452142485, -0.36482090931303934, null], \"y\": [0.4643110051266712, 0.39149959542752877, null]}, {\"line\": {\"shape\": \"spline\", \"width\": 0.5}, \"marker\": {\"color\": \"#ece8e8\"}, \"mode\": \"lines\", \"opacity\": 1, \"type\": \"scatter\", \"x\": [-0.1445613452142485, -0.22912735232692857, null], \"y\": [0.4643110051266712, 0.22291283856355693, null]}, {\"line\": {\"shape\": \"spline\", \"width\": 0.5}, \"marker\": {\"color\": \"#ece8e8\"}, \"mode\": \"lines\", \"opacity\": 1, \"type\": \"scatter\", \"x\": [-0.1445613452142485, -0.13702344846983283, null], \"y\": [0.4643110051266712, 0.2331159758732535, null]}, {\"line\": {\"shape\": \"spline\", \"width\": 0.5}, \"marker\": {\"color\": \"#ece8e8\"}, \"mode\": \"lines\", \"opacity\": 1, \"type\": \"scatter\", \"x\": [-0.1445613452142485, -0.3333316635460027, null], \"y\": [0.4643110051266712, -0.012684536489999069, null]}, {\"line\": {\"shape\": \"spline\", \"width\": 0.5}, \"marker\": {\"color\": \"#ece8e8\"}, \"mode\": \"lines\", \"opacity\": 1, \"type\": \"scatter\", \"x\": [0.7692618358499506, 0.39965091730429475, null], \"y\": [0.7093155420719485, 0.3020403870395779, null]}, {\"line\": {\"shape\": \"spline\", \"width\": 0.5}, \"marker\": {\"color\": \"#ece8e8\"}, \"mode\": \"lines\", \"opacity\": 1, \"type\": \"scatter\", \"x\": [0.6366761443052944, 0.11541973297070345, null], \"y\": [-0.06192863350479695, -0.21690996264590942, null]}, {\"line\": {\"shape\": \"spline\", \"width\": 0.5}, \"marker\": {\"color\": \"#ece8e8\"}, \"mode\": \"lines\", \"opacity\": 1, \"type\": \"scatter\", \"x\": [0.22914481294055586, 0.11541973297070345, null], \"y\": [0.1894883472262376, -0.21690996264590942, null]}, {\"line\": {\"shape\": \"spline\", \"width\": 0.5}, \"marker\": {\"color\": \"#ece8e8\"}, \"mode\": \"lines\", \"opacity\": 1, \"type\": \"scatter\", \"x\": [0.22914481294055586, -0.22912735232692857, null], \"y\": [0.1894883472262376, 0.22291283856355693, null]}, {\"line\": {\"shape\": \"spline\", \"width\": 0.5}, \"marker\": {\"color\": \"#ece8e8\"}, \"mode\": \"lines\", \"opacity\": 1, \"type\": \"scatter\", \"x\": [0.22914481294055586, -0.23567920674210455, null], \"y\": [0.1894883472262376, 0.09696823925398873, null]}, {\"line\": {\"shape\": \"spline\", \"width\": 0.5}, \"marker\": {\"color\": \"#ece8e8\"}, \"mode\": \"lines\", \"opacity\": 1, \"type\": \"scatter\", \"x\": [0.22914481294055586, 0.3195313911654045, null], \"y\": [0.1894883472262376, -0.10717551763546776, null]}, {\"line\": {\"shape\": \"spline\", \"width\": 0.5}, \"marker\": {\"color\": \"#ece8e8\"}, \"mode\": \"lines\", \"opacity\": 1, \"type\": \"scatter\", \"x\": [-0.10659690513775608, -0.22912735232692857, null], \"y\": [0.793218568697612, 0.22291283856355693, null]}, {\"line\": {\"shape\": \"spline\", \"width\": 0.5}, \"marker\": {\"color\": \"#ece8e8\"}, \"mode\": \"lines\", \"opacity\": 1, \"type\": \"scatter\", \"x\": [0.42181900325014254, -0.10097929361113614, null], \"y\": [0.5535004420554839, 0.012466463271866533, null]}, {\"line\": {\"shape\": \"spline\", \"width\": 0.5}, \"marker\": {\"color\": \"#ece8e8\"}, \"mode\": \"lines\", \"opacity\": 1, \"type\": \"scatter\", \"x\": [0.2665607881338202, 0.5515481576936492, null], \"y\": [-0.5420407078386288, -0.23981830129662174, null]}, {\"line\": {\"shape\": \"spline\", \"width\": 0.5}, \"marker\": {\"color\": \"#ece8e8\"}, \"mode\": \"lines\", \"opacity\": 1, \"type\": \"scatter\", \"x\": [0.2665607881338202, 0.3195313911654045, null], \"y\": [-0.5420407078386288, -0.10717551763546776, null]}, {\"line\": {\"shape\": \"spline\", \"width\": 0.5}, \"marker\": {\"color\": \"#ece8e8\"}, \"mode\": \"lines\", \"opacity\": 1, \"type\": \"scatter\", \"x\": [0.2665607881338202, 0.6290120909970636, null], \"y\": [-0.5420407078386288, -0.4128442794561126, null]}, {\"line\": {\"shape\": \"spline\", \"width\": 0.5}, \"marker\": {\"color\": \"#ece8e8\"}, \"mode\": \"lines\", \"opacity\": 1, \"type\": \"scatter\", \"x\": [0.2665607881338202, -0.09362941864909598, null], \"y\": [-0.5420407078386288, -0.21052603249987867, null]}, {\"line\": {\"shape\": \"spline\", \"width\": 0.5}, \"marker\": {\"color\": \"#ece8e8\"}, \"mode\": \"lines\", \"opacity\": 1, \"type\": \"scatter\", \"x\": [0.2665607881338202, 0.11541973297070345, null], \"y\": [-0.5420407078386288, -0.21690996264590942, null]}, {\"line\": {\"shape\": \"spline\", \"width\": 0.5}, \"marker\": {\"color\": \"#ece8e8\"}, \"mode\": \"lines\", \"opacity\": 1, \"type\": \"scatter\", \"x\": [0.2665607881338202, 0.3838157817750737, null], \"y\": [-0.5420407078386288, -0.6236523001417581, null]}, {\"line\": {\"shape\": \"spline\", \"width\": 0.5}, \"marker\": {\"color\": \"#ece8e8\"}, \"mode\": \"lines\", \"opacity\": 1, \"type\": \"scatter\", \"x\": [0.2665607881338202, 0.5807241683507863, null], \"y\": [-0.5420407078386288, -0.5061029488591657, null]}, {\"line\": {\"shape\": \"spline\", \"width\": 0.5}, \"marker\": {\"color\": \"#ece8e8\"}, \"mode\": \"lines\", \"opacity\": 1, \"type\": \"scatter\", \"x\": [0.2665607881338202, 0.6299540558288864, null], \"y\": [-0.5420407078386288, -0.31109339780408973, null]}, {\"line\": {\"shape\": \"spline\", \"width\": 0.5}, \"marker\": {\"color\": \"#ece8e8\"}, \"mode\": \"lines\", \"opacity\": 1, \"type\": \"scatter\", \"x\": [0.2665607881338202, 0.48507726352568553, null], \"y\": [-0.5420407078386288, -0.3810037570628175, null]}, {\"line\": {\"shape\": \"spline\", \"width\": 0.5}, \"marker\": {\"color\": \"#ece8e8\"}, \"mode\": \"lines\", \"opacity\": 1, \"type\": \"scatter\", \"x\": [0.2665607881338202, 0.4318521812552965, null], \"y\": [-0.5420407078386288, -0.5128045224896088, null]}, {\"line\": {\"shape\": \"spline\", \"width\": 0.5}, \"marker\": {\"color\": \"#ece8e8\"}, \"mode\": \"lines\", \"opacity\": 1, \"type\": \"scatter\", \"x\": [0.2665607881338202, 0.5028339812484264, null], \"y\": [-0.5420407078386288, -0.594702808507188, null]}, {\"line\": {\"shape\": \"spline\", \"width\": 0.5}, \"marker\": {\"color\": \"#ece8e8\"}, \"mode\": \"lines\", \"opacity\": 1, \"type\": \"scatter\", \"x\": [0.24531530748599703, -0.10097929361113614, null], \"y\": [0.6705042785290103, 0.012466463271866533, null]}, {\"line\": {\"shape\": \"spline\", \"width\": 0.5}, \"marker\": {\"color\": \"#ece8e8\"}, \"mode\": \"lines\", \"opacity\": 1, \"type\": \"scatter\", \"x\": [-0.23567920674210455, -0.22912735232692857, null], \"y\": [0.09696823925398873, 0.22291283856355693, null]}, {\"line\": {\"shape\": \"spline\", \"width\": 0.5}, \"marker\": {\"color\": \"#ece8e8\"}, \"mode\": \"lines\", \"opacity\": 1, \"type\": \"scatter\", \"x\": [-0.23567920674210455, -0.13702344846983283, null], \"y\": [0.09696823925398873, 0.2331159758732535, null]}, {\"line\": {\"shape\": \"spline\", \"width\": 0.5}, \"marker\": {\"color\": \"#ece8e8\"}, \"mode\": \"lines\", \"opacity\": 1, \"type\": \"scatter\", \"x\": [-0.23567920674210455, -0.10097929361113614, null], \"y\": [0.09696823925398873, 0.012466463271866533, null]}, {\"line\": {\"shape\": \"spline\", \"width\": 0.5}, \"marker\": {\"color\": \"#ece8e8\"}, \"mode\": \"lines\", \"opacity\": 1, \"type\": \"scatter\", \"x\": [-0.23567920674210455, -0.004762764740717416, null], \"y\": [0.09696823925398873, 0.21016259525776215, null]}, {\"line\": {\"shape\": \"spline\", \"width\": 0.5}, \"marker\": {\"color\": \"#ece8e8\"}, \"mode\": \"lines\", \"opacity\": 1, \"type\": \"scatter\", \"x\": [-0.23567920674210455, -0.5758968296931457, null], \"y\": [0.09696823925398873, 0.3677070715846346, null]}, {\"line\": {\"shape\": \"spline\", \"width\": 0.5}, \"marker\": {\"color\": \"#ece8e8\"}, \"mode\": \"lines\", \"opacity\": 1, \"type\": \"scatter\", \"x\": [-0.23567920674210455, 0.11541973297070345, null], \"y\": [0.09696823925398873, -0.21690996264590942, null]}, {\"line\": {\"shape\": \"spline\", \"width\": 0.5}, \"marker\": {\"color\": \"#ece8e8\"}, \"mode\": \"lines\", \"opacity\": 1, \"type\": \"scatter\", \"x\": [-0.23567920674210455, -0.3911271321957173, null], \"y\": [0.09696823925398873, -0.4023905035836392, null]}, {\"line\": {\"shape\": \"spline\", \"width\": 0.5}, \"marker\": {\"color\": \"#ece8e8\"}, \"mode\": \"lines\", \"opacity\": 1, \"type\": \"scatter\", \"x\": [-0.23567920674210455, -0.5274432885344671, null], \"y\": [0.09696823925398873, 0.22543680209160435, null]}, {\"line\": {\"shape\": \"spline\", \"width\": 0.5}, \"marker\": {\"color\": \"#ece8e8\"}, \"mode\": \"lines\", \"opacity\": 1, \"type\": \"scatter\", \"x\": [-0.23567920674210455, -0.6953534605468638, null], \"y\": [0.09696823925398873, 0.2824221850916814, null]}, {\"line\": {\"shape\": \"spline\", \"width\": 0.5}, \"marker\": {\"color\": \"#ece8e8\"}, \"mode\": \"lines\", \"opacity\": 1, \"type\": \"scatter\", \"x\": [-0.23567920674210455, -0.36482090931303934, null], \"y\": [0.09696823925398873, 0.39149959542752877, null]}, {\"line\": {\"shape\": \"spline\", \"width\": 0.5}, \"marker\": {\"color\": \"#ece8e8\"}, \"mode\": \"lines\", \"opacity\": 1, \"type\": \"scatter\", \"x\": [-0.23567920674210455, -0.3612541971196493, null], \"y\": [0.09696823925398873, -0.13150119562845486, null]}, {\"line\": {\"shape\": \"spline\", \"width\": 0.5}, \"marker\": {\"color\": \"#ece8e8\"}, \"mode\": \"lines\", \"opacity\": 1, \"type\": \"scatter\", \"x\": [-0.23567920674210455, -0.7072987167828125, null], \"y\": [0.09696823925398873, 0.14388729813877643, null]}, {\"line\": {\"shape\": \"spline\", \"width\": 0.5}, \"marker\": {\"color\": \"#ece8e8\"}, \"mode\": \"lines\", \"opacity\": 1, \"type\": \"scatter\", \"x\": [-0.23567920674210455, 0.07036544299160555, null], \"y\": [0.09696823925398873, 0.49460034709621575, null]}, {\"line\": {\"shape\": \"spline\", \"width\": 0.5}, \"marker\": {\"color\": \"#ece8e8\"}, \"mode\": \"lines\", \"opacity\": 1, \"type\": \"scatter\", \"x\": [-0.23567920674210455, 0.1105766569509571, null], \"y\": [0.09696823925398873, 0.14114263222055068, null]}, {\"line\": {\"shape\": \"spline\", \"width\": 0.5}, \"marker\": {\"color\": \"#ece8e8\"}, \"mode\": \"lines\", \"opacity\": 1, \"type\": \"scatter\", \"x\": [-0.23567920674210455, -0.19035530087513267, null], \"y\": [0.09696823925398873, -0.08457543621539751, null]}, {\"line\": {\"shape\": \"spline\", \"width\": 0.5}, \"marker\": {\"color\": \"#ece8e8\"}, \"mode\": \"lines\", \"opacity\": 1, \"type\": \"scatter\", \"x\": [-0.23567920674210455, 0.09352037973994606, null], \"y\": [0.09696823925398873, 0.29478968137512285, null]}, {\"line\": {\"shape\": \"spline\", \"width\": 0.5}, \"marker\": {\"color\": \"#ece8e8\"}, \"mode\": \"lines\", \"opacity\": 1, \"type\": \"scatter\", \"x\": [-0.23567920674210455, 0.39965091730429475, null], \"y\": [0.09696823925398873, 0.3020403870395779, null]}, {\"line\": {\"shape\": \"spline\", \"width\": 0.5}, \"marker\": {\"color\": \"#ece8e8\"}, \"mode\": \"lines\", \"opacity\": 1, \"type\": \"scatter\", \"x\": [-0.23567920674210455, -0.8141036198228513, null], \"y\": [0.09696823925398873, -0.13995571584364622, null]}, {\"line\": {\"shape\": \"spline\", \"width\": 0.5}, \"marker\": {\"color\": \"#ece8e8\"}, \"mode\": \"lines\", \"opacity\": 1, \"type\": \"scatter\", \"x\": [-0.23567920674210455, -0.5121741430949502, null], \"y\": [0.09696823925398873, 0.5279114595048212, null]}, {\"line\": {\"shape\": \"spline\", \"width\": 0.5}, \"marker\": {\"color\": \"#ece8e8\"}, \"mode\": \"lines\", \"opacity\": 1, \"type\": \"scatter\", \"x\": [-0.23567920674210455, -0.2925581991378536, null], \"y\": [0.09696823925398873, -0.45084155397997905, null]}, {\"line\": {\"shape\": \"spline\", \"width\": 0.5}, \"marker\": {\"color\": \"#ece8e8\"}, \"mode\": \"lines\", \"opacity\": 1, \"type\": \"scatter\", \"x\": [-0.23567920674210455, -0.5498714292610081, null], \"y\": [0.09696823925398873, -0.1228099526109709, null]}, {\"line\": {\"shape\": \"spline\", \"width\": 0.5}, \"marker\": {\"color\": \"#ece8e8\"}, \"mode\": \"lines\", \"opacity\": 1, \"type\": \"scatter\", \"x\": [-0.004762764740717416, -0.22912735232692857, null], \"y\": [0.21016259525776215, 0.22291283856355693, null]}, {\"line\": {\"shape\": \"spline\", \"width\": 0.5}, \"marker\": {\"color\": \"#ece8e8\"}, \"mode\": \"lines\", \"opacity\": 1, \"type\": \"scatter\", \"x\": [-0.004762764740717416, -0.13702344846983283, null], \"y\": [0.21016259525776215, 0.2331159758732535, null]}, {\"line\": {\"shape\": \"spline\", \"width\": 0.5}, \"marker\": {\"color\": \"#ece8e8\"}, \"mode\": \"lines\", \"opacity\": 1, \"type\": \"scatter\", \"x\": [-0.004762764740717416, 0.11541973297070345, null], \"y\": [0.21016259525776215, -0.21690996264590942, null]}, {\"line\": {\"shape\": \"spline\", \"width\": 0.5}, \"marker\": {\"color\": \"#ece8e8\"}, \"mode\": \"lines\", \"opacity\": 1, \"type\": \"scatter\", \"x\": [-0.004762764740717416, -0.10097929361113614, null], \"y\": [0.21016259525776215, 0.012466463271866533, null]}, {\"line\": {\"shape\": \"spline\", \"width\": 0.5}, \"marker\": {\"color\": \"#ece8e8\"}, \"mode\": \"lines\", \"opacity\": 1, \"type\": \"scatter\", \"x\": [-0.004762764740717416, 0.07036544299160555, null], \"y\": [0.21016259525776215, 0.49460034709621575, null]}, {\"line\": {\"shape\": \"spline\", \"width\": 0.5}, \"marker\": {\"color\": \"#ece8e8\"}, \"mode\": \"lines\", \"opacity\": 1, \"type\": \"scatter\", \"x\": [-0.004762764740717416, -0.5121741430949502, null], \"y\": [0.21016259525776215, 0.5279114595048212, null]}, {\"line\": {\"shape\": \"spline\", \"width\": 0.5}, \"marker\": {\"color\": \"#ece8e8\"}, \"mode\": \"lines\", \"opacity\": 1, \"type\": \"scatter\", \"x\": [-0.004762764740717416, 0.39965091730429475, null], \"y\": [0.21016259525776215, 0.3020403870395779, null]}, {\"line\": {\"shape\": \"spline\", \"width\": 0.5}, \"marker\": {\"color\": \"#ece8e8\"}, \"mode\": \"lines\", \"opacity\": 1, \"type\": \"scatter\", \"x\": [-0.004762764740717416, -0.015456291130570357, null], \"y\": [0.21016259525776215, 0.6693358453638216, null]}, {\"line\": {\"shape\": \"spline\", \"width\": 0.5}, \"marker\": {\"color\": \"#ece8e8\"}, \"mode\": \"lines\", \"opacity\": 1, \"type\": \"scatter\", \"x\": [-0.004762764740717416, -0.09362941864909598, null], \"y\": [0.21016259525776215, -0.21052603249987867, null]}, {\"line\": {\"shape\": \"spline\", \"width\": 0.5}, \"marker\": {\"color\": \"#ece8e8\"}, \"mode\": \"lines\", \"opacity\": 1, \"type\": \"scatter\", \"x\": [-0.004762764740717416, -0.19035530087513267, null], \"y\": [0.21016259525776215, -0.08457543621539751, null]}, {\"line\": {\"shape\": \"spline\", \"width\": 0.5}, \"marker\": {\"color\": \"#ece8e8\"}, \"mode\": \"lines\", \"opacity\": 1, \"type\": \"scatter\", \"x\": [-0.004762764740717416, -0.10024018529683958, null], \"y\": [0.21016259525776215, -0.46487625861225423, null]}, {\"line\": {\"shape\": \"spline\", \"width\": 0.5}, \"marker\": {\"color\": \"#ece8e8\"}, \"mode\": \"lines\", \"opacity\": 1, \"type\": \"scatter\", \"x\": [0.11541973297070345, -0.09362941864909598, null], \"y\": [-0.21690996264590942, -0.21052603249987867, null]}, {\"line\": {\"shape\": \"spline\", \"width\": 0.5}, \"marker\": {\"color\": \"#ece8e8\"}, \"mode\": \"lines\", \"opacity\": 1, \"type\": \"scatter\", \"x\": [0.11541973297070345, -0.22912735232692857, null], \"y\": [-0.21690996264590942, 0.22291283856355693, null]}, {\"line\": {\"shape\": \"spline\", \"width\": 0.5}, \"marker\": {\"color\": \"#ece8e8\"}, \"mode\": \"lines\", \"opacity\": 1, \"type\": \"scatter\", \"x\": [0.11541973297070345, -0.10097929361113614, null], \"y\": [-0.21690996264590942, 0.012466463271866533, null]}, {\"line\": {\"shape\": \"spline\", \"width\": 0.5}, \"marker\": {\"color\": \"#ece8e8\"}, \"mode\": \"lines\", \"opacity\": 1, \"type\": \"scatter\", \"x\": [0.11541973297070345, -0.012047858220622801, null], \"y\": [-0.21690996264590942, -0.15888910657255112, null]}, {\"line\": {\"shape\": \"spline\", \"width\": 0.5}, \"marker\": {\"color\": \"#ece8e8\"}, \"mode\": \"lines\", \"opacity\": 1, \"type\": \"scatter\", \"x\": [0.11541973297070345, 0.1351314306774506, null], \"y\": [-0.21690996264590942, -0.3903134575357185, null]}, {\"line\": {\"shape\": \"spline\", \"width\": 0.5}, \"marker\": {\"color\": \"#ece8e8\"}, \"mode\": \"lines\", \"opacity\": 1, \"type\": \"scatter\", \"x\": [0.11541973297070345, -0.13702344846983283, null], \"y\": [-0.21690996264590942, 0.2331159758732535, null]}, {\"line\": {\"shape\": \"spline\", \"width\": 0.5}, \"marker\": {\"color\": \"#ece8e8\"}, \"mode\": \"lines\", \"opacity\": 1, \"type\": \"scatter\", \"x\": [0.11541973297070345, -0.2925581991378536, null], \"y\": [-0.21690996264590942, -0.45084155397997905, null]}, {\"line\": {\"shape\": \"spline\", \"width\": 0.5}, \"marker\": {\"color\": \"#ece8e8\"}, \"mode\": \"lines\", \"opacity\": 1, \"type\": \"scatter\", \"x\": [0.11541973297070345, -0.19035530087513267, null], \"y\": [-0.21690996264590942, -0.08457543621539751, null]}, {\"line\": {\"shape\": \"spline\", \"width\": 0.5}, \"marker\": {\"color\": \"#ece8e8\"}, \"mode\": \"lines\", \"opacity\": 1, \"type\": \"scatter\", \"x\": [0.11541973297070345, -0.05969594242830725, null], \"y\": [-0.21690996264590942, -0.7076181826831953, null]}, {\"line\": {\"shape\": \"spline\", \"width\": 0.5}, \"marker\": {\"color\": \"#ece8e8\"}, \"mode\": \"lines\", \"opacity\": 1, \"type\": \"scatter\", \"x\": [0.11541973297070345, -0.10024018529683958, null], \"y\": [-0.21690996264590942, -0.46487625861225423, null]}, {\"line\": {\"shape\": \"spline\", \"width\": 0.5}, \"marker\": {\"color\": \"#ece8e8\"}, \"mode\": \"lines\", \"opacity\": 1, \"type\": \"scatter\", \"x\": [0.11541973297070345, 0.3195313911654045, null], \"y\": [-0.21690996264590942, -0.10717551763546776, null]}, {\"line\": {\"shape\": \"spline\", \"width\": 0.5}, \"marker\": {\"color\": \"#ece8e8\"}, \"mode\": \"lines\", \"opacity\": 1, \"type\": \"scatter\", \"x\": [0.11541973297070345, 0.09352037973994606, null], \"y\": [-0.21690996264590942, 0.29478968137512285, null]}, {\"line\": {\"shape\": \"spline\", \"width\": 0.5}, \"marker\": {\"color\": \"#ece8e8\"}, \"mode\": \"lines\", \"opacity\": 1, \"type\": \"scatter\", \"x\": [0.11541973297070345, 0.48507726352568553, null], \"y\": [-0.21690996264590942, -0.3810037570628175, null]}, {\"line\": {\"shape\": \"spline\", \"width\": 0.5}, \"marker\": {\"color\": \"#ece8e8\"}, \"mode\": \"lines\", \"opacity\": 1, \"type\": \"scatter\", \"x\": [0.11541973297070345, -0.3333316635460027, null], \"y\": [-0.21690996264590942, -0.012684536489999069, null]}, {\"line\": {\"shape\": \"spline\", \"width\": 0.5}, \"marker\": {\"color\": \"#ece8e8\"}, \"mode\": \"lines\", \"opacity\": 1, \"type\": \"scatter\", \"x\": [0.11541973297070345, -0.3612541971196493, null], \"y\": [-0.21690996264590942, -0.13150119562845486, null]}, {\"line\": {\"shape\": \"spline\", \"width\": 0.5}, \"marker\": {\"color\": \"#ece8e8\"}, \"mode\": \"lines\", \"opacity\": 1, \"type\": \"scatter\", \"x\": [0.11541973297070345, 0.1105766569509571, null], \"y\": [-0.21690996264590942, 0.14114263222055068, null]}, {\"line\": {\"shape\": \"spline\", \"width\": 0.5}, \"marker\": {\"color\": \"#ece8e8\"}, \"mode\": \"lines\", \"opacity\": 1, \"type\": \"scatter\", \"x\": [0.11541973297070345, 0.027778077840414615, null], \"y\": [-0.21690996264590942, -0.7842122928210482, null]}, {\"line\": {\"shape\": \"spline\", \"width\": 0.5}, \"marker\": {\"color\": \"#ece8e8\"}, \"mode\": \"lines\", \"opacity\": 1, \"type\": \"scatter\", \"x\": [0.11541973297070345, 0.6290120909970636, null], \"y\": [-0.21690996264590942, -0.4128442794561126, null]}, {\"line\": {\"shape\": \"spline\", \"width\": 0.5}, \"marker\": {\"color\": \"#ece8e8\"}, \"mode\": \"lines\", \"opacity\": 1, \"type\": \"scatter\", \"x\": [0.11541973297070345, 0.5975013312563732, null], \"y\": [-0.21690996264590942, 0.07153110121700443, null]}, {\"line\": {\"shape\": \"spline\", \"width\": 0.5}, \"marker\": {\"color\": \"#ece8e8\"}, \"mode\": \"lines\", \"opacity\": 1, \"type\": \"scatter\", \"x\": [0.11541973297070345, 0.5515481576936492, null], \"y\": [-0.21690996264590942, -0.23981830129662174, null]}, {\"line\": {\"shape\": \"spline\", \"width\": 0.5}, \"marker\": {\"color\": \"#ece8e8\"}, \"mode\": \"lines\", \"opacity\": 1, \"type\": \"scatter\", \"x\": [0.11541973297070345, 0.014723219068822279, null], \"y\": [-0.21690996264590942, -0.5544443642049247, null]}, {\"line\": {\"shape\": \"spline\", \"width\": 0.5}, \"marker\": {\"color\": \"#ece8e8\"}, \"mode\": \"lines\", \"opacity\": 1, \"type\": \"scatter\", \"x\": [0.11541973297070345, 0.24825279855494556, null], \"y\": [-0.21690996264590942, -0.7094891097792136, null]}, {\"line\": {\"shape\": \"spline\", \"width\": 0.5}, \"marker\": {\"color\": \"#ece8e8\"}, \"mode\": \"lines\", \"opacity\": 1, \"type\": \"scatter\", \"x\": [0.11541973297070345, 0.5807241683507863, null], \"y\": [-0.21690996264590942, -0.5061029488591657, null]}, {\"line\": {\"shape\": \"spline\", \"width\": 0.5}, \"marker\": {\"color\": \"#ece8e8\"}, \"mode\": \"lines\", \"opacity\": 1, \"type\": \"scatter\", \"x\": [0.11541973297070345, 0.6299540558288864, null], \"y\": [-0.21690996264590942, -0.31109339780408973, null]}, {\"line\": {\"shape\": \"spline\", \"width\": 0.5}, \"marker\": {\"color\": \"#ece8e8\"}, \"mode\": \"lines\", \"opacity\": 1, \"type\": \"scatter\", \"x\": [0.11541973297070345, 0.3838157817750737, null], \"y\": [-0.21690996264590942, -0.6236523001417581, null]}, {\"line\": {\"shape\": \"spline\", \"width\": 0.5}, \"marker\": {\"color\": \"#ece8e8\"}, \"mode\": \"lines\", \"opacity\": 1, \"type\": \"scatter\", \"x\": [0.11541973297070345, 0.14109557713993912, null], \"y\": [-0.21690996264590942, -0.7796271789726851, null]}, {\"line\": {\"shape\": \"spline\", \"width\": 0.5}, \"marker\": {\"color\": \"#ece8e8\"}, \"mode\": \"lines\", \"opacity\": 1, \"type\": \"scatter\", \"x\": [0.11541973297070345, -0.4124275868642897, null], \"y\": [-0.21690996264590942, -0.26460271208769764, null]}, {\"line\": {\"shape\": \"spline\", \"width\": 0.5}, \"marker\": {\"color\": \"#ece8e8\"}, \"mode\": \"lines\", \"opacity\": 1, \"type\": \"scatter\", \"x\": [0.11541973297070345, 0.6823149614898538, null], \"y\": [-0.21690996264590942, -0.170017609452674, null]}, {\"line\": {\"shape\": \"spline\", \"width\": 0.5}, \"marker\": {\"color\": \"#ece8e8\"}, \"mode\": \"lines\", \"opacity\": 1, \"type\": \"scatter\", \"x\": [0.11541973297070345, -0.3911271321957173, null], \"y\": [-0.21690996264590942, -0.4023905035836392, null]}, {\"line\": {\"shape\": \"spline\", \"width\": 0.5}, \"marker\": {\"color\": \"#ece8e8\"}, \"mode\": \"lines\", \"opacity\": 1, \"type\": \"scatter\", \"x\": [0.11541973297070345, 0.4318521812552965, null], \"y\": [-0.21690996264590942, -0.5128045224896088, null]}, {\"line\": {\"shape\": \"spline\", \"width\": 0.5}, \"marker\": {\"color\": \"#ece8e8\"}, \"mode\": \"lines\", \"opacity\": 1, \"type\": \"scatter\", \"x\": [0.11541973297070345, -0.19794348947731769, null], \"y\": [-0.21690996264590942, -0.5593650114387015, null]}, {\"line\": {\"shape\": \"spline\", \"width\": 0.5}, \"marker\": {\"color\": \"#ece8e8\"}, \"mode\": \"lines\", \"opacity\": 1, \"type\": \"scatter\", \"x\": [0.11541973297070345, -0.1657672958705738, null], \"y\": [-0.21690996264590942, -0.7460209293463961, null]}, {\"line\": {\"shape\": \"spline\", \"width\": 0.5}, \"marker\": {\"color\": \"#ece8e8\"}, \"mode\": \"lines\", \"opacity\": 1, \"type\": \"scatter\", \"x\": [0.11541973297070345, 0.5028339812484264, null], \"y\": [-0.21690996264590942, -0.594702808507188, null]}, {\"line\": {\"shape\": \"spline\", \"width\": 0.5}, \"marker\": {\"color\": \"#ece8e8\"}, \"mode\": \"lines\", \"opacity\": 1, \"type\": \"scatter\", \"x\": [0.11085799295388234, -0.13702344846983283, null], \"y\": [0.8416908865464873, 0.2331159758732535, null]}, {\"line\": {\"shape\": \"spline\", \"width\": 0.5}, \"marker\": {\"color\": \"#ece8e8\"}, \"mode\": \"lines\", \"opacity\": 1, \"type\": \"scatter\", \"x\": [-0.015456291130570357, -0.22912735232692857, null], \"y\": [0.6693358453638216, 0.22291283856355693, null]}, {\"line\": {\"shape\": \"spline\", \"width\": 0.5}, \"marker\": {\"color\": \"#ece8e8\"}, \"mode\": \"lines\", \"opacity\": 1, \"type\": \"scatter\", \"x\": [-0.015456291130570357, -0.13702344846983283, null], \"y\": [0.6693358453638216, 0.2331159758732535, null]}, {\"line\": {\"shape\": \"spline\", \"width\": 0.5}, \"marker\": {\"color\": \"#ece8e8\"}, \"mode\": \"lines\", \"opacity\": 1, \"type\": \"scatter\", \"x\": [-0.29730801594806094, -0.22912735232692857, null], \"y\": [0.7770261330114536, 0.22291283856355693, null]}, {\"line\": {\"shape\": \"spline\", \"width\": 0.5}, \"marker\": {\"color\": \"#ece8e8\"}, \"mode\": \"lines\", \"opacity\": 1, \"type\": \"scatter\", \"x\": [0.476418546252964, 0.09352037973994606, null], \"y\": [0.7772259038295884, 0.29478968137512285, null]}, {\"line\": {\"shape\": \"spline\", \"width\": 0.5}, \"marker\": {\"color\": \"#ece8e8\"}, \"mode\": \"lines\", \"opacity\": 1, \"type\": \"scatter\", \"x\": [0.24825279855494556, 0.1351314306774506, null], \"y\": [-0.7094891097792136, -0.3903134575357185, null]}, {\"line\": {\"shape\": \"spline\", \"width\": 0.5}, \"marker\": {\"color\": \"#ece8e8\"}, \"mode\": \"lines\", \"opacity\": 1, \"type\": \"scatter\", \"x\": [-0.3333316635460027, -0.22912735232692857, null], \"y\": [-0.012684536489999069, 0.22291283856355693, null]}, {\"line\": {\"shape\": \"spline\", \"width\": 0.5}, \"marker\": {\"color\": \"#ece8e8\"}, \"mode\": \"lines\", \"opacity\": 1, \"type\": \"scatter\", \"x\": [-0.3333316635460027, -0.36482090931303934, null], \"y\": [-0.012684536489999069, 0.39149959542752877, null]}, {\"line\": {\"shape\": \"spline\", \"width\": 0.5}, \"marker\": {\"color\": \"#ece8e8\"}, \"mode\": \"lines\", \"opacity\": 1, \"type\": \"scatter\", \"x\": [-0.3333316635460027, -0.10097929361113614, null], \"y\": [-0.012684536489999069, 0.012466463271866533, null]}, {\"line\": {\"shape\": \"spline\", \"width\": 0.5}, \"marker\": {\"color\": \"#ece8e8\"}, \"mode\": \"lines\", \"opacity\": 1, \"type\": \"scatter\", \"x\": [-0.3333316635460027, -0.09362941864909598, null], \"y\": [-0.012684536489999069, -0.21052603249987867, null]}, {\"line\": {\"shape\": \"spline\", \"width\": 0.5}, \"marker\": {\"color\": \"#ece8e8\"}, \"mode\": \"lines\", \"opacity\": 1, \"type\": \"scatter\", \"x\": [-0.19035530087513267, -0.22912735232692857, null], \"y\": [-0.08457543621539751, 0.22291283856355693, null]}, {\"line\": {\"shape\": \"spline\", \"width\": 0.5}, \"marker\": {\"color\": \"#ece8e8\"}, \"mode\": \"lines\", \"opacity\": 1, \"type\": \"scatter\", \"x\": [-0.19035530087513267, 0.09352037973994606, null], \"y\": [-0.08457543621539751, 0.29478968137512285, null]}, {\"line\": {\"shape\": \"spline\", \"width\": 0.5}, \"marker\": {\"color\": \"#ece8e8\"}, \"mode\": \"lines\", \"opacity\": 1, \"type\": \"scatter\", \"x\": [0.014723219068822279, -0.4047900951610015, null], \"y\": [-0.5544443642049247, -0.6324012080012414, null]}, {\"line\": {\"shape\": \"spline\", \"width\": 0.5}, \"marker\": {\"color\": \"#ece8e8\"}, \"mode\": \"lines\", \"opacity\": 1, \"type\": \"scatter\", \"x\": [0.014723219068822279, 0.1351314306774506, null], \"y\": [-0.5544443642049247, -0.3903134575357185, null]}, {\"line\": {\"shape\": \"spline\", \"width\": 0.5}, \"marker\": {\"color\": \"#ece8e8\"}, \"mode\": \"lines\", \"opacity\": 1, \"type\": \"scatter\", \"x\": [0.014723219068822279, -0.09362941864909598, null], \"y\": [-0.5544443642049247, -0.21052603249987867, null]}, {\"line\": {\"shape\": \"spline\", \"width\": 0.5}, \"marker\": {\"color\": \"#ece8e8\"}, \"mode\": \"lines\", \"opacity\": 1, \"type\": \"scatter\", \"x\": [0.5515481576936492, 0.3195313911654045, null], \"y\": [-0.23981830129662174, -0.10717551763546776, null]}, {\"line\": {\"shape\": \"spline\", \"width\": 0.5}, \"marker\": {\"color\": \"#ece8e8\"}, \"mode\": \"lines\", \"opacity\": 1, \"type\": \"scatter\", \"x\": [0.5515481576936492, 0.6299540558288864, null], \"y\": [-0.23981830129662174, -0.31109339780408973, null]}, {\"line\": {\"shape\": \"spline\", \"width\": 0.5}, \"marker\": {\"color\": \"#ece8e8\"}, \"mode\": \"lines\", \"opacity\": 1, \"type\": \"scatter\", \"x\": [0.5515481576936492, 0.5807241683507863, null], \"y\": [-0.23981830129662174, -0.5061029488591657, null]}, {\"line\": {\"shape\": \"spline\", \"width\": 0.5}, \"marker\": {\"color\": \"#ece8e8\"}, \"mode\": \"lines\", \"opacity\": 1, \"type\": \"scatter\", \"x\": [0.5515481576936492, 0.3838157817750737, null], \"y\": [-0.23981830129662174, -0.6236523001417581, null]}, {\"line\": {\"shape\": \"spline\", \"width\": 0.5}, \"marker\": {\"color\": \"#ece8e8\"}, \"mode\": \"lines\", \"opacity\": 1, \"type\": \"scatter\", \"x\": [0.5515481576936492, 0.6290120909970636, null], \"y\": [-0.23981830129662174, -0.4128442794561126, null]}, {\"line\": {\"shape\": \"spline\", \"width\": 0.5}, \"marker\": {\"color\": \"#ece8e8\"}, \"mode\": \"lines\", \"opacity\": 1, \"type\": \"scatter\", \"x\": [0.5515481576936492, 0.48507726352568553, null], \"y\": [-0.23981830129662174, -0.3810037570628175, null]}, {\"line\": {\"shape\": \"spline\", \"width\": 0.5}, \"marker\": {\"color\": \"#ece8e8\"}, \"mode\": \"lines\", \"opacity\": 1, \"type\": \"scatter\", \"x\": [0.5515481576936492, 0.4318521812552965, null], \"y\": [-0.23981830129662174, -0.5128045224896088, null]}, {\"line\": {\"shape\": \"spline\", \"width\": 0.5}, \"marker\": {\"color\": \"#ece8e8\"}, \"mode\": \"lines\", \"opacity\": 1, \"type\": \"scatter\", \"x\": [0.5515481576936492, 0.5028339812484264, null], \"y\": [-0.23981830129662174, -0.594702808507188, null]}, {\"line\": {\"shape\": \"spline\", \"width\": 0.5}, \"marker\": {\"color\": \"#ece8e8\"}, \"mode\": \"lines\", \"opacity\": 1, \"type\": \"scatter\", \"x\": [-0.19794348947731769, -0.10097929361113614, null], \"y\": [-0.5593650114387015, 0.012466463271866533, null]}, {\"line\": {\"shape\": \"spline\", \"width\": 0.5}, \"marker\": {\"color\": \"#ece8e8\"}, \"mode\": \"lines\", \"opacity\": 1, \"type\": \"scatter\", \"x\": [-0.19794348947731769, -0.09362941864909598, null], \"y\": [-0.5593650114387015, -0.21052603249987867, null]}, {\"line\": {\"shape\": \"spline\", \"width\": 0.5}, \"marker\": {\"color\": \"#ece8e8\"}, \"mode\": \"lines\", \"opacity\": 1, \"type\": \"scatter\", \"x\": [-0.3592400312522192, -0.13702344846983283, null], \"y\": [0.6679030006308194, 0.2331159758732535, null]}, {\"line\": {\"shape\": \"spline\", \"width\": 0.5}, \"marker\": {\"color\": \"#ece8e8\"}, \"mode\": \"lines\", \"opacity\": 1, \"type\": \"scatter\", \"x\": [-0.3592400312522192, -0.22912735232692857, null], \"y\": [0.6679030006308194, 0.22291283856355693, null]}, {\"line\": {\"shape\": \"spline\", \"width\": 0.5}, \"marker\": {\"color\": \"#ece8e8\"}, \"mode\": \"lines\", \"opacity\": 1, \"type\": \"scatter\", \"x\": [0.3838157817750737, 0.6290120909970636, null], \"y\": [-0.6236523001417581, -0.4128442794561126, null]}, {\"line\": {\"shape\": \"spline\", \"width\": 0.5}, \"marker\": {\"color\": \"#ece8e8\"}, \"mode\": \"lines\", \"opacity\": 1, \"type\": \"scatter\", \"x\": [0.3838157817750737, 0.3195313911654045, null], \"y\": [-0.6236523001417581, -0.10717551763546776, null]}, {\"line\": {\"shape\": \"spline\", \"width\": 0.5}, \"marker\": {\"color\": \"#ece8e8\"}, \"mode\": \"lines\", \"opacity\": 1, \"type\": \"scatter\", \"x\": [0.3838157817750737, 0.6299540558288864, null], \"y\": [-0.6236523001417581, -0.31109339780408973, null]}, {\"line\": {\"shape\": \"spline\", \"width\": 0.5}, \"marker\": {\"color\": \"#ece8e8\"}, \"mode\": \"lines\", \"opacity\": 1, \"type\": \"scatter\", \"x\": [0.3838157817750737, 0.5807241683507863, null], \"y\": [-0.6236523001417581, -0.5061029488591657, null]}, {\"line\": {\"shape\": \"spline\", \"width\": 0.5}, \"marker\": {\"color\": \"#ece8e8\"}, \"mode\": \"lines\", \"opacity\": 1, \"type\": \"scatter\", \"x\": [0.3838157817750737, 0.48507726352568553, null], \"y\": [-0.6236523001417581, -0.3810037570628175, null]}, {\"line\": {\"shape\": \"spline\", \"width\": 0.5}, \"marker\": {\"color\": \"#ece8e8\"}, \"mode\": \"lines\", \"opacity\": 1, \"type\": \"scatter\", \"x\": [0.3838157817750737, 0.5028339812484264, null], \"y\": [-0.6236523001417581, -0.594702808507188, null]}, {\"line\": {\"shape\": \"spline\", \"width\": 0.5}, \"marker\": {\"color\": \"#ece8e8\"}, \"mode\": \"lines\", \"opacity\": 1, \"type\": \"scatter\", \"x\": [0.3838157817750737, 0.4318521812552965, null], \"y\": [-0.6236523001417581, -0.5128045224896088, null]}, {\"line\": {\"shape\": \"spline\", \"width\": 0.5}, \"marker\": {\"color\": \"#ece8e8\"}, \"mode\": \"lines\", \"opacity\": 1, \"type\": \"scatter\", \"x\": [0.5028339812484264, 0.48507726352568553, null], \"y\": [-0.594702808507188, -0.3810037570628175, null]}, {\"line\": {\"shape\": \"spline\", \"width\": 0.5}, \"marker\": {\"color\": \"#ece8e8\"}, \"mode\": \"lines\", \"opacity\": 1, \"type\": \"scatter\", \"x\": [0.5028339812484264, 0.5807241683507863, null], \"y\": [-0.594702808507188, -0.5061029488591657, null]}, {\"line\": {\"shape\": \"spline\", \"width\": 0.5}, \"marker\": {\"color\": \"#ece8e8\"}, \"mode\": \"lines\", \"opacity\": 1, \"type\": \"scatter\", \"x\": [0.5028339812484264, 0.6290120909970636, null], \"y\": [-0.594702808507188, -0.4128442794561126, null]}, {\"line\": {\"shape\": \"spline\", \"width\": 0.5}, \"marker\": {\"color\": \"#ece8e8\"}, \"mode\": \"lines\", \"opacity\": 1, \"type\": \"scatter\", \"x\": [0.5028339812484264, 0.3195313911654045, null], \"y\": [-0.594702808507188, -0.10717551763546776, null]}, {\"line\": {\"shape\": \"spline\", \"width\": 0.5}, \"marker\": {\"color\": \"#ece8e8\"}, \"mode\": \"lines\", \"opacity\": 1, \"type\": \"scatter\", \"x\": [0.5028339812484264, 0.6299540558288864, null], \"y\": [-0.594702808507188, -0.31109339780408973, null]}, {\"line\": {\"shape\": \"spline\", \"width\": 0.5}, \"marker\": {\"color\": \"#ece8e8\"}, \"mode\": \"lines\", \"opacity\": 1, \"type\": \"scatter\", \"x\": [0.5028339812484264, 0.4318521812552965, null], \"y\": [-0.594702808507188, -0.5128045224896088, null]}, {\"line\": {\"shape\": \"spline\", \"width\": 0.5}, \"marker\": {\"color\": \"#ece8e8\"}, \"mode\": \"lines\", \"opacity\": 1, \"type\": \"scatter\", \"x\": [-0.620931538614446, -0.10097929361113614, null], \"y\": [-0.42585874467997253, 0.012466463271866533, null]}, {\"line\": {\"shape\": \"spline\", \"width\": 0.5}, \"marker\": {\"color\": \"#ece8e8\"}, \"mode\": \"lines\", \"opacity\": 1, \"type\": \"scatter\", \"x\": [-0.620931538614446, -0.09362941864909598, null], \"y\": [-0.42585874467997253, -0.21052603249987867, null]}, {\"line\": {\"shape\": \"spline\", \"width\": 0.5}, \"marker\": {\"color\": \"#ece8e8\"}, \"mode\": \"lines\", \"opacity\": 1, \"type\": \"scatter\", \"x\": [-0.620931538614446, -1.0, null], \"y\": [-0.42585874467997253, -0.7322490795682237, null]}, {\"line\": {\"shape\": \"spline\", \"width\": 0.5}, \"marker\": {\"color\": \"#ece8e8\"}, \"mode\": \"lines\", \"opacity\": 1, \"type\": \"scatter\", \"x\": [0.4318521812552965, 0.48507726352568553, null], \"y\": [-0.5128045224896088, -0.3810037570628175, null]}, {\"line\": {\"shape\": \"spline\", \"width\": 0.5}, \"marker\": {\"color\": \"#ece8e8\"}, \"mode\": \"lines\", \"opacity\": 1, \"type\": \"scatter\", \"x\": [0.4318521812552965, 0.3195313911654045, null], \"y\": [-0.5128045224896088, -0.10717551763546776, null]}, {\"line\": {\"shape\": \"spline\", \"width\": 0.5}, \"marker\": {\"color\": \"#ece8e8\"}, \"mode\": \"lines\", \"opacity\": 1, \"type\": \"scatter\", \"x\": [0.4318521812552965, 0.6299540558288864, null], \"y\": [-0.5128045224896088, -0.31109339780408973, null]}, {\"line\": {\"shape\": \"spline\", \"width\": 0.5}, \"marker\": {\"color\": \"#ece8e8\"}, \"mode\": \"lines\", \"opacity\": 1, \"type\": \"scatter\", \"x\": [0.4318521812552965, 0.5807241683507863, null], \"y\": [-0.5128045224896088, -0.5061029488591657, null]}, {\"line\": {\"shape\": \"spline\", \"width\": 0.5}, \"marker\": {\"color\": \"#ece8e8\"}, \"mode\": \"lines\", \"opacity\": 1, \"type\": \"scatter\", \"x\": [0.4318521812552965, 0.6290120909970636, null], \"y\": [-0.5128045224896088, -0.4128442794561126, null]}, {\"line\": {\"shape\": \"spline\", \"width\": 0.5}, \"marker\": {\"color\": \"#ece8e8\"}, \"mode\": \"lines\", \"opacity\": 1, \"type\": \"scatter\", \"x\": [-0.6953534605468638, -0.22912735232692857, null], \"y\": [0.2824221850916814, 0.22291283856355693, null]}, {\"line\": {\"shape\": \"spline\", \"width\": 0.5}, \"marker\": {\"color\": \"#ece8e8\"}, \"mode\": \"lines\", \"opacity\": 1, \"type\": \"scatter\", \"x\": [-0.49189390341491623, -0.22912735232692857, null], \"y\": [0.6875421976569124, 0.22291283856355693, null]}, {\"line\": {\"shape\": \"spline\", \"width\": 0.5}, \"marker\": {\"color\": \"#ece8e8\"}, \"mode\": \"lines\", \"opacity\": 1, \"type\": \"scatter\", \"x\": [-0.1963402500119412, 0.19783976317957855, null], \"y\": [-0.042028302662227617, -0.03437081669964165, null]}, {\"line\": {\"shape\": \"spline\", \"width\": 0.5}, \"marker\": {\"color\": \"#ece8e8\"}, \"mode\": \"lines\", \"opacity\": 1, \"type\": \"scatter\", \"x\": [-0.36482090931303934, -0.22912735232692857, null], \"y\": [0.39149959542752877, 0.22291283856355693, null]}, {\"line\": {\"shape\": \"spline\", \"width\": 0.5}, \"marker\": {\"color\": \"#ece8e8\"}, \"mode\": \"lines\", \"opacity\": 1, \"type\": \"scatter\", \"x\": [-0.36482090931303934, -0.10097929361113614, null], \"y\": [0.39149959542752877, 0.012466463271866533, null]}, {\"line\": {\"shape\": \"spline\", \"width\": 0.5}, \"marker\": {\"color\": \"#ece8e8\"}, \"mode\": \"lines\", \"opacity\": 1, \"type\": \"scatter\", \"x\": [-0.36482090931303934, -0.13702344846983283, null], \"y\": [0.39149959542752877, 0.2331159758732535, null]}, {\"line\": {\"shape\": \"spline\", \"width\": 0.5}, \"marker\": {\"color\": \"#ece8e8\"}, \"mode\": \"lines\", \"opacity\": 1, \"type\": \"scatter\", \"x\": [-0.6489179757813794, -0.22912735232692857, null], \"y\": [0.4729061598992384, 0.22291283856355693, null]}, {\"line\": {\"shape\": \"spline\", \"width\": 0.5}, \"marker\": {\"color\": \"#ece8e8\"}, \"mode\": \"lines\", \"opacity\": 1, \"type\": \"scatter\", \"x\": [-0.6489179757813794, -0.13702344846983283, null], \"y\": [0.4729061598992384, 0.2331159758732535, null]}, {\"line\": {\"shape\": \"spline\", \"width\": 0.5}, \"marker\": {\"color\": \"#ece8e8\"}, \"mode\": \"lines\", \"opacity\": 1, \"type\": \"scatter\", \"x\": [-0.3612541971196493, -0.13702344846983283, null], \"y\": [-0.13150119562845486, 0.2331159758732535, null]}, {\"line\": {\"shape\": \"spline\", \"width\": 0.5}, \"marker\": {\"color\": \"#ece8e8\"}, \"mode\": \"lines\", \"opacity\": 1, \"type\": \"scatter\", \"x\": [-0.3612541971196493, -0.22912735232692857, null], \"y\": [-0.13150119562845486, 0.22291283856355693, null]}, {\"line\": {\"shape\": \"spline\", \"width\": 0.5}, \"marker\": {\"color\": \"#ece8e8\"}, \"mode\": \"lines\", \"opacity\": 1, \"type\": \"scatter\", \"x\": [-0.5870065943209695, -0.22912735232692857, null], \"y\": [0.6122795569856104, 0.22291283856355693, null]}, {\"line\": {\"shape\": \"spline\", \"width\": 0.5}, \"marker\": {\"color\": \"#ece8e8\"}, \"mode\": \"lines\", \"opacity\": 1, \"type\": \"scatter\", \"x\": [-0.5870065943209695, -0.5758968296931457, null], \"y\": [0.6122795569856104, 0.3677070715846346, null]}, {\"line\": {\"shape\": \"spline\", \"width\": 0.5}, \"marker\": {\"color\": \"#ece8e8\"}, \"mode\": \"lines\", \"opacity\": 1, \"type\": \"scatter\", \"x\": [-0.7072987167828125, -0.22912735232692857, null], \"y\": [0.14388729813877643, 0.22291283856355693, null]}, {\"line\": {\"shape\": \"spline\", \"width\": 0.5}, \"marker\": {\"color\": \"#ece8e8\"}, \"mode\": \"lines\", \"opacity\": 1, \"type\": \"scatter\", \"x\": [-0.7072987167828125, -0.5758968296931457, null], \"y\": [0.14388729813877643, 0.3677070715846346, null]}, {\"line\": {\"shape\": \"spline\", \"width\": 0.5}, \"marker\": {\"color\": \"#ece8e8\"}, \"mode\": \"lines\", \"opacity\": 1, \"type\": \"scatter\", \"x\": [0.1351314306774506, -0.10097929361113614, null], \"y\": [-0.3903134575357185, 0.012466463271866533, null]}, {\"line\": {\"shape\": \"spline\", \"width\": 0.5}, \"marker\": {\"color\": \"#ece8e8\"}, \"mode\": \"lines\", \"opacity\": 1, \"type\": \"scatter\", \"x\": [0.1351314306774506, 0.3195313911654045, null], \"y\": [-0.3903134575357185, -0.10717551763546776, null]}, {\"line\": {\"shape\": \"spline\", \"width\": 0.5}, \"marker\": {\"color\": \"#ece8e8\"}, \"mode\": \"lines\", \"opacity\": 1, \"type\": \"scatter\", \"x\": [0.1351314306774506, -0.09362941864909598, null], \"y\": [-0.3903134575357185, -0.21052603249987867, null]}, {\"line\": {\"shape\": \"spline\", \"width\": 0.5}, \"marker\": {\"color\": \"#ece8e8\"}, \"mode\": \"lines\", \"opacity\": 1, \"type\": \"scatter\", \"x\": [0.1351314306774506, 0.48507726352568553, null], \"y\": [-0.3903134575357185, -0.3810037570628175, null]}, {\"line\": {\"shape\": \"spline\", \"width\": 0.5}, \"marker\": {\"color\": \"#ece8e8\"}, \"mode\": \"lines\", \"opacity\": 1, \"type\": \"scatter\", \"x\": [0.1351314306774506, -0.012047858220622801, null], \"y\": [-0.3903134575357185, -0.15888910657255112, null]}, {\"line\": {\"shape\": \"spline\", \"width\": 0.5}, \"marker\": {\"color\": \"#ece8e8\"}, \"mode\": \"lines\", \"opacity\": 1, \"type\": \"scatter\", \"x\": [0.5975013312563732, 0.39965091730429475, null], \"y\": [0.07153110121700443, 0.3020403870395779, null]}, {\"line\": {\"shape\": \"spline\", \"width\": 0.5}, \"marker\": {\"color\": \"#ece8e8\"}, \"mode\": \"lines\", \"opacity\": 1, \"type\": \"scatter\", \"x\": [0.5975013312563732, 0.9105720569030873, null], \"y\": [0.07153110121700443, 0.365109930519383, null]}, {\"line\": {\"shape\": \"spline\", \"width\": 0.5}, \"marker\": {\"color\": \"#ece8e8\"}, \"mode\": \"lines\", \"opacity\": 1, \"type\": \"scatter\", \"x\": [0.5975013312563732, 0.3195313911654045, null], \"y\": [0.07153110121700443, -0.10717551763546776, null]}, {\"line\": {\"shape\": \"spline\", \"width\": 0.5}, \"marker\": {\"color\": \"#ece8e8\"}, \"mode\": \"lines\", \"opacity\": 1, \"type\": \"scatter\", \"x\": [-0.012047858220622801, -0.13702344846983283, null], \"y\": [-0.15888910657255112, 0.2331159758732535, null]}, {\"line\": {\"shape\": \"spline\", \"width\": 0.5}, \"marker\": {\"color\": \"#ece8e8\"}, \"mode\": \"lines\", \"opacity\": 1, \"type\": \"scatter\", \"x\": [-0.012047858220622801, -0.10097929361113614, null], \"y\": [-0.15888910657255112, 0.012466463271866533, null]}, {\"line\": {\"shape\": \"spline\", \"width\": 0.5}, \"marker\": {\"color\": \"#ece8e8\"}, \"mode\": \"lines\", \"opacity\": 1, \"type\": \"scatter\", \"x\": [-0.012047858220622801, -0.22912735232692857, null], \"y\": [-0.15888910657255112, 0.22291283856355693, null]}, {\"line\": {\"shape\": \"spline\", \"width\": 0.5}, \"marker\": {\"color\": \"#ece8e8\"}, \"mode\": \"lines\", \"opacity\": 1, \"type\": \"scatter\", \"x\": [-0.012047858220622801, 0.3195313911654045, null], \"y\": [-0.15888910657255112, -0.10717551763546776, null]}, {\"line\": {\"shape\": \"spline\", \"width\": 0.5}, \"marker\": {\"color\": \"#ece8e8\"}, \"mode\": \"lines\", \"opacity\": 1, \"type\": \"scatter\", \"x\": [-0.012047858220622801, -0.05969594242830725, null], \"y\": [-0.15888910657255112, -0.7076181826831953, null]}, {\"line\": {\"shape\": \"spline\", \"width\": 0.5}, \"marker\": {\"color\": \"#ece8e8\"}, \"mode\": \"lines\", \"opacity\": 1, \"type\": \"scatter\", \"x\": [-0.4124275868642897, -0.22912735232692857, null], \"y\": [-0.26460271208769764, 0.22291283856355693, null]}, {\"line\": {\"shape\": \"spline\", \"width\": 0.5}, \"marker\": {\"color\": \"#ece8e8\"}, \"mode\": \"lines\", \"opacity\": 1, \"type\": \"scatter\", \"x\": [-0.22912735232692857, -0.13702344846983283, null], \"y\": [0.22291283856355693, 0.2331159758732535, null]}, {\"line\": {\"shape\": \"spline\", \"width\": 0.5}, \"marker\": {\"color\": \"#ece8e8\"}, \"mode\": \"lines\", \"opacity\": 1, \"type\": \"scatter\", \"x\": [-0.22912735232692857, -0.10097929361113614, null], \"y\": [0.22291283856355693, 0.012466463271866533, null]}, {\"line\": {\"shape\": \"spline\", \"width\": 0.5}, \"marker\": {\"color\": \"#ece8e8\"}, \"mode\": \"lines\", \"opacity\": 1, \"type\": \"scatter\", \"x\": [-0.22912735232692857, 0.09352037973994606, null], \"y\": [0.22291283856355693, 0.29478968137512285, null]}, {\"line\": {\"shape\": \"spline\", \"width\": 0.5}, \"marker\": {\"color\": \"#ece8e8\"}, \"mode\": \"lines\", \"opacity\": 1, \"type\": \"scatter\", \"x\": [-0.22912735232692857, -0.5758968296931457, null], \"y\": [0.22291283856355693, 0.3677070715846346, null]}, {\"line\": {\"shape\": \"spline\", \"width\": 0.5}, \"marker\": {\"color\": \"#ece8e8\"}, \"mode\": \"lines\", \"opacity\": 1, \"type\": \"scatter\", \"x\": [-0.22912735232692857, 0.1105766569509571, null], \"y\": [0.22291283856355693, 0.14114263222055068, null]}, {\"line\": {\"shape\": \"spline\", \"width\": 0.5}, \"marker\": {\"color\": \"#ece8e8\"}, \"mode\": \"lines\", \"opacity\": 1, \"type\": \"scatter\", \"x\": [-0.22912735232692857, -0.5274432885344671, null], \"y\": [0.22291283856355693, 0.22543680209160435, null]}, {\"line\": {\"shape\": \"spline\", \"width\": 0.5}, \"marker\": {\"color\": \"#ece8e8\"}, \"mode\": \"lines\", \"opacity\": 1, \"type\": \"scatter\", \"x\": [-0.22912735232692857, -0.09362941864909598, null], \"y\": [0.22291283856355693, -0.21052603249987867, null]}, {\"line\": {\"shape\": \"spline\", \"width\": 0.5}, \"marker\": {\"color\": \"#ece8e8\"}, \"mode\": \"lines\", \"opacity\": 1, \"type\": \"scatter\", \"x\": [-0.22912735232692857, 0.3195313911654045, null], \"y\": [0.22291283856355693, -0.10717551763546776, null]}, {\"line\": {\"shape\": \"spline\", \"width\": 0.5}, \"marker\": {\"color\": \"#ece8e8\"}, \"mode\": \"lines\", \"opacity\": 1, \"type\": \"scatter\", \"x\": [-0.22912735232692857, 0.07036544299160555, null], \"y\": [0.22291283856355693, 0.49460034709621575, null]}, {\"line\": {\"shape\": \"spline\", \"width\": 0.5}, \"marker\": {\"color\": \"#ece8e8\"}, \"mode\": \"lines\", \"opacity\": 1, \"type\": \"scatter\", \"x\": [-0.22912735232692857, -0.8184577461104179, null], \"y\": [0.22291283856355693, 0.20188714087348514, null]}, {\"line\": {\"shape\": \"spline\", \"width\": 0.5}, \"marker\": {\"color\": \"#ece8e8\"}, \"mode\": \"lines\", \"opacity\": 1, \"type\": \"scatter\", \"x\": [-0.2925581991378536, -0.09362941864909598, null], \"y\": [-0.45084155397997905, -0.21052603249987867, null]}, {\"line\": {\"shape\": \"spline\", \"width\": 0.5}, \"marker\": {\"color\": \"#ece8e8\"}, \"mode\": \"lines\", \"opacity\": 1, \"type\": \"scatter\", \"x\": [-0.10097929361113614, -0.13702344846983283, null], \"y\": [0.012466463271866533, 0.2331159758732535, null]}, {\"line\": {\"shape\": \"spline\", \"width\": 0.5}, \"marker\": {\"color\": \"#ece8e8\"}, \"mode\": \"lines\", \"opacity\": 1, \"type\": \"scatter\", \"x\": [-0.10097929361113614, 0.09352037973994606, null], \"y\": [0.012466463271866533, 0.29478968137512285, null]}, {\"line\": {\"shape\": \"spline\", \"width\": 0.5}, \"marker\": {\"color\": \"#ece8e8\"}, \"mode\": \"lines\", \"opacity\": 1, \"type\": \"scatter\", \"x\": [-0.10097929361113614, 0.1105766569509571, null], \"y\": [0.012466463271866533, 0.14114263222055068, null]}, {\"line\": {\"shape\": \"spline\", \"width\": 0.5}, \"marker\": {\"color\": \"#ece8e8\"}, \"mode\": \"lines\", \"opacity\": 1, \"type\": \"scatter\", \"x\": [-0.10097929361113614, -0.5274432885344671, null], \"y\": [0.012466463271866533, 0.22543680209160435, null]}, {\"line\": {\"shape\": \"spline\", \"width\": 0.5}, \"marker\": {\"color\": \"#ece8e8\"}, \"mode\": \"lines\", \"opacity\": 1, \"type\": \"scatter\", \"x\": [-0.10097929361113614, -0.09362941864909598, null], \"y\": [0.012466463271866533, -0.21052603249987867, null]}, {\"line\": {\"shape\": \"spline\", \"width\": 0.5}, \"marker\": {\"color\": \"#ece8e8\"}, \"mode\": \"lines\", \"opacity\": 1, \"type\": \"scatter\", \"x\": [-0.10097929361113614, -0.5498714292610081, null], \"y\": [0.012466463271866533, -0.1228099526109709, null]}, {\"line\": {\"shape\": \"spline\", \"width\": 0.5}, \"marker\": {\"color\": \"#ece8e8\"}, \"mode\": \"lines\", \"opacity\": 1, \"type\": \"scatter\", \"x\": [-0.09362941864909598, 0.3195313911654045, null], \"y\": [-0.21052603249987867, -0.10717551763546776, null]}, {\"line\": {\"shape\": \"spline\", \"width\": 0.5}, \"marker\": {\"color\": \"#ece8e8\"}, \"mode\": \"lines\", \"opacity\": 1, \"type\": \"scatter\", \"x\": [-0.09362941864909598, -0.13702344846983283, null], \"y\": [-0.21052603249987867, 0.2331159758732535, null]}, {\"line\": {\"shape\": \"spline\", \"width\": 0.5}, \"marker\": {\"color\": \"#ece8e8\"}, \"mode\": \"lines\", \"opacity\": 1, \"type\": \"scatter\", \"x\": [0.6290120909970636, 0.5807241683507863, null], \"y\": [-0.4128442794561126, -0.5061029488591657, null]}, {\"line\": {\"shape\": \"spline\", \"width\": 0.5}, \"marker\": {\"color\": \"#ece8e8\"}, \"mode\": \"lines\", \"opacity\": 1, \"type\": \"scatter\", \"x\": [0.6290120909970636, 0.6299540558288864, null], \"y\": [-0.4128442794561126, -0.31109339780408973, null]}, {\"line\": {\"shape\": \"spline\", \"width\": 0.5}, \"marker\": {\"color\": \"#ece8e8\"}, \"mode\": \"lines\", \"opacity\": 1, \"type\": \"scatter\", \"x\": [0.6290120909970636, 0.3195313911654045, null], \"y\": [-0.4128442794561126, -0.10717551763546776, null]}, {\"line\": {\"shape\": \"spline\", \"width\": 0.5}, \"marker\": {\"color\": \"#ece8e8\"}, \"mode\": \"lines\", \"opacity\": 1, \"type\": \"scatter\", \"x\": [0.6290120909970636, 0.48507726352568553, null], \"y\": [-0.4128442794561126, -0.3810037570628175, null]}, {\"line\": {\"shape\": \"spline\", \"width\": 0.5}, \"marker\": {\"color\": \"#ece8e8\"}, \"mode\": \"lines\", \"opacity\": 1, \"type\": \"scatter\", \"x\": [-0.5274432885344671, -0.13702344846983283, null], \"y\": [0.22543680209160435, 0.2331159758732535, null]}, {\"line\": {\"shape\": \"spline\", \"width\": 0.5}, \"marker\": {\"color\": \"#ece8e8\"}, \"mode\": \"lines\", \"opacity\": 1, \"type\": \"scatter\", \"x\": [-0.13702344846983283, -0.5758968296931457, null], \"y\": [0.2331159758732535, 0.3677070715846346, null]}, {\"line\": {\"shape\": \"spline\", \"width\": 0.5}, \"marker\": {\"color\": \"#ece8e8\"}, \"mode\": \"lines\", \"opacity\": 1, \"type\": \"scatter\", \"x\": [-0.13702344846983283, 0.1105766569509571, null], \"y\": [0.2331159758732535, 0.14114263222055068, null]}, {\"line\": {\"shape\": \"spline\", \"width\": 0.5}, \"marker\": {\"color\": \"#ece8e8\"}, \"mode\": \"lines\", \"opacity\": 1, \"type\": \"scatter\", \"x\": [-0.13702344846983283, 0.09352037973994606, null], \"y\": [0.2331159758732535, 0.29478968137512285, null]}, {\"line\": {\"shape\": \"spline\", \"width\": 0.5}, \"marker\": {\"color\": \"#ece8e8\"}, \"mode\": \"lines\", \"opacity\": 1, \"type\": \"scatter\", \"x\": [0.5807241683507863, 0.48507726352568553, null], \"y\": [-0.5061029488591657, -0.3810037570628175, null]}, {\"line\": {\"shape\": \"spline\", \"width\": 0.5}, \"marker\": {\"color\": \"#ece8e8\"}, \"mode\": \"lines\", \"opacity\": 1, \"type\": \"scatter\", \"x\": [0.5807241683507863, 0.3195313911654045, null], \"y\": [-0.5061029488591657, -0.10717551763546776, null]}, {\"line\": {\"shape\": \"spline\", \"width\": 0.5}, \"marker\": {\"color\": \"#ece8e8\"}, \"mode\": \"lines\", \"opacity\": 1, \"type\": \"scatter\", \"x\": [0.5807241683507863, 0.6299540558288864, null], \"y\": [-0.5061029488591657, -0.31109339780408973, null]}, {\"line\": {\"shape\": \"spline\", \"width\": 0.5}, \"marker\": {\"color\": \"#ece8e8\"}, \"mode\": \"lines\", \"opacity\": 1, \"type\": \"scatter\", \"x\": [0.3195313911654045, 0.48507726352568553, null], \"y\": [-0.10717551763546776, -0.3810037570628175, null]}, {\"line\": {\"shape\": \"spline\", \"width\": 0.5}, \"marker\": {\"color\": \"#ece8e8\"}, \"mode\": \"lines\", \"opacity\": 1, \"type\": \"scatter\", \"x\": [0.3195313911654045, 0.6299540558288864, null], \"y\": [-0.10717551763546776, -0.31109339780408973, null]}, {\"line\": {\"shape\": \"spline\", \"width\": 0.5}, \"marker\": {\"color\": \"#ece8e8\"}, \"mode\": \"lines\", \"opacity\": 1, \"type\": \"scatter\", \"x\": [0.3195313911654045, 0.39965091730429475, null], \"y\": [-0.10717551763546776, 0.3020403870395779, null]}, {\"line\": {\"shape\": \"spline\", \"width\": 0.5}, \"marker\": {\"color\": \"#ece8e8\"}, \"mode\": \"lines\", \"opacity\": 1, \"type\": \"scatter\", \"x\": [0.07036544299160555, 0.39965091730429475, null], \"y\": [0.49460034709621575, 0.3020403870395779, null]}, {\"line\": {\"shape\": \"spline\", \"width\": 0.5}, \"marker\": {\"color\": \"#ece8e8\"}, \"mode\": \"lines\", \"opacity\": 1, \"type\": \"scatter\", \"x\": [0.48507726352568553, 0.6299540558288864, null], \"y\": [-0.3810037570628175, -0.31109339780408973, null]}, {\"line\": {\"shape\": \"spline\", \"width\": 0.5}, \"marker\": {\"color\": \"#ece8e8\"}, \"mode\": \"lines\", \"opacity\": 1, \"type\": \"scatter\", \"x\": [0.39965091730429475, 0.9105720569030873, null], \"y\": [0.3020403870395779, 0.365109930519383, null]}, {\"line\": {\"shape\": \"spline\", \"width\": 0.5}, \"marker\": {\"color\": \"#ece8e8\"}, \"mode\": \"lines\", \"opacity\": 1, \"type\": \"scatter\", \"x\": [0.1105766569509571, 0.09352037973994606, null], \"y\": [0.14114263222055068, 0.29478968137512285, null]}, {\"hoverinfo\": \"text\", \"hovertext\": [], \"marker\": {\"color\": [2, 2, 0, 0, 2, 0, 0, 1, 0, 0, 0, 1, 3, 0, 0, 0, 1, 0, 0, 0, 3, 2, 0, 0, 0, 0, 2, 0, 0, 3, 0, 2, 1, 3, 0, 1, 1, 2, 2, 1, 0, 0, 4, 0, 0, 0, 0, 0, 2, 1, 3, 0, 2, 3, 3, 0, 3, 0, 0, 0, 2, 1, 0, 3, 0, 0, 1, 3, 1, 0, 0, 2, 1, 1, 1, 3, 2, 0, 1, 0, 4, 2, 2, 0, 0, 2, 0, 0, 1, 0, 0, 0, 1, 3, 0, 0, 0, 1, 0, 0, 0, 3, 2, 0, 0, 0, 0, 2, 0, 0, 3, 0, 2, 1, 3, 0, 1, 1, 2, 2, 1, 0, 0, 4, 0, 0, 0, 0, 0, 2, 1, 3, 0, 2, 3, 3, 0, 3, 0, 0, 0, 2, 1, 0, 3, 0, 0, 1, 3, 1, 0, 0, 2, 1, 1, 1, 3, 2, 0, 1, 0, 4, 2, 2, 0, 0, 2, 0, 0, 1, 0, 0, 0, 1, 3, 0, 0, 0, 1, 0, 0, 0, 3, 2, 0, 0, 0, 0, 2, 0, 0, 3, 0, 2, 1, 3, 0, 1, 1, 2, 2, 1, 0, 0, 4, 0, 0, 0, 0, 0, 2, 1, 3, 0, 2, 3, 3, 0, 3, 0, 0, 0, 2, 1, 0, 3, 0, 0, 1, 3, 1, 0, 0, 2, 1, 1, 1, 3, 2, 0, 1, 0, 4, 2, 2, 0, 0, 2, 0, 0, 1, 0, 0, 0, 1, 3, 0, 0, 0, 1, 0, 0, 0, 3, 2, 0, 0, 0, 0, 2, 0, 0, 3, 0, 2, 1, 3, 0, 1, 1, 2, 2, 1, 0, 0, 4, 0, 0, 0, 0, 0, 2, 1, 3, 0, 2, 3, 3, 0, 3, 0, 0, 0, 2, 1, 0, 3, 0, 0, 1, 3, 1, 0, 0, 2, 1, 1, 1, 3, 2, 0, 1, 0, 4, 2, 2, 0, 0, 2, 0, 0, 1, 0, 0, 0, 1, 3, 0, 0, 0, 1, 0, 0, 0, 3, 2, 0, 0, 0, 0, 2, 0, 0, 3, 0, 2, 1, 3, 0, 1, 1, 2, 2, 1, 0, 0, 4, 0, 0, 0, 0, 0, 2, 1, 3, 0, 2, 3, 3, 0, 3, 0, 0, 0, 2, 1, 0, 3, 0, 0, 1, 3, 1, 0, 0, 2, 1, 1, 1, 3, 2, 0, 1, 0, 4, 2, 2, 0, 0, 2, 0, 0, 1, 0, 0, 0, 1, 3, 0, 0, 0, 1, 0, 0, 0, 3, 2, 0, 0, 0, 0, 2, 0, 0, 3, 0, 2, 1, 3, 0, 1, 1, 2, 2, 1, 0, 0, 4, 0, 0, 0, 0, 0, 2, 1, 3, 0, 2, 3, 3, 0, 3, 0, 0, 0, 2, 1, 0, 3, 0, 0, 1, 3, 1, 0, 0, 2, 1, 1, 1, 3, 2, 0, 1, 0, 4, 2, 2, 0, 0, 2, 0, 0, 1, 0, 0, 0, 1, 3, 0, 0, 0, 1, 0, 0, 0, 3, 2, 0, 0, 0, 0, 2, 0, 0, 3, 0, 2, 1, 3, 0, 1, 1, 2, 2, 1, 0, 0, 4, 0, 0, 0, 0, 0, 2, 1, 3, 0, 2, 3, 3, 0, 3, 0, 0, 0, 2, 1, 0, 3, 0, 0, 1, 3, 1, 0, 0, 2, 1, 1, 1, 3, 2, 0, 1, 0, 4, 2, 2, 0, 0, 2, 0, 0, 1, 0, 0, 0, 1, 3, 0, 0, 0, 1, 0, 0, 0, 3, 2, 0, 0, 0, 0, 2, 0, 0, 3, 0, 2, 1, 3, 0, 1, 1, 2, 2, 1, 0, 0, 4, 0, 0, 0, 0, 0, 2, 1, 3, 0, 2, 3, 3, 0, 3, 0, 0, 0, 2, 1, 0, 3, 0, 0, 1, 3, 1, 0, 0, 2, 1, 1, 1, 3, 2, 0, 1, 0, 4, 2, 2, 0, 0, 2, 0, 0, 1, 0, 0, 0, 1, 3, 0, 0, 0, 1, 0, 0, 0, 3, 2, 0, 0, 0, 0, 2, 0, 0, 3, 0, 2, 1, 3, 0, 1, 1, 2, 2, 1, 0, 0, 4, 0, 0, 0, 0, 0, 2, 1, 3, 0, 2, 3, 3, 0, 3, 0, 0, 0, 2, 1, 0, 3, 0, 0, 1, 3, 1, 0, 0, 2, 1, 1, 1, 3, 2, 0, 1, 0, 4, 2, 2, 0, 0, 2, 0, 0, 1, 0, 0, 0, 1, 3, 0, 0, 0, 1, 0, 0, 0, 3, 2, 0, 0, 0, 0, 2, 0, 0, 3, 0, 2, 1, 3, 0, 1, 1, 2, 2, 1, 0, 0, 4, 0, 0, 0, 0, 0, 2, 1, 3, 0, 2, 3, 3, 0, 3, 0, 0, 0, 2, 1, 0, 3, 0, 0, 1, 3, 1, 0, 0, 2, 1, 1, 1, 3, 2, 0, 1, 0, 4, 2, 2, 0, 0, 2, 0, 0, 1, 0, 0, 0, 1, 3, 0, 0, 0, 1, 0, 0, 0, 3, 2, 0, 0, 0, 0, 2, 0, 0, 3, 0, 2, 1, 3, 0, 1, 1, 2, 2, 1, 0, 0, 4, 0, 0, 0, 0, 0, 2, 1, 3, 0, 2, 3, 3, 0, 3, 0, 0, 0, 2, 1, 0, 3, 0, 0, 1, 3, 1, 0, 0, 2, 1, 1, 1, 3, 2, 0, 1, 0, 4, 2, 2, 0, 0, 2, 0, 0, 1, 0, 0, 0, 1, 3, 0, 0, 0, 1, 0, 0, 0, 3, 2, 0, 0, 0, 0, 2, 0, 0, 3, 0, 2, 1, 3, 0, 1, 1, 2, 2, 1, 0, 0, 4, 0, 0, 0, 0, 0, 2, 1, 3, 0, 2, 3, 3, 0, 3, 0, 0, 0, 2, 1, 0, 3, 0, 0, 1, 3, 1, 0, 0, 2, 1, 1, 1, 3, 2, 0, 1, 0, 4, 2, 2, 0, 0, 2, 0, 0, 1, 0, 0, 0, 1, 3, 0, 0, 0, 1, 0, 0, 0, 3, 2, 0, 0, 0, 0, 2, 0, 0, 3, 0, 2, 1, 3, 0, 1, 1, 2, 2, 1, 0, 0, 4, 0, 0, 0, 0, 0, 2, 1, 3, 0, 2, 3, 3, 0, 3, 0, 0, 0, 2, 1, 0, 3, 0, 0, 1, 3, 1, 0, 0, 2, 1, 1, 1, 3, 2, 0, 1, 0, 4, 2, 2, 0, 0, 2, 0, 0, 1, 0, 0, 0, 1, 3, 0, 0, 0, 1, 0, 0, 0, 3, 2, 0, 0, 0, 0, 2, 0, 0, 3, 0, 2, 1, 3, 0, 1, 1, 2, 2, 1, 0, 0, 4, 0, 0, 0, 0, 0, 2, 1, 3, 0, 2, 3, 3, 0, 3, 0, 0, 0, 2, 1, 0, 3, 0, 0, 1, 3, 1, 0, 0, 2, 1, 1, 1, 3, 2, 0, 1, 0, 4, 2, 2, 0, 0, 2, 0, 0, 1, 0, 0, 0, 1, 3, 0, 0, 0, 1, 0, 0, 0, 3, 2, 0, 0, 0, 0, 2, 0, 0, 3, 0, 2, 1, 3, 0, 1, 1, 2, 2, 1, 0, 0, 4, 0, 0, 0, 0, 0, 2, 1, 3, 0, 2, 3, 3, 0, 3, 0, 0, 0, 2, 1, 0, 3, 0, 0, 1, 3, 1, 0, 0, 2, 1, 1, 1, 3, 2, 0, 1, 0, 4, 2, 2, 0, 0, 2, 0, 0, 1, 0, 0, 0, 1, 3, 0, 0, 0, 1, 0, 0, 0, 3, 2, 0, 0, 0, 0, 2, 0, 0, 3, 0, 2, 1, 3, 0, 1, 1, 2, 2, 1, 0, 0, 4, 0, 0, 0, 0, 0, 2, 1, 3, 0, 2, 3, 3, 0, 3, 0, 0, 0, 2, 1, 0, 3, 0, 0, 1, 3, 1, 0, 0, 2, 1, 1, 1, 3, 2, 0, 1, 0, 4, 2, 2, 0, 0, 2, 0, 0, 1, 0, 0, 0, 1, 3, 0, 0, 0, 1, 0, 0, 0, 3, 2, 0, 0, 0, 0, 2, 0, 0, 3, 0, 2, 1, 3, 0, 1, 1, 2, 2, 1, 0, 0, 4, 0, 0, 0, 0, 0, 2, 1, 3, 0, 2, 3, 3, 0, 3, 0, 0, 0, 2, 1, 0, 3, 0, 0, 1, 3, 1, 0, 0, 2, 1, 1, 1, 3, 2, 0, 1, 0, 4, 2, 2, 0, 0, 2, 0, 0, 1, 0, 0, 0, 1, 3, 0, 0, 0, 1, 0, 0, 0, 3, 2, 0, 0, 0, 0, 2, 0, 0, 3, 0, 2, 1, 3, 0, 1, 1, 2, 2, 1, 0, 0, 4, 0, 0, 0, 0, 0, 2, 1, 3, 0, 2, 3, 3, 0, 3, 0, 0, 0, 2, 1, 0, 3, 0, 0, 1, 3, 1, 0, 0, 2, 1, 1, 1, 3, 2, 0, 1, 0, 4, 2, 2, 0, 0, 2, 0, 0, 1, 0, 0, 0, 1, 3, 0, 0, 0, 1, 0, 0, 0, 3, 2, 0, 0, 0, 0, 2, 0, 0, 3, 0, 2, 1, 3, 0, 1, 1, 2, 2, 1, 0, 0, 4, 0, 0, 0, 0, 0, 2, 1, 3, 0, 2, 3, 3, 0, 3, 0, 0, 0, 2, 1, 0, 3, 0, 0, 1, 3, 1, 0, 0, 2, 1, 1, 1, 3, 2, 0, 1, 0, 4, 2, 2, 0, 0, 2, 0, 0, 1, 0, 0, 0, 1, 3, 0, 0, 0, 1, 0, 0, 0, 3, 2, 0, 0, 0, 0, 2, 0, 0, 3, 0, 2, 1, 3, 0, 1, 1, 2, 2, 1, 0, 0, 4, 0, 0, 0, 0, 0, 2, 1, 3, 0, 2, 3, 3, 0, 3, 0, 0, 0, 2, 1, 0, 3, 0, 0, 1, 3, 1, 0, 0, 2, 1, 1, 1, 3, 2, 0, 1, 0, 4, 2, 2, 0, 0, 2, 0, 0, 1, 0, 0, 0, 1, 3, 0, 0, 0, 1, 0, 0, 0, 3, 2, 0, 0, 0, 0, 2, 0, 0, 3, 0, 2, 1, 3, 0, 1, 1, 2, 2, 1, 0, 0, 4, 0, 0, 0, 0, 0, 2, 1, 3, 0, 2, 3, 3, 0, 3, 0, 0, 0, 2, 1, 0, 3, 0, 0, 1, 3, 1, 0, 0, 2, 1, 1, 1, 3, 2, 0, 1, 0, 4, 2, 2, 0, 0, 2, 0, 0, 1, 0, 0, 0, 1, 3, 0, 0, 0, 1, 0, 0, 0, 3, 2, 0, 0, 0, 0, 2, 0, 0, 3, 0, 2, 1, 3, 0, 1, 1, 2, 2, 1, 0, 0, 4, 0, 0, 0, 0, 0, 2, 1, 3, 0, 2, 3, 3, 0, 3, 0, 0, 0, 2, 1, 0, 3, 0, 0, 1, 3, 1, 0, 0, 2, 1, 1, 1, 3, 2, 0, 1, 0, 4, 2, 2, 0, 0, 2, 0, 0, 1, 0, 0, 0, 1, 3, 0, 0, 0, 1, 0, 0, 0, 3, 2, 0, 0, 0, 0, 2, 0, 0, 3, 0, 2, 1, 3, 0, 1, 1, 2, 2, 1, 0, 0, 4, 0, 0, 0, 0, 0, 2, 1, 3, 0, 2, 3, 3, 0, 3, 0, 0, 0, 2, 1, 0, 3, 0, 0, 1, 3, 1, 0, 0, 2, 1, 1, 1, 3, 2, 0, 1, 0, 4, 2, 2, 0, 0, 2, 0, 0, 1, 0, 0, 0, 1, 3, 0, 0, 0, 1, 0, 0, 0, 3, 2, 0, 0, 0, 0, 2, 0, 0, 3, 0, 2, 1, 3, 0, 1, 1, 2, 2, 1, 0, 0, 4, 0, 0, 0, 0, 0, 2, 1, 3, 0, 2, 3, 3, 0, 3, 0, 0, 0, 2, 1, 0, 3, 0, 0, 1, 3, 1, 0, 0, 2, 1, 1, 1, 3, 2, 0, 1, 0, 4, 2, 2, 0, 0, 2, 0, 0, 1, 0, 0, 0, 1, 3, 0, 0, 0, 1, 0, 0, 0, 3, 2, 0, 0, 0, 0, 2, 0, 0, 3, 0, 2, 1, 3, 0, 1, 1, 2, 2, 1, 0, 0, 4, 0, 0, 0, 0, 0, 2, 1, 3, 0, 2, 3, 3, 0, 3, 0, 0, 0, 2, 1, 0, 3, 0, 0, 1, 3, 1, 0, 0, 2, 1, 1, 1, 3, 2, 0, 1, 0, 4, 2, 2, 0, 0, 2, 0, 0, 1, 0, 0, 0, 1, 3, 0, 0, 0, 1, 0, 0, 0, 3, 2, 0, 0, 0, 0, 2, 0, 0, 3, 0, 2, 1, 3, 0, 1, 1, 2, 2, 1, 0, 0, 4, 0, 0, 0, 0, 0, 2, 1, 3, 0, 2, 3, 3, 0, 3, 0, 0, 0, 2, 1, 0, 3, 0, 0, 1, 3, 1, 0, 0, 2, 1, 1, 1, 3, 2, 0, 1, 0, 4, 2, 2, 0, 0, 2, 0, 0, 1, 0, 0, 0, 1, 3, 0, 0, 0, 1, 0, 0, 0, 3, 2, 0, 0, 0, 0, 2, 0, 0, 3, 0, 2, 1, 3, 0, 1, 1, 2, 2, 1, 0, 0, 4, 0, 0, 0, 0, 0, 2, 1, 3, 0, 2, 3, 3, 0, 3, 0, 0, 0, 2, 1, 0, 3, 0, 0, 1, 3, 1, 0, 0, 2, 1, 1, 1, 3, 2, 0, 1, 0, 4, 2, 2, 0, 0, 2, 0, 0, 1, 0, 0, 0, 1, 3, 0, 0, 0, 1, 0, 0, 0, 3, 2, 0, 0, 0, 0, 2, 0, 0, 3, 0, 2, 1, 3, 0, 1, 1, 2, 2, 1, 0, 0, 4, 0, 0, 0, 0, 0, 2, 1, 3, 0, 2, 3, 3, 0, 3, 0, 0, 0, 2, 1, 0, 3, 0, 0, 1, 3, 1, 0, 0, 2, 1, 1, 1, 3, 2, 0, 1, 0, 4, 2, 2, 0, 0, 2, 0, 0, 1, 0, 0, 0, 1, 3, 0, 0, 0, 1, 0, 0, 0, 3, 2, 0, 0, 0, 0, 2, 0, 0, 3, 0, 2, 1, 3, 0, 1, 1, 2, 2, 1, 0, 0, 4, 0, 0, 0, 0, 0, 2, 1, 3, 0, 2, 3, 3, 0, 3, 0, 0, 0, 2, 1, 0, 3, 0, 0, 1, 3, 1, 0, 0, 2, 1, 1, 1, 3, 2, 0, 1, 0, 4, 2, 2, 0, 0, 2, 0, 0, 1, 0, 0, 0, 1, 3, 0, 0, 0, 1, 0, 0, 0, 3, 2, 0, 0, 0, 0, 2, 0, 0, 3, 0, 2, 1, 3, 0, 1, 1, 2, 2, 1, 0, 0, 4, 0, 0, 0, 0, 0, 2, 1, 3, 0, 2, 3, 3, 0, 3, 0, 0, 0, 2, 1, 0, 3, 0, 0, 1, 3, 1, 0, 0, 2, 1, 1, 1, 3, 2, 0, 1, 0, 4, 2, 2, 0, 0, 2, 0, 0, 1, 0, 0, 0, 1, 3, 0, 0, 0, 1, 0, 0, 0, 3, 2, 0, 0, 0, 0, 2, 0, 0, 3, 0, 2, 1, 3, 0, 1, 1, 2, 2, 1, 0, 0, 4, 0, 0, 0, 0, 0, 2, 1, 3, 0, 2, 3, 3, 0, 3, 0, 0, 0, 2, 1, 0, 3, 0, 0, 1, 3, 1, 0, 0, 2, 1, 1, 1, 3, 2, 0, 1, 0, 4, 2, 2, 0, 0, 2, 0, 0, 1, 0, 0, 0, 1, 3, 0, 0, 0, 1, 0, 0, 0, 3, 2, 0, 0, 0, 0, 2, 0, 0, 3, 0, 2, 1, 3, 0, 1, 1, 2, 2, 1, 0, 0, 4, 0, 0, 0, 0, 0, 2, 1, 3, 0, 2, 3, 3, 0, 3, 0, 0, 0, 2, 1, 0, 3, 0, 0, 1, 3, 1, 0, 0, 2, 1, 1, 1, 3, 2, 0, 1, 0, 4, 2, 2, 0, 0, 2, 0, 0, 1, 0, 0, 0, 1, 3, 0, 0, 0, 1, 0, 0, 0, 3, 2, 0, 0, 0, 0, 2, 0, 0, 3, 0, 2, 1, 3, 0, 1, 1, 2, 2, 1, 0, 0, 4, 0, 0, 0, 0, 0, 2, 1, 3, 0, 2, 3, 3, 0, 3, 0, 0, 0, 2, 1, 0, 3, 0, 0, 1, 3, 1, 0, 0, 2, 1, 1, 1, 3, 2, 0, 1, 0, 4, 2, 2, 0, 0, 2, 0, 0, 1, 0, 0, 0, 1, 3, 0, 0, 0, 1, 0, 0, 0, 3, 2, 0, 0, 0, 0, 2, 0, 0, 3, 0, 2, 1, 3, 0, 1, 1, 2, 2, 1, 0, 0, 4, 0, 0, 0, 0, 0, 2, 1, 3, 0, 2, 3, 3, 0, 3, 0, 0, 0, 2, 1, 0, 3, 0, 0, 1, 3, 1, 0, 0, 2, 1, 1, 1, 3, 2, 0, 1, 0, 4, 2, 2, 0, 0, 2, 0, 0, 1, 0, 0, 0, 1, 3, 0, 0, 0, 1, 0, 0, 0, 3, 2, 0, 0, 0, 0, 2, 0, 0, 3, 0, 2, 1, 3, 0, 1, 1, 2, 2, 1, 0, 0, 4, 0, 0, 0, 0, 0, 2, 1, 3, 0, 2, 3, 3, 0, 3, 0, 0, 0, 2, 1, 0, 3, 0, 0, 1, 3, 1, 0, 0, 2, 1, 1, 1, 3, 2, 0, 1, 0, 4, 2, 2, 0, 0, 2, 0, 0, 1, 0, 0, 0, 1, 3, 0, 0, 0, 1, 0, 0, 0, 3, 2, 0, 0, 0, 0, 2, 0, 0, 3, 0, 2, 1, 3, 0, 1, 1, 2, 2, 1, 0, 0, 4, 0, 0, 0, 0, 0, 2, 1, 3, 0, 2, 3, 3, 0, 3, 0, 0, 0, 2, 1, 0, 3, 0, 0, 1, 3, 1, 0, 0, 2, 1, 1, 1, 3, 2, 0, 1, 0, 4, 2, 2, 0, 0, 2, 0, 0, 1, 0, 0, 0, 1, 3, 0, 0, 0, 1, 0, 0, 0, 3, 2, 0, 0, 0, 0, 2, 0, 0, 3, 0, 2, 1, 3, 0, 1, 1, 2, 2, 1, 0, 0, 4, 0, 0, 0, 0, 0, 2, 1, 3, 0, 2, 3, 3, 0, 3, 0, 0, 0, 2, 1, 0, 3, 0, 0, 1, 3, 1, 0, 0, 2, 1, 1, 1, 3, 2, 0, 1, 0, 4, 2, 2, 0, 0, 2, 0, 0, 1, 0, 0, 0, 1, 3, 0, 0, 0, 1, 0, 0, 0, 3, 2, 0, 0, 0, 0, 2, 0, 0, 3, 0, 2, 1, 3, 0, 1, 1, 2, 2, 1, 0, 0, 4, 0, 0, 0, 0, 0, 2, 1, 3, 0, 2, 3, 3, 0, 3, 0, 0, 0, 2, 1, 0, 3, 0, 0, 1, 3, 1, 0, 0, 2, 1, 1, 1, 3, 2, 0, 1, 0, 4, 2, 2, 0, 0, 2, 0, 0, 1, 0, 0, 0, 1, 3, 0, 0, 0, 1, 0, 0, 0, 3, 2, 0, 0, 0, 0, 2, 0, 0, 3, 0, 2, 1, 3, 0, 1, 1, 2, 2, 1, 0, 0, 4, 0, 0, 0, 0, 0, 2, 1, 3, 0, 2, 3, 3, 0, 3, 0, 0, 0, 2, 1, 0, 3, 0, 0, 1, 3, 1, 0, 0, 2, 1, 1, 1, 3, 2, 0, 1, 0, 4, 2, 2, 0, 0, 2, 0, 0, 1, 0, 0, 0, 1, 3, 0, 0, 0, 1, 0, 0, 0, 3, 2, 0, 0, 0, 0, 2, 0, 0, 3, 0, 2, 1, 3, 0, 1, 1, 2, 2, 1, 0, 0, 4, 0, 0, 0, 0, 0, 2, 1, 3, 0, 2, 3, 3, 0, 3, 0, 0, 0, 2, 1, 0, 3, 0, 0, 1, 3, 1, 0, 0, 2, 1, 1, 1, 3, 2, 0, 1, 0, 4, 2, 2, 0, 0, 2, 0, 0, 1, 0, 0, 0, 1, 3, 0, 0, 0, 1, 0, 0, 0, 3, 2, 0, 0, 0, 0, 2, 0, 0, 3, 0, 2, 1, 3, 0, 1, 1, 2, 2, 1, 0, 0, 4, 0, 0, 0, 0, 0, 2, 1, 3, 0, 2, 3, 3, 0, 3, 0, 0, 0, 2, 1, 0, 3, 0, 0, 1, 3, 1, 0, 0, 2, 1, 1, 1, 3, 2, 0, 1, 0, 4, 2, 2, 0, 0, 2, 0, 0, 1, 0, 0, 0, 1, 3, 0, 0, 0, 1, 0, 0, 0, 3, 2, 0, 0, 0, 0, 2, 0, 0, 3, 0, 2, 1, 3, 0, 1, 1, 2, 2, 1, 0, 0, 4, 0, 0, 0, 0, 0, 2, 1, 3, 0, 2, 3, 3, 0, 3, 0, 0, 0, 2, 1, 0, 3, 0, 0, 1, 3, 1, 0, 0, 2, 1, 1, 1, 3, 2, 0, 1, 0, 4, 2, 2, 0, 0, 2, 0, 0, 1, 0, 0, 0, 1, 3, 0, 0, 0, 1, 0, 0, 0, 3, 2, 0, 0, 0, 0, 2, 0, 0, 3, 0, 2, 1, 3, 0, 1, 1, 2, 2, 1, 0, 0, 4, 0, 0, 0, 0, 0, 2, 1, 3, 0, 2, 3, 3, 0, 3, 0, 0, 0, 2, 1, 0, 3, 0, 0, 1, 3, 1, 0, 0, 2, 1, 1, 1, 3, 2, 0, 1, 0, 4, 2, 2, 0, 0, 2, 0, 0, 1, 0, 0, 0, 1, 3, 0, 0, 0, 1, 0, 0, 0, 3, 2, 0, 0, 0, 0, 2, 0, 0, 3, 0, 2, 1, 3, 0, 1, 1, 2, 2, 1, 0, 0, 4, 0, 0, 0, 0, 0, 2, 1, 3, 0, 2, 3, 3, 0, 3, 0, 0, 0, 2, 1, 0, 3, 0, 0, 1, 3, 1, 0, 0, 2, 1, 1, 1, 3, 2, 0, 1, 0, 4, 2, 2, 0, 0, 2, 0, 0, 1, 0, 0, 0, 1, 3, 0, 0, 0, 1, 0, 0, 0, 3, 2, 0, 0, 0, 0, 2, 0, 0, 3, 0, 2, 1, 3, 0, 1, 1, 2, 2, 1, 0, 0, 4, 0, 0, 0, 0, 0, 2, 1, 3, 0, 2, 3, 3, 0, 3, 0, 0, 0, 2, 1, 0, 3, 0, 0, 1, 3, 1, 0, 0, 2, 1, 1, 1, 3, 2, 0, 1, 0, 4, 2, 2, 0, 0, 2, 0, 0, 1, 0, 0, 0, 1, 3, 0, 0, 0, 1, 0, 0, 0, 3, 2, 0, 0, 0, 0, 2, 0, 0, 3, 0, 2, 1, 3, 0, 1, 1, 2, 2, 1, 0, 0, 4, 0, 0, 0, 0, 0, 2, 1, 3, 0, 2, 3, 3, 0, 3, 0, 0, 0, 2, 1, 0, 3, 0, 0, 1, 3, 1, 0, 0, 2, 1, 1, 1, 3, 2, 0, 1, 0, 4, 2, 2, 0, 0, 2, 0, 0, 1, 0, 0, 0, 1, 3, 0, 0, 0, 1, 0, 0, 0, 3, 2, 0, 0, 0, 0, 2, 0, 0, 3, 0, 2, 1, 3, 0, 1, 1, 2, 2, 1, 0, 0, 4, 0, 0, 0, 0, 0, 2, 1, 3, 0, 2, 3, 3, 0, 3, 0, 0, 0, 2, 1, 0, 3, 0, 0, 1, 3, 1, 0, 0, 2, 1, 1, 1, 3, 2, 0, 1, 0, 4, 2, 2, 0, 0, 2, 0, 0, 1, 0, 0, 0, 1, 3, 0, 0, 0, 1, 0, 0, 0, 3, 2, 0, 0, 0, 0, 2, 0, 0, 3, 0, 2, 1, 3, 0, 1, 1, 2, 2, 1, 0, 0, 4, 0, 0, 0, 0, 0, 2, 1, 3, 0, 2, 3, 3, 0, 3, 0, 0, 0, 2, 1, 0, 3, 0, 0, 1, 3, 1, 0, 0, 2, 1, 1, 1, 3, 2, 0, 1, 0, 4, 2, 2, 0, 0, 2, 0, 0, 1, 0, 0, 0, 1, 3, 0, 0, 0, 1, 0, 0, 0, 3, 2, 0, 0, 0, 0, 2, 0, 0, 3, 0, 2, 1, 3, 0, 1, 1, 2, 2, 1, 0, 0, 4, 0, 0, 0, 0, 0, 2, 1, 3, 0, 2, 3, 3, 0, 3, 0, 0, 0, 2, 1, 0, 3, 0, 0, 1, 3, 1, 0, 0, 2, 1, 1, 1, 3, 2, 0, 1, 0, 4, 2, 2, 0, 0, 2, 0, 0, 1, 0, 0, 0, 1, 3, 0, 0, 0, 1, 0, 0, 0, 3, 2, 0, 0, 0, 0, 2, 0, 0, 3, 0, 2, 1, 3, 0, 1, 1, 2, 2, 1, 0, 0, 4, 0, 0, 0, 0, 0, 2, 1, 3, 0, 2, 3, 3, 0, 3, 0, 0, 0, 2, 1, 0, 3, 0, 0, 1, 3, 1, 0, 0, 2, 1, 1, 1, 3, 2, 0, 1, 0, 4, 2, 2, 0, 0, 2, 0, 0, 1, 0, 0, 0, 1, 3, 0, 0, 0, 1, 0, 0, 0, 3, 2, 0, 0, 0, 0, 2, 0, 0, 3, 0, 2, 1, 3, 0, 1, 1, 2, 2, 1, 0, 0, 4, 0, 0, 0, 0, 0, 2, 1, 3, 0, 2, 3, 3, 0, 3, 0, 0, 0, 2, 1, 0, 3, 0, 0, 1, 3, 1, 0, 0, 2, 1, 1, 1, 3, 2, 0, 1, 0, 4, 2, 2, 0, 0, 2, 0, 0, 1, 0, 0, 0, 1, 3, 0, 0, 0, 1, 0, 0, 0, 3, 2, 0, 0, 0, 0, 2, 0, 0, 3, 0, 2, 1, 3, 0, 1, 1, 2, 2, 1, 0, 0, 4, 0, 0, 0, 0, 0, 2, 1, 3, 0, 2, 3, 3, 0, 3, 0, 0, 0, 2, 1, 0, 3, 0, 0, 1, 3, 1, 0, 0, 2, 1, 1, 1, 3, 2, 0, 1, 0, 4, 2, 2, 0, 0, 2, 0, 0, 1, 0, 0, 0, 1, 3, 0, 0, 0, 1, 0, 0, 0, 3, 2, 0, 0, 0, 0, 2, 0, 0, 3, 0, 2, 1, 3, 0, 1, 1, 2, 2, 1, 0, 0, 4, 0, 0, 0, 0, 0, 2, 1, 3, 0, 2, 3, 3, 0, 3, 0, 0, 0, 2, 1, 0, 3, 0, 0, 1, 3, 1, 0, 0, 2, 1, 1, 1, 3, 2, 0, 1, 0, 4, 2, 2, 0, 0, 2, 0, 0, 1, 0, 0, 0, 1, 3, 0, 0, 0, 1, 0, 0, 0, 3, 2, 0, 0, 0, 0, 2, 0, 0, 3, 0, 2, 1, 3, 0, 1, 1, 2, 2, 1, 0, 0, 4, 0, 0, 0, 0, 0, 2, 1, 3, 0, 2, 3, 3, 0, 3, 0, 0, 0, 2, 1, 0, 3, 0, 0, 1, 3, 1, 0, 0, 2, 1, 1, 1, 3, 2, 0, 1, 0, 4, 2, 2, 0, 0, 2, 0, 0, 1, 0, 0, 0, 1, 3, 0, 0, 0, 1, 0, 0, 0, 3, 2, 0, 0, 0, 0, 2, 0, 0, 3, 0, 2, 1, 3, 0, 1, 1, 2, 2, 1, 0, 0, 4, 0, 0, 0, 0, 0, 2, 1, 3, 0, 2, 3, 3, 0, 3, 0, 0, 0, 2, 1, 0, 3, 0, 0, 1, 3, 1, 0, 0, 2, 1, 1, 1, 3, 2, 0, 1, 0, 4, 2, 2, 0, 0, 2, 0, 0, 1, 0, 0, 0, 1, 3, 0, 0, 0, 1, 0, 0, 0, 3, 2, 0, 0, 0, 0, 2, 0, 0, 3, 0, 2, 1, 3, 0, 1, 1, 2, 2, 1, 0, 0, 4, 0, 0, 0, 0, 0, 2, 1, 3, 0, 2, 3, 3, 0, 3, 0, 0, 0, 2, 1, 0, 3, 0, 0, 1, 3, 1, 0, 0, 2, 1, 1, 1, 3, 2, 0, 1, 0, 4, 2, 2, 0, 0, 2, 0, 0, 1, 0, 0, 0, 1, 3, 0, 0, 0, 1, 0, 0, 0, 3, 2, 0, 0, 0, 0, 2, 0, 0, 3, 0, 2, 1, 3, 0, 1, 1, 2, 2, 1, 0, 0, 4, 0, 0, 0, 0, 0, 2, 1, 3, 0, 2, 3, 3, 0, 3, 0, 0, 0, 2, 1, 0, 3, 0, 0, 1, 3, 1, 0, 0, 2, 1, 1, 1, 3, 2, 0, 1, 0, 4, 2, 2, 0, 0, 2, 0, 0, 1, 0, 0, 0, 1, 3, 0, 0, 0, 1, 0, 0, 0, 3, 2, 0, 0, 0, 0, 2, 0, 0, 3, 0, 2, 1, 3, 0, 1, 1, 2, 2, 1, 0, 0, 4, 0, 0, 0, 0, 0, 2, 1, 3, 0, 2, 3, 3, 0, 3, 0, 0, 0, 2, 1, 0, 3, 0, 0, 1, 3, 1, 0, 0, 2, 1, 1, 1, 3, 2, 0, 1, 0, 4, 2, 2, 0, 0, 2, 0, 0, 1, 0, 0, 0, 1, 3, 0, 0, 0, 1, 0, 0, 0, 3, 2, 0, 0, 0, 0, 2, 0, 0, 3, 0, 2, 1, 3, 0, 1, 1, 2, 2, 1, 0, 0, 4, 0, 0, 0, 0, 0, 2, 1, 3, 0, 2, 3, 3, 0, 3, 0, 0, 0, 2, 1, 0, 3, 0, 0, 1, 3, 1, 0, 0, 2, 1, 1, 1, 3, 2, 0, 1, 0, 4, 2, 2, 0, 0, 2, 0, 0, 1, 0, 0, 0, 1, 3, 0, 0, 0, 1, 0, 0, 0, 3, 2, 0, 0, 0, 0, 2, 0, 0, 3, 0, 2, 1, 3, 0, 1, 1, 2, 2, 1, 0, 0, 4, 0, 0, 0, 0, 0, 2, 1, 3, 0, 2, 3, 3, 0, 3, 0, 0, 0, 2, 1, 0, 3, 0, 0, 1, 3, 1, 0, 0, 2, 1, 1, 1, 3, 2, 0, 1, 0, 4, 2, 2, 0, 0, 2, 0, 0, 1, 0, 0, 0, 1, 3, 0, 0, 0, 1, 0, 0, 0, 3, 2, 0, 0, 0, 0, 2, 0, 0, 3, 0, 2, 1, 3, 0, 1, 1, 2, 2, 1, 0, 0, 4, 0, 0, 0, 0, 0, 2, 1, 3, 0, 2, 3, 3, 0, 3, 0, 0, 0, 2, 1, 0, 3, 0, 0, 1, 3, 1, 0, 0, 2, 1, 1, 1, 3, 2, 0, 1, 0, 4, 2, 2, 0, 0, 2, 0, 0, 1, 0, 0, 0, 1, 3, 0, 0, 0, 1, 0, 0, 0, 3, 2, 0, 0, 0, 0, 2, 0, 0, 3, 0, 2, 1, 3, 0, 1, 1, 2, 2, 1, 0, 0, 4, 0, 0, 0, 0, 0, 2, 1, 3, 0, 2, 3, 3, 0, 3, 0, 0, 0, 2, 1, 0, 3, 0, 0, 1, 3, 1, 0, 0, 2, 1, 1, 1, 3, 2, 0, 1, 0, 4, 2, 2, 0, 0, 2, 0, 0, 1, 0, 0, 0, 1, 3, 0, 0, 0, 1, 0, 0, 0, 3, 2, 0, 0, 0, 0, 2, 0, 0, 3, 0, 2, 1, 3, 0, 1, 1, 2, 2, 1, 0, 0, 4, 0, 0, 0, 0, 0, 2, 1, 3, 0, 2, 3, 3, 0, 3, 0, 0, 0, 2, 1, 0, 3, 0, 0, 1, 3, 1, 0, 0, 2, 1, 1, 1, 3, 2, 0, 1, 0, 4, 2, 2, 0, 0, 2, 0, 0, 1, 0, 0, 0, 1, 3, 0, 0, 0, 1, 0, 0, 0, 3, 2, 0, 0, 0, 0, 2, 0, 0, 3, 0, 2, 1, 3, 0, 1, 1, 2, 2, 1, 0, 0, 4, 0, 0, 0, 0, 0, 2, 1, 3, 0, 2, 3, 3, 0, 3, 0, 0, 0, 2, 1, 0, 3, 0, 0, 1, 3, 1, 0, 0, 2, 1, 1, 1, 3, 2, 0, 1, 0, 4, 2, 2, 0, 0, 2, 0, 0, 1, 0, 0, 0, 1, 3, 0, 0, 0, 1, 0, 0, 0, 3, 2, 0, 0, 0, 0, 2, 0, 0, 3, 0, 2, 1, 3, 0, 1, 1, 2, 2, 1, 0, 0, 4, 0, 0, 0, 0, 0, 2, 1, 3, 0, 2, 3, 3, 0, 3, 0, 0, 0, 2, 1, 0, 3, 0, 0, 1, 3, 1, 0, 0, 2, 1, 1, 1, 3, 2, 0, 1, 0, 4, 2, 2, 0, 0, 2, 0, 0, 1, 0, 0, 0, 1, 3, 0, 0, 0, 1, 0, 0, 0, 3, 2, 0, 0, 0, 0, 2, 0, 0, 3, 0, 2, 1, 3, 0, 1, 1, 2, 2, 1, 0, 0, 4, 0, 0, 0, 0, 0, 2, 1, 3, 0, 2, 3, 3, 0, 3, 0, 0, 0, 2, 1, 0, 3, 0, 0, 1, 3, 1, 0, 0, 2, 1, 1, 1, 3, 2, 0, 1, 0, 4, 2, 2, 0, 0, 2, 0, 0, 1, 0, 0, 0, 1, 3, 0, 0, 0, 1, 0, 0, 0, 3, 2, 0, 0, 0, 0, 2, 0, 0, 3, 0, 2, 1, 3, 0, 1, 1, 2, 2, 1, 0, 0, 4, 0, 0, 0, 0, 0, 2, 1, 3, 0, 2, 3, 3, 0, 3, 0, 0, 0, 2, 1, 0, 3, 0, 0, 1, 3, 1, 0, 0, 2, 1, 1, 1, 3, 2, 0, 1, 0, 4, 2, 2, 0, 0, 2, 0, 0, 1, 0, 0, 0, 1, 3, 0, 0, 0, 1, 0, 0, 0, 3, 2, 0, 0, 0, 0, 2, 0, 0, 3, 0, 2, 1, 3, 0, 1, 1, 2, 2, 1, 0, 0, 4, 0, 0, 0, 0, 0, 2, 1, 3, 0, 2, 3, 3, 0, 3, 0, 0, 0, 2, 1, 0, 3, 0, 0, 1, 3, 1, 0, 0, 2, 1, 1, 1, 3, 2, 0, 1, 0, 4, 2, 2, 0, 0, 2, 0, 0, 1, 0, 0, 0, 1, 3, 0, 0, 0, 1, 0, 0, 0, 3, 2, 0, 0, 0, 0, 2, 0, 0, 3, 0, 2, 1, 3, 0, 1, 1, 2, 2, 1, 0, 0, 4, 0, 0, 0, 0, 0, 2, 1, 3, 0, 2, 3, 3, 0, 3, 0, 0, 0, 2, 1, 0, 3, 0, 0, 1, 3, 1, 0, 0, 2, 1, 1, 1, 3, 2, 0, 1, 0, 4, 2, 2, 0, 0, 2, 0, 0, 1, 0, 0, 0, 1, 3, 0, 0, 0, 1, 0, 0, 0, 3, 2, 0, 0, 0, 0, 2, 0, 0, 3, 0, 2, 1, 3, 0, 1, 1, 2, 2, 1, 0, 0, 4, 0, 0, 0, 0, 0, 2, 1, 3, 0, 2, 3, 3, 0, 3, 0, 0, 0, 2, 1, 0, 3, 0, 0, 1, 3, 1, 0, 0, 2, 1, 1, 1, 3, 2, 0, 1, 0, 4, 2, 2, 0, 0, 2, 0, 0, 1, 0, 0, 0, 1, 3, 0, 0, 0, 1, 0, 0, 0, 3, 2, 0, 0, 0, 0, 2, 0, 0, 3, 0, 2, 1, 3, 0, 1, 1, 2, 2, 1, 0, 0, 4, 0, 0, 0, 0, 0, 2, 1, 3, 0, 2, 3, 3, 0, 3, 0, 0, 0, 2, 1, 0, 3, 0, 0, 1, 3, 1, 0, 0, 2, 1, 1, 1, 3, 2, 0, 1, 0, 4, 2, 2, 0, 0, 2, 0, 0, 1, 0, 0, 0, 1, 3, 0, 0, 0, 1, 0, 0, 0, 3, 2, 0, 0, 0, 0, 2, 0, 0, 3, 0, 2, 1, 3, 0, 1, 1, 2, 2, 1, 0, 0, 4, 0, 0, 0, 0, 0, 2, 1, 3, 0, 2, 3, 3, 0, 3, 0, 0, 0, 2, 1, 0, 3, 0, 0, 1, 3, 1, 0, 0, 2, 1, 1, 1, 3, 2, 0, 1, 0, 4, 2, 2, 0, 0, 2, 0, 0, 1, 0, 0, 0, 1, 3, 0, 0, 0, 1, 0, 0, 0, 3, 2, 0, 0, 0, 0, 2, 0, 0, 3, 0, 2, 1, 3, 0, 1, 1, 2, 2, 1, 0, 0, 4, 0, 0, 0, 0, 0, 2, 1, 3, 0, 2, 3, 3, 0, 3, 0, 0, 0, 2, 1, 0, 3, 0, 0, 1, 3, 1, 0, 0, 2, 1, 1, 1, 3, 2, 0, 1, 0, 4, 2, 2, 0, 0, 2, 0, 0, 1, 0, 0, 0, 1, 3, 0, 0, 0, 1, 0, 0, 0, 3, 2, 0, 0, 0, 0, 2, 0, 0, 3, 0, 2, 1, 3, 0, 1, 1, 2, 2, 1, 0, 0, 4, 0, 0, 0, 0, 0, 2, 1, 3, 0, 2, 3, 3, 0, 3, 0, 0, 0, 2, 1, 0, 3, 0, 0, 1, 3, 1, 0, 0, 2, 1, 1, 1, 3, 2, 0, 1, 0, 4, 2, 2, 0, 0, 2, 0, 0, 1, 0, 0, 0, 1, 3, 0, 0, 0, 1, 0, 0, 0, 3, 2, 0, 0, 0, 0, 2, 0, 0, 3, 0, 2, 1, 3, 0, 1, 1, 2, 2, 1, 0, 0, 4, 0, 0, 0, 0, 0, 2, 1, 3, 0, 2, 3, 3, 0, 3, 0, 0, 0, 2, 1, 0, 3, 0, 0, 1, 3, 1, 0, 0, 2, 1, 1, 1, 3, 2, 0, 1, 0, 4, 2, 2, 0, 0, 2, 0, 0, 1, 0, 0, 0, 1, 3, 0, 0, 0, 1, 0, 0, 0, 3, 2, 0, 0, 0, 0, 2, 0, 0, 3, 0, 2, 1, 3, 0, 1, 1, 2, 2, 1, 0, 0, 4, 0, 0, 0, 0, 0, 2, 1, 3, 0, 2, 3, 3, 0, 3, 0, 0, 0, 2, 1, 0, 3, 0, 0, 1, 3, 1, 0, 0, 2, 1, 1, 1, 3, 2, 0, 1, 0, 4, 2, 2, 0, 0, 2, 0, 0, 1, 0, 0, 0, 1, 3, 0, 0, 0, 1, 0, 0, 0, 3, 2, 0, 0, 0, 0, 2, 0, 0, 3, 0, 2, 1, 3, 0, 1, 1, 2, 2, 1, 0, 0, 4, 0, 0, 0, 0, 0, 2, 1, 3, 0, 2, 3, 3, 0, 3, 0, 0, 0, 2, 1, 0, 3, 0, 0, 1, 3, 1, 0, 0, 2, 1, 1, 1, 3, 2, 0, 1, 0, 4, 2, 2, 0, 0, 2, 0, 0, 1, 0, 0, 0, 1, 3, 0, 0, 0, 1, 0, 0, 0, 3, 2, 0, 0, 0, 0, 2, 0, 0, 3, 0, 2, 1, 3, 0, 1, 1, 2, 2, 1, 0, 0, 4, 0, 0, 0, 0, 0, 2, 1, 3, 0, 2, 3, 3, 0, 3, 0, 0, 0, 2, 1, 0, 3, 0, 0, 1, 3, 1, 0, 0, 2, 1, 1, 1, 3, 2, 0, 1, 0, 4, 2, 2, 0, 0, 2, 0, 0, 1, 0, 0, 0, 1, 3, 0, 0, 0, 1, 0, 0, 0, 3, 2, 0, 0, 0, 0, 2, 0, 0, 3, 0, 2, 1, 3, 0, 1, 1, 2, 2, 1, 0, 0, 4, 0, 0, 0, 0, 0, 2, 1, 3, 0, 2, 3, 3, 0, 3, 0, 0, 0, 2, 1, 0, 3, 0, 0, 1, 3, 1, 0, 0, 2, 1, 1, 1, 3, 2, 0, 1, 0, 4, 2, 2, 0, 0, 2, 0, 0, 1, 0, 0, 0, 1, 3, 0, 0, 0, 1, 0, 0, 0, 3, 2, 0, 0, 0, 0, 2, 0, 0, 3, 0, 2, 1, 3, 0, 1, 1, 2, 2, 1, 0, 0, 4, 0, 0, 0, 0, 0, 2, 1, 3, 0, 2, 3, 3, 0, 3, 0, 0, 0, 2, 1, 0, 3, 0, 0, 1, 3, 1, 0, 0, 2, 1, 1, 1, 3, 2, 0, 1, 0, 4, 2, 2, 0, 0, 2, 0, 0, 1, 0, 0, 0, 1, 3, 0, 0, 0, 1, 0, 0, 0, 3, 2, 0, 0, 0, 0, 2, 0, 0, 3, 0, 2, 1, 3, 0, 1, 1, 2, 2, 1, 0, 0, 4, 0, 0, 0, 0, 0, 2, 1, 3, 0, 2, 3, 3, 0, 3, 0, 0, 0, 2, 1, 0, 3, 0, 0, 1, 3, 1, 0, 0, 2, 1, 1, 1, 3, 2, 0, 1, 0, 4], \"line\": {\"color\": \"#ece8e8\", \"width\": 0.5}, \"size\": [40.909090909090914, 43.18181818181819, 9.090909090909092, 4.545454545454545, 36.36363636363637, 4.545454545454545, 9.090909090909092, 0.0, 11.363636363636362, 4.545454545454545, 13.636363636363635, 0.0, 0.0, 6.8181818181818175, 0.0, 0.0, 27.272727272727277, 0.0, 61.36363636363637, 27.272727272727277, 100.0, 2.272727272727273, 0.0, 4.545454545454545, 0.0, 0.0, 4.545454545454545, 2.272727272727273, 11.363636363636362, 2.272727272727273, 11.363636363636362, 11.363636363636362, 24.999999999999996, 4.545454545454545, 2.272727272727273, 24.999999999999996, 24.999999999999996, 2.272727272727273, 4.545454545454545, 24.999999999999996, 2.272727272727273, 0.0, 0.0, 13.636363636363635, 2.272727272727273, 6.8181818181818175, 4.545454545454545, 4.545454545454545, 22.727272727272727, 6.8181818181818175, 0.0, 0.0, 22.727272727272727, 0.0, 2.272727272727273, 79.54545454545455, 4.545454545454545, 4.545454545454545, 47.72727272727273, 4.545454545454545, 34.09090909090909, 24.999999999999996, 6.8181818181818175, 2.272727272727273, 45.45454545454546, 0.0, 24.999999999999996, 0.0, 45.45454545454546, 9.090909090909092, 9.090909090909092, 0.0, 27.272727272727277, 15.909090909090908, 2.272727272727273, 0.0, 0.0, 13.636363636363635, 24.999999999999996, 18.181818181818183, 0.0]}, \"mode\": \"markers\", \"text\": [\"compassion\", \"mentalhealth\", \"bekind\", \"humanity\", \"happiness\", \"stayhome\", \"reachout\", \"bettertogether\", \"support\", \"staysafe\", \"wellness\", \"spirituality\", \"strength\", \"hope\", \"perspective\", \"virus\", \"mindset\", \"create\", \"socialdistancing\", \"quarantine\", \"love\", \"empathy\", \"personaltrainer\", \"lockdown\", \"physicaldistance\", \"workingfromhome\", \"actsofkindness\", \"quarantinelife\", \"grateful\", \"positivevibes\", \"connect\", \"leadership\", \"humanpotential\", \"healing\", \"social\", \"higherpurpose\", \"consciouscapitalism\", \"stressmanagement\", \"relationship\", \"consciousbusiness\", \"washyourhands\", \"immunity\", \"professionaldevelopment\", \"health\", \"pandemic\", \"friendship\", \"staythefuckhome\", \"corona\", \"inspiration\", \"meditation\", \"peace\", \"besafe\", \"kindness\", \"loveyourself\", \"unity\", \"covid19\", \"family\", \"selfisolation\", \"connection\", \"socialconnection\", \"gratitude\", \"greatwomenleaders\", \"together\", \"positivity\", \"coronavirus\", \"covd19\", \"purposedrivenbusiness\", \"nature\", \"mindfulness\", \"flattenthecurve\", \"selfcare\", \"anxiety\", \"authenticity\", \"selflove\", \"yoga\", \"faith\", \"interdependncia\", \"isolation\", \"powerful\", \"community\", \"personaldevelopment\"], \"textposition\": \"bottom center\", \"type\": \"scatter\", \"x\": [0.3455860921936984, 0.11016575605877602, -0.2892684372156338, 0.26546216653525684, 0.2892316921553843, -0.6916730567979607, 0.1797321410368675, 0.9338772018253828, 0.028671847889608058, -0.19288743746830359, -0.1445613452142485, 0.7692618358499506, 0.6366761443052944, 0.22914481294055586, -0.10659690513775608, 0.42181900325014254, 0.2665607881338202, 0.24531530748599703, -0.23567920674210455, -0.004762764740717416, 0.11541973297070345, 0.725878196654557, 0.11085799295388234, -0.015456291130570357, -0.29730801594806094, 0.476418546252964, 0.24825279855494556, -0.5121741430949502, -0.3333316635460027, -0.10024018529683958, -0.19035530087513267, 0.014723219068822279, 0.5515481576936492, -0.19794348947731769, -0.3592400312522192, 0.3838157817750737, 0.5028339812484264, -0.4047900951610015, -0.620931538614446, 0.4318521812552965, -0.6953534605468638, -0.49189390341491623, -0.1963402500119412, -0.36482090931303934, -0.6489179757813794, -0.3612541971196493, -0.5870065943209695, -0.7072987167828125, 0.1351314306774506, 0.5975013312563732, -0.1657672958705738, -0.8141036198228513, -0.012047858220622801, 0.027778077840414615, -0.4124275868642897, -0.22912735232692857, -0.2925581991378536, -0.3911271321957173, -0.10097929361113614, -0.5498714292610081, -0.09362941864909598, 0.6290120909970636, -0.5274432885344671, -0.05969594242830725, -0.13702344846983283, -0.8184577461104179, 0.5807241683507863, 0.14109557713993912, 0.3195313911654045, -0.5758968296931457, 0.07036544299160555, 0.6364914127707022, 0.48507726352568553, 0.39965091730429475, 0.9105720569030873, 0.6823149614898538, -1.0, 0.1105766569509571, 0.6299540558288864, 0.09352037973994606, 0.19783976317957855], \"y\": [-0.2506740674215007, -0.003233609876338488, -0.17833222659589787, 0.11511316391266556, -0.38862113390255304, 0.006143562593996747, 0.2767419094255269, -0.07474316404009786, 0.06825381499332386, 0.6808559339423768, 0.4643110051266712, 0.7093155420719485, -0.06192863350479695, 0.1894883472262376, 0.793218568697612, 0.5535004420554839, -0.5420407078386288, 0.6705042785290103, 0.09696823925398873, 0.21016259525776215, -0.21690996264590942, 0.09005833924457493, 0.8416908865464873, 0.6693358453638216, 0.7770261330114536, 0.7772259038295884, -0.7094891097792136, 0.5279114595048212, -0.012684536489999069, -0.46487625861225423, -0.08457543621539751, -0.5544443642049247, -0.23981830129662174, -0.5593650114387015, 0.6679030006308194, -0.6236523001417581, -0.594702808507188, -0.6324012080012414, -0.42585874467997253, -0.5128045224896088, 0.2824221850916814, 0.6875421976569124, -0.042028302662227617, 0.39149959542752877, 0.4729061598992384, -0.13150119562845486, 0.6122795569856104, 0.14388729813877643, -0.3903134575357185, 0.07153110121700443, -0.7460209293463961, -0.13995571584364622, -0.15888910657255112, -0.7842122928210482, -0.26460271208769764, 0.22291283856355693, -0.45084155397997905, -0.4023905035836392, 0.012466463271866533, -0.1228099526109709, -0.21052603249987867, -0.4128442794561126, 0.22543680209160435, -0.7076181826831953, 0.2331159758732535, 0.20188714087348514, -0.5061029488591657, -0.7796271789726851, -0.10717551763546776, 0.3677070715846346, 0.49460034709621575, 0.4083442949047109, -0.3810037570628175, 0.3020403870395779, 0.365109930519383, -0.170017609452674, -0.7322490795682237, 0.14114263222055068, -0.31109339780408973, 0.29478968137512285, -0.03437081669964165]}],\n",
       "                        {\"autosize\": false, \"font\": {\"family\": \"Arial\", \"size\": 20}, \"height\": 1100, \"hovermode\": \"closest\", \"margin\": {\"b\": 85, \"l\": 40, \"pad\": 0, \"r\": 40, \"t\": 100}, \"plot_bgcolor\": \"#ffffff\", \"showlegend\": false, \"template\": {\"data\": {\"bar\": [{\"error_x\": {\"color\": \"#2a3f5f\"}, \"error_y\": {\"color\": \"#2a3f5f\"}, \"marker\": {\"line\": {\"color\": \"#E5ECF6\", \"width\": 0.5}}, \"type\": \"bar\"}], \"barpolar\": [{\"marker\": {\"line\": {\"color\": \"#E5ECF6\", \"width\": 0.5}}, \"type\": \"barpolar\"}], \"carpet\": [{\"aaxis\": {\"endlinecolor\": \"#2a3f5f\", \"gridcolor\": \"white\", \"linecolor\": \"white\", \"minorgridcolor\": \"white\", \"startlinecolor\": \"#2a3f5f\"}, \"baxis\": {\"endlinecolor\": \"#2a3f5f\", \"gridcolor\": \"white\", \"linecolor\": \"white\", \"minorgridcolor\": \"white\", \"startlinecolor\": \"#2a3f5f\"}, \"type\": \"carpet\"}], \"choropleth\": [{\"colorbar\": {\"outlinewidth\": 0, \"ticks\": \"\"}, \"type\": \"choropleth\"}], \"contour\": [{\"colorbar\": {\"outlinewidth\": 0, \"ticks\": \"\"}, \"colorscale\": [[0.0, \"#0d0887\"], [0.1111111111111111, \"#46039f\"], [0.2222222222222222, \"#7201a8\"], [0.3333333333333333, \"#9c179e\"], [0.4444444444444444, \"#bd3786\"], [0.5555555555555556, \"#d8576b\"], [0.6666666666666666, \"#ed7953\"], [0.7777777777777778, \"#fb9f3a\"], [0.8888888888888888, \"#fdca26\"], [1.0, \"#f0f921\"]], \"type\": \"contour\"}], \"contourcarpet\": [{\"colorbar\": {\"outlinewidth\": 0, \"ticks\": \"\"}, \"type\": \"contourcarpet\"}], \"heatmap\": [{\"colorbar\": {\"outlinewidth\": 0, \"ticks\": \"\"}, \"colorscale\": [[0.0, \"#0d0887\"], [0.1111111111111111, \"#46039f\"], [0.2222222222222222, \"#7201a8\"], [0.3333333333333333, \"#9c179e\"], [0.4444444444444444, \"#bd3786\"], [0.5555555555555556, \"#d8576b\"], [0.6666666666666666, \"#ed7953\"], [0.7777777777777778, \"#fb9f3a\"], [0.8888888888888888, \"#fdca26\"], [1.0, \"#f0f921\"]], \"type\": \"heatmap\"}], \"heatmapgl\": [{\"colorbar\": {\"outlinewidth\": 0, \"ticks\": \"\"}, \"colorscale\": [[0.0, \"#0d0887\"], [0.1111111111111111, \"#46039f\"], [0.2222222222222222, \"#7201a8\"], [0.3333333333333333, \"#9c179e\"], [0.4444444444444444, \"#bd3786\"], [0.5555555555555556, \"#d8576b\"], [0.6666666666666666, \"#ed7953\"], [0.7777777777777778, \"#fb9f3a\"], [0.8888888888888888, \"#fdca26\"], [1.0, \"#f0f921\"]], \"type\": \"heatmapgl\"}], \"histogram\": [{\"marker\": {\"colorbar\": {\"outlinewidth\": 0, \"ticks\": \"\"}}, \"type\": \"histogram\"}], \"histogram2d\": [{\"colorbar\": {\"outlinewidth\": 0, \"ticks\": \"\"}, \"colorscale\": [[0.0, \"#0d0887\"], [0.1111111111111111, \"#46039f\"], [0.2222222222222222, \"#7201a8\"], [0.3333333333333333, \"#9c179e\"], [0.4444444444444444, \"#bd3786\"], [0.5555555555555556, \"#d8576b\"], [0.6666666666666666, \"#ed7953\"], [0.7777777777777778, \"#fb9f3a\"], [0.8888888888888888, \"#fdca26\"], [1.0, \"#f0f921\"]], \"type\": \"histogram2d\"}], \"histogram2dcontour\": [{\"colorbar\": {\"outlinewidth\": 0, \"ticks\": \"\"}, \"colorscale\": [[0.0, \"#0d0887\"], [0.1111111111111111, \"#46039f\"], [0.2222222222222222, \"#7201a8\"], [0.3333333333333333, \"#9c179e\"], [0.4444444444444444, \"#bd3786\"], [0.5555555555555556, \"#d8576b\"], [0.6666666666666666, \"#ed7953\"], [0.7777777777777778, \"#fb9f3a\"], [0.8888888888888888, \"#fdca26\"], [1.0, \"#f0f921\"]], \"type\": \"histogram2dcontour\"}], \"mesh3d\": [{\"colorbar\": {\"outlinewidth\": 0, \"ticks\": \"\"}, \"type\": \"mesh3d\"}], \"parcoords\": [{\"line\": {\"colorbar\": {\"outlinewidth\": 0, \"ticks\": \"\"}}, \"type\": \"parcoords\"}], \"pie\": [{\"automargin\": true, \"type\": \"pie\"}], \"scatter\": [{\"marker\": {\"colorbar\": {\"outlinewidth\": 0, \"ticks\": \"\"}}, \"type\": \"scatter\"}], \"scatter3d\": [{\"line\": {\"colorbar\": {\"outlinewidth\": 0, \"ticks\": \"\"}}, \"marker\": {\"colorbar\": {\"outlinewidth\": 0, \"ticks\": \"\"}}, \"type\": \"scatter3d\"}], \"scattercarpet\": [{\"marker\": {\"colorbar\": {\"outlinewidth\": 0, \"ticks\": \"\"}}, \"type\": \"scattercarpet\"}], \"scattergeo\": [{\"marker\": {\"colorbar\": {\"outlinewidth\": 0, \"ticks\": \"\"}}, \"type\": \"scattergeo\"}], \"scattergl\": [{\"marker\": {\"colorbar\": {\"outlinewidth\": 0, \"ticks\": \"\"}}, \"type\": \"scattergl\"}], \"scattermapbox\": [{\"marker\": {\"colorbar\": {\"outlinewidth\": 0, \"ticks\": \"\"}}, \"type\": \"scattermapbox\"}], \"scatterpolar\": [{\"marker\": {\"colorbar\": {\"outlinewidth\": 0, \"ticks\": \"\"}}, \"type\": \"scatterpolar\"}], \"scatterpolargl\": [{\"marker\": {\"colorbar\": {\"outlinewidth\": 0, \"ticks\": \"\"}}, \"type\": \"scatterpolargl\"}], \"scatterternary\": [{\"marker\": {\"colorbar\": {\"outlinewidth\": 0, \"ticks\": \"\"}}, \"type\": \"scatterternary\"}], \"surface\": [{\"colorbar\": {\"outlinewidth\": 0, \"ticks\": \"\"}, \"colorscale\": [[0.0, \"#0d0887\"], [0.1111111111111111, \"#46039f\"], [0.2222222222222222, \"#7201a8\"], [0.3333333333333333, \"#9c179e\"], [0.4444444444444444, \"#bd3786\"], [0.5555555555555556, \"#d8576b\"], [0.6666666666666666, \"#ed7953\"], [0.7777777777777778, \"#fb9f3a\"], [0.8888888888888888, \"#fdca26\"], [1.0, \"#f0f921\"]], \"type\": \"surface\"}], \"table\": [{\"cells\": {\"fill\": {\"color\": \"#EBF0F8\"}, \"line\": {\"color\": \"white\"}}, \"header\": {\"fill\": {\"color\": \"#C8D4E3\"}, \"line\": {\"color\": \"white\"}}, \"type\": \"table\"}]}, \"layout\": {\"annotationdefaults\": {\"arrowcolor\": \"#2a3f5f\", \"arrowhead\": 0, \"arrowwidth\": 1}, \"coloraxis\": {\"colorbar\": {\"outlinewidth\": 0, \"ticks\": \"\"}}, \"colorscale\": {\"diverging\": [[0, \"#8e0152\"], [0.1, \"#c51b7d\"], [0.2, \"#de77ae\"], [0.3, \"#f1b6da\"], [0.4, \"#fde0ef\"], [0.5, \"#f7f7f7\"], [0.6, \"#e6f5d0\"], [0.7, \"#b8e186\"], [0.8, \"#7fbc41\"], [0.9, \"#4d9221\"], [1, \"#276419\"]], \"sequential\": [[0.0, \"#0d0887\"], [0.1111111111111111, \"#46039f\"], [0.2222222222222222, \"#7201a8\"], [0.3333333333333333, \"#9c179e\"], [0.4444444444444444, \"#bd3786\"], [0.5555555555555556, \"#d8576b\"], [0.6666666666666666, \"#ed7953\"], [0.7777777777777778, \"#fb9f3a\"], [0.8888888888888888, \"#fdca26\"], [1.0, \"#f0f921\"]], \"sequentialminus\": [[0.0, \"#0d0887\"], [0.1111111111111111, \"#46039f\"], [0.2222222222222222, \"#7201a8\"], [0.3333333333333333, \"#9c179e\"], [0.4444444444444444, \"#bd3786\"], [0.5555555555555556, \"#d8576b\"], [0.6666666666666666, \"#ed7953\"], [0.7777777777777778, \"#fb9f3a\"], [0.8888888888888888, \"#fdca26\"], [1.0, \"#f0f921\"]]}, \"colorway\": [\"#636efa\", \"#EF553B\", \"#00cc96\", \"#ab63fa\", \"#FFA15A\", \"#19d3f3\", \"#FF6692\", \"#B6E880\", \"#FF97FF\", \"#FECB52\"], \"font\": {\"color\": \"#2a3f5f\"}, \"geo\": {\"bgcolor\": \"white\", \"lakecolor\": \"white\", \"landcolor\": \"#E5ECF6\", \"showlakes\": true, \"showland\": true, \"subunitcolor\": \"white\"}, \"hoverlabel\": {\"align\": \"left\"}, \"hovermode\": \"closest\", \"mapbox\": {\"style\": \"light\"}, \"paper_bgcolor\": \"white\", \"plot_bgcolor\": \"#E5ECF6\", \"polar\": {\"angularaxis\": {\"gridcolor\": \"white\", \"linecolor\": \"white\", \"ticks\": \"\"}, \"bgcolor\": \"#E5ECF6\", \"radialaxis\": {\"gridcolor\": \"white\", \"linecolor\": \"white\", \"ticks\": \"\"}}, \"scene\": {\"xaxis\": {\"backgroundcolor\": \"#E5ECF6\", \"gridcolor\": \"white\", \"gridwidth\": 2, \"linecolor\": \"white\", \"showbackground\": true, \"ticks\": \"\", \"zerolinecolor\": \"white\"}, \"yaxis\": {\"backgroundcolor\": \"#E5ECF6\", \"gridcolor\": \"white\", \"gridwidth\": 2, \"linecolor\": \"white\", \"showbackground\": true, \"ticks\": \"\", \"zerolinecolor\": \"white\"}, \"zaxis\": {\"backgroundcolor\": \"#E5ECF6\", \"gridcolor\": \"white\", \"gridwidth\": 2, \"linecolor\": \"white\", \"showbackground\": true, \"ticks\": \"\", \"zerolinecolor\": \"white\"}}, \"shapedefaults\": {\"line\": {\"color\": \"#2a3f5f\"}}, \"ternary\": {\"aaxis\": {\"gridcolor\": \"white\", \"linecolor\": \"white\", \"ticks\": \"\"}, \"baxis\": {\"gridcolor\": \"white\", \"linecolor\": \"white\", \"ticks\": \"\"}, \"bgcolor\": \"#E5ECF6\", \"caxis\": {\"gridcolor\": \"white\", \"linecolor\": \"white\", \"ticks\": \"\"}}, \"title\": {\"x\": 0.05}, \"xaxis\": {\"automargin\": true, \"gridcolor\": \"white\", \"linecolor\": \"white\", \"ticks\": \"\", \"title\": {\"standoff\": 15}, \"zerolinecolor\": \"white\", \"zerolinewidth\": 2}, \"yaxis\": {\"automargin\": true, \"gridcolor\": \"white\", \"linecolor\": \"white\", \"ticks\": \"\", \"title\": {\"standoff\": 15}, \"zerolinecolor\": \"white\", \"zerolinewidth\": 2}}}, \"title\": {\"text\": \"#humanconnection is..\"}, \"width\": 1100, \"xaxis\": {\"showgrid\": false, \"showline\": false, \"showticklabels\": false, \"title\": {\"text\": \"\"}, \"zeroline\": false}, \"yaxis\": {\"showgrid\": false, \"showline\": false, \"showticklabels\": false, \"title\": {\"text\": \"\"}, \"zeroline\": false}},\n",
       "                        {\"responsive\": true}\n",
       "                    ).then(function(){\n",
       "                            \n",
       "var gd = document.getElementById('3476c80f-4b71-4a1a-a053-962a142da2b4');\n",
       "var x = new MutationObserver(function (mutations, observer) {{\n",
       "        var display = window.getComputedStyle(gd).display;\n",
       "        if (!display || display === 'none') {{\n",
       "            console.log([gd, 'removed!']);\n",
       "            Plotly.purge(gd);\n",
       "            observer.disconnect();\n",
       "        }}\n",
       "}});\n",
       "\n",
       "// Listen for the removal of the full notebook cells\n",
       "var notebookContainer = gd.closest('#notebook-container');\n",
       "if (notebookContainer) {{\n",
       "    x.observe(notebookContainer, {childList: true});\n",
       "}}\n",
       "\n",
       "// Listen for the clearing of the current output cell\n",
       "var outputEl = gd.closest('.output');\n",
       "if (outputEl) {{\n",
       "    x.observe(outputEl, {childList: true});\n",
       "}}\n",
       "\n",
       "                        })\n",
       "                };\n",
       "                });\n",
       "            </script>\n",
       "        </div>"
      ]
     },
     "metadata": {},
     "output_type": "display_data"
    }
   ],
   "source": [
    "hc.plotGraph(sizing=100,community_plot=True)"
   ]
  },
  {
   "cell_type": "code",
   "execution_count": 95,
   "metadata": {},
   "outputs": [
    {
     "data": {
      "application/vnd.plotly.v1+json": {
       "config": {
        "linkText": "Export to plot.ly",
        "plotlyServerURL": "https://plot.ly",
        "showLink": false
       },
       "data": [
        {
         "branchvalues": "total",
         "customdata": [
          [
           "0"
          ],
          [
           "0"
          ],
          [
           "0"
          ],
          [
           "0"
          ],
          [
           "0"
          ],
          [
           "0"
          ],
          [
           "0"
          ],
          [
           "0"
          ],
          [
           "0"
          ],
          [
           "0"
          ],
          [
           "0"
          ],
          [
           "0"
          ],
          [
           "0"
          ],
          [
           "0"
          ],
          [
           "0"
          ],
          [
           "0"
          ],
          [
           "0"
          ],
          [
           "0"
          ],
          [
           "0"
          ],
          [
           "0"
          ],
          [
           "0"
          ],
          [
           "0"
          ],
          [
           "0"
          ],
          [
           "0"
          ],
          [
           "0"
          ],
          [
           "0"
          ],
          [
           "0"
          ],
          [
           "0"
          ],
          [
           "0"
          ],
          [
           "0"
          ],
          [
           "0"
          ],
          [
           "0"
          ],
          [
           "0"
          ],
          [
           "0"
          ],
          [
           "0"
          ],
          [
           "0"
          ],
          [
           "0"
          ],
          [
           "0"
          ],
          [
           "0"
          ],
          [
           "0"
          ],
          [
           "0"
          ],
          [
           "1"
          ],
          [
           "1"
          ],
          [
           "1"
          ],
          [
           "1"
          ],
          [
           "1"
          ],
          [
           "1"
          ],
          [
           "1"
          ],
          [
           "1"
          ],
          [
           "1"
          ],
          [
           "1"
          ],
          [
           "1"
          ],
          [
           "1"
          ],
          [
           "1"
          ],
          [
           "1"
          ],
          [
           "1"
          ],
          [
           "1"
          ],
          [
           "2"
          ],
          [
           "2"
          ],
          [
           "2"
          ],
          [
           "2"
          ],
          [
           "2"
          ],
          [
           "2"
          ],
          [
           "2"
          ],
          [
           "2"
          ],
          [
           "2"
          ],
          [
           "2"
          ],
          [
           "2"
          ],
          [
           "2"
          ],
          [
           "2"
          ],
          [
           "2"
          ],
          [
           "3"
          ],
          [
           "3"
          ],
          [
           "3"
          ],
          [
           "3"
          ],
          [
           "3"
          ],
          [
           "3"
          ],
          [
           "3"
          ],
          [
           "3"
          ],
          [
           "3"
          ],
          [
           "3"
          ],
          [
           "3"
          ],
          [
           "3"
          ],
          [
           "4"
          ],
          [
           "4"
          ],
          [
           "4"
          ]
         ],
         "domain": {
          "x": [
           0,
           1
          ],
          "y": [
           0,
           1
          ]
         },
         "hoverlabel": {
          "namelength": 0
         },
         "hovertemplate": "community=%{customdata[0]}<br>labels=%{label}<br>adjacency_frequency=%{value}<br>parent=%{parent}<br>id=%{id}",
         "ids": [
          "0/hope",
          "0/health",
          "0/quarantinelife",
          "0/humanity",
          "0/immunity",
          "0/together",
          "0/support",
          "0/isolation",
          "0/staythefuckhome",
          "0/lockdown",
          "0/staysafe",
          "0/stayhome",
          "0/socialdistancing",
          "0/pandemic",
          "0/socialconnection",
          "0/social",
          "0/personaltrainer",
          "0/perspective",
          "0/physicaldistance",
          "0/selfisolation",
          "0/selfcare",
          "0/quarantine",
          "0/virus",
          "0/washyourhands",
          "0/reachout",
          "0/wellness",
          "0/community",
          "0/besafe",
          "0/corona",
          "0/coronavirus",
          "0/covd19",
          "0/bekind",
          "0/connect",
          "0/create",
          "0/covid19",
          "0/workingfromhome",
          "0/flattenthecurve",
          "0/friendship",
          "0/grateful",
          "0",
          "0/connection",
          "1/powerful",
          "1/authenticity",
          "1/purposedrivenbusiness",
          "1/selflove",
          "1/bettertogether",
          "1",
          "1/spirituality",
          "1/mindset",
          "1/mindfulness",
          "1/greatwomenleaders",
          "1/meditation",
          "1/consciouscapitalism",
          "1/yoga",
          "1/humanpotential",
          "1/higherpurpose",
          "1/consciousbusiness",
          "2/stressmanagement",
          "2",
          "2/actsofkindness",
          "2/mentalhealth",
          "2/interdependncia",
          "2/gratitude",
          "2/happiness",
          "2/inspiration",
          "2/relationship",
          "2/kindness",
          "2/empathy",
          "2/leadership",
          "2/compassion",
          "2/anxiety",
          "3/loveyourself",
          "3",
          "3/nature",
          "3/peace",
          "3/unity",
          "3/healing",
          "3/positivevibes",
          "3/positivity",
          "3/family",
          "3/faith",
          "3/love",
          "3/strength",
          "4/professionaldevelopment",
          "4/personaldevelopment",
          "4"
         ],
         "labels": [
          "hope",
          "health",
          "quarantinelife",
          "humanity",
          "immunity",
          "together",
          "support",
          "isolation",
          "staythefuckhome",
          "lockdown",
          "staysafe",
          "stayhome",
          "socialdistancing",
          "pandemic",
          "socialconnection",
          "social",
          "personaltrainer",
          "perspective",
          "physicaldistance",
          "selfisolation",
          "selfcare",
          "quarantine",
          "virus",
          "washyourhands",
          "reachout",
          "wellness",
          "community",
          "besafe",
          "corona",
          "coronavirus",
          "covd19",
          "bekind",
          "connect",
          "create",
          "covid19",
          "workingfromhome",
          "flattenthecurve",
          "friendship",
          "grateful",
          "0",
          "connection",
          "powerful",
          "authenticity",
          "purposedrivenbusiness",
          "selflove",
          "bettertogether",
          "1",
          "spirituality",
          "mindset",
          "mindfulness",
          "greatwomenleaders",
          "meditation",
          "consciouscapitalism",
          "yoga",
          "humanpotential",
          "higherpurpose",
          "consciousbusiness",
          "stressmanagement",
          "2",
          "actsofkindness",
          "mentalhealth",
          "interdependncia",
          "gratitude",
          "happiness",
          "inspiration",
          "relationship",
          "kindness",
          "empathy",
          "leadership",
          "compassion",
          "anxiety",
          "loveyourself",
          "3",
          "nature",
          "peace",
          "unity",
          "healing",
          "positivevibes",
          "positivity",
          "family",
          "faith",
          "love",
          "strength",
          "professionaldevelopment",
          "personaldevelopment",
          "4"
         ],
         "marker": {
          "colors": [
           "#636efa",
           "#636efa",
           "#636efa",
           "#636efa",
           "#636efa",
           "#636efa",
           "#636efa",
           "#636efa",
           "#636efa",
           "#636efa",
           "#636efa",
           "#636efa",
           "#636efa",
           "#636efa",
           "#636efa",
           "#636efa",
           "#636efa",
           "#636efa",
           "#636efa",
           "#636efa",
           "#636efa",
           "#636efa",
           "#636efa",
           "#636efa",
           "#636efa",
           "#636efa",
           "#636efa",
           "#636efa",
           "#636efa",
           "#636efa",
           "#636efa",
           "#636efa",
           "#636efa",
           "#636efa",
           "#636efa",
           "#636efa",
           "#636efa",
           "#636efa",
           "#636efa",
           "#636efa",
           "#636efa",
           "#EF553B",
           "#EF553B",
           "#EF553B",
           "#EF553B",
           "#EF553B",
           "#EF553B",
           "#EF553B",
           "#EF553B",
           "#EF553B",
           "#EF553B",
           "#EF553B",
           "#EF553B",
           "#EF553B",
           "#EF553B",
           "#EF553B",
           "#EF553B",
           "#00cc96",
           "#00cc96",
           "#00cc96",
           "#00cc96",
           "#00cc96",
           "#00cc96",
           "#00cc96",
           "#00cc96",
           "#00cc96",
           "#00cc96",
           "#00cc96",
           "#00cc96",
           "#00cc96",
           "#00cc96",
           "#ab63fa",
           "#ab63fa",
           "#ab63fa",
           "#ab63fa",
           "#ab63fa",
           "#ab63fa",
           "#ab63fa",
           "#ab63fa",
           "#ab63fa",
           "#ab63fa",
           "#ab63fa",
           "#ab63fa",
           "#FFA15A",
           "#FFA15A",
           "#FFA15A"
          ]
         },
         "name": "",
         "parents": [
          "0",
          "0",
          "0",
          "0",
          "0",
          "0",
          "0",
          "0",
          "0",
          "0",
          "0",
          "0",
          "0",
          "0",
          "0",
          "0",
          "0",
          "0",
          "0",
          "0",
          "0",
          "0",
          "0",
          "0",
          "0",
          "0",
          "0",
          "0",
          "0",
          "0",
          "0",
          "0",
          "0",
          "0",
          "0",
          "0",
          "0",
          "0",
          "0",
          "",
          "0",
          "1",
          "1",
          "1",
          "1",
          "1",
          "",
          "1",
          "1",
          "1",
          "1",
          "1",
          "1",
          "1",
          "1",
          "1",
          "1",
          "2",
          "",
          "2",
          "2",
          "2",
          "2",
          "2",
          "2",
          "2",
          "2",
          "2",
          "2",
          "2",
          "2",
          "3",
          "",
          "3",
          "3",
          "3",
          "3",
          "3",
          "3",
          "3",
          "3",
          "3",
          "3",
          "4",
          "4",
          ""
         ],
         "type": "sunburst",
         "values": [
          4,
          7,
          2,
          3,
          1,
          4,
          6,
          7,
          3,
          3,
          3,
          3,
          28,
          2,
          3,
          2,
          1,
          1,
          1,
          3,
          5,
          13,
          1,
          2,
          5,
          7,
          9,
          1,
          3,
          21,
          1,
          5,
          6,
          1,
          36,
          1,
          5,
          4,
          6,
          241,
          22,
          12,
          13,
          12,
          8,
          1,
          147,
          1,
          13,
          21,
          12,
          4,
          12,
          2,
          12,
          12,
          12,
          2,
          112,
          3,
          20,
          1,
          16,
          17,
          11,
          3,
          11,
          2,
          6,
          19,
          1,
          1,
          62,
          1,
          1,
          2,
          3,
          2,
          2,
          3,
          1,
          45,
          1,
          1,
          1,
          2
         ]
        }
       ],
       "layout": {
        "legend": {
         "tracegroupgap": 0
        },
        "margin": {
         "b": 0,
         "l": 0,
         "r": 0,
         "t": 0
        },
        "template": {
         "data": {
          "bar": [
           {
            "error_x": {
             "color": "#2a3f5f"
            },
            "error_y": {
             "color": "#2a3f5f"
            },
            "marker": {
             "line": {
              "color": "#E5ECF6",
              "width": 0.5
             }
            },
            "type": "bar"
           }
          ],
          "barpolar": [
           {
            "marker": {
             "line": {
              "color": "#E5ECF6",
              "width": 0.5
             }
            },
            "type": "barpolar"
           }
          ],
          "carpet": [
           {
            "aaxis": {
             "endlinecolor": "#2a3f5f",
             "gridcolor": "white",
             "linecolor": "white",
             "minorgridcolor": "white",
             "startlinecolor": "#2a3f5f"
            },
            "baxis": {
             "endlinecolor": "#2a3f5f",
             "gridcolor": "white",
             "linecolor": "white",
             "minorgridcolor": "white",
             "startlinecolor": "#2a3f5f"
            },
            "type": "carpet"
           }
          ],
          "choropleth": [
           {
            "colorbar": {
             "outlinewidth": 0,
             "ticks": ""
            },
            "type": "choropleth"
           }
          ],
          "contour": [
           {
            "colorbar": {
             "outlinewidth": 0,
             "ticks": ""
            },
            "colorscale": [
             [
              0,
              "#0d0887"
             ],
             [
              0.1111111111111111,
              "#46039f"
             ],
             [
              0.2222222222222222,
              "#7201a8"
             ],
             [
              0.3333333333333333,
              "#9c179e"
             ],
             [
              0.4444444444444444,
              "#bd3786"
             ],
             [
              0.5555555555555556,
              "#d8576b"
             ],
             [
              0.6666666666666666,
              "#ed7953"
             ],
             [
              0.7777777777777778,
              "#fb9f3a"
             ],
             [
              0.8888888888888888,
              "#fdca26"
             ],
             [
              1,
              "#f0f921"
             ]
            ],
            "type": "contour"
           }
          ],
          "contourcarpet": [
           {
            "colorbar": {
             "outlinewidth": 0,
             "ticks": ""
            },
            "type": "contourcarpet"
           }
          ],
          "heatmap": [
           {
            "colorbar": {
             "outlinewidth": 0,
             "ticks": ""
            },
            "colorscale": [
             [
              0,
              "#0d0887"
             ],
             [
              0.1111111111111111,
              "#46039f"
             ],
             [
              0.2222222222222222,
              "#7201a8"
             ],
             [
              0.3333333333333333,
              "#9c179e"
             ],
             [
              0.4444444444444444,
              "#bd3786"
             ],
             [
              0.5555555555555556,
              "#d8576b"
             ],
             [
              0.6666666666666666,
              "#ed7953"
             ],
             [
              0.7777777777777778,
              "#fb9f3a"
             ],
             [
              0.8888888888888888,
              "#fdca26"
             ],
             [
              1,
              "#f0f921"
             ]
            ],
            "type": "heatmap"
           }
          ],
          "heatmapgl": [
           {
            "colorbar": {
             "outlinewidth": 0,
             "ticks": ""
            },
            "colorscale": [
             [
              0,
              "#0d0887"
             ],
             [
              0.1111111111111111,
              "#46039f"
             ],
             [
              0.2222222222222222,
              "#7201a8"
             ],
             [
              0.3333333333333333,
              "#9c179e"
             ],
             [
              0.4444444444444444,
              "#bd3786"
             ],
             [
              0.5555555555555556,
              "#d8576b"
             ],
             [
              0.6666666666666666,
              "#ed7953"
             ],
             [
              0.7777777777777778,
              "#fb9f3a"
             ],
             [
              0.8888888888888888,
              "#fdca26"
             ],
             [
              1,
              "#f0f921"
             ]
            ],
            "type": "heatmapgl"
           }
          ],
          "histogram": [
           {
            "marker": {
             "colorbar": {
              "outlinewidth": 0,
              "ticks": ""
             }
            },
            "type": "histogram"
           }
          ],
          "histogram2d": [
           {
            "colorbar": {
             "outlinewidth": 0,
             "ticks": ""
            },
            "colorscale": [
             [
              0,
              "#0d0887"
             ],
             [
              0.1111111111111111,
              "#46039f"
             ],
             [
              0.2222222222222222,
              "#7201a8"
             ],
             [
              0.3333333333333333,
              "#9c179e"
             ],
             [
              0.4444444444444444,
              "#bd3786"
             ],
             [
              0.5555555555555556,
              "#d8576b"
             ],
             [
              0.6666666666666666,
              "#ed7953"
             ],
             [
              0.7777777777777778,
              "#fb9f3a"
             ],
             [
              0.8888888888888888,
              "#fdca26"
             ],
             [
              1,
              "#f0f921"
             ]
            ],
            "type": "histogram2d"
           }
          ],
          "histogram2dcontour": [
           {
            "colorbar": {
             "outlinewidth": 0,
             "ticks": ""
            },
            "colorscale": [
             [
              0,
              "#0d0887"
             ],
             [
              0.1111111111111111,
              "#46039f"
             ],
             [
              0.2222222222222222,
              "#7201a8"
             ],
             [
              0.3333333333333333,
              "#9c179e"
             ],
             [
              0.4444444444444444,
              "#bd3786"
             ],
             [
              0.5555555555555556,
              "#d8576b"
             ],
             [
              0.6666666666666666,
              "#ed7953"
             ],
             [
              0.7777777777777778,
              "#fb9f3a"
             ],
             [
              0.8888888888888888,
              "#fdca26"
             ],
             [
              1,
              "#f0f921"
             ]
            ],
            "type": "histogram2dcontour"
           }
          ],
          "mesh3d": [
           {
            "colorbar": {
             "outlinewidth": 0,
             "ticks": ""
            },
            "type": "mesh3d"
           }
          ],
          "parcoords": [
           {
            "line": {
             "colorbar": {
              "outlinewidth": 0,
              "ticks": ""
             }
            },
            "type": "parcoords"
           }
          ],
          "pie": [
           {
            "automargin": true,
            "type": "pie"
           }
          ],
          "scatter": [
           {
            "marker": {
             "colorbar": {
              "outlinewidth": 0,
              "ticks": ""
             }
            },
            "type": "scatter"
           }
          ],
          "scatter3d": [
           {
            "line": {
             "colorbar": {
              "outlinewidth": 0,
              "ticks": ""
             }
            },
            "marker": {
             "colorbar": {
              "outlinewidth": 0,
              "ticks": ""
             }
            },
            "type": "scatter3d"
           }
          ],
          "scattercarpet": [
           {
            "marker": {
             "colorbar": {
              "outlinewidth": 0,
              "ticks": ""
             }
            },
            "type": "scattercarpet"
           }
          ],
          "scattergeo": [
           {
            "marker": {
             "colorbar": {
              "outlinewidth": 0,
              "ticks": ""
             }
            },
            "type": "scattergeo"
           }
          ],
          "scattergl": [
           {
            "marker": {
             "colorbar": {
              "outlinewidth": 0,
              "ticks": ""
             }
            },
            "type": "scattergl"
           }
          ],
          "scattermapbox": [
           {
            "marker": {
             "colorbar": {
              "outlinewidth": 0,
              "ticks": ""
             }
            },
            "type": "scattermapbox"
           }
          ],
          "scatterpolar": [
           {
            "marker": {
             "colorbar": {
              "outlinewidth": 0,
              "ticks": ""
             }
            },
            "type": "scatterpolar"
           }
          ],
          "scatterpolargl": [
           {
            "marker": {
             "colorbar": {
              "outlinewidth": 0,
              "ticks": ""
             }
            },
            "type": "scatterpolargl"
           }
          ],
          "scatterternary": [
           {
            "marker": {
             "colorbar": {
              "outlinewidth": 0,
              "ticks": ""
             }
            },
            "type": "scatterternary"
           }
          ],
          "surface": [
           {
            "colorbar": {
             "outlinewidth": 0,
             "ticks": ""
            },
            "colorscale": [
             [
              0,
              "#0d0887"
             ],
             [
              0.1111111111111111,
              "#46039f"
             ],
             [
              0.2222222222222222,
              "#7201a8"
             ],
             [
              0.3333333333333333,
              "#9c179e"
             ],
             [
              0.4444444444444444,
              "#bd3786"
             ],
             [
              0.5555555555555556,
              "#d8576b"
             ],
             [
              0.6666666666666666,
              "#ed7953"
             ],
             [
              0.7777777777777778,
              "#fb9f3a"
             ],
             [
              0.8888888888888888,
              "#fdca26"
             ],
             [
              1,
              "#f0f921"
             ]
            ],
            "type": "surface"
           }
          ],
          "table": [
           {
            "cells": {
             "fill": {
              "color": "#EBF0F8"
             },
             "line": {
              "color": "white"
             }
            },
            "header": {
             "fill": {
              "color": "#C8D4E3"
             },
             "line": {
              "color": "white"
             }
            },
            "type": "table"
           }
          ]
         },
         "layout": {
          "annotationdefaults": {
           "arrowcolor": "#2a3f5f",
           "arrowhead": 0,
           "arrowwidth": 1
          },
          "coloraxis": {
           "colorbar": {
            "outlinewidth": 0,
            "ticks": ""
           }
          },
          "colorscale": {
           "diverging": [
            [
             0,
             "#8e0152"
            ],
            [
             0.1,
             "#c51b7d"
            ],
            [
             0.2,
             "#de77ae"
            ],
            [
             0.3,
             "#f1b6da"
            ],
            [
             0.4,
             "#fde0ef"
            ],
            [
             0.5,
             "#f7f7f7"
            ],
            [
             0.6,
             "#e6f5d0"
            ],
            [
             0.7,
             "#b8e186"
            ],
            [
             0.8,
             "#7fbc41"
            ],
            [
             0.9,
             "#4d9221"
            ],
            [
             1,
             "#276419"
            ]
           ],
           "sequential": [
            [
             0,
             "#0d0887"
            ],
            [
             0.1111111111111111,
             "#46039f"
            ],
            [
             0.2222222222222222,
             "#7201a8"
            ],
            [
             0.3333333333333333,
             "#9c179e"
            ],
            [
             0.4444444444444444,
             "#bd3786"
            ],
            [
             0.5555555555555556,
             "#d8576b"
            ],
            [
             0.6666666666666666,
             "#ed7953"
            ],
            [
             0.7777777777777778,
             "#fb9f3a"
            ],
            [
             0.8888888888888888,
             "#fdca26"
            ],
            [
             1,
             "#f0f921"
            ]
           ],
           "sequentialminus": [
            [
             0,
             "#0d0887"
            ],
            [
             0.1111111111111111,
             "#46039f"
            ],
            [
             0.2222222222222222,
             "#7201a8"
            ],
            [
             0.3333333333333333,
             "#9c179e"
            ],
            [
             0.4444444444444444,
             "#bd3786"
            ],
            [
             0.5555555555555556,
             "#d8576b"
            ],
            [
             0.6666666666666666,
             "#ed7953"
            ],
            [
             0.7777777777777778,
             "#fb9f3a"
            ],
            [
             0.8888888888888888,
             "#fdca26"
            ],
            [
             1,
             "#f0f921"
            ]
           ]
          },
          "colorway": [
           "#636efa",
           "#EF553B",
           "#00cc96",
           "#ab63fa",
           "#FFA15A",
           "#19d3f3",
           "#FF6692",
           "#B6E880",
           "#FF97FF",
           "#FECB52"
          ],
          "font": {
           "color": "#2a3f5f"
          },
          "geo": {
           "bgcolor": "white",
           "lakecolor": "white",
           "landcolor": "#E5ECF6",
           "showlakes": true,
           "showland": true,
           "subunitcolor": "white"
          },
          "hoverlabel": {
           "align": "left"
          },
          "hovermode": "closest",
          "mapbox": {
           "style": "light"
          },
          "paper_bgcolor": "white",
          "plot_bgcolor": "#E5ECF6",
          "polar": {
           "angularaxis": {
            "gridcolor": "white",
            "linecolor": "white",
            "ticks": ""
           },
           "bgcolor": "#E5ECF6",
           "radialaxis": {
            "gridcolor": "white",
            "linecolor": "white",
            "ticks": ""
           }
          },
          "scene": {
           "xaxis": {
            "backgroundcolor": "#E5ECF6",
            "gridcolor": "white",
            "gridwidth": 2,
            "linecolor": "white",
            "showbackground": true,
            "ticks": "",
            "zerolinecolor": "white"
           },
           "yaxis": {
            "backgroundcolor": "#E5ECF6",
            "gridcolor": "white",
            "gridwidth": 2,
            "linecolor": "white",
            "showbackground": true,
            "ticks": "",
            "zerolinecolor": "white"
           },
           "zaxis": {
            "backgroundcolor": "#E5ECF6",
            "gridcolor": "white",
            "gridwidth": 2,
            "linecolor": "white",
            "showbackground": true,
            "ticks": "",
            "zerolinecolor": "white"
           }
          },
          "shapedefaults": {
           "line": {
            "color": "#2a3f5f"
           }
          },
          "ternary": {
           "aaxis": {
            "gridcolor": "white",
            "linecolor": "white",
            "ticks": ""
           },
           "baxis": {
            "gridcolor": "white",
            "linecolor": "white",
            "ticks": ""
           },
           "bgcolor": "#E5ECF6",
           "caxis": {
            "gridcolor": "white",
            "linecolor": "white",
            "ticks": ""
           }
          },
          "title": {
           "x": 0.05
          },
          "xaxis": {
           "automargin": true,
           "gridcolor": "white",
           "linecolor": "white",
           "ticks": "",
           "title": {
            "standoff": 15
           },
           "zerolinecolor": "white",
           "zerolinewidth": 2
          },
          "yaxis": {
           "automargin": true,
           "gridcolor": "white",
           "linecolor": "white",
           "ticks": "",
           "title": {
            "standoff": 15
           },
           "zerolinecolor": "white",
           "zerolinewidth": 2
          }
         }
        }
       }
      },
      "text/html": [
       "<div>\n",
       "        \n",
       "        \n",
       "            <div id=\"75e14d9f-8402-4342-96f3-323caf756373\" class=\"plotly-graph-div\" style=\"height:525px; width:100%;\"></div>\n",
       "            <script type=\"text/javascript\">\n",
       "                require([\"plotly\"], function(Plotly) {\n",
       "                    window.PLOTLYENV=window.PLOTLYENV || {};\n",
       "                    \n",
       "                if (document.getElementById(\"75e14d9f-8402-4342-96f3-323caf756373\")) {\n",
       "                    Plotly.newPlot(\n",
       "                        '75e14d9f-8402-4342-96f3-323caf756373',\n",
       "                        [{\"branchvalues\": \"total\", \"customdata\": [[\"0\"], [\"0\"], [\"0\"], [\"0\"], [\"0\"], [\"0\"], [\"0\"], [\"0\"], [\"0\"], [\"0\"], [\"0\"], [\"0\"], [\"0\"], [\"0\"], [\"0\"], [\"0\"], [\"0\"], [\"0\"], [\"0\"], [\"0\"], [\"0\"], [\"0\"], [\"0\"], [\"0\"], [\"0\"], [\"0\"], [\"0\"], [\"0\"], [\"0\"], [\"0\"], [\"0\"], [\"0\"], [\"0\"], [\"0\"], [\"0\"], [\"0\"], [\"0\"], [\"0\"], [\"0\"], [\"0\"], [\"0\"], [\"1\"], [\"1\"], [\"1\"], [\"1\"], [\"1\"], [\"1\"], [\"1\"], [\"1\"], [\"1\"], [\"1\"], [\"1\"], [\"1\"], [\"1\"], [\"1\"], [\"1\"], [\"1\"], [\"2\"], [\"2\"], [\"2\"], [\"2\"], [\"2\"], [\"2\"], [\"2\"], [\"2\"], [\"2\"], [\"2\"], [\"2\"], [\"2\"], [\"2\"], [\"2\"], [\"3\"], [\"3\"], [\"3\"], [\"3\"], [\"3\"], [\"3\"], [\"3\"], [\"3\"], [\"3\"], [\"3\"], [\"3\"], [\"3\"], [\"4\"], [\"4\"], [\"4\"]], \"domain\": {\"x\": [0.0, 1.0], \"y\": [0.0, 1.0]}, \"hoverlabel\": {\"namelength\": 0}, \"hovertemplate\": \"community=%{customdata[0]}<br>labels=%{label}<br>adjacency_frequency=%{value}<br>parent=%{parent}<br>id=%{id}\", \"ids\": [\"0/hope\", \"0/health\", \"0/quarantinelife\", \"0/humanity\", \"0/immunity\", \"0/together\", \"0/support\", \"0/isolation\", \"0/staythefuckhome\", \"0/lockdown\", \"0/staysafe\", \"0/stayhome\", \"0/socialdistancing\", \"0/pandemic\", \"0/socialconnection\", \"0/social\", \"0/personaltrainer\", \"0/perspective\", \"0/physicaldistance\", \"0/selfisolation\", \"0/selfcare\", \"0/quarantine\", \"0/virus\", \"0/washyourhands\", \"0/reachout\", \"0/wellness\", \"0/community\", \"0/besafe\", \"0/corona\", \"0/coronavirus\", \"0/covd19\", \"0/bekind\", \"0/connect\", \"0/create\", \"0/covid19\", \"0/workingfromhome\", \"0/flattenthecurve\", \"0/friendship\", \"0/grateful\", \"0\", \"0/connection\", \"1/powerful\", \"1/authenticity\", \"1/purposedrivenbusiness\", \"1/selflove\", \"1/bettertogether\", \"1\", \"1/spirituality\", \"1/mindset\", \"1/mindfulness\", \"1/greatwomenleaders\", \"1/meditation\", \"1/consciouscapitalism\", \"1/yoga\", \"1/humanpotential\", \"1/higherpurpose\", \"1/consciousbusiness\", \"2/stressmanagement\", \"2\", \"2/actsofkindness\", \"2/mentalhealth\", \"2/interdependncia\", \"2/gratitude\", \"2/happiness\", \"2/inspiration\", \"2/relationship\", \"2/kindness\", \"2/empathy\", \"2/leadership\", \"2/compassion\", \"2/anxiety\", \"3/loveyourself\", \"3\", \"3/nature\", \"3/peace\", \"3/unity\", \"3/healing\", \"3/positivevibes\", \"3/positivity\", \"3/family\", \"3/faith\", \"3/love\", \"3/strength\", \"4/professionaldevelopment\", \"4/personaldevelopment\", \"4\"], \"labels\": [\"hope\", \"health\", \"quarantinelife\", \"humanity\", \"immunity\", \"together\", \"support\", \"isolation\", \"staythefuckhome\", \"lockdown\", \"staysafe\", \"stayhome\", \"socialdistancing\", \"pandemic\", \"socialconnection\", \"social\", \"personaltrainer\", \"perspective\", \"physicaldistance\", \"selfisolation\", \"selfcare\", \"quarantine\", \"virus\", \"washyourhands\", \"reachout\", \"wellness\", \"community\", \"besafe\", \"corona\", \"coronavirus\", \"covd19\", \"bekind\", \"connect\", \"create\", \"covid19\", \"workingfromhome\", \"flattenthecurve\", \"friendship\", \"grateful\", \"0\", \"connection\", \"powerful\", \"authenticity\", \"purposedrivenbusiness\", \"selflove\", \"bettertogether\", \"1\", \"spirituality\", \"mindset\", \"mindfulness\", \"greatwomenleaders\", \"meditation\", \"consciouscapitalism\", \"yoga\", \"humanpotential\", \"higherpurpose\", \"consciousbusiness\", \"stressmanagement\", \"2\", \"actsofkindness\", \"mentalhealth\", \"interdependncia\", \"gratitude\", \"happiness\", \"inspiration\", \"relationship\", \"kindness\", \"empathy\", \"leadership\", \"compassion\", \"anxiety\", \"loveyourself\", \"3\", \"nature\", \"peace\", \"unity\", \"healing\", \"positivevibes\", \"positivity\", \"family\", \"faith\", \"love\", \"strength\", \"professionaldevelopment\", \"personaldevelopment\", \"4\"], \"marker\": {\"colors\": [\"#636efa\", \"#636efa\", \"#636efa\", \"#636efa\", \"#636efa\", \"#636efa\", \"#636efa\", \"#636efa\", \"#636efa\", \"#636efa\", \"#636efa\", \"#636efa\", \"#636efa\", \"#636efa\", \"#636efa\", \"#636efa\", \"#636efa\", \"#636efa\", \"#636efa\", \"#636efa\", \"#636efa\", \"#636efa\", \"#636efa\", \"#636efa\", \"#636efa\", \"#636efa\", \"#636efa\", \"#636efa\", \"#636efa\", \"#636efa\", \"#636efa\", \"#636efa\", \"#636efa\", \"#636efa\", \"#636efa\", \"#636efa\", \"#636efa\", \"#636efa\", \"#636efa\", \"#636efa\", \"#636efa\", \"#EF553B\", \"#EF553B\", \"#EF553B\", \"#EF553B\", \"#EF553B\", \"#EF553B\", \"#EF553B\", \"#EF553B\", \"#EF553B\", \"#EF553B\", \"#EF553B\", \"#EF553B\", \"#EF553B\", \"#EF553B\", \"#EF553B\", \"#EF553B\", \"#00cc96\", \"#00cc96\", \"#00cc96\", \"#00cc96\", \"#00cc96\", \"#00cc96\", \"#00cc96\", \"#00cc96\", \"#00cc96\", \"#00cc96\", \"#00cc96\", \"#00cc96\", \"#00cc96\", \"#00cc96\", \"#ab63fa\", \"#ab63fa\", \"#ab63fa\", \"#ab63fa\", \"#ab63fa\", \"#ab63fa\", \"#ab63fa\", \"#ab63fa\", \"#ab63fa\", \"#ab63fa\", \"#ab63fa\", \"#ab63fa\", \"#FFA15A\", \"#FFA15A\", \"#FFA15A\"]}, \"name\": \"\", \"parents\": [\"0\", \"0\", \"0\", \"0\", \"0\", \"0\", \"0\", \"0\", \"0\", \"0\", \"0\", \"0\", \"0\", \"0\", \"0\", \"0\", \"0\", \"0\", \"0\", \"0\", \"0\", \"0\", \"0\", \"0\", \"0\", \"0\", \"0\", \"0\", \"0\", \"0\", \"0\", \"0\", \"0\", \"0\", \"0\", \"0\", \"0\", \"0\", \"0\", \"\", \"0\", \"1\", \"1\", \"1\", \"1\", \"1\", \"\", \"1\", \"1\", \"1\", \"1\", \"1\", \"1\", \"1\", \"1\", \"1\", \"1\", \"2\", \"\", \"2\", \"2\", \"2\", \"2\", \"2\", \"2\", \"2\", \"2\", \"2\", \"2\", \"2\", \"2\", \"3\", \"\", \"3\", \"3\", \"3\", \"3\", \"3\", \"3\", \"3\", \"3\", \"3\", \"3\", \"4\", \"4\", \"\"], \"type\": \"sunburst\", \"values\": [4, 7, 2, 3, 1, 4, 6, 7, 3, 3, 3, 3, 28, 2, 3, 2, 1, 1, 1, 3, 5, 13, 1, 2, 5, 7, 9, 1, 3, 21, 1, 5, 6, 1, 36, 1, 5, 4, 6, 241, 22, 12, 13, 12, 8, 1, 147, 1, 13, 21, 12, 4, 12, 2, 12, 12, 12, 2, 112, 3, 20, 1, 16, 17, 11, 3, 11, 2, 6, 19, 1, 1, 62, 1, 1, 2, 3, 2, 2, 3, 1, 45, 1, 1, 1, 2]}],\n",
       "                        {\"legend\": {\"tracegroupgap\": 0}, \"margin\": {\"b\": 0, \"l\": 0, \"r\": 0, \"t\": 0}, \"template\": {\"data\": {\"bar\": [{\"error_x\": {\"color\": \"#2a3f5f\"}, \"error_y\": {\"color\": \"#2a3f5f\"}, \"marker\": {\"line\": {\"color\": \"#E5ECF6\", \"width\": 0.5}}, \"type\": \"bar\"}], \"barpolar\": [{\"marker\": {\"line\": {\"color\": \"#E5ECF6\", \"width\": 0.5}}, \"type\": \"barpolar\"}], \"carpet\": [{\"aaxis\": {\"endlinecolor\": \"#2a3f5f\", \"gridcolor\": \"white\", \"linecolor\": \"white\", \"minorgridcolor\": \"white\", \"startlinecolor\": \"#2a3f5f\"}, \"baxis\": {\"endlinecolor\": \"#2a3f5f\", \"gridcolor\": \"white\", \"linecolor\": \"white\", \"minorgridcolor\": \"white\", \"startlinecolor\": \"#2a3f5f\"}, \"type\": \"carpet\"}], \"choropleth\": [{\"colorbar\": {\"outlinewidth\": 0, \"ticks\": \"\"}, \"type\": \"choropleth\"}], \"contour\": [{\"colorbar\": {\"outlinewidth\": 0, \"ticks\": \"\"}, \"colorscale\": [[0.0, \"#0d0887\"], [0.1111111111111111, \"#46039f\"], [0.2222222222222222, \"#7201a8\"], [0.3333333333333333, \"#9c179e\"], [0.4444444444444444, \"#bd3786\"], [0.5555555555555556, \"#d8576b\"], [0.6666666666666666, \"#ed7953\"], [0.7777777777777778, \"#fb9f3a\"], [0.8888888888888888, \"#fdca26\"], [1.0, \"#f0f921\"]], \"type\": \"contour\"}], \"contourcarpet\": [{\"colorbar\": {\"outlinewidth\": 0, \"ticks\": \"\"}, \"type\": \"contourcarpet\"}], \"heatmap\": [{\"colorbar\": {\"outlinewidth\": 0, \"ticks\": \"\"}, \"colorscale\": [[0.0, \"#0d0887\"], [0.1111111111111111, \"#46039f\"], [0.2222222222222222, \"#7201a8\"], [0.3333333333333333, \"#9c179e\"], [0.4444444444444444, \"#bd3786\"], [0.5555555555555556, \"#d8576b\"], [0.6666666666666666, \"#ed7953\"], [0.7777777777777778, \"#fb9f3a\"], [0.8888888888888888, \"#fdca26\"], [1.0, \"#f0f921\"]], \"type\": \"heatmap\"}], \"heatmapgl\": [{\"colorbar\": {\"outlinewidth\": 0, \"ticks\": \"\"}, \"colorscale\": [[0.0, \"#0d0887\"], [0.1111111111111111, \"#46039f\"], [0.2222222222222222, \"#7201a8\"], [0.3333333333333333, \"#9c179e\"], [0.4444444444444444, \"#bd3786\"], [0.5555555555555556, \"#d8576b\"], [0.6666666666666666, \"#ed7953\"], [0.7777777777777778, \"#fb9f3a\"], [0.8888888888888888, \"#fdca26\"], [1.0, \"#f0f921\"]], \"type\": \"heatmapgl\"}], \"histogram\": [{\"marker\": {\"colorbar\": {\"outlinewidth\": 0, \"ticks\": \"\"}}, \"type\": \"histogram\"}], \"histogram2d\": [{\"colorbar\": {\"outlinewidth\": 0, \"ticks\": \"\"}, \"colorscale\": [[0.0, \"#0d0887\"], [0.1111111111111111, \"#46039f\"], [0.2222222222222222, \"#7201a8\"], [0.3333333333333333, \"#9c179e\"], [0.4444444444444444, \"#bd3786\"], [0.5555555555555556, \"#d8576b\"], [0.6666666666666666, \"#ed7953\"], [0.7777777777777778, \"#fb9f3a\"], [0.8888888888888888, \"#fdca26\"], [1.0, \"#f0f921\"]], \"type\": \"histogram2d\"}], \"histogram2dcontour\": [{\"colorbar\": {\"outlinewidth\": 0, \"ticks\": \"\"}, \"colorscale\": [[0.0, \"#0d0887\"], [0.1111111111111111, \"#46039f\"], [0.2222222222222222, \"#7201a8\"], [0.3333333333333333, \"#9c179e\"], [0.4444444444444444, \"#bd3786\"], [0.5555555555555556, \"#d8576b\"], [0.6666666666666666, \"#ed7953\"], [0.7777777777777778, \"#fb9f3a\"], [0.8888888888888888, \"#fdca26\"], [1.0, \"#f0f921\"]], \"type\": \"histogram2dcontour\"}], \"mesh3d\": [{\"colorbar\": {\"outlinewidth\": 0, \"ticks\": \"\"}, \"type\": \"mesh3d\"}], \"parcoords\": [{\"line\": {\"colorbar\": {\"outlinewidth\": 0, \"ticks\": \"\"}}, \"type\": \"parcoords\"}], \"pie\": [{\"automargin\": true, \"type\": \"pie\"}], \"scatter\": [{\"marker\": {\"colorbar\": {\"outlinewidth\": 0, \"ticks\": \"\"}}, \"type\": \"scatter\"}], \"scatter3d\": [{\"line\": {\"colorbar\": {\"outlinewidth\": 0, \"ticks\": \"\"}}, \"marker\": {\"colorbar\": {\"outlinewidth\": 0, \"ticks\": \"\"}}, \"type\": \"scatter3d\"}], \"scattercarpet\": [{\"marker\": {\"colorbar\": {\"outlinewidth\": 0, \"ticks\": \"\"}}, \"type\": \"scattercarpet\"}], \"scattergeo\": [{\"marker\": {\"colorbar\": {\"outlinewidth\": 0, \"ticks\": \"\"}}, \"type\": \"scattergeo\"}], \"scattergl\": [{\"marker\": {\"colorbar\": {\"outlinewidth\": 0, \"ticks\": \"\"}}, \"type\": \"scattergl\"}], \"scattermapbox\": [{\"marker\": {\"colorbar\": {\"outlinewidth\": 0, \"ticks\": \"\"}}, \"type\": \"scattermapbox\"}], \"scatterpolar\": [{\"marker\": {\"colorbar\": {\"outlinewidth\": 0, \"ticks\": \"\"}}, \"type\": \"scatterpolar\"}], \"scatterpolargl\": [{\"marker\": {\"colorbar\": {\"outlinewidth\": 0, \"ticks\": \"\"}}, \"type\": \"scatterpolargl\"}], \"scatterternary\": [{\"marker\": {\"colorbar\": {\"outlinewidth\": 0, \"ticks\": \"\"}}, \"type\": \"scatterternary\"}], \"surface\": [{\"colorbar\": {\"outlinewidth\": 0, \"ticks\": \"\"}, \"colorscale\": [[0.0, \"#0d0887\"], [0.1111111111111111, \"#46039f\"], [0.2222222222222222, \"#7201a8\"], [0.3333333333333333, \"#9c179e\"], [0.4444444444444444, \"#bd3786\"], [0.5555555555555556, \"#d8576b\"], [0.6666666666666666, \"#ed7953\"], [0.7777777777777778, \"#fb9f3a\"], [0.8888888888888888, \"#fdca26\"], [1.0, \"#f0f921\"]], \"type\": \"surface\"}], \"table\": [{\"cells\": {\"fill\": {\"color\": \"#EBF0F8\"}, \"line\": {\"color\": \"white\"}}, \"header\": {\"fill\": {\"color\": \"#C8D4E3\"}, \"line\": {\"color\": \"white\"}}, \"type\": \"table\"}]}, \"layout\": {\"annotationdefaults\": {\"arrowcolor\": \"#2a3f5f\", \"arrowhead\": 0, \"arrowwidth\": 1}, \"coloraxis\": {\"colorbar\": {\"outlinewidth\": 0, \"ticks\": \"\"}}, \"colorscale\": {\"diverging\": [[0, \"#8e0152\"], [0.1, \"#c51b7d\"], [0.2, \"#de77ae\"], [0.3, \"#f1b6da\"], [0.4, \"#fde0ef\"], [0.5, \"#f7f7f7\"], [0.6, \"#e6f5d0\"], [0.7, \"#b8e186\"], [0.8, \"#7fbc41\"], [0.9, \"#4d9221\"], [1, \"#276419\"]], \"sequential\": [[0.0, \"#0d0887\"], [0.1111111111111111, \"#46039f\"], [0.2222222222222222, \"#7201a8\"], [0.3333333333333333, \"#9c179e\"], [0.4444444444444444, \"#bd3786\"], [0.5555555555555556, \"#d8576b\"], [0.6666666666666666, \"#ed7953\"], [0.7777777777777778, \"#fb9f3a\"], [0.8888888888888888, \"#fdca26\"], [1.0, \"#f0f921\"]], \"sequentialminus\": [[0.0, \"#0d0887\"], [0.1111111111111111, \"#46039f\"], [0.2222222222222222, \"#7201a8\"], [0.3333333333333333, \"#9c179e\"], [0.4444444444444444, \"#bd3786\"], [0.5555555555555556, \"#d8576b\"], [0.6666666666666666, \"#ed7953\"], [0.7777777777777778, \"#fb9f3a\"], [0.8888888888888888, \"#fdca26\"], [1.0, \"#f0f921\"]]}, \"colorway\": [\"#636efa\", \"#EF553B\", \"#00cc96\", \"#ab63fa\", \"#FFA15A\", \"#19d3f3\", \"#FF6692\", \"#B6E880\", \"#FF97FF\", \"#FECB52\"], \"font\": {\"color\": \"#2a3f5f\"}, \"geo\": {\"bgcolor\": \"white\", \"lakecolor\": \"white\", \"landcolor\": \"#E5ECF6\", \"showlakes\": true, \"showland\": true, \"subunitcolor\": \"white\"}, \"hoverlabel\": {\"align\": \"left\"}, \"hovermode\": \"closest\", \"mapbox\": {\"style\": \"light\"}, \"paper_bgcolor\": \"white\", \"plot_bgcolor\": \"#E5ECF6\", \"polar\": {\"angularaxis\": {\"gridcolor\": \"white\", \"linecolor\": \"white\", \"ticks\": \"\"}, \"bgcolor\": \"#E5ECF6\", \"radialaxis\": {\"gridcolor\": \"white\", \"linecolor\": \"white\", \"ticks\": \"\"}}, \"scene\": {\"xaxis\": {\"backgroundcolor\": \"#E5ECF6\", \"gridcolor\": \"white\", \"gridwidth\": 2, \"linecolor\": \"white\", \"showbackground\": true, \"ticks\": \"\", \"zerolinecolor\": \"white\"}, \"yaxis\": {\"backgroundcolor\": \"#E5ECF6\", \"gridcolor\": \"white\", \"gridwidth\": 2, \"linecolor\": \"white\", \"showbackground\": true, \"ticks\": \"\", \"zerolinecolor\": \"white\"}, \"zaxis\": {\"backgroundcolor\": \"#E5ECF6\", \"gridcolor\": \"white\", \"gridwidth\": 2, \"linecolor\": \"white\", \"showbackground\": true, \"ticks\": \"\", \"zerolinecolor\": \"white\"}}, \"shapedefaults\": {\"line\": {\"color\": \"#2a3f5f\"}}, \"ternary\": {\"aaxis\": {\"gridcolor\": \"white\", \"linecolor\": \"white\", \"ticks\": \"\"}, \"baxis\": {\"gridcolor\": \"white\", \"linecolor\": \"white\", \"ticks\": \"\"}, \"bgcolor\": \"#E5ECF6\", \"caxis\": {\"gridcolor\": \"white\", \"linecolor\": \"white\", \"ticks\": \"\"}}, \"title\": {\"x\": 0.05}, \"xaxis\": {\"automargin\": true, \"gridcolor\": \"white\", \"linecolor\": \"white\", \"ticks\": \"\", \"title\": {\"standoff\": 15}, \"zerolinecolor\": \"white\", \"zerolinewidth\": 2}, \"yaxis\": {\"automargin\": true, \"gridcolor\": \"white\", \"linecolor\": \"white\", \"ticks\": \"\", \"title\": {\"standoff\": 15}, \"zerolinecolor\": \"white\", \"zerolinewidth\": 2}}}},\n",
       "                        {\"responsive\": true}\n",
       "                    ).then(function(){\n",
       "                            \n",
       "var gd = document.getElementById('75e14d9f-8402-4342-96f3-323caf756373');\n",
       "var x = new MutationObserver(function (mutations, observer) {{\n",
       "        var display = window.getComputedStyle(gd).display;\n",
       "        if (!display || display === 'none') {{\n",
       "            console.log([gd, 'removed!']);\n",
       "            Plotly.purge(gd);\n",
       "            observer.disconnect();\n",
       "        }}\n",
       "}});\n",
       "\n",
       "// Listen for the removal of the full notebook cells\n",
       "var notebookContainer = gd.closest('#notebook-container');\n",
       "if (notebookContainer) {{\n",
       "    x.observe(notebookContainer, {childList: true});\n",
       "}}\n",
       "\n",
       "// Listen for the clearing of the current output cell\n",
       "var outputEl = gd.closest('.output');\n",
       "if (outputEl) {{\n",
       "    x.observe(outputEl, {childList: true});\n",
       "}}\n",
       "\n",
       "                        })\n",
       "                };\n",
       "                });\n",
       "            </script>\n",
       "        </div>"
      ]
     },
     "metadata": {},
     "output_type": "display_data"
    }
   ],
   "source": [
    "hc.plotCommunity()"
   ]
  },
  {
   "cell_type": "code",
   "execution_count": 20,
   "metadata": {},
   "outputs": [
    {
     "name": "stdout",
     "output_type": "stream",
     "text": [
      "Plot saved.\n"
     ]
    }
   ],
   "source": [
    "test.savePlot(plot='community')"
   ]
  },
  {
   "cell_type": "code",
   "execution_count": 22,
   "metadata": {},
   "outputs": [
    {
     "name": "stdout",
     "output_type": "stream",
     "text": [
      "Saved nodes\n",
      "Saved edges\n",
      "Saved edited dataframe\n",
      "Saved unedited dataframe\n"
     ]
    }
   ],
   "source": [
    "test.saveTables()"
   ]
  },
  {
   "cell_type": "code",
   "execution_count": 24,
   "metadata": {},
   "outputs": [
    {
     "data": {
      "text/html": [
       "<div>\n",
       "<style scoped>\n",
       "    .dataframe tbody tr th:only-of-type {\n",
       "        vertical-align: middle;\n",
       "    }\n",
       "\n",
       "    .dataframe tbody tr th {\n",
       "        vertical-align: top;\n",
       "    }\n",
       "\n",
       "    .dataframe thead th {\n",
       "        text-align: right;\n",
       "    }\n",
       "</style>\n",
       "<table border=\"1\" class=\"dataframe\">\n",
       "  <thead>\n",
       "    <tr style=\"text-align: right;\">\n",
       "      <th></th>\n",
       "      <th>searched_for</th>\n",
       "      <th>post_link</th>\n",
       "      <th>post_date</th>\n",
       "      <th>post</th>\n",
       "      <th>user</th>\n",
       "      <th>user_verified_status</th>\n",
       "      <th>post_likes</th>\n",
       "      <th>post_verified_tags</th>\n",
       "      <th>post_unverified_tags</th>\n",
       "      <th>post_location</th>\n",
       "      <th>post_image</th>\n",
       "      <th>hashtags</th>\n",
       "      <th>hashtag_count</th>\n",
       "      <th>hashtags_lemma</th>\n",
       "      <th>user_post_count</th>\n",
       "      <th>user_median_hashtag_count</th>\n",
       "    </tr>\n",
       "  </thead>\n",
       "  <tbody>\n",
       "    <tr>\n",
       "      <th>0</th>\n",
       "      <td>#nostalgia</td>\n",
       "      <td>https://www.instagram.com/p/B9SGq8xIrXm/</td>\n",
       "      <td>2020-03-03 19:15:55</td>\n",
       "      <td>#mivar #televisori #italia #italiandesign #tvm...</td>\n",
       "      <td>passioneitalica</td>\n",
       "      <td>False</td>\n",
       "      <td>1</td>\n",
       "      <td>NaN</td>\n",
       "      <td>NaN</td>\n",
       "      <td>NaN</td>\n",
       "      <td>people sitting, screen, living room, indoor</td>\n",
       "      <td>[instantphotography, radiomivar, televisori, i...</td>\n",
       "      <td>30</td>\n",
       "      <td>[abbiategrasso, bestphoto, carlovichi, casa, c...</td>\n",
       "      <td>1</td>\n",
       "      <td>30.0</td>\n",
       "    </tr>\n",
       "    <tr>\n",
       "      <th>1</th>\n",
       "      <td>#nostalgia</td>\n",
       "      <td>https://www.instagram.com/p/B9SGnrtJZQm/</td>\n",
       "      <td>2020-03-03 19:15:55</td>\n",
       "      <td>Salamlar hr ks.\\nSonunda 1k oldum.\\nShifni sev...</td>\n",
       "      <td>retromixmusic</td>\n",
       "      <td>False</td>\n",
       "      <td>17</td>\n",
       "      <td>NaN</td>\n",
       "      <td>NaN</td>\n",
       "      <td>NaN</td>\n",
       "      <td>NaN</td>\n",
       "      <td>[nostaji, 45lik, plak, nostaljikarklar, nostal...</td>\n",
       "      <td>8</td>\n",
       "      <td>[45lik, nostaji, nostalji, nostaljikarklar, pl...</td>\n",
       "      <td>1</td>\n",
       "      <td>8.0</td>\n",
       "    </tr>\n",
       "    <tr>\n",
       "      <th>2</th>\n",
       "      <td>#nostalgia</td>\n",
       "      <td>https://www.instagram.com/p/B9SGnfnImic/</td>\n",
       "      <td>2020-03-03 19:15:26</td>\n",
       "      <td>Tramonti \\n*\\n*\\n*\\n*\\n*\\n*\\n#cannes \\n#tramon...</td>\n",
       "      <td>rbfrancy</td>\n",
       "      <td>False</td>\n",
       "      <td>5</td>\n",
       "      <td>NaN</td>\n",
       "      <td>NaN</td>\n",
       "      <td>Cannes</td>\n",
       "      <td>sky, tree, ocean, cloud, outdoor, nature, water</td>\n",
       "      <td>[relax, france, sunshine, palaisdesfestivals, ...</td>\n",
       "      <td>14</td>\n",
       "      <td>[cann, france, huzun, iyiakamlar, lacroisette,...</td>\n",
       "      <td>1</td>\n",
       "      <td>14.0</td>\n",
       "    </tr>\n",
       "    <tr>\n",
       "      <th>3</th>\n",
       "      <td>#nostalgia</td>\n",
       "      <td>https://www.instagram.com/p/B9SGnNHBOLl/</td>\n",
       "      <td>2020-03-03 19:15:24</td>\n",
       "      <td>Paul and Linda visited me earlier in the year ...</td>\n",
       "      <td>secretsfromthecanyon</td>\n",
       "      <td>False</td>\n",
       "      <td>90</td>\n",
       "      <td>['Yoko Ono', 'John Lennon']</td>\n",
       "      <td>NaN</td>\n",
       "      <td>NaN</td>\n",
       "      <td>2 people, people standing</td>\n",
       "      <td>[psychedelicrock, yokoono, johnlennon, johnand...</td>\n",
       "      <td>20</td>\n",
       "      <td>[60smusic, 60sstyle, 70, fabfour, georgeharris...</td>\n",
       "      <td>1</td>\n",
       "      <td>20.0</td>\n",
       "    </tr>\n",
       "    <tr>\n",
       "      <th>4</th>\n",
       "      <td>#nostalgia</td>\n",
       "      <td>https://www.instagram.com/p/B9SGmQjB0RK/</td>\n",
       "      <td>2020-03-03 19:15:16</td>\n",
       "      <td>\\n.\\n.\\n#shortstories #nostalgia #allweknow #t...</td>\n",
       "      <td>mighty.one_</td>\n",
       "      <td>False</td>\n",
       "      <td>9</td>\n",
       "      <td>['ATTICUS', 'Terribly Tiny Tales', 'The Scribb...</td>\n",
       "      <td>Positive &amp; Motivational QuotesThe Good QuotePo...</td>\n",
       "      <td>India</td>\n",
       "      <td>possible text that says 'memories. ouch.'</td>\n",
       "      <td>[poem, 90s, patienceiskey, allweknow, poetry, ...</td>\n",
       "      <td>30</td>\n",
       "      <td>[00s, 18, 90s, allweknow, anxiety, anxious, ar...</td>\n",
       "      <td>1</td>\n",
       "      <td>30.0</td>\n",
       "    </tr>\n",
       "    <tr>\n",
       "      <th>...</th>\n",
       "      <td>...</td>\n",
       "      <td>...</td>\n",
       "      <td>...</td>\n",
       "      <td>...</td>\n",
       "      <td>...</td>\n",
       "      <td>...</td>\n",
       "      <td>...</td>\n",
       "      <td>...</td>\n",
       "      <td>...</td>\n",
       "      <td>...</td>\n",
       "      <td>...</td>\n",
       "      <td>...</td>\n",
       "      <td>...</td>\n",
       "      <td>...</td>\n",
       "      <td>...</td>\n",
       "      <td>...</td>\n",
       "    </tr>\n",
       "    <tr>\n",
       "      <th>743</th>\n",
       "      <td>#nostalgia</td>\n",
       "      <td>https://www.instagram.com/p/B9R3i8gBlGt/</td>\n",
       "      <td>2020-03-03 17:03:50</td>\n",
       "      <td>What would you do to survive a #Shark attack? ...</td>\n",
       "      <td>victimsandvillains</td>\n",
       "      <td>False</td>\n",
       "      <td>3</td>\n",
       "      <td>NaN</td>\n",
       "      <td>NaN</td>\n",
       "      <td>NaN</td>\n",
       "      <td>NaN</td>\n",
       "      <td>[nowplaying, suicideawareness, movie, podcast,...</td>\n",
       "      <td>23</td>\n",
       "      <td>[90s, brandnew, deepbluesea, hope, horror, llc...</td>\n",
       "      <td>1</td>\n",
       "      <td>23.0</td>\n",
       "    </tr>\n",
       "    <tr>\n",
       "      <th>744</th>\n",
       "      <td>#nostalgia</td>\n",
       "      <td>https://www.instagram.com/p/B9R3hsypu1x/</td>\n",
       "      <td>2020-03-03 17:03:34</td>\n",
       "      <td>Vintage 110 camera outfit. Charity shop pickup...</td>\n",
       "      <td>bluediceretrotech</td>\n",
       "      <td>False</td>\n",
       "      <td>5</td>\n",
       "      <td>NaN</td>\n",
       "      <td>NaN</td>\n",
       "      <td>NaN</td>\n",
       "      <td>Photo by bluedice retro tech on March 03, 2020.</td>\n",
       "      <td>[filmcamera, 110camera, filmcameras, filmphoto...</td>\n",
       "      <td>10</td>\n",
       "      <td>[110camera, 110film, filmcamera, filmphotograp...</td>\n",
       "      <td>1</td>\n",
       "      <td>10.0</td>\n",
       "    </tr>\n",
       "    <tr>\n",
       "      <th>746</th>\n",
       "      <td>#nostalgia</td>\n",
       "      <td>https://www.instagram.com/p/B9R3g1CJ0Qw/</td>\n",
       "      <td>2020-03-03 17:03:27</td>\n",
       "      <td>E ai TIBIANOS quanta nostlgia em!!! #tibiaold ...</td>\n",
       "      <td>brunogameplayer</td>\n",
       "      <td>False</td>\n",
       "      <td>2</td>\n",
       "      <td>NaN</td>\n",
       "      <td>NaN</td>\n",
       "      <td>NaN</td>\n",
       "      <td>1 person, sitting</td>\n",
       "      <td>[mmorpg, tibiacoins, influenciadoresdigitais, ...</td>\n",
       "      <td>8</td>\n",
       "      <td>[influenciadoresdigitais, marketingdigitalbras...</td>\n",
       "      <td>1</td>\n",
       "      <td>8.0</td>\n",
       "    </tr>\n",
       "    <tr>\n",
       "      <th>748</th>\n",
       "      <td>#nostalgia</td>\n",
       "      <td>https://www.instagram.com/p/B9R3eSJFOZ6/</td>\n",
       "      <td>2020-03-03 17:03:06</td>\n",
       "      <td>.\\nGood old days.\\nTodo lo que conoc.\\nTodo va...</td>\n",
       "      <td>lsolorzanov</td>\n",
       "      <td>False</td>\n",
       "      <td>17</td>\n",
       "      <td>NaN</td>\n",
       "      <td>NaN</td>\n",
       "      <td>Chihuahua, Chihuahua</td>\n",
       "      <td>1 person, selfie, closeup</td>\n",
       "      <td>[instagay, nostalgia, gay, actor]</td>\n",
       "      <td>4</td>\n",
       "      <td>[actor, gay, instagay]</td>\n",
       "      <td>1</td>\n",
       "      <td>4.0</td>\n",
       "    </tr>\n",
       "    <tr>\n",
       "      <th>749</th>\n",
       "      <td>#nostalgia</td>\n",
       "      <td>https://www.instagram.com/p/B9R3d9zgRFq/</td>\n",
       "      <td>2020-03-03 17:03:04</td>\n",
       "      <td>Finishing homework to grab the remote at 10:30...</td>\n",
       "      <td>eknaadanparinda</td>\n",
       "      <td>False</td>\n",
       "      <td>42</td>\n",
       "      <td>NaN</td>\n",
       "      <td>NaN</td>\n",
       "      <td>NaN</td>\n",
       "      <td>possible text that says 'I I don' 't miss anyt...</td>\n",
       "      <td>[happy, memories, life, christmas, motherhood,...</td>\n",
       "      <td>30</td>\n",
       "      <td>[art, baby, babygirl, child, childhood, childh...</td>\n",
       "      <td>1</td>\n",
       "      <td>30.0</td>\n",
       "    </tr>\n",
       "  </tbody>\n",
       "</table>\n",
       "<p>586 rows × 16 columns</p>\n",
       "</div>"
      ],
      "text/plain": [
       "    searched_for                                 post_link  \\\n",
       "0     #nostalgia  https://www.instagram.com/p/B9SGq8xIrXm/   \n",
       "1     #nostalgia  https://www.instagram.com/p/B9SGnrtJZQm/   \n",
       "2     #nostalgia  https://www.instagram.com/p/B9SGnfnImic/   \n",
       "3     #nostalgia  https://www.instagram.com/p/B9SGnNHBOLl/   \n",
       "4     #nostalgia  https://www.instagram.com/p/B9SGmQjB0RK/   \n",
       "..           ...                                       ...   \n",
       "743   #nostalgia  https://www.instagram.com/p/B9R3i8gBlGt/   \n",
       "744   #nostalgia  https://www.instagram.com/p/B9R3hsypu1x/   \n",
       "746   #nostalgia  https://www.instagram.com/p/B9R3g1CJ0Qw/   \n",
       "748   #nostalgia  https://www.instagram.com/p/B9R3eSJFOZ6/   \n",
       "749   #nostalgia  https://www.instagram.com/p/B9R3d9zgRFq/   \n",
       "\n",
       "               post_date                                               post  \\\n",
       "0    2020-03-03 19:15:55  #mivar #televisori #italia #italiandesign #tvm...   \n",
       "1    2020-03-03 19:15:55  Salamlar hr ks.\\nSonunda 1k oldum.\\nShifni sev...   \n",
       "2    2020-03-03 19:15:26  Tramonti \\n*\\n*\\n*\\n*\\n*\\n*\\n#cannes \\n#tramon...   \n",
       "3    2020-03-03 19:15:24  Paul and Linda visited me earlier in the year ...   \n",
       "4    2020-03-03 19:15:16  \\n.\\n.\\n#shortstories #nostalgia #allweknow #t...   \n",
       "..                   ...                                                ...   \n",
       "743  2020-03-03 17:03:50  What would you do to survive a #Shark attack? ...   \n",
       "744  2020-03-03 17:03:34  Vintage 110 camera outfit. Charity shop pickup...   \n",
       "746  2020-03-03 17:03:27  E ai TIBIANOS quanta nostlgia em!!! #tibiaold ...   \n",
       "748  2020-03-03 17:03:06  .\\nGood old days.\\nTodo lo que conoc.\\nTodo va...   \n",
       "749  2020-03-03 17:03:04  Finishing homework to grab the remote at 10:30...   \n",
       "\n",
       "                     user  user_verified_status  post_likes  \\\n",
       "0         passioneitalica                 False           1   \n",
       "1           retromixmusic                 False          17   \n",
       "2                rbfrancy                 False           5   \n",
       "3    secretsfromthecanyon                 False          90   \n",
       "4             mighty.one_                 False           9   \n",
       "..                    ...                   ...         ...   \n",
       "743    victimsandvillains                 False           3   \n",
       "744     bluediceretrotech                 False           5   \n",
       "746       brunogameplayer                 False           2   \n",
       "748           lsolorzanov                 False          17   \n",
       "749       eknaadanparinda                 False          42   \n",
       "\n",
       "                                    post_verified_tags  \\\n",
       "0                                                  NaN   \n",
       "1                                                  NaN   \n",
       "2                                                  NaN   \n",
       "3                          ['Yoko Ono', 'John Lennon']   \n",
       "4    ['ATTICUS', 'Terribly Tiny Tales', 'The Scribb...   \n",
       "..                                                 ...   \n",
       "743                                                NaN   \n",
       "744                                                NaN   \n",
       "746                                                NaN   \n",
       "748                                                NaN   \n",
       "749                                                NaN   \n",
       "\n",
       "                                  post_unverified_tags         post_location  \\\n",
       "0                                                  NaN                   NaN   \n",
       "1                                                  NaN                   NaN   \n",
       "2                                                  NaN                Cannes   \n",
       "3                                                  NaN                   NaN   \n",
       "4    Positive & Motivational QuotesThe Good QuotePo...                 India   \n",
       "..                                                 ...                   ...   \n",
       "743                                                NaN                   NaN   \n",
       "744                                                NaN                   NaN   \n",
       "746                                                NaN                   NaN   \n",
       "748                                                NaN  Chihuahua, Chihuahua   \n",
       "749                                                NaN                   NaN   \n",
       "\n",
       "                                            post_image  \\\n",
       "0          people sitting, screen, living room, indoor   \n",
       "1                                                  NaN   \n",
       "2      sky, tree, ocean, cloud, outdoor, nature, water   \n",
       "3                            2 people, people standing   \n",
       "4            possible text that says 'memories. ouch.'   \n",
       "..                                                 ...   \n",
       "743                                                NaN   \n",
       "744    Photo by bluedice retro tech on March 03, 2020.   \n",
       "746                                  1 person, sitting   \n",
       "748                          1 person, selfie, closeup   \n",
       "749  possible text that says 'I I don' 't miss anyt...   \n",
       "\n",
       "                                              hashtags  hashtag_count  \\\n",
       "0    [instantphotography, radiomivar, televisori, i...             30   \n",
       "1    [nostaji, 45lik, plak, nostaljikarklar, nostal...              8   \n",
       "2    [relax, france, sunshine, palaisdesfestivals, ...             14   \n",
       "3    [psychedelicrock, yokoono, johnlennon, johnand...             20   \n",
       "4    [poem, 90s, patienceiskey, allweknow, poetry, ...             30   \n",
       "..                                                 ...            ...   \n",
       "743  [nowplaying, suicideawareness, movie, podcast,...             23   \n",
       "744  [filmcamera, 110camera, filmcameras, filmphoto...             10   \n",
       "746  [mmorpg, tibiacoins, influenciadoresdigitais, ...              8   \n",
       "748                  [instagay, nostalgia, gay, actor]              4   \n",
       "749  [happy, memories, life, christmas, motherhood,...             30   \n",
       "\n",
       "                                        hashtags_lemma  user_post_count  \\\n",
       "0    [abbiategrasso, bestphoto, carlovichi, casa, c...                1   \n",
       "1    [45lik, nostaji, nostalji, nostaljikarklar, pl...                1   \n",
       "2    [cann, france, huzun, iyiakamlar, lacroisette,...                1   \n",
       "3    [60smusic, 60sstyle, 70, fabfour, georgeharris...                1   \n",
       "4    [00s, 18, 90s, allweknow, anxiety, anxious, ar...                1   \n",
       "..                                                 ...              ...   \n",
       "743  [90s, brandnew, deepbluesea, hope, horror, llc...                1   \n",
       "744  [110camera, 110film, filmcamera, filmphotograp...                1   \n",
       "746  [influenciadoresdigitais, marketingdigitalbras...                1   \n",
       "748                             [actor, gay, instagay]                1   \n",
       "749  [art, baby, babygirl, child, childhood, childh...                1   \n",
       "\n",
       "     user_median_hashtag_count  \n",
       "0                         30.0  \n",
       "1                          8.0  \n",
       "2                         14.0  \n",
       "3                         20.0  \n",
       "4                         30.0  \n",
       "..                         ...  \n",
       "743                       23.0  \n",
       "744                       10.0  \n",
       "746                        8.0  \n",
       "748                        4.0  \n",
       "749                       30.0  \n",
       "\n",
       "[586 rows x 16 columns]"
      ]
     },
     "execution_count": 24,
     "metadata": {},
     "output_type": "execute_result"
    }
   ],
   "source": [
    "test.df_edit"
   ]
  },
  {
   "cell_type": "code",
   "execution_count": null,
   "metadata": {},
   "outputs": [],
   "source": []
  }
 ],
 "metadata": {
  "kernelspec": {
   "display_name": "Python 3",
   "language": "python",
   "name": "python3"
  },
  "language_info": {
   "codemirror_mode": {
    "name": "ipython",
    "version": 3
   },
   "file_extension": ".py",
   "mimetype": "text/x-python",
   "name": "python",
   "nbconvert_exporter": "python",
   "pygments_lexer": "ipython3",
   "version": "3.6.8"
  }
 },
 "nbformat": 4,
 "nbformat_minor": 2
}
